{
 "cells": [
  {
   "cell_type": "markdown",
   "metadata": {},
   "source": [
    "# Parameters"
   ]
  },
  {
   "cell_type": "code",
   "execution_count": 1,
   "metadata": {},
   "outputs": [],
   "source": [
    "batch_size     = 8\n",
    "learning_rate  = 0.0001\n",
    "epochs         = 7"
   ]
  },
  {
   "cell_type": "markdown",
   "metadata": {},
   "source": [
    "# Define model"
   ]
  },
  {
   "cell_type": "code",
   "execution_count": 2,
   "metadata": {},
   "outputs": [
    {
     "name": "stdout",
     "output_type": "stream",
     "text": [
      "Base model loaded DenseNet169\n",
      "\n",
      "Model created.\n"
     ]
    }
   ],
   "source": [
    "from model import DepthEstimate\n",
    "\n",
    "model = DepthEstimate()"
   ]
  },
  {
   "cell_type": "markdown",
   "metadata": {},
   "source": [
    "# Data loader"
   ]
  },
  {
   "cell_type": "code",
   "execution_count": 3,
   "metadata": {},
   "outputs": [
    {
     "name": "stdout",
     "output_type": "stream",
     "text": [
      "nyu2_train :  [['data/nyu2_train/living_room_0038_out/37.jpg', 'data/nyu2_train/living_room_0038_out/37.png'], ['data/nyu2_train/living_room_0038_out/115.jpg', 'data/nyu2_train/living_room_0038_out/115.png'], ['data/nyu2_train/living_room_0038_out/6.jpg', 'data/nyu2_train/living_room_0038_out/6.png'], ['data/nyu2_train/living_room_0038_out/49.jpg', 'data/nyu2_train/living_room_0038_out/49.png'], ['data/nyu2_train/living_room_0038_out/152.jpg', 'data/nyu2_train/living_room_0038_out/152.png'], ['data/nyu2_train/living_room_0038_out/142.jpg', 'data/nyu2_train/living_room_0038_out/142.png'], ['data/nyu2_train/living_room_0038_out/94.jpg', 'data/nyu2_train/living_room_0038_out/94.png'], ['data/nyu2_train/living_room_0038_out/158.jpg', 'data/nyu2_train/living_room_0038_out/158.png'], ['data/nyu2_train/living_room_0038_out/18.jpg', 'data/nyu2_train/living_room_0038_out/18.png'], ['data/nyu2_train/living_room_0038_out/167.jpg', 'data/nyu2_train/living_room_0038_out/167.png'], ['data/nyu2_train/living_room_0038_out/21.jpg', 'data/nyu2_train/living_room_0038_out/21.png'], ['data/nyu2_train/living_room_0038_out/48.jpg', 'data/nyu2_train/living_room_0038_out/48.png'], ['data/nyu2_train/living_room_0038_out/75.jpg', 'data/nyu2_train/living_room_0038_out/75.png'], ['data/nyu2_train/living_room_0038_out/171.jpg', 'data/nyu2_train/living_room_0038_out/171.png'], ['data/nyu2_train/living_room_0038_out/25.jpg', 'data/nyu2_train/living_room_0038_out/25.png'], ['data/nyu2_train/living_room_0038_out/13.jpg', 'data/nyu2_train/living_room_0038_out/13.png'], ['data/nyu2_train/living_room_0038_out/68.jpg', 'data/nyu2_train/living_room_0038_out/68.png'], ['data/nyu2_train/living_room_0038_out/28.jpg', 'data/nyu2_train/living_room_0038_out/28.png'], ['data/nyu2_train/living_room_0038_out/161.jpg', 'data/nyu2_train/living_room_0038_out/161.png'], ['data/nyu2_train/living_room_0038_out/85.jpg', 'data/nyu2_train/living_room_0038_out/85.png'], ['data/nyu2_train/living_room_0038_out/57.jpg', 'data/nyu2_train/living_room_0038_out/57.png'], ['data/nyu2_train/living_room_0038_out/34.jpg', 'data/nyu2_train/living_room_0038_out/34.png'], ['data/nyu2_train/living_room_0038_out/118.jpg', 'data/nyu2_train/living_room_0038_out/118.png'], ['data/nyu2_train/living_room_0038_out/53.jpg', 'data/nyu2_train/living_room_0038_out/53.png'], ['data/nyu2_train/living_room_0038_out/11.jpg', 'data/nyu2_train/living_room_0038_out/11.png'], ['data/nyu2_train/living_room_0038_out/46.jpg', 'data/nyu2_train/living_room_0038_out/46.png'], ['data/nyu2_train/living_room_0038_out/135.jpg', 'data/nyu2_train/living_room_0038_out/135.png'], ['data/nyu2_train/living_room_0038_out/39.jpg', 'data/nyu2_train/living_room_0038_out/39.png'], ['data/nyu2_train/living_room_0038_out/71.jpg', 'data/nyu2_train/living_room_0038_out/71.png'], ['data/nyu2_train/living_room_0038_out/29.jpg', 'data/nyu2_train/living_room_0038_out/29.png'], ['data/nyu2_train/living_room_0038_out/14.jpg', 'data/nyu2_train/living_room_0038_out/14.png'], ['data/nyu2_train/living_room_0038_out/113.jpg', 'data/nyu2_train/living_room_0038_out/113.png'], ['data/nyu2_train/living_room_0038_out/138.jpg', 'data/nyu2_train/living_room_0038_out/138.png'], ['data/nyu2_train/living_room_0038_out/30.jpg', 'data/nyu2_train/living_room_0038_out/30.png'], ['data/nyu2_train/living_room_0038_out/16.jpg', 'data/nyu2_train/living_room_0038_out/16.png'], ['data/nyu2_train/living_room_0038_out/105.jpg', 'data/nyu2_train/living_room_0038_out/105.png'], ['data/nyu2_train/living_room_0038_out/62.jpg', 'data/nyu2_train/living_room_0038_out/62.png'], ['data/nyu2_train/living_room_0038_out/56.jpg', 'data/nyu2_train/living_room_0038_out/56.png'], ['data/nyu2_train/living_room_0038_out/119.jpg', 'data/nyu2_train/living_room_0038_out/119.png'], ['data/nyu2_train/living_room_0038_out/42.jpg', 'data/nyu2_train/living_room_0038_out/42.png'], ['data/nyu2_train/living_room_0038_out/2.jpg', 'data/nyu2_train/living_room_0038_out/2.png'], ['data/nyu2_train/living_room_0038_out/129.jpg', 'data/nyu2_train/living_room_0038_out/129.png'], ['data/nyu2_train/living_room_0038_out/160.jpg', 'data/nyu2_train/living_room_0038_out/160.png'], ['data/nyu2_train/living_room_0038_out/126.jpg', 'data/nyu2_train/living_room_0038_out/126.png'], ['data/nyu2_train/living_room_0038_out/91.jpg', 'data/nyu2_train/living_room_0038_out/91.png'], ['data/nyu2_train/living_room_0038_out/162.jpg', 'data/nyu2_train/living_room_0038_out/162.png'], ['data/nyu2_train/living_room_0038_out/93.jpg', 'data/nyu2_train/living_room_0038_out/93.png'], ['data/nyu2_train/living_room_0038_out/70.jpg', 'data/nyu2_train/living_room_0038_out/70.png'], ['data/nyu2_train/living_room_0038_out/60.jpg', 'data/nyu2_train/living_room_0038_out/60.png'], ['data/nyu2_train/living_room_0038_out/3.jpg', 'data/nyu2_train/living_room_0038_out/3.png'], ['data/nyu2_train/living_room_0038_out/132.jpg', 'data/nyu2_train/living_room_0038_out/132.png'], ['data/nyu2_train/living_room_0038_out/54.jpg', 'data/nyu2_train/living_room_0038_out/54.png'], ['data/nyu2_train/living_room_0038_out/146.jpg', 'data/nyu2_train/living_room_0038_out/146.png'], ['data/nyu2_train/living_room_0038_out/121.jpg', 'data/nyu2_train/living_room_0038_out/121.png'], ['data/nyu2_train/living_room_0038_out/122.jpg', 'data/nyu2_train/living_room_0038_out/122.png'], ['data/nyu2_train/living_room_0038_out/130.jpg', 'data/nyu2_train/living_room_0038_out/130.png'], ['data/nyu2_train/living_room_0038_out/10.jpg', 'data/nyu2_train/living_room_0038_out/10.png'], ['data/nyu2_train/living_room_0038_out/4.jpg', 'data/nyu2_train/living_room_0038_out/4.png'], ['data/nyu2_train/living_room_0038_out/153.jpg', 'data/nyu2_train/living_room_0038_out/153.png'], ['data/nyu2_train/living_room_0038_out/12.jpg', 'data/nyu2_train/living_room_0038_out/12.png'], ['data/nyu2_train/living_room_0038_out/163.jpg', 'data/nyu2_train/living_room_0038_out/163.png'], ['data/nyu2_train/living_room_0038_out/169.jpg', 'data/nyu2_train/living_room_0038_out/169.png'], ['data/nyu2_train/living_room_0038_out/168.jpg', 'data/nyu2_train/living_room_0038_out/168.png'], ['data/nyu2_train/living_room_0038_out/104.jpg', 'data/nyu2_train/living_room_0038_out/104.png'], ['data/nyu2_train/living_room_0038_out/134.jpg', 'data/nyu2_train/living_room_0038_out/134.png'], ['data/nyu2_train/living_room_0038_out/100.jpg', 'data/nyu2_train/living_room_0038_out/100.png'], ['data/nyu2_train/living_room_0038_out/64.jpg', 'data/nyu2_train/living_room_0038_out/64.png'], ['data/nyu2_train/living_room_0038_out/147.jpg', 'data/nyu2_train/living_room_0038_out/147.png'], ['data/nyu2_train/living_room_0038_out/103.jpg', 'data/nyu2_train/living_room_0038_out/103.png'], ['data/nyu2_train/living_room_0038_out/67.jpg', 'data/nyu2_train/living_room_0038_out/67.png'], ['data/nyu2_train/living_room_0038_out/114.jpg', 'data/nyu2_train/living_room_0038_out/114.png'], ['data/nyu2_train/living_room_0038_out/8.jpg', 'data/nyu2_train/living_room_0038_out/8.png'], ['data/nyu2_train/living_room_0038_out/127.jpg', 'data/nyu2_train/living_room_0038_out/127.png'], ['data/nyu2_train/living_room_0038_out/43.jpg', 'data/nyu2_train/living_room_0038_out/43.png'], ['data/nyu2_train/living_room_0038_out/144.jpg', 'data/nyu2_train/living_room_0038_out/144.png'], ['data/nyu2_train/living_room_0038_out/17.jpg', 'data/nyu2_train/living_room_0038_out/17.png'], ['data/nyu2_train/living_room_0038_out/151.jpg', 'data/nyu2_train/living_room_0038_out/151.png'], ['data/nyu2_train/living_room_0038_out/35.jpg', 'data/nyu2_train/living_room_0038_out/35.png'], ['data/nyu2_train/living_room_0038_out/40.jpg', 'data/nyu2_train/living_room_0038_out/40.png'], ['data/nyu2_train/living_room_0038_out/55.jpg', 'data/nyu2_train/living_room_0038_out/55.png'], ['data/nyu2_train/living_room_0038_out/95.jpg', 'data/nyu2_train/living_room_0038_out/95.png'], ['data/nyu2_train/living_room_0038_out/45.jpg', 'data/nyu2_train/living_room_0038_out/45.png'], ['data/nyu2_train/living_room_0038_out/82.jpg', 'data/nyu2_train/living_room_0038_out/82.png'], ['data/nyu2_train/living_room_0038_out/108.jpg', 'data/nyu2_train/living_room_0038_out/108.png'], ['data/nyu2_train/living_room_0038_out/79.jpg', 'data/nyu2_train/living_room_0038_out/79.png'], ['data/nyu2_train/living_room_0038_out/31.jpg', 'data/nyu2_train/living_room_0038_out/31.png'], ['data/nyu2_train/living_room_0038_out/137.jpg', 'data/nyu2_train/living_room_0038_out/137.png'], ['data/nyu2_train/living_room_0038_out/47.jpg', 'data/nyu2_train/living_room_0038_out/47.png'], ['data/nyu2_train/living_room_0038_out/111.jpg', 'data/nyu2_train/living_room_0038_out/111.png'], ['data/nyu2_train/living_room_0038_out/41.jpg', 'data/nyu2_train/living_room_0038_out/41.png'], ['data/nyu2_train/living_room_0038_out/50.jpg', 'data/nyu2_train/living_room_0038_out/50.png'], ['data/nyu2_train/living_room_0038_out/140.jpg', 'data/nyu2_train/living_room_0038_out/140.png'], ['data/nyu2_train/living_room_0038_out/19.jpg', 'data/nyu2_train/living_room_0038_out/19.png'], ['data/nyu2_train/living_room_0038_out/58.jpg', 'data/nyu2_train/living_room_0038_out/58.png'], ['data/nyu2_train/living_room_0038_out/98.jpg', 'data/nyu2_train/living_room_0038_out/98.png'], ['data/nyu2_train/living_room_0038_out/76.jpg', 'data/nyu2_train/living_room_0038_out/76.png'], ['data/nyu2_train/living_room_0038_out/124.jpg', 'data/nyu2_train/living_room_0038_out/124.png'], ['data/nyu2_train/living_room_0038_out/128.jpg', 'data/nyu2_train/living_room_0038_out/128.png'], ['data/nyu2_train/living_room_0038_out/170.jpg', 'data/nyu2_train/living_room_0038_out/170.png'], ['data/nyu2_train/living_room_0038_out/149.jpg', 'data/nyu2_train/living_room_0038_out/149.png'], ['data/nyu2_train/living_room_0038_out/69.jpg', 'data/nyu2_train/living_room_0038_out/69.png'], ['data/nyu2_train/living_room_0038_out/155.jpg', 'data/nyu2_train/living_room_0038_out/155.png'], ['data/nyu2_train/living_room_0038_out/5.jpg', 'data/nyu2_train/living_room_0038_out/5.png'], ['data/nyu2_train/living_room_0038_out/131.jpg', 'data/nyu2_train/living_room_0038_out/131.png'], ['data/nyu2_train/living_room_0038_out/101.jpg', 'data/nyu2_train/living_room_0038_out/101.png'], ['data/nyu2_train/living_room_0038_out/112.jpg', 'data/nyu2_train/living_room_0038_out/112.png'], ['data/nyu2_train/living_room_0038_out/1.jpg', 'data/nyu2_train/living_room_0038_out/1.png'], ['data/nyu2_train/living_room_0038_out/148.jpg', 'data/nyu2_train/living_room_0038_out/148.png'], ['data/nyu2_train/living_room_0038_out/84.jpg', 'data/nyu2_train/living_room_0038_out/84.png'], ['data/nyu2_train/living_room_0038_out/92.jpg', 'data/nyu2_train/living_room_0038_out/92.png'], ['data/nyu2_train/living_room_0038_out/133.jpg', 'data/nyu2_train/living_room_0038_out/133.png'], ['data/nyu2_train/living_room_0038_out/150.jpg', 'data/nyu2_train/living_room_0038_out/150.png'], ['data/nyu2_train/living_room_0038_out/107.jpg', 'data/nyu2_train/living_room_0038_out/107.png'], ['data/nyu2_train/living_room_0038_out/136.jpg', 'data/nyu2_train/living_room_0038_out/136.png'], ['data/nyu2_train/living_room_0038_out/51.jpg', 'data/nyu2_train/living_room_0038_out/51.png'], ['data/nyu2_train/living_room_0038_out/7.jpg', 'data/nyu2_train/living_room_0038_out/7.png'], ['data/nyu2_train/living_room_0038_out/97.jpg', 'data/nyu2_train/living_room_0038_out/97.png'], ['data/nyu2_train/living_room_0038_out/15.jpg', 'data/nyu2_train/living_room_0038_out/15.png'], ['data/nyu2_train/living_room_0038_out/156.jpg', 'data/nyu2_train/living_room_0038_out/156.png'], ['data/nyu2_train/living_room_0038_out/77.jpg', 'data/nyu2_train/living_room_0038_out/77.png'], ['data/nyu2_train/living_room_0038_out/117.jpg', 'data/nyu2_train/living_room_0038_out/117.png'], ['data/nyu2_train/living_room_0038_out/125.jpg', 'data/nyu2_train/living_room_0038_out/125.png'], ['data/nyu2_train/living_room_0038_out/89.jpg', 'data/nyu2_train/living_room_0038_out/89.png'], ['data/nyu2_train/living_room_0038_out/102.jpg', 'data/nyu2_train/living_room_0038_out/102.png'], ['data/nyu2_train/living_room_0038_out/99.jpg', 'data/nyu2_train/living_room_0038_out/99.png'], ['data/nyu2_train/living_room_0038_out/72.jpg', 'data/nyu2_train/living_room_0038_out/72.png'], ['data/nyu2_train/living_room_0038_out/157.jpg', 'data/nyu2_train/living_room_0038_out/157.png'], ['data/nyu2_train/living_room_0038_out/81.jpg', 'data/nyu2_train/living_room_0038_out/81.png'], ['data/nyu2_train/living_room_0038_out/33.jpg', 'data/nyu2_train/living_room_0038_out/33.png'], ['data/nyu2_train/living_room_0038_out/27.jpg', 'data/nyu2_train/living_room_0038_out/27.png'], ['data/nyu2_train/living_room_0038_out/139.jpg', 'data/nyu2_train/living_room_0038_out/139.png'], ['data/nyu2_train/living_room_0038_out/38.jpg', 'data/nyu2_train/living_room_0038_out/38.png'], ['data/nyu2_train/living_room_0038_out/154.jpg', 'data/nyu2_train/living_room_0038_out/154.png'], ['data/nyu2_train/living_room_0038_out/78.jpg', 'data/nyu2_train/living_room_0038_out/78.png'], ['data/nyu2_train/living_room_0038_out/73.jpg', 'data/nyu2_train/living_room_0038_out/73.png'], ['data/nyu2_train/living_room_0038_out/159.jpg', 'data/nyu2_train/living_room_0038_out/159.png'], ['data/nyu2_train/living_room_0038_out/110.jpg', 'data/nyu2_train/living_room_0038_out/110.png'], ['data/nyu2_train/living_room_0038_out/143.jpg', 'data/nyu2_train/living_room_0038_out/143.png'], ['data/nyu2_train/living_room_0038_out/83.jpg', 'data/nyu2_train/living_room_0038_out/83.png'], ['data/nyu2_train/living_room_0038_out/87.jpg', 'data/nyu2_train/living_room_0038_out/87.png'], ['data/nyu2_train/living_room_0038_out/59.jpg', 'data/nyu2_train/living_room_0038_out/59.png'], ['data/nyu2_train/living_room_0038_out/36.jpg', 'data/nyu2_train/living_room_0038_out/36.png'], ['data/nyu2_train/living_room_0038_out/20.jpg', 'data/nyu2_train/living_room_0038_out/20.png'], ['data/nyu2_train/living_room_0038_out/165.jpg', 'data/nyu2_train/living_room_0038_out/165.png'], ['data/nyu2_train/living_room_0038_out/106.jpg', 'data/nyu2_train/living_room_0038_out/106.png'], ['data/nyu2_train/living_room_0038_out/145.jpg', 'data/nyu2_train/living_room_0038_out/145.png'], ['data/nyu2_train/living_room_0038_out/65.jpg', 'data/nyu2_train/living_room_0038_out/65.png'], ['data/nyu2_train/living_room_0038_out/120.jpg', 'data/nyu2_train/living_room_0038_out/120.png'], ['data/nyu2_train/living_room_0038_out/86.jpg', 'data/nyu2_train/living_room_0038_out/86.png'], ['data/nyu2_train/living_room_0038_out/44.jpg', 'data/nyu2_train/living_room_0038_out/44.png'], ['data/nyu2_train/living_room_0038_out/63.jpg', 'data/nyu2_train/living_room_0038_out/63.png'], ['data/nyu2_train/living_room_0038_out/116.jpg', 'data/nyu2_train/living_room_0038_out/116.png'], ['data/nyu2_train/living_room_0038_out/61.jpg', 'data/nyu2_train/living_room_0038_out/61.png'], ['data/nyu2_train/living_room_0038_out/32.jpg', 'data/nyu2_train/living_room_0038_out/32.png'], ['data/nyu2_train/living_room_0038_out/123.jpg', 'data/nyu2_train/living_room_0038_out/123.png'], ['data/nyu2_train/living_room_0038_out/23.jpg', 'data/nyu2_train/living_room_0038_out/23.png'], ['data/nyu2_train/living_room_0038_out/74.jpg', 'data/nyu2_train/living_room_0038_out/74.png'], ['data/nyu2_train/living_room_0038_out/164.jpg', 'data/nyu2_train/living_room_0038_out/164.png'], ['data/nyu2_train/living_room_0038_out/141.jpg', 'data/nyu2_train/living_room_0038_out/141.png'], ['data/nyu2_train/living_room_0038_out/52.jpg', 'data/nyu2_train/living_room_0038_out/52.png'], ['data/nyu2_train/living_room_0038_out/66.jpg', 'data/nyu2_train/living_room_0038_out/66.png'], ['data/nyu2_train/living_room_0038_out/24.jpg', 'data/nyu2_train/living_room_0038_out/24.png'], ['data/nyu2_train/living_room_0038_out/22.jpg', 'data/nyu2_train/living_room_0038_out/22.png'], ['data/nyu2_train/living_room_0038_out/166.jpg', 'data/nyu2_train/living_room_0038_out/166.png'], ['data/nyu2_train/living_room_0038_out/80.jpg', 'data/nyu2_train/living_room_0038_out/80.png'], ['data/nyu2_train/living_room_0038_out/96.jpg', 'data/nyu2_train/living_room_0038_out/96.png'], ['data/nyu2_train/living_room_0038_out/26.jpg', 'data/nyu2_train/living_room_0038_out/26.png'], ['data/nyu2_train/living_room_0038_out/88.jpg', 'data/nyu2_train/living_room_0038_out/88.png'], ['data/nyu2_train/living_room_0038_out/9.jpg', 'data/nyu2_train/living_room_0038_out/9.png'], ['data/nyu2_train/living_room_0038_out/109.jpg', 'data/nyu2_train/living_room_0038_out/109.png'], ['data/nyu2_train/living_room_0038_out/90.jpg', 'data/nyu2_train/living_room_0038_out/90.png'], ['data/nyu2_train/bedroom_0047_out/37.jpg', 'data/nyu2_train/bedroom_0047_out/37.png'], ['data/nyu2_train/bedroom_0047_out/6.jpg', 'data/nyu2_train/bedroom_0047_out/6.png'], ['data/nyu2_train/bedroom_0047_out/49.jpg', 'data/nyu2_train/bedroom_0047_out/49.png'], ['data/nyu2_train/bedroom_0047_out/94.jpg', 'data/nyu2_train/bedroom_0047_out/94.png'], ['data/nyu2_train/bedroom_0047_out/18.jpg', 'data/nyu2_train/bedroom_0047_out/18.png'], ['data/nyu2_train/bedroom_0047_out/21.jpg', 'data/nyu2_train/bedroom_0047_out/21.png'], ['data/nyu2_train/bedroom_0047_out/48.jpg', 'data/nyu2_train/bedroom_0047_out/48.png'], ['data/nyu2_train/bedroom_0047_out/75.jpg', 'data/nyu2_train/bedroom_0047_out/75.png'], ['data/nyu2_train/bedroom_0047_out/25.jpg', 'data/nyu2_train/bedroom_0047_out/25.png'], ['data/nyu2_train/bedroom_0047_out/13.jpg', 'data/nyu2_train/bedroom_0047_out/13.png'], ['data/nyu2_train/bedroom_0047_out/68.jpg', 'data/nyu2_train/bedroom_0047_out/68.png'], ['data/nyu2_train/bedroom_0047_out/28.jpg', 'data/nyu2_train/bedroom_0047_out/28.png'], ['data/nyu2_train/bedroom_0047_out/85.jpg', 'data/nyu2_train/bedroom_0047_out/85.png'], ['data/nyu2_train/bedroom_0047_out/57.jpg', 'data/nyu2_train/bedroom_0047_out/57.png'], ['data/nyu2_train/bedroom_0047_out/34.jpg', 'data/nyu2_train/bedroom_0047_out/34.png'], ['data/nyu2_train/bedroom_0047_out/53.jpg', 'data/nyu2_train/bedroom_0047_out/53.png'], ['data/nyu2_train/bedroom_0047_out/11.jpg', 'data/nyu2_train/bedroom_0047_out/11.png'], ['data/nyu2_train/bedroom_0047_out/46.jpg', 'data/nyu2_train/bedroom_0047_out/46.png'], ['data/nyu2_train/bedroom_0047_out/39.jpg', 'data/nyu2_train/bedroom_0047_out/39.png'], ['data/nyu2_train/bedroom_0047_out/71.jpg', 'data/nyu2_train/bedroom_0047_out/71.png'], ['data/nyu2_train/bedroom_0047_out/29.jpg', 'data/nyu2_train/bedroom_0047_out/29.png'], ['data/nyu2_train/bedroom_0047_out/14.jpg', 'data/nyu2_train/bedroom_0047_out/14.png'], ['data/nyu2_train/bedroom_0047_out/30.jpg', 'data/nyu2_train/bedroom_0047_out/30.png'], ['data/nyu2_train/bedroom_0047_out/16.jpg', 'data/nyu2_train/bedroom_0047_out/16.png'], ['data/nyu2_train/bedroom_0047_out/62.jpg', 'data/nyu2_train/bedroom_0047_out/62.png'], ['data/nyu2_train/bedroom_0047_out/56.jpg', 'data/nyu2_train/bedroom_0047_out/56.png'], ['data/nyu2_train/bedroom_0047_out/42.jpg', 'data/nyu2_train/bedroom_0047_out/42.png'], ['data/nyu2_train/bedroom_0047_out/2.jpg', 'data/nyu2_train/bedroom_0047_out/2.png'], ['data/nyu2_train/bedroom_0047_out/91.jpg', 'data/nyu2_train/bedroom_0047_out/91.png'], ['data/nyu2_train/bedroom_0047_out/93.jpg', 'data/nyu2_train/bedroom_0047_out/93.png'], ['data/nyu2_train/bedroom_0047_out/70.jpg', 'data/nyu2_train/bedroom_0047_out/70.png'], ['data/nyu2_train/bedroom_0047_out/60.jpg', 'data/nyu2_train/bedroom_0047_out/60.png'], ['data/nyu2_train/bedroom_0047_out/3.jpg', 'data/nyu2_train/bedroom_0047_out/3.png'], ['data/nyu2_train/bedroom_0047_out/54.jpg', 'data/nyu2_train/bedroom_0047_out/54.png'], ['data/nyu2_train/bedroom_0047_out/10.jpg', 'data/nyu2_train/bedroom_0047_out/10.png'], ['data/nyu2_train/bedroom_0047_out/4.jpg', 'data/nyu2_train/bedroom_0047_out/4.png'], ['data/nyu2_train/bedroom_0047_out/12.jpg', 'data/nyu2_train/bedroom_0047_out/12.png'], ['data/nyu2_train/bedroom_0047_out/64.jpg', 'data/nyu2_train/bedroom_0047_out/64.png'], ['data/nyu2_train/bedroom_0047_out/67.jpg', 'data/nyu2_train/bedroom_0047_out/67.png'], ['data/nyu2_train/bedroom_0047_out/8.jpg', 'data/nyu2_train/bedroom_0047_out/8.png'], ['data/nyu2_train/bedroom_0047_out/43.jpg', 'data/nyu2_train/bedroom_0047_out/43.png'], ['data/nyu2_train/bedroom_0047_out/17.jpg', 'data/nyu2_train/bedroom_0047_out/17.png'], ['data/nyu2_train/bedroom_0047_out/35.jpg', 'data/nyu2_train/bedroom_0047_out/35.png'], ['data/nyu2_train/bedroom_0047_out/40.jpg', 'data/nyu2_train/bedroom_0047_out/40.png'], ['data/nyu2_train/bedroom_0047_out/55.jpg', 'data/nyu2_train/bedroom_0047_out/55.png'], ['data/nyu2_train/bedroom_0047_out/95.jpg', 'data/nyu2_train/bedroom_0047_out/95.png'], ['data/nyu2_train/bedroom_0047_out/45.jpg', 'data/nyu2_train/bedroom_0047_out/45.png'], ['data/nyu2_train/bedroom_0047_out/82.jpg', 'data/nyu2_train/bedroom_0047_out/82.png'], ['data/nyu2_train/bedroom_0047_out/79.jpg', 'data/nyu2_train/bedroom_0047_out/79.png'], ['data/nyu2_train/bedroom_0047_out/31.jpg', 'data/nyu2_train/bedroom_0047_out/31.png'], ['data/nyu2_train/bedroom_0047_out/47.jpg', 'data/nyu2_train/bedroom_0047_out/47.png'], ['data/nyu2_train/bedroom_0047_out/41.jpg', 'data/nyu2_train/bedroom_0047_out/41.png'], ['data/nyu2_train/bedroom_0047_out/50.jpg', 'data/nyu2_train/bedroom_0047_out/50.png'], ['data/nyu2_train/bedroom_0047_out/19.jpg', 'data/nyu2_train/bedroom_0047_out/19.png'], ['data/nyu2_train/bedroom_0047_out/58.jpg', 'data/nyu2_train/bedroom_0047_out/58.png'], ['data/nyu2_train/bedroom_0047_out/76.jpg', 'data/nyu2_train/bedroom_0047_out/76.png'], ['data/nyu2_train/bedroom_0047_out/69.jpg', 'data/nyu2_train/bedroom_0047_out/69.png'], ['data/nyu2_train/bedroom_0047_out/5.jpg', 'data/nyu2_train/bedroom_0047_out/5.png'], ['data/nyu2_train/bedroom_0047_out/1.jpg', 'data/nyu2_train/bedroom_0047_out/1.png'], ['data/nyu2_train/bedroom_0047_out/84.jpg', 'data/nyu2_train/bedroom_0047_out/84.png'], ['data/nyu2_train/bedroom_0047_out/92.jpg', 'data/nyu2_train/bedroom_0047_out/92.png'], ['data/nyu2_train/bedroom_0047_out/51.jpg', 'data/nyu2_train/bedroom_0047_out/51.png'], ['data/nyu2_train/bedroom_0047_out/7.jpg', 'data/nyu2_train/bedroom_0047_out/7.png'], ['data/nyu2_train/bedroom_0047_out/15.jpg', 'data/nyu2_train/bedroom_0047_out/15.png'], ['data/nyu2_train/bedroom_0047_out/77.jpg', 'data/nyu2_train/bedroom_0047_out/77.png'], ['data/nyu2_train/bedroom_0047_out/89.jpg', 'data/nyu2_train/bedroom_0047_out/89.png'], ['data/nyu2_train/bedroom_0047_out/72.jpg', 'data/nyu2_train/bedroom_0047_out/72.png'], ['data/nyu2_train/bedroom_0047_out/81.jpg', 'data/nyu2_train/bedroom_0047_out/81.png'], ['data/nyu2_train/bedroom_0047_out/33.jpg', 'data/nyu2_train/bedroom_0047_out/33.png'], ['data/nyu2_train/bedroom_0047_out/27.jpg', 'data/nyu2_train/bedroom_0047_out/27.png'], ['data/nyu2_train/bedroom_0047_out/38.jpg', 'data/nyu2_train/bedroom_0047_out/38.png'], ['data/nyu2_train/bedroom_0047_out/78.jpg', 'data/nyu2_train/bedroom_0047_out/78.png'], ['data/nyu2_train/bedroom_0047_out/73.jpg', 'data/nyu2_train/bedroom_0047_out/73.png'], ['data/nyu2_train/bedroom_0047_out/83.jpg', 'data/nyu2_train/bedroom_0047_out/83.png'], ['data/nyu2_train/bedroom_0047_out/87.jpg', 'data/nyu2_train/bedroom_0047_out/87.png'], ['data/nyu2_train/bedroom_0047_out/59.jpg', 'data/nyu2_train/bedroom_0047_out/59.png'], ['data/nyu2_train/bedroom_0047_out/36.jpg', 'data/nyu2_train/bedroom_0047_out/36.png'], ['data/nyu2_train/bedroom_0047_out/20.jpg', 'data/nyu2_train/bedroom_0047_out/20.png'], ['data/nyu2_train/bedroom_0047_out/65.jpg', 'data/nyu2_train/bedroom_0047_out/65.png'], ['data/nyu2_train/bedroom_0047_out/86.jpg', 'data/nyu2_train/bedroom_0047_out/86.png'], ['data/nyu2_train/bedroom_0047_out/44.jpg', 'data/nyu2_train/bedroom_0047_out/44.png'], ['data/nyu2_train/bedroom_0047_out/63.jpg', 'data/nyu2_train/bedroom_0047_out/63.png'], ['data/nyu2_train/bedroom_0047_out/61.jpg', 'data/nyu2_train/bedroom_0047_out/61.png'], ['data/nyu2_train/bedroom_0047_out/32.jpg', 'data/nyu2_train/bedroom_0047_out/32.png'], ['data/nyu2_train/bedroom_0047_out/23.jpg', 'data/nyu2_train/bedroom_0047_out/23.png'], ['data/nyu2_train/bedroom_0047_out/74.jpg', 'data/nyu2_train/bedroom_0047_out/74.png'], ['data/nyu2_train/bedroom_0047_out/52.jpg', 'data/nyu2_train/bedroom_0047_out/52.png'], ['data/nyu2_train/bedroom_0047_out/66.jpg', 'data/nyu2_train/bedroom_0047_out/66.png'], ['data/nyu2_train/bedroom_0047_out/24.jpg', 'data/nyu2_train/bedroom_0047_out/24.png'], ['data/nyu2_train/bedroom_0047_out/22.jpg', 'data/nyu2_train/bedroom_0047_out/22.png'], ['data/nyu2_train/bedroom_0047_out/80.jpg', 'data/nyu2_train/bedroom_0047_out/80.png'], ['data/nyu2_train/bedroom_0047_out/26.jpg', 'data/nyu2_train/bedroom_0047_out/26.png'], ['data/nyu2_train/bedroom_0047_out/88.jpg', 'data/nyu2_train/bedroom_0047_out/88.png'], ['data/nyu2_train/bedroom_0047_out/9.jpg', 'data/nyu2_train/bedroom_0047_out/9.png'], ['data/nyu2_train/bedroom_0047_out/90.jpg', 'data/nyu2_train/bedroom_0047_out/90.png'], ['data/nyu2_train/bedroom_0113_out/37.jpg', 'data/nyu2_train/bedroom_0113_out/37.png'], ['data/nyu2_train/bedroom_0113_out/115.jpg', 'data/nyu2_train/bedroom_0113_out/115.png'], ['data/nyu2_train/bedroom_0113_out/6.jpg', 'data/nyu2_train/bedroom_0113_out/6.png'], ['data/nyu2_train/bedroom_0113_out/49.jpg', 'data/nyu2_train/bedroom_0113_out/49.png'], ['data/nyu2_train/bedroom_0113_out/152.jpg', 'data/nyu2_train/bedroom_0113_out/152.png'], ['data/nyu2_train/bedroom_0113_out/142.jpg', 'data/nyu2_train/bedroom_0113_out/142.png'], ['data/nyu2_train/bedroom_0113_out/94.jpg', 'data/nyu2_train/bedroom_0113_out/94.png'], ['data/nyu2_train/bedroom_0113_out/158.jpg', 'data/nyu2_train/bedroom_0113_out/158.png'], ['data/nyu2_train/bedroom_0113_out/18.jpg', 'data/nyu2_train/bedroom_0113_out/18.png'], ['data/nyu2_train/bedroom_0113_out/21.jpg', 'data/nyu2_train/bedroom_0113_out/21.png'], ['data/nyu2_train/bedroom_0113_out/48.jpg', 'data/nyu2_train/bedroom_0113_out/48.png'], ['data/nyu2_train/bedroom_0113_out/75.jpg', 'data/nyu2_train/bedroom_0113_out/75.png'], ['data/nyu2_train/bedroom_0113_out/25.jpg', 'data/nyu2_train/bedroom_0113_out/25.png'], ['data/nyu2_train/bedroom_0113_out/13.jpg', 'data/nyu2_train/bedroom_0113_out/13.png'], ['data/nyu2_train/bedroom_0113_out/68.jpg', 'data/nyu2_train/bedroom_0113_out/68.png'], ['data/nyu2_train/bedroom_0113_out/28.jpg', 'data/nyu2_train/bedroom_0113_out/28.png'], ['data/nyu2_train/bedroom_0113_out/161.jpg', 'data/nyu2_train/bedroom_0113_out/161.png'], ['data/nyu2_train/bedroom_0113_out/85.jpg', 'data/nyu2_train/bedroom_0113_out/85.png'], ['data/nyu2_train/bedroom_0113_out/57.jpg', 'data/nyu2_train/bedroom_0113_out/57.png'], ['data/nyu2_train/bedroom_0113_out/34.jpg', 'data/nyu2_train/bedroom_0113_out/34.png'], ['data/nyu2_train/bedroom_0113_out/118.jpg', 'data/nyu2_train/bedroom_0113_out/118.png'], ['data/nyu2_train/bedroom_0113_out/53.jpg', 'data/nyu2_train/bedroom_0113_out/53.png'], ['data/nyu2_train/bedroom_0113_out/11.jpg', 'data/nyu2_train/bedroom_0113_out/11.png'], ['data/nyu2_train/bedroom_0113_out/46.jpg', 'data/nyu2_train/bedroom_0113_out/46.png'], ['data/nyu2_train/bedroom_0113_out/135.jpg', 'data/nyu2_train/bedroom_0113_out/135.png'], ['data/nyu2_train/bedroom_0113_out/39.jpg', 'data/nyu2_train/bedroom_0113_out/39.png'], ['data/nyu2_train/bedroom_0113_out/71.jpg', 'data/nyu2_train/bedroom_0113_out/71.png'], ['data/nyu2_train/bedroom_0113_out/29.jpg', 'data/nyu2_train/bedroom_0113_out/29.png'], ['data/nyu2_train/bedroom_0113_out/14.jpg', 'data/nyu2_train/bedroom_0113_out/14.png'], ['data/nyu2_train/bedroom_0113_out/113.jpg', 'data/nyu2_train/bedroom_0113_out/113.png'], ['data/nyu2_train/bedroom_0113_out/138.jpg', 'data/nyu2_train/bedroom_0113_out/138.png'], ['data/nyu2_train/bedroom_0113_out/30.jpg', 'data/nyu2_train/bedroom_0113_out/30.png'], ['data/nyu2_train/bedroom_0113_out/16.jpg', 'data/nyu2_train/bedroom_0113_out/16.png'], ['data/nyu2_train/bedroom_0113_out/105.jpg', 'data/nyu2_train/bedroom_0113_out/105.png'], ['data/nyu2_train/bedroom_0113_out/62.jpg', 'data/nyu2_train/bedroom_0113_out/62.png'], ['data/nyu2_train/bedroom_0113_out/56.jpg', 'data/nyu2_train/bedroom_0113_out/56.png'], ['data/nyu2_train/bedroom_0113_out/119.jpg', 'data/nyu2_train/bedroom_0113_out/119.png'], ['data/nyu2_train/bedroom_0113_out/42.jpg', 'data/nyu2_train/bedroom_0113_out/42.png'], ['data/nyu2_train/bedroom_0113_out/2.jpg', 'data/nyu2_train/bedroom_0113_out/2.png'], ['data/nyu2_train/bedroom_0113_out/129.jpg', 'data/nyu2_train/bedroom_0113_out/129.png'], ['data/nyu2_train/bedroom_0113_out/160.jpg', 'data/nyu2_train/bedroom_0113_out/160.png'], ['data/nyu2_train/bedroom_0113_out/126.jpg', 'data/nyu2_train/bedroom_0113_out/126.png'], ['data/nyu2_train/bedroom_0113_out/91.jpg', 'data/nyu2_train/bedroom_0113_out/91.png'], ['data/nyu2_train/bedroom_0113_out/162.jpg', 'data/nyu2_train/bedroom_0113_out/162.png'], ['data/nyu2_train/bedroom_0113_out/93.jpg', 'data/nyu2_train/bedroom_0113_out/93.png'], ['data/nyu2_train/bedroom_0113_out/70.jpg', 'data/nyu2_train/bedroom_0113_out/70.png'], ['data/nyu2_train/bedroom_0113_out/60.jpg', 'data/nyu2_train/bedroom_0113_out/60.png'], ['data/nyu2_train/bedroom_0113_out/3.jpg', 'data/nyu2_train/bedroom_0113_out/3.png'], ['data/nyu2_train/bedroom_0113_out/132.jpg', 'data/nyu2_train/bedroom_0113_out/132.png'], ['data/nyu2_train/bedroom_0113_out/54.jpg', 'data/nyu2_train/bedroom_0113_out/54.png'], ['data/nyu2_train/bedroom_0113_out/146.jpg', 'data/nyu2_train/bedroom_0113_out/146.png'], ['data/nyu2_train/bedroom_0113_out/121.jpg', 'data/nyu2_train/bedroom_0113_out/121.png'], ['data/nyu2_train/bedroom_0113_out/122.jpg', 'data/nyu2_train/bedroom_0113_out/122.png'], ['data/nyu2_train/bedroom_0113_out/130.jpg', 'data/nyu2_train/bedroom_0113_out/130.png'], ['data/nyu2_train/bedroom_0113_out/10.jpg', 'data/nyu2_train/bedroom_0113_out/10.png'], ['data/nyu2_train/bedroom_0113_out/4.jpg', 'data/nyu2_train/bedroom_0113_out/4.png'], ['data/nyu2_train/bedroom_0113_out/153.jpg', 'data/nyu2_train/bedroom_0113_out/153.png'], ['data/nyu2_train/bedroom_0113_out/12.jpg', 'data/nyu2_train/bedroom_0113_out/12.png'], ['data/nyu2_train/bedroom_0113_out/163.jpg', 'data/nyu2_train/bedroom_0113_out/163.png'], ['data/nyu2_train/bedroom_0113_out/104.jpg', 'data/nyu2_train/bedroom_0113_out/104.png'], ['data/nyu2_train/bedroom_0113_out/134.jpg', 'data/nyu2_train/bedroom_0113_out/134.png'], ['data/nyu2_train/bedroom_0113_out/100.jpg', 'data/nyu2_train/bedroom_0113_out/100.png'], ['data/nyu2_train/bedroom_0113_out/64.jpg', 'data/nyu2_train/bedroom_0113_out/64.png'], ['data/nyu2_train/bedroom_0113_out/147.jpg', 'data/nyu2_train/bedroom_0113_out/147.png'], ['data/nyu2_train/bedroom_0113_out/103.jpg', 'data/nyu2_train/bedroom_0113_out/103.png'], ['data/nyu2_train/bedroom_0113_out/67.jpg', 'data/nyu2_train/bedroom_0113_out/67.png'], ['data/nyu2_train/bedroom_0113_out/114.jpg', 'data/nyu2_train/bedroom_0113_out/114.png'], ['data/nyu2_train/bedroom_0113_out/8.jpg', 'data/nyu2_train/bedroom_0113_out/8.png'], ['data/nyu2_train/bedroom_0113_out/127.jpg', 'data/nyu2_train/bedroom_0113_out/127.png'], ['data/nyu2_train/bedroom_0113_out/43.jpg', 'data/nyu2_train/bedroom_0113_out/43.png'], ['data/nyu2_train/bedroom_0113_out/144.jpg', 'data/nyu2_train/bedroom_0113_out/144.png'], ['data/nyu2_train/bedroom_0113_out/17.jpg', 'data/nyu2_train/bedroom_0113_out/17.png'], ['data/nyu2_train/bedroom_0113_out/151.jpg', 'data/nyu2_train/bedroom_0113_out/151.png'], ['data/nyu2_train/bedroom_0113_out/35.jpg', 'data/nyu2_train/bedroom_0113_out/35.png'], ['data/nyu2_train/bedroom_0113_out/40.jpg', 'data/nyu2_train/bedroom_0113_out/40.png'], ['data/nyu2_train/bedroom_0113_out/55.jpg', 'data/nyu2_train/bedroom_0113_out/55.png'], ['data/nyu2_train/bedroom_0113_out/95.jpg', 'data/nyu2_train/bedroom_0113_out/95.png'], ['data/nyu2_train/bedroom_0113_out/45.jpg', 'data/nyu2_train/bedroom_0113_out/45.png'], ['data/nyu2_train/bedroom_0113_out/82.jpg', 'data/nyu2_train/bedroom_0113_out/82.png'], ['data/nyu2_train/bedroom_0113_out/108.jpg', 'data/nyu2_train/bedroom_0113_out/108.png'], ['data/nyu2_train/bedroom_0113_out/79.jpg', 'data/nyu2_train/bedroom_0113_out/79.png'], ['data/nyu2_train/bedroom_0113_out/31.jpg', 'data/nyu2_train/bedroom_0113_out/31.png'], ['data/nyu2_train/bedroom_0113_out/137.jpg', 'data/nyu2_train/bedroom_0113_out/137.png'], ['data/nyu2_train/bedroom_0113_out/47.jpg', 'data/nyu2_train/bedroom_0113_out/47.png'], ['data/nyu2_train/bedroom_0113_out/111.jpg', 'data/nyu2_train/bedroom_0113_out/111.png'], ['data/nyu2_train/bedroom_0113_out/41.jpg', 'data/nyu2_train/bedroom_0113_out/41.png'], ['data/nyu2_train/bedroom_0113_out/50.jpg', 'data/nyu2_train/bedroom_0113_out/50.png'], ['data/nyu2_train/bedroom_0113_out/140.jpg', 'data/nyu2_train/bedroom_0113_out/140.png'], ['data/nyu2_train/bedroom_0113_out/19.jpg', 'data/nyu2_train/bedroom_0113_out/19.png'], ['data/nyu2_train/bedroom_0113_out/58.jpg', 'data/nyu2_train/bedroom_0113_out/58.png'], ['data/nyu2_train/bedroom_0113_out/98.jpg', 'data/nyu2_train/bedroom_0113_out/98.png'], ['data/nyu2_train/bedroom_0113_out/76.jpg', 'data/nyu2_train/bedroom_0113_out/76.png'], ['data/nyu2_train/bedroom_0113_out/124.jpg', 'data/nyu2_train/bedroom_0113_out/124.png'], ['data/nyu2_train/bedroom_0113_out/128.jpg', 'data/nyu2_train/bedroom_0113_out/128.png'], ['data/nyu2_train/bedroom_0113_out/149.jpg', 'data/nyu2_train/bedroom_0113_out/149.png'], ['data/nyu2_train/bedroom_0113_out/69.jpg', 'data/nyu2_train/bedroom_0113_out/69.png'], ['data/nyu2_train/bedroom_0113_out/155.jpg', 'data/nyu2_train/bedroom_0113_out/155.png'], ['data/nyu2_train/bedroom_0113_out/5.jpg', 'data/nyu2_train/bedroom_0113_out/5.png'], ['data/nyu2_train/bedroom_0113_out/131.jpg', 'data/nyu2_train/bedroom_0113_out/131.png'], ['data/nyu2_train/bedroom_0113_out/101.jpg', 'data/nyu2_train/bedroom_0113_out/101.png'], ['data/nyu2_train/bedroom_0113_out/112.jpg', 'data/nyu2_train/bedroom_0113_out/112.png'], ['data/nyu2_train/bedroom_0113_out/1.jpg', 'data/nyu2_train/bedroom_0113_out/1.png'], ['data/nyu2_train/bedroom_0113_out/148.jpg', 'data/nyu2_train/bedroom_0113_out/148.png'], ['data/nyu2_train/bedroom_0113_out/84.jpg', 'data/nyu2_train/bedroom_0113_out/84.png'], ['data/nyu2_train/bedroom_0113_out/92.jpg', 'data/nyu2_train/bedroom_0113_out/92.png'], ['data/nyu2_train/bedroom_0113_out/133.jpg', 'data/nyu2_train/bedroom_0113_out/133.png'], ['data/nyu2_train/bedroom_0113_out/150.jpg', 'data/nyu2_train/bedroom_0113_out/150.png'], ['data/nyu2_train/bedroom_0113_out/107.jpg', 'data/nyu2_train/bedroom_0113_out/107.png'], ['data/nyu2_train/bedroom_0113_out/136.jpg', 'data/nyu2_train/bedroom_0113_out/136.png'], ['data/nyu2_train/bedroom_0113_out/51.jpg', 'data/nyu2_train/bedroom_0113_out/51.png'], ['data/nyu2_train/bedroom_0113_out/7.jpg', 'data/nyu2_train/bedroom_0113_out/7.png'], ['data/nyu2_train/bedroom_0113_out/97.jpg', 'data/nyu2_train/bedroom_0113_out/97.png'], ['data/nyu2_train/bedroom_0113_out/15.jpg', 'data/nyu2_train/bedroom_0113_out/15.png'], ['data/nyu2_train/bedroom_0113_out/156.jpg', 'data/nyu2_train/bedroom_0113_out/156.png'], ['data/nyu2_train/bedroom_0113_out/77.jpg', 'data/nyu2_train/bedroom_0113_out/77.png'], ['data/nyu2_train/bedroom_0113_out/117.jpg', 'data/nyu2_train/bedroom_0113_out/117.png'], ['data/nyu2_train/bedroom_0113_out/125.jpg', 'data/nyu2_train/bedroom_0113_out/125.png'], ['data/nyu2_train/bedroom_0113_out/89.jpg', 'data/nyu2_train/bedroom_0113_out/89.png'], ['data/nyu2_train/bedroom_0113_out/102.jpg', 'data/nyu2_train/bedroom_0113_out/102.png'], ['data/nyu2_train/bedroom_0113_out/99.jpg', 'data/nyu2_train/bedroom_0113_out/99.png'], ['data/nyu2_train/bedroom_0113_out/72.jpg', 'data/nyu2_train/bedroom_0113_out/72.png'], ['data/nyu2_train/bedroom_0113_out/157.jpg', 'data/nyu2_train/bedroom_0113_out/157.png'], ['data/nyu2_train/bedroom_0113_out/81.jpg', 'data/nyu2_train/bedroom_0113_out/81.png'], ['data/nyu2_train/bedroom_0113_out/33.jpg', 'data/nyu2_train/bedroom_0113_out/33.png'], ['data/nyu2_train/bedroom_0113_out/27.jpg', 'data/nyu2_train/bedroom_0113_out/27.png'], ['data/nyu2_train/bedroom_0113_out/139.jpg', 'data/nyu2_train/bedroom_0113_out/139.png'], ['data/nyu2_train/bedroom_0113_out/38.jpg', 'data/nyu2_train/bedroom_0113_out/38.png'], ['data/nyu2_train/bedroom_0113_out/154.jpg', 'data/nyu2_train/bedroom_0113_out/154.png'], ['data/nyu2_train/bedroom_0113_out/78.jpg', 'data/nyu2_train/bedroom_0113_out/78.png'], ['data/nyu2_train/bedroom_0113_out/73.jpg', 'data/nyu2_train/bedroom_0113_out/73.png'], ['data/nyu2_train/bedroom_0113_out/159.jpg', 'data/nyu2_train/bedroom_0113_out/159.png'], ['data/nyu2_train/bedroom_0113_out/110.jpg', 'data/nyu2_train/bedroom_0113_out/110.png'], ['data/nyu2_train/bedroom_0113_out/143.jpg', 'data/nyu2_train/bedroom_0113_out/143.png'], ['data/nyu2_train/bedroom_0113_out/83.jpg', 'data/nyu2_train/bedroom_0113_out/83.png'], ['data/nyu2_train/bedroom_0113_out/87.jpg', 'data/nyu2_train/bedroom_0113_out/87.png'], ['data/nyu2_train/bedroom_0113_out/59.jpg', 'data/nyu2_train/bedroom_0113_out/59.png'], ['data/nyu2_train/bedroom_0113_out/36.jpg', 'data/nyu2_train/bedroom_0113_out/36.png'], ['data/nyu2_train/bedroom_0113_out/20.jpg', 'data/nyu2_train/bedroom_0113_out/20.png'], ['data/nyu2_train/bedroom_0113_out/165.jpg', 'data/nyu2_train/bedroom_0113_out/165.png'], ['data/nyu2_train/bedroom_0113_out/106.jpg', 'data/nyu2_train/bedroom_0113_out/106.png'], ['data/nyu2_train/bedroom_0113_out/145.jpg', 'data/nyu2_train/bedroom_0113_out/145.png'], ['data/nyu2_train/bedroom_0113_out/65.jpg', 'data/nyu2_train/bedroom_0113_out/65.png'], ['data/nyu2_train/bedroom_0113_out/120.jpg', 'data/nyu2_train/bedroom_0113_out/120.png'], ['data/nyu2_train/bedroom_0113_out/86.jpg', 'data/nyu2_train/bedroom_0113_out/86.png'], ['data/nyu2_train/bedroom_0113_out/44.jpg', 'data/nyu2_train/bedroom_0113_out/44.png'], ['data/nyu2_train/bedroom_0113_out/63.jpg', 'data/nyu2_train/bedroom_0113_out/63.png'], ['data/nyu2_train/bedroom_0113_out/116.jpg', 'data/nyu2_train/bedroom_0113_out/116.png'], ['data/nyu2_train/bedroom_0113_out/61.jpg', 'data/nyu2_train/bedroom_0113_out/61.png'], ['data/nyu2_train/bedroom_0113_out/32.jpg', 'data/nyu2_train/bedroom_0113_out/32.png'], ['data/nyu2_train/bedroom_0113_out/123.jpg', 'data/nyu2_train/bedroom_0113_out/123.png'], ['data/nyu2_train/bedroom_0113_out/23.jpg', 'data/nyu2_train/bedroom_0113_out/23.png'], ['data/nyu2_train/bedroom_0113_out/74.jpg', 'data/nyu2_train/bedroom_0113_out/74.png'], ['data/nyu2_train/bedroom_0113_out/164.jpg', 'data/nyu2_train/bedroom_0113_out/164.png'], ['data/nyu2_train/bedroom_0113_out/141.jpg', 'data/nyu2_train/bedroom_0113_out/141.png'], ['data/nyu2_train/bedroom_0113_out/52.jpg', 'data/nyu2_train/bedroom_0113_out/52.png'], ['data/nyu2_train/bedroom_0113_out/66.jpg', 'data/nyu2_train/bedroom_0113_out/66.png'], ['data/nyu2_train/bedroom_0113_out/24.jpg', 'data/nyu2_train/bedroom_0113_out/24.png'], ['data/nyu2_train/bedroom_0113_out/22.jpg', 'data/nyu2_train/bedroom_0113_out/22.png'], ['data/nyu2_train/bedroom_0113_out/166.jpg', 'data/nyu2_train/bedroom_0113_out/166.png'], ['data/nyu2_train/bedroom_0113_out/80.jpg', 'data/nyu2_train/bedroom_0113_out/80.png'], ['data/nyu2_train/bedroom_0113_out/96.jpg', 'data/nyu2_train/bedroom_0113_out/96.png'], ['data/nyu2_train/bedroom_0113_out/26.jpg', 'data/nyu2_train/bedroom_0113_out/26.png'], ['data/nyu2_train/bedroom_0113_out/88.jpg', 'data/nyu2_train/bedroom_0113_out/88.png'], ['data/nyu2_train/bedroom_0113_out/9.jpg', 'data/nyu2_train/bedroom_0113_out/9.png'], ['data/nyu2_train/bedroom_0113_out/109.jpg', 'data/nyu2_train/bedroom_0113_out/109.png'], ['data/nyu2_train/bedroom_0113_out/90.jpg', 'data/nyu2_train/bedroom_0113_out/90.png'], ['data/nyu2_train/kitchen_0011b_out/37.jpg', 'data/nyu2_train/kitchen_0011b_out/37.png'], ['data/nyu2_train/kitchen_0011b_out/115.jpg', 'data/nyu2_train/kitchen_0011b_out/115.png'], ['data/nyu2_train/kitchen_0011b_out/6.jpg', 'data/nyu2_train/kitchen_0011b_out/6.png'], ['data/nyu2_train/kitchen_0011b_out/49.jpg', 'data/nyu2_train/kitchen_0011b_out/49.png'], ['data/nyu2_train/kitchen_0011b_out/94.jpg', 'data/nyu2_train/kitchen_0011b_out/94.png'], ['data/nyu2_train/kitchen_0011b_out/18.jpg', 'data/nyu2_train/kitchen_0011b_out/18.png'], ['data/nyu2_train/kitchen_0011b_out/21.jpg', 'data/nyu2_train/kitchen_0011b_out/21.png'], ['data/nyu2_train/kitchen_0011b_out/48.jpg', 'data/nyu2_train/kitchen_0011b_out/48.png'], ['data/nyu2_train/kitchen_0011b_out/75.jpg', 'data/nyu2_train/kitchen_0011b_out/75.png'], ['data/nyu2_train/kitchen_0011b_out/25.jpg', 'data/nyu2_train/kitchen_0011b_out/25.png'], ['data/nyu2_train/kitchen_0011b_out/13.jpg', 'data/nyu2_train/kitchen_0011b_out/13.png'], ['data/nyu2_train/kitchen_0011b_out/68.jpg', 'data/nyu2_train/kitchen_0011b_out/68.png'], ['data/nyu2_train/kitchen_0011b_out/28.jpg', 'data/nyu2_train/kitchen_0011b_out/28.png'], ['data/nyu2_train/kitchen_0011b_out/85.jpg', 'data/nyu2_train/kitchen_0011b_out/85.png'], ['data/nyu2_train/kitchen_0011b_out/57.jpg', 'data/nyu2_train/kitchen_0011b_out/57.png'], ['data/nyu2_train/kitchen_0011b_out/34.jpg', 'data/nyu2_train/kitchen_0011b_out/34.png'], ['data/nyu2_train/kitchen_0011b_out/118.jpg', 'data/nyu2_train/kitchen_0011b_out/118.png'], ['data/nyu2_train/kitchen_0011b_out/53.jpg', 'data/nyu2_train/kitchen_0011b_out/53.png'], ['data/nyu2_train/kitchen_0011b_out/11.jpg', 'data/nyu2_train/kitchen_0011b_out/11.png'], ['data/nyu2_train/kitchen_0011b_out/46.jpg', 'data/nyu2_train/kitchen_0011b_out/46.png'], ['data/nyu2_train/kitchen_0011b_out/39.jpg', 'data/nyu2_train/kitchen_0011b_out/39.png'], ['data/nyu2_train/kitchen_0011b_out/71.jpg', 'data/nyu2_train/kitchen_0011b_out/71.png'], ['data/nyu2_train/kitchen_0011b_out/29.jpg', 'data/nyu2_train/kitchen_0011b_out/29.png'], ['data/nyu2_train/kitchen_0011b_out/14.jpg', 'data/nyu2_train/kitchen_0011b_out/14.png'], ['data/nyu2_train/kitchen_0011b_out/113.jpg', 'data/nyu2_train/kitchen_0011b_out/113.png'], ['data/nyu2_train/kitchen_0011b_out/30.jpg', 'data/nyu2_train/kitchen_0011b_out/30.png'], ['data/nyu2_train/kitchen_0011b_out/16.jpg', 'data/nyu2_train/kitchen_0011b_out/16.png'], ['data/nyu2_train/kitchen_0011b_out/105.jpg', 'data/nyu2_train/kitchen_0011b_out/105.png'], ['data/nyu2_train/kitchen_0011b_out/62.jpg', 'data/nyu2_train/kitchen_0011b_out/62.png'], ['data/nyu2_train/kitchen_0011b_out/56.jpg', 'data/nyu2_train/kitchen_0011b_out/56.png'], ['data/nyu2_train/kitchen_0011b_out/119.jpg', 'data/nyu2_train/kitchen_0011b_out/119.png'], ['data/nyu2_train/kitchen_0011b_out/42.jpg', 'data/nyu2_train/kitchen_0011b_out/42.png'], ['data/nyu2_train/kitchen_0011b_out/2.jpg', 'data/nyu2_train/kitchen_0011b_out/2.png'], ['data/nyu2_train/kitchen_0011b_out/91.jpg', 'data/nyu2_train/kitchen_0011b_out/91.png'], ['data/nyu2_train/kitchen_0011b_out/93.jpg', 'data/nyu2_train/kitchen_0011b_out/93.png'], ['data/nyu2_train/kitchen_0011b_out/70.jpg', 'data/nyu2_train/kitchen_0011b_out/70.png'], ['data/nyu2_train/kitchen_0011b_out/60.jpg', 'data/nyu2_train/kitchen_0011b_out/60.png'], ['data/nyu2_train/kitchen_0011b_out/3.jpg', 'data/nyu2_train/kitchen_0011b_out/3.png'], ['data/nyu2_train/kitchen_0011b_out/54.jpg', 'data/nyu2_train/kitchen_0011b_out/54.png'], ['data/nyu2_train/kitchen_0011b_out/121.jpg', 'data/nyu2_train/kitchen_0011b_out/121.png'], ['data/nyu2_train/kitchen_0011b_out/122.jpg', 'data/nyu2_train/kitchen_0011b_out/122.png'], ['data/nyu2_train/kitchen_0011b_out/10.jpg', 'data/nyu2_train/kitchen_0011b_out/10.png'], ['data/nyu2_train/kitchen_0011b_out/4.jpg', 'data/nyu2_train/kitchen_0011b_out/4.png'], ['data/nyu2_train/kitchen_0011b_out/12.jpg', 'data/nyu2_train/kitchen_0011b_out/12.png'], ['data/nyu2_train/kitchen_0011b_out/104.jpg', 'data/nyu2_train/kitchen_0011b_out/104.png'], ['data/nyu2_train/kitchen_0011b_out/100.jpg', 'data/nyu2_train/kitchen_0011b_out/100.png'], ['data/nyu2_train/kitchen_0011b_out/64.jpg', 'data/nyu2_train/kitchen_0011b_out/64.png'], ['data/nyu2_train/kitchen_0011b_out/103.jpg', 'data/nyu2_train/kitchen_0011b_out/103.png'], ['data/nyu2_train/kitchen_0011b_out/67.jpg', 'data/nyu2_train/kitchen_0011b_out/67.png'], ['data/nyu2_train/kitchen_0011b_out/114.jpg', 'data/nyu2_train/kitchen_0011b_out/114.png'], ['data/nyu2_train/kitchen_0011b_out/8.jpg', 'data/nyu2_train/kitchen_0011b_out/8.png'], ['data/nyu2_train/kitchen_0011b_out/43.jpg', 'data/nyu2_train/kitchen_0011b_out/43.png'], ['data/nyu2_train/kitchen_0011b_out/17.jpg', 'data/nyu2_train/kitchen_0011b_out/17.png'], ['data/nyu2_train/kitchen_0011b_out/35.jpg', 'data/nyu2_train/kitchen_0011b_out/35.png'], ['data/nyu2_train/kitchen_0011b_out/40.jpg', 'data/nyu2_train/kitchen_0011b_out/40.png'], ['data/nyu2_train/kitchen_0011b_out/55.jpg', 'data/nyu2_train/kitchen_0011b_out/55.png'], ['data/nyu2_train/kitchen_0011b_out/95.jpg', 'data/nyu2_train/kitchen_0011b_out/95.png'], ['data/nyu2_train/kitchen_0011b_out/45.jpg', 'data/nyu2_train/kitchen_0011b_out/45.png'], ['data/nyu2_train/kitchen_0011b_out/82.jpg', 'data/nyu2_train/kitchen_0011b_out/82.png'], ['data/nyu2_train/kitchen_0011b_out/108.jpg', 'data/nyu2_train/kitchen_0011b_out/108.png'], ['data/nyu2_train/kitchen_0011b_out/79.jpg', 'data/nyu2_train/kitchen_0011b_out/79.png'], ['data/nyu2_train/kitchen_0011b_out/31.jpg', 'data/nyu2_train/kitchen_0011b_out/31.png'], ['data/nyu2_train/kitchen_0011b_out/47.jpg', 'data/nyu2_train/kitchen_0011b_out/47.png'], ['data/nyu2_train/kitchen_0011b_out/111.jpg', 'data/nyu2_train/kitchen_0011b_out/111.png'], ['data/nyu2_train/kitchen_0011b_out/41.jpg', 'data/nyu2_train/kitchen_0011b_out/41.png'], ['data/nyu2_train/kitchen_0011b_out/50.jpg', 'data/nyu2_train/kitchen_0011b_out/50.png'], ['data/nyu2_train/kitchen_0011b_out/19.jpg', 'data/nyu2_train/kitchen_0011b_out/19.png'], ['data/nyu2_train/kitchen_0011b_out/58.jpg', 'data/nyu2_train/kitchen_0011b_out/58.png'], ['data/nyu2_train/kitchen_0011b_out/98.jpg', 'data/nyu2_train/kitchen_0011b_out/98.png'], ['data/nyu2_train/kitchen_0011b_out/76.jpg', 'data/nyu2_train/kitchen_0011b_out/76.png'], ['data/nyu2_train/kitchen_0011b_out/69.jpg', 'data/nyu2_train/kitchen_0011b_out/69.png'], ['data/nyu2_train/kitchen_0011b_out/5.jpg', 'data/nyu2_train/kitchen_0011b_out/5.png'], ['data/nyu2_train/kitchen_0011b_out/101.jpg', 'data/nyu2_train/kitchen_0011b_out/101.png'], ['data/nyu2_train/kitchen_0011b_out/112.jpg', 'data/nyu2_train/kitchen_0011b_out/112.png'], ['data/nyu2_train/kitchen_0011b_out/1.jpg', 'data/nyu2_train/kitchen_0011b_out/1.png'], ['data/nyu2_train/kitchen_0011b_out/84.jpg', 'data/nyu2_train/kitchen_0011b_out/84.png'], ['data/nyu2_train/kitchen_0011b_out/92.jpg', 'data/nyu2_train/kitchen_0011b_out/92.png'], ['data/nyu2_train/kitchen_0011b_out/107.jpg', 'data/nyu2_train/kitchen_0011b_out/107.png'], ['data/nyu2_train/kitchen_0011b_out/51.jpg', 'data/nyu2_train/kitchen_0011b_out/51.png'], ['data/nyu2_train/kitchen_0011b_out/7.jpg', 'data/nyu2_train/kitchen_0011b_out/7.png'], ['data/nyu2_train/kitchen_0011b_out/97.jpg', 'data/nyu2_train/kitchen_0011b_out/97.png'], ['data/nyu2_train/kitchen_0011b_out/15.jpg', 'data/nyu2_train/kitchen_0011b_out/15.png'], ['data/nyu2_train/kitchen_0011b_out/77.jpg', 'data/nyu2_train/kitchen_0011b_out/77.png'], ['data/nyu2_train/kitchen_0011b_out/117.jpg', 'data/nyu2_train/kitchen_0011b_out/117.png'], ['data/nyu2_train/kitchen_0011b_out/89.jpg', 'data/nyu2_train/kitchen_0011b_out/89.png'], ['data/nyu2_train/kitchen_0011b_out/102.jpg', 'data/nyu2_train/kitchen_0011b_out/102.png'], ['data/nyu2_train/kitchen_0011b_out/99.jpg', 'data/nyu2_train/kitchen_0011b_out/99.png'], ['data/nyu2_train/kitchen_0011b_out/72.jpg', 'data/nyu2_train/kitchen_0011b_out/72.png'], ['data/nyu2_train/kitchen_0011b_out/81.jpg', 'data/nyu2_train/kitchen_0011b_out/81.png'], ['data/nyu2_train/kitchen_0011b_out/33.jpg', 'data/nyu2_train/kitchen_0011b_out/33.png'], ['data/nyu2_train/kitchen_0011b_out/27.jpg', 'data/nyu2_train/kitchen_0011b_out/27.png'], ['data/nyu2_train/kitchen_0011b_out/38.jpg', 'data/nyu2_train/kitchen_0011b_out/38.png'], ['data/nyu2_train/kitchen_0011b_out/78.jpg', 'data/nyu2_train/kitchen_0011b_out/78.png'], ['data/nyu2_train/kitchen_0011b_out/73.jpg', 'data/nyu2_train/kitchen_0011b_out/73.png'], ['data/nyu2_train/kitchen_0011b_out/110.jpg', 'data/nyu2_train/kitchen_0011b_out/110.png'], ['data/nyu2_train/kitchen_0011b_out/83.jpg', 'data/nyu2_train/kitchen_0011b_out/83.png'], ['data/nyu2_train/kitchen_0011b_out/87.jpg', 'data/nyu2_train/kitchen_0011b_out/87.png'], ['data/nyu2_train/kitchen_0011b_out/59.jpg', 'data/nyu2_train/kitchen_0011b_out/59.png'], ['data/nyu2_train/kitchen_0011b_out/36.jpg', 'data/nyu2_train/kitchen_0011b_out/36.png'], ['data/nyu2_train/kitchen_0011b_out/20.jpg', 'data/nyu2_train/kitchen_0011b_out/20.png'], ['data/nyu2_train/kitchen_0011b_out/106.jpg', 'data/nyu2_train/kitchen_0011b_out/106.png'], ['data/nyu2_train/kitchen_0011b_out/65.jpg', 'data/nyu2_train/kitchen_0011b_out/65.png'], ['data/nyu2_train/kitchen_0011b_out/120.jpg', 'data/nyu2_train/kitchen_0011b_out/120.png'], ['data/nyu2_train/kitchen_0011b_out/86.jpg', 'data/nyu2_train/kitchen_0011b_out/86.png'], ['data/nyu2_train/kitchen_0011b_out/44.jpg', 'data/nyu2_train/kitchen_0011b_out/44.png'], ['data/nyu2_train/kitchen_0011b_out/63.jpg', 'data/nyu2_train/kitchen_0011b_out/63.png'], ['data/nyu2_train/kitchen_0011b_out/116.jpg', 'data/nyu2_train/kitchen_0011b_out/116.png'], ['data/nyu2_train/kitchen_0011b_out/61.jpg', 'data/nyu2_train/kitchen_0011b_out/61.png'], ['data/nyu2_train/kitchen_0011b_out/32.jpg', 'data/nyu2_train/kitchen_0011b_out/32.png'], ['data/nyu2_train/kitchen_0011b_out/123.jpg', 'data/nyu2_train/kitchen_0011b_out/123.png'], ['data/nyu2_train/kitchen_0011b_out/23.jpg', 'data/nyu2_train/kitchen_0011b_out/23.png'], ['data/nyu2_train/kitchen_0011b_out/74.jpg', 'data/nyu2_train/kitchen_0011b_out/74.png'], ['data/nyu2_train/kitchen_0011b_out/52.jpg', 'data/nyu2_train/kitchen_0011b_out/52.png'], ['data/nyu2_train/kitchen_0011b_out/66.jpg', 'data/nyu2_train/kitchen_0011b_out/66.png'], ['data/nyu2_train/kitchen_0011b_out/24.jpg', 'data/nyu2_train/kitchen_0011b_out/24.png'], ['data/nyu2_train/kitchen_0011b_out/22.jpg', 'data/nyu2_train/kitchen_0011b_out/22.png'], ['data/nyu2_train/kitchen_0011b_out/80.jpg', 'data/nyu2_train/kitchen_0011b_out/80.png'], ['data/nyu2_train/kitchen_0011b_out/96.jpg', 'data/nyu2_train/kitchen_0011b_out/96.png'], ['data/nyu2_train/kitchen_0011b_out/26.jpg', 'data/nyu2_train/kitchen_0011b_out/26.png'], ['data/nyu2_train/kitchen_0011b_out/88.jpg', 'data/nyu2_train/kitchen_0011b_out/88.png'], ['data/nyu2_train/kitchen_0011b_out/9.jpg', 'data/nyu2_train/kitchen_0011b_out/9.png'], ['data/nyu2_train/kitchen_0011b_out/109.jpg', 'data/nyu2_train/kitchen_0011b_out/109.png'], ['data/nyu2_train/kitchen_0011b_out/90.jpg', 'data/nyu2_train/kitchen_0011b_out/90.png'], ['data/nyu2_train/living_room_0035_out/37.jpg', 'data/nyu2_train/living_room_0035_out/37.png'], ['data/nyu2_train/living_room_0035_out/115.jpg', 'data/nyu2_train/living_room_0035_out/115.png'], ['data/nyu2_train/living_room_0035_out/6.jpg', 'data/nyu2_train/living_room_0035_out/6.png'], ['data/nyu2_train/living_room_0035_out/49.jpg', 'data/nyu2_train/living_room_0035_out/49.png'], ['data/nyu2_train/living_room_0035_out/152.jpg', 'data/nyu2_train/living_room_0035_out/152.png'], ['data/nyu2_train/living_room_0035_out/142.jpg', 'data/nyu2_train/living_room_0035_out/142.png'], ['data/nyu2_train/living_room_0035_out/94.jpg', 'data/nyu2_train/living_room_0035_out/94.png'], ['data/nyu2_train/living_room_0035_out/158.jpg', 'data/nyu2_train/living_room_0035_out/158.png'], ['data/nyu2_train/living_room_0035_out/18.jpg', 'data/nyu2_train/living_room_0035_out/18.png'], ['data/nyu2_train/living_room_0035_out/21.jpg', 'data/nyu2_train/living_room_0035_out/21.png'], ['data/nyu2_train/living_room_0035_out/48.jpg', 'data/nyu2_train/living_room_0035_out/48.png'], ['data/nyu2_train/living_room_0035_out/75.jpg', 'data/nyu2_train/living_room_0035_out/75.png'], ['data/nyu2_train/living_room_0035_out/25.jpg', 'data/nyu2_train/living_room_0035_out/25.png'], ['data/nyu2_train/living_room_0035_out/13.jpg', 'data/nyu2_train/living_room_0035_out/13.png'], ['data/nyu2_train/living_room_0035_out/68.jpg', 'data/nyu2_train/living_room_0035_out/68.png'], ['data/nyu2_train/living_room_0035_out/28.jpg', 'data/nyu2_train/living_room_0035_out/28.png'], ['data/nyu2_train/living_room_0035_out/85.jpg', 'data/nyu2_train/living_room_0035_out/85.png'], ['data/nyu2_train/living_room_0035_out/57.jpg', 'data/nyu2_train/living_room_0035_out/57.png'], ['data/nyu2_train/living_room_0035_out/34.jpg', 'data/nyu2_train/living_room_0035_out/34.png'], ['data/nyu2_train/living_room_0035_out/118.jpg', 'data/nyu2_train/living_room_0035_out/118.png'], ['data/nyu2_train/living_room_0035_out/53.jpg', 'data/nyu2_train/living_room_0035_out/53.png'], ['data/nyu2_train/living_room_0035_out/11.jpg', 'data/nyu2_train/living_room_0035_out/11.png'], ['data/nyu2_train/living_room_0035_out/46.jpg', 'data/nyu2_train/living_room_0035_out/46.png'], ['data/nyu2_train/living_room_0035_out/135.jpg', 'data/nyu2_train/living_room_0035_out/135.png'], ['data/nyu2_train/living_room_0035_out/39.jpg', 'data/nyu2_train/living_room_0035_out/39.png'], ['data/nyu2_train/living_room_0035_out/71.jpg', 'data/nyu2_train/living_room_0035_out/71.png'], ['data/nyu2_train/living_room_0035_out/29.jpg', 'data/nyu2_train/living_room_0035_out/29.png'], ['data/nyu2_train/living_room_0035_out/14.jpg', 'data/nyu2_train/living_room_0035_out/14.png'], ['data/nyu2_train/living_room_0035_out/113.jpg', 'data/nyu2_train/living_room_0035_out/113.png'], ['data/nyu2_train/living_room_0035_out/138.jpg', 'data/nyu2_train/living_room_0035_out/138.png'], ['data/nyu2_train/living_room_0035_out/30.jpg', 'data/nyu2_train/living_room_0035_out/30.png'], ['data/nyu2_train/living_room_0035_out/16.jpg', 'data/nyu2_train/living_room_0035_out/16.png'], ['data/nyu2_train/living_room_0035_out/105.jpg', 'data/nyu2_train/living_room_0035_out/105.png'], ['data/nyu2_train/living_room_0035_out/62.jpg', 'data/nyu2_train/living_room_0035_out/62.png'], ['data/nyu2_train/living_room_0035_out/56.jpg', 'data/nyu2_train/living_room_0035_out/56.png'], ['data/nyu2_train/living_room_0035_out/119.jpg', 'data/nyu2_train/living_room_0035_out/119.png'], ['data/nyu2_train/living_room_0035_out/42.jpg', 'data/nyu2_train/living_room_0035_out/42.png'], ['data/nyu2_train/living_room_0035_out/2.jpg', 'data/nyu2_train/living_room_0035_out/2.png'], ['data/nyu2_train/living_room_0035_out/129.jpg', 'data/nyu2_train/living_room_0035_out/129.png'], ['data/nyu2_train/living_room_0035_out/160.jpg', 'data/nyu2_train/living_room_0035_out/160.png'], ['data/nyu2_train/living_room_0035_out/126.jpg', 'data/nyu2_train/living_room_0035_out/126.png'], ['data/nyu2_train/living_room_0035_out/91.jpg', 'data/nyu2_train/living_room_0035_out/91.png'], ['data/nyu2_train/living_room_0035_out/93.jpg', 'data/nyu2_train/living_room_0035_out/93.png'], ['data/nyu2_train/living_room_0035_out/70.jpg', 'data/nyu2_train/living_room_0035_out/70.png'], ['data/nyu2_train/living_room_0035_out/60.jpg', 'data/nyu2_train/living_room_0035_out/60.png'], ['data/nyu2_train/living_room_0035_out/3.jpg', 'data/nyu2_train/living_room_0035_out/3.png'], ['data/nyu2_train/living_room_0035_out/132.jpg', 'data/nyu2_train/living_room_0035_out/132.png'], ['data/nyu2_train/living_room_0035_out/54.jpg', 'data/nyu2_train/living_room_0035_out/54.png'], ['data/nyu2_train/living_room_0035_out/146.jpg', 'data/nyu2_train/living_room_0035_out/146.png'], ['data/nyu2_train/living_room_0035_out/121.jpg', 'data/nyu2_train/living_room_0035_out/121.png'], ['data/nyu2_train/living_room_0035_out/122.jpg', 'data/nyu2_train/living_room_0035_out/122.png'], ['data/nyu2_train/living_room_0035_out/130.jpg', 'data/nyu2_train/living_room_0035_out/130.png'], ['data/nyu2_train/living_room_0035_out/10.jpg', 'data/nyu2_train/living_room_0035_out/10.png'], ['data/nyu2_train/living_room_0035_out/4.jpg', 'data/nyu2_train/living_room_0035_out/4.png'], ['data/nyu2_train/living_room_0035_out/153.jpg', 'data/nyu2_train/living_room_0035_out/153.png'], ['data/nyu2_train/living_room_0035_out/12.jpg', 'data/nyu2_train/living_room_0035_out/12.png'], ['data/nyu2_train/living_room_0035_out/104.jpg', 'data/nyu2_train/living_room_0035_out/104.png'], ['data/nyu2_train/living_room_0035_out/134.jpg', 'data/nyu2_train/living_room_0035_out/134.png'], ['data/nyu2_train/living_room_0035_out/100.jpg', 'data/nyu2_train/living_room_0035_out/100.png'], ['data/nyu2_train/living_room_0035_out/64.jpg', 'data/nyu2_train/living_room_0035_out/64.png'], ['data/nyu2_train/living_room_0035_out/147.jpg', 'data/nyu2_train/living_room_0035_out/147.png'], ['data/nyu2_train/living_room_0035_out/103.jpg', 'data/nyu2_train/living_room_0035_out/103.png'], ['data/nyu2_train/living_room_0035_out/67.jpg', 'data/nyu2_train/living_room_0035_out/67.png'], ['data/nyu2_train/living_room_0035_out/114.jpg', 'data/nyu2_train/living_room_0035_out/114.png'], ['data/nyu2_train/living_room_0035_out/8.jpg', 'data/nyu2_train/living_room_0035_out/8.png'], ['data/nyu2_train/living_room_0035_out/127.jpg', 'data/nyu2_train/living_room_0035_out/127.png'], ['data/nyu2_train/living_room_0035_out/43.jpg', 'data/nyu2_train/living_room_0035_out/43.png'], ['data/nyu2_train/living_room_0035_out/144.jpg', 'data/nyu2_train/living_room_0035_out/144.png'], ['data/nyu2_train/living_room_0035_out/17.jpg', 'data/nyu2_train/living_room_0035_out/17.png'], ['data/nyu2_train/living_room_0035_out/151.jpg', 'data/nyu2_train/living_room_0035_out/151.png'], ['data/nyu2_train/living_room_0035_out/35.jpg', 'data/nyu2_train/living_room_0035_out/35.png'], ['data/nyu2_train/living_room_0035_out/40.jpg', 'data/nyu2_train/living_room_0035_out/40.png'], ['data/nyu2_train/living_room_0035_out/55.jpg', 'data/nyu2_train/living_room_0035_out/55.png'], ['data/nyu2_train/living_room_0035_out/95.jpg', 'data/nyu2_train/living_room_0035_out/95.png'], ['data/nyu2_train/living_room_0035_out/45.jpg', 'data/nyu2_train/living_room_0035_out/45.png'], ['data/nyu2_train/living_room_0035_out/82.jpg', 'data/nyu2_train/living_room_0035_out/82.png'], ['data/nyu2_train/living_room_0035_out/108.jpg', 'data/nyu2_train/living_room_0035_out/108.png'], ['data/nyu2_train/living_room_0035_out/79.jpg', 'data/nyu2_train/living_room_0035_out/79.png'], ['data/nyu2_train/living_room_0035_out/31.jpg', 'data/nyu2_train/living_room_0035_out/31.png'], ['data/nyu2_train/living_room_0035_out/137.jpg', 'data/nyu2_train/living_room_0035_out/137.png'], ['data/nyu2_train/living_room_0035_out/47.jpg', 'data/nyu2_train/living_room_0035_out/47.png'], ['data/nyu2_train/living_room_0035_out/111.jpg', 'data/nyu2_train/living_room_0035_out/111.png'], ['data/nyu2_train/living_room_0035_out/41.jpg', 'data/nyu2_train/living_room_0035_out/41.png'], ['data/nyu2_train/living_room_0035_out/50.jpg', 'data/nyu2_train/living_room_0035_out/50.png'], ['data/nyu2_train/living_room_0035_out/140.jpg', 'data/nyu2_train/living_room_0035_out/140.png'], ['data/nyu2_train/living_room_0035_out/19.jpg', 'data/nyu2_train/living_room_0035_out/19.png'], ['data/nyu2_train/living_room_0035_out/58.jpg', 'data/nyu2_train/living_room_0035_out/58.png'], ['data/nyu2_train/living_room_0035_out/98.jpg', 'data/nyu2_train/living_room_0035_out/98.png'], ['data/nyu2_train/living_room_0035_out/76.jpg', 'data/nyu2_train/living_room_0035_out/76.png'], ['data/nyu2_train/living_room_0035_out/124.jpg', 'data/nyu2_train/living_room_0035_out/124.png'], ['data/nyu2_train/living_room_0035_out/128.jpg', 'data/nyu2_train/living_room_0035_out/128.png'], ['data/nyu2_train/living_room_0035_out/149.jpg', 'data/nyu2_train/living_room_0035_out/149.png'], ['data/nyu2_train/living_room_0035_out/69.jpg', 'data/nyu2_train/living_room_0035_out/69.png'], ['data/nyu2_train/living_room_0035_out/155.jpg', 'data/nyu2_train/living_room_0035_out/155.png'], ['data/nyu2_train/living_room_0035_out/5.jpg', 'data/nyu2_train/living_room_0035_out/5.png'], ['data/nyu2_train/living_room_0035_out/131.jpg', 'data/nyu2_train/living_room_0035_out/131.png'], ['data/nyu2_train/living_room_0035_out/101.jpg', 'data/nyu2_train/living_room_0035_out/101.png'], ['data/nyu2_train/living_room_0035_out/112.jpg', 'data/nyu2_train/living_room_0035_out/112.png'], ['data/nyu2_train/living_room_0035_out/1.jpg', 'data/nyu2_train/living_room_0035_out/1.png'], ['data/nyu2_train/living_room_0035_out/148.jpg', 'data/nyu2_train/living_room_0035_out/148.png'], ['data/nyu2_train/living_room_0035_out/84.jpg', 'data/nyu2_train/living_room_0035_out/84.png'], ['data/nyu2_train/living_room_0035_out/92.jpg', 'data/nyu2_train/living_room_0035_out/92.png'], ['data/nyu2_train/living_room_0035_out/133.jpg', 'data/nyu2_train/living_room_0035_out/133.png'], ['data/nyu2_train/living_room_0035_out/150.jpg', 'data/nyu2_train/living_room_0035_out/150.png'], ['data/nyu2_train/living_room_0035_out/107.jpg', 'data/nyu2_train/living_room_0035_out/107.png'], ['data/nyu2_train/living_room_0035_out/136.jpg', 'data/nyu2_train/living_room_0035_out/136.png'], ['data/nyu2_train/living_room_0035_out/51.jpg', 'data/nyu2_train/living_room_0035_out/51.png'], ['data/nyu2_train/living_room_0035_out/7.jpg', 'data/nyu2_train/living_room_0035_out/7.png'], ['data/nyu2_train/living_room_0035_out/97.jpg', 'data/nyu2_train/living_room_0035_out/97.png'], ['data/nyu2_train/living_room_0035_out/15.jpg', 'data/nyu2_train/living_room_0035_out/15.png'], ['data/nyu2_train/living_room_0035_out/156.jpg', 'data/nyu2_train/living_room_0035_out/156.png'], ['data/nyu2_train/living_room_0035_out/77.jpg', 'data/nyu2_train/living_room_0035_out/77.png'], ['data/nyu2_train/living_room_0035_out/117.jpg', 'data/nyu2_train/living_room_0035_out/117.png'], ['data/nyu2_train/living_room_0035_out/125.jpg', 'data/nyu2_train/living_room_0035_out/125.png'], ['data/nyu2_train/living_room_0035_out/89.jpg', 'data/nyu2_train/living_room_0035_out/89.png'], ['data/nyu2_train/living_room_0035_out/102.jpg', 'data/nyu2_train/living_room_0035_out/102.png'], ['data/nyu2_train/living_room_0035_out/99.jpg', 'data/nyu2_train/living_room_0035_out/99.png'], ['data/nyu2_train/living_room_0035_out/72.jpg', 'data/nyu2_train/living_room_0035_out/72.png'], ['data/nyu2_train/living_room_0035_out/157.jpg', 'data/nyu2_train/living_room_0035_out/157.png'], ['data/nyu2_train/living_room_0035_out/81.jpg', 'data/nyu2_train/living_room_0035_out/81.png'], ['data/nyu2_train/living_room_0035_out/33.jpg', 'data/nyu2_train/living_room_0035_out/33.png'], ['data/nyu2_train/living_room_0035_out/27.jpg', 'data/nyu2_train/living_room_0035_out/27.png'], ['data/nyu2_train/living_room_0035_out/139.jpg', 'data/nyu2_train/living_room_0035_out/139.png'], ['data/nyu2_train/living_room_0035_out/38.jpg', 'data/nyu2_train/living_room_0035_out/38.png'], ['data/nyu2_train/living_room_0035_out/154.jpg', 'data/nyu2_train/living_room_0035_out/154.png'], ['data/nyu2_train/living_room_0035_out/78.jpg', 'data/nyu2_train/living_room_0035_out/78.png'], ['data/nyu2_train/living_room_0035_out/73.jpg', 'data/nyu2_train/living_room_0035_out/73.png'], ['data/nyu2_train/living_room_0035_out/159.jpg', 'data/nyu2_train/living_room_0035_out/159.png'], ['data/nyu2_train/living_room_0035_out/110.jpg', 'data/nyu2_train/living_room_0035_out/110.png'], ['data/nyu2_train/living_room_0035_out/143.jpg', 'data/nyu2_train/living_room_0035_out/143.png'], ['data/nyu2_train/living_room_0035_out/83.jpg', 'data/nyu2_train/living_room_0035_out/83.png'], ['data/nyu2_train/living_room_0035_out/87.jpg', 'data/nyu2_train/living_room_0035_out/87.png'], ['data/nyu2_train/living_room_0035_out/59.jpg', 'data/nyu2_train/living_room_0035_out/59.png'], ['data/nyu2_train/living_room_0035_out/36.jpg', 'data/nyu2_train/living_room_0035_out/36.png'], ['data/nyu2_train/living_room_0035_out/20.jpg', 'data/nyu2_train/living_room_0035_out/20.png'], ['data/nyu2_train/living_room_0035_out/106.jpg', 'data/nyu2_train/living_room_0035_out/106.png'], ['data/nyu2_train/living_room_0035_out/145.jpg', 'data/nyu2_train/living_room_0035_out/145.png'], ['data/nyu2_train/living_room_0035_out/65.jpg', 'data/nyu2_train/living_room_0035_out/65.png'], ['data/nyu2_train/living_room_0035_out/120.jpg', 'data/nyu2_train/living_room_0035_out/120.png'], ['data/nyu2_train/living_room_0035_out/86.jpg', 'data/nyu2_train/living_room_0035_out/86.png'], ['data/nyu2_train/living_room_0035_out/44.jpg', 'data/nyu2_train/living_room_0035_out/44.png'], ['data/nyu2_train/living_room_0035_out/63.jpg', 'data/nyu2_train/living_room_0035_out/63.png'], ['data/nyu2_train/living_room_0035_out/116.jpg', 'data/nyu2_train/living_room_0035_out/116.png'], ['data/nyu2_train/living_room_0035_out/61.jpg', 'data/nyu2_train/living_room_0035_out/61.png'], ['data/nyu2_train/living_room_0035_out/32.jpg', 'data/nyu2_train/living_room_0035_out/32.png'], ['data/nyu2_train/living_room_0035_out/123.jpg', 'data/nyu2_train/living_room_0035_out/123.png'], ['data/nyu2_train/living_room_0035_out/23.jpg', 'data/nyu2_train/living_room_0035_out/23.png'], ['data/nyu2_train/living_room_0035_out/74.jpg', 'data/nyu2_train/living_room_0035_out/74.png'], ['data/nyu2_train/living_room_0035_out/141.jpg', 'data/nyu2_train/living_room_0035_out/141.png'], ['data/nyu2_train/living_room_0035_out/52.jpg', 'data/nyu2_train/living_room_0035_out/52.png'], ['data/nyu2_train/living_room_0035_out/66.jpg', 'data/nyu2_train/living_room_0035_out/66.png'], ['data/nyu2_train/living_room_0035_out/24.jpg', 'data/nyu2_train/living_room_0035_out/24.png'], ['data/nyu2_train/living_room_0035_out/22.jpg', 'data/nyu2_train/living_room_0035_out/22.png'], ['data/nyu2_train/living_room_0035_out/80.jpg', 'data/nyu2_train/living_room_0035_out/80.png'], ['data/nyu2_train/living_room_0035_out/96.jpg', 'data/nyu2_train/living_room_0035_out/96.png'], ['data/nyu2_train/living_room_0035_out/26.jpg', 'data/nyu2_train/living_room_0035_out/26.png'], ['data/nyu2_train/living_room_0035_out/88.jpg', 'data/nyu2_train/living_room_0035_out/88.png'], ['data/nyu2_train/living_room_0035_out/9.jpg', 'data/nyu2_train/living_room_0035_out/9.png'], ['data/nyu2_train/living_room_0035_out/109.jpg', 'data/nyu2_train/living_room_0035_out/109.png'], ['data/nyu2_train/living_room_0035_out/90.jpg', 'data/nyu2_train/living_room_0035_out/90.png']]\n",
      "Data loader ready.\n"
     ]
    }
   ],
   "source": [
    "from data import DataLoader\n",
    "\n",
    "dl = DataLoader()\n",
    "train_generator = dl.get_batched_dataset(batch_size)\n",
    "\n",
    "# Get the validation dataset\n",
    "validation_dataset = dl.get_validation_dataset(batch_size)\n",
    "\n",
    "print('Data loader ready.')"
   ]
  },
  {
   "cell_type": "markdown",
   "metadata": {},
   "source": [
    "# Compile & Train"
   ]
  },
  {
   "cell_type": "code",
   "execution_count": 4,
   "metadata": {
    "scrolled": true
   },
   "outputs": [
    {
     "name": "stderr",
     "output_type": "stream",
     "text": [
      "/Users/adeelhafeez/GPU_Test/env/lib/python3.10/site-packages/keras/src/optimizers/legacy/adam.py:118: UserWarning: The `lr` argument is deprecated, use `learning_rate` instead.\n",
      "  super().__init__(name, **kwargs)\n"
     ]
    }
   ],
   "source": [
    "import tensorflow\n",
    "from loss import depth_loss_function\n",
    "\n",
    "optimizer = tensorflow.keras.optimizers.legacy.Adam(lr=learning_rate, amsgrad=True)\n",
    "\n",
    "# model.compile(loss=depth_loss_function, optimizer=optimizer)"
   ]
  },
  {
   "cell_type": "code",
   "execution_count": 5,
   "metadata": {},
   "outputs": [],
   "source": [
    "# Create checkpoint callback\n",
    "import os\n",
    "checkpoint_path = \"training_11/cp.ckpt\"\n",
    "checkpoint_dir = os.path.dirname(checkpoint_path)\n",
    "cp_callback = tensorflow.keras.callbacks.ModelCheckpoint(checkpoint_path, save_weights_only=True, save_best_only=True, verbose=1)\n"
   ]
  },
  {
   "cell_type": "code",
   "execution_count": 6,
   "metadata": {},
   "outputs": [
    {
     "name": "stdout",
     "output_type": "stream",
     "text": [
      "nyu2_train :  [['data/nyu2_train/living_room_0038_out/37.jpg', 'data/nyu2_train/living_room_0038_out/37.png'], ['data/nyu2_train/living_room_0038_out/115.jpg', 'data/nyu2_train/living_room_0038_out/115.png'], ['data/nyu2_train/living_room_0038_out/6.jpg', 'data/nyu2_train/living_room_0038_out/6.png'], ['data/nyu2_train/living_room_0038_out/49.jpg', 'data/nyu2_train/living_room_0038_out/49.png'], ['data/nyu2_train/living_room_0038_out/152.jpg', 'data/nyu2_train/living_room_0038_out/152.png'], ['data/nyu2_train/living_room_0038_out/142.jpg', 'data/nyu2_train/living_room_0038_out/142.png'], ['data/nyu2_train/living_room_0038_out/94.jpg', 'data/nyu2_train/living_room_0038_out/94.png'], ['data/nyu2_train/living_room_0038_out/158.jpg', 'data/nyu2_train/living_room_0038_out/158.png'], ['data/nyu2_train/living_room_0038_out/18.jpg', 'data/nyu2_train/living_room_0038_out/18.png'], ['data/nyu2_train/living_room_0038_out/167.jpg', 'data/nyu2_train/living_room_0038_out/167.png'], ['data/nyu2_train/living_room_0038_out/21.jpg', 'data/nyu2_train/living_room_0038_out/21.png'], ['data/nyu2_train/living_room_0038_out/48.jpg', 'data/nyu2_train/living_room_0038_out/48.png'], ['data/nyu2_train/living_room_0038_out/75.jpg', 'data/nyu2_train/living_room_0038_out/75.png'], ['data/nyu2_train/living_room_0038_out/171.jpg', 'data/nyu2_train/living_room_0038_out/171.png'], ['data/nyu2_train/living_room_0038_out/25.jpg', 'data/nyu2_train/living_room_0038_out/25.png'], ['data/nyu2_train/living_room_0038_out/13.jpg', 'data/nyu2_train/living_room_0038_out/13.png'], ['data/nyu2_train/living_room_0038_out/68.jpg', 'data/nyu2_train/living_room_0038_out/68.png'], ['data/nyu2_train/living_room_0038_out/28.jpg', 'data/nyu2_train/living_room_0038_out/28.png'], ['data/nyu2_train/living_room_0038_out/161.jpg', 'data/nyu2_train/living_room_0038_out/161.png'], ['data/nyu2_train/living_room_0038_out/85.jpg', 'data/nyu2_train/living_room_0038_out/85.png'], ['data/nyu2_train/living_room_0038_out/57.jpg', 'data/nyu2_train/living_room_0038_out/57.png'], ['data/nyu2_train/living_room_0038_out/34.jpg', 'data/nyu2_train/living_room_0038_out/34.png'], ['data/nyu2_train/living_room_0038_out/118.jpg', 'data/nyu2_train/living_room_0038_out/118.png'], ['data/nyu2_train/living_room_0038_out/53.jpg', 'data/nyu2_train/living_room_0038_out/53.png'], ['data/nyu2_train/living_room_0038_out/11.jpg', 'data/nyu2_train/living_room_0038_out/11.png'], ['data/nyu2_train/living_room_0038_out/46.jpg', 'data/nyu2_train/living_room_0038_out/46.png'], ['data/nyu2_train/living_room_0038_out/135.jpg', 'data/nyu2_train/living_room_0038_out/135.png'], ['data/nyu2_train/living_room_0038_out/39.jpg', 'data/nyu2_train/living_room_0038_out/39.png'], ['data/nyu2_train/living_room_0038_out/71.jpg', 'data/nyu2_train/living_room_0038_out/71.png'], ['data/nyu2_train/living_room_0038_out/29.jpg', 'data/nyu2_train/living_room_0038_out/29.png'], ['data/nyu2_train/living_room_0038_out/14.jpg', 'data/nyu2_train/living_room_0038_out/14.png'], ['data/nyu2_train/living_room_0038_out/113.jpg', 'data/nyu2_train/living_room_0038_out/113.png'], ['data/nyu2_train/living_room_0038_out/138.jpg', 'data/nyu2_train/living_room_0038_out/138.png'], ['data/nyu2_train/living_room_0038_out/30.jpg', 'data/nyu2_train/living_room_0038_out/30.png'], ['data/nyu2_train/living_room_0038_out/16.jpg', 'data/nyu2_train/living_room_0038_out/16.png'], ['data/nyu2_train/living_room_0038_out/105.jpg', 'data/nyu2_train/living_room_0038_out/105.png'], ['data/nyu2_train/living_room_0038_out/62.jpg', 'data/nyu2_train/living_room_0038_out/62.png'], ['data/nyu2_train/living_room_0038_out/56.jpg', 'data/nyu2_train/living_room_0038_out/56.png'], ['data/nyu2_train/living_room_0038_out/119.jpg', 'data/nyu2_train/living_room_0038_out/119.png'], ['data/nyu2_train/living_room_0038_out/42.jpg', 'data/nyu2_train/living_room_0038_out/42.png'], ['data/nyu2_train/living_room_0038_out/2.jpg', 'data/nyu2_train/living_room_0038_out/2.png'], ['data/nyu2_train/living_room_0038_out/129.jpg', 'data/nyu2_train/living_room_0038_out/129.png'], ['data/nyu2_train/living_room_0038_out/160.jpg', 'data/nyu2_train/living_room_0038_out/160.png'], ['data/nyu2_train/living_room_0038_out/126.jpg', 'data/nyu2_train/living_room_0038_out/126.png'], ['data/nyu2_train/living_room_0038_out/91.jpg', 'data/nyu2_train/living_room_0038_out/91.png'], ['data/nyu2_train/living_room_0038_out/162.jpg', 'data/nyu2_train/living_room_0038_out/162.png'], ['data/nyu2_train/living_room_0038_out/93.jpg', 'data/nyu2_train/living_room_0038_out/93.png'], ['data/nyu2_train/living_room_0038_out/70.jpg', 'data/nyu2_train/living_room_0038_out/70.png'], ['data/nyu2_train/living_room_0038_out/60.jpg', 'data/nyu2_train/living_room_0038_out/60.png'], ['data/nyu2_train/living_room_0038_out/3.jpg', 'data/nyu2_train/living_room_0038_out/3.png'], ['data/nyu2_train/living_room_0038_out/132.jpg', 'data/nyu2_train/living_room_0038_out/132.png'], ['data/nyu2_train/living_room_0038_out/54.jpg', 'data/nyu2_train/living_room_0038_out/54.png'], ['data/nyu2_train/living_room_0038_out/146.jpg', 'data/nyu2_train/living_room_0038_out/146.png'], ['data/nyu2_train/living_room_0038_out/121.jpg', 'data/nyu2_train/living_room_0038_out/121.png'], ['data/nyu2_train/living_room_0038_out/122.jpg', 'data/nyu2_train/living_room_0038_out/122.png'], ['data/nyu2_train/living_room_0038_out/130.jpg', 'data/nyu2_train/living_room_0038_out/130.png'], ['data/nyu2_train/living_room_0038_out/10.jpg', 'data/nyu2_train/living_room_0038_out/10.png'], ['data/nyu2_train/living_room_0038_out/4.jpg', 'data/nyu2_train/living_room_0038_out/4.png'], ['data/nyu2_train/living_room_0038_out/153.jpg', 'data/nyu2_train/living_room_0038_out/153.png'], ['data/nyu2_train/living_room_0038_out/12.jpg', 'data/nyu2_train/living_room_0038_out/12.png'], ['data/nyu2_train/living_room_0038_out/163.jpg', 'data/nyu2_train/living_room_0038_out/163.png'], ['data/nyu2_train/living_room_0038_out/169.jpg', 'data/nyu2_train/living_room_0038_out/169.png'], ['data/nyu2_train/living_room_0038_out/168.jpg', 'data/nyu2_train/living_room_0038_out/168.png'], ['data/nyu2_train/living_room_0038_out/104.jpg', 'data/nyu2_train/living_room_0038_out/104.png'], ['data/nyu2_train/living_room_0038_out/134.jpg', 'data/nyu2_train/living_room_0038_out/134.png'], ['data/nyu2_train/living_room_0038_out/100.jpg', 'data/nyu2_train/living_room_0038_out/100.png'], ['data/nyu2_train/living_room_0038_out/64.jpg', 'data/nyu2_train/living_room_0038_out/64.png'], ['data/nyu2_train/living_room_0038_out/147.jpg', 'data/nyu2_train/living_room_0038_out/147.png'], ['data/nyu2_train/living_room_0038_out/103.jpg', 'data/nyu2_train/living_room_0038_out/103.png'], ['data/nyu2_train/living_room_0038_out/67.jpg', 'data/nyu2_train/living_room_0038_out/67.png'], ['data/nyu2_train/living_room_0038_out/114.jpg', 'data/nyu2_train/living_room_0038_out/114.png'], ['data/nyu2_train/living_room_0038_out/8.jpg', 'data/nyu2_train/living_room_0038_out/8.png'], ['data/nyu2_train/living_room_0038_out/127.jpg', 'data/nyu2_train/living_room_0038_out/127.png'], ['data/nyu2_train/living_room_0038_out/43.jpg', 'data/nyu2_train/living_room_0038_out/43.png'], ['data/nyu2_train/living_room_0038_out/144.jpg', 'data/nyu2_train/living_room_0038_out/144.png'], ['data/nyu2_train/living_room_0038_out/17.jpg', 'data/nyu2_train/living_room_0038_out/17.png'], ['data/nyu2_train/living_room_0038_out/151.jpg', 'data/nyu2_train/living_room_0038_out/151.png'], ['data/nyu2_train/living_room_0038_out/35.jpg', 'data/nyu2_train/living_room_0038_out/35.png'], ['data/nyu2_train/living_room_0038_out/40.jpg', 'data/nyu2_train/living_room_0038_out/40.png'], ['data/nyu2_train/living_room_0038_out/55.jpg', 'data/nyu2_train/living_room_0038_out/55.png'], ['data/nyu2_train/living_room_0038_out/95.jpg', 'data/nyu2_train/living_room_0038_out/95.png'], ['data/nyu2_train/living_room_0038_out/45.jpg', 'data/nyu2_train/living_room_0038_out/45.png'], ['data/nyu2_train/living_room_0038_out/82.jpg', 'data/nyu2_train/living_room_0038_out/82.png'], ['data/nyu2_train/living_room_0038_out/108.jpg', 'data/nyu2_train/living_room_0038_out/108.png'], ['data/nyu2_train/living_room_0038_out/79.jpg', 'data/nyu2_train/living_room_0038_out/79.png'], ['data/nyu2_train/living_room_0038_out/31.jpg', 'data/nyu2_train/living_room_0038_out/31.png'], ['data/nyu2_train/living_room_0038_out/137.jpg', 'data/nyu2_train/living_room_0038_out/137.png'], ['data/nyu2_train/living_room_0038_out/47.jpg', 'data/nyu2_train/living_room_0038_out/47.png'], ['data/nyu2_train/living_room_0038_out/111.jpg', 'data/nyu2_train/living_room_0038_out/111.png'], ['data/nyu2_train/living_room_0038_out/41.jpg', 'data/nyu2_train/living_room_0038_out/41.png'], ['data/nyu2_train/living_room_0038_out/50.jpg', 'data/nyu2_train/living_room_0038_out/50.png'], ['data/nyu2_train/living_room_0038_out/140.jpg', 'data/nyu2_train/living_room_0038_out/140.png'], ['data/nyu2_train/living_room_0038_out/19.jpg', 'data/nyu2_train/living_room_0038_out/19.png'], ['data/nyu2_train/living_room_0038_out/58.jpg', 'data/nyu2_train/living_room_0038_out/58.png'], ['data/nyu2_train/living_room_0038_out/98.jpg', 'data/nyu2_train/living_room_0038_out/98.png'], ['data/nyu2_train/living_room_0038_out/76.jpg', 'data/nyu2_train/living_room_0038_out/76.png'], ['data/nyu2_train/living_room_0038_out/124.jpg', 'data/nyu2_train/living_room_0038_out/124.png'], ['data/nyu2_train/living_room_0038_out/128.jpg', 'data/nyu2_train/living_room_0038_out/128.png'], ['data/nyu2_train/living_room_0038_out/170.jpg', 'data/nyu2_train/living_room_0038_out/170.png'], ['data/nyu2_train/living_room_0038_out/149.jpg', 'data/nyu2_train/living_room_0038_out/149.png'], ['data/nyu2_train/living_room_0038_out/69.jpg', 'data/nyu2_train/living_room_0038_out/69.png'], ['data/nyu2_train/living_room_0038_out/155.jpg', 'data/nyu2_train/living_room_0038_out/155.png'], ['data/nyu2_train/living_room_0038_out/5.jpg', 'data/nyu2_train/living_room_0038_out/5.png'], ['data/nyu2_train/living_room_0038_out/131.jpg', 'data/nyu2_train/living_room_0038_out/131.png'], ['data/nyu2_train/living_room_0038_out/101.jpg', 'data/nyu2_train/living_room_0038_out/101.png'], ['data/nyu2_train/living_room_0038_out/112.jpg', 'data/nyu2_train/living_room_0038_out/112.png'], ['data/nyu2_train/living_room_0038_out/1.jpg', 'data/nyu2_train/living_room_0038_out/1.png'], ['data/nyu2_train/living_room_0038_out/148.jpg', 'data/nyu2_train/living_room_0038_out/148.png'], ['data/nyu2_train/living_room_0038_out/84.jpg', 'data/nyu2_train/living_room_0038_out/84.png'], ['data/nyu2_train/living_room_0038_out/92.jpg', 'data/nyu2_train/living_room_0038_out/92.png'], ['data/nyu2_train/living_room_0038_out/133.jpg', 'data/nyu2_train/living_room_0038_out/133.png'], ['data/nyu2_train/living_room_0038_out/150.jpg', 'data/nyu2_train/living_room_0038_out/150.png'], ['data/nyu2_train/living_room_0038_out/107.jpg', 'data/nyu2_train/living_room_0038_out/107.png'], ['data/nyu2_train/living_room_0038_out/136.jpg', 'data/nyu2_train/living_room_0038_out/136.png'], ['data/nyu2_train/living_room_0038_out/51.jpg', 'data/nyu2_train/living_room_0038_out/51.png'], ['data/nyu2_train/living_room_0038_out/7.jpg', 'data/nyu2_train/living_room_0038_out/7.png'], ['data/nyu2_train/living_room_0038_out/97.jpg', 'data/nyu2_train/living_room_0038_out/97.png'], ['data/nyu2_train/living_room_0038_out/15.jpg', 'data/nyu2_train/living_room_0038_out/15.png'], ['data/nyu2_train/living_room_0038_out/156.jpg', 'data/nyu2_train/living_room_0038_out/156.png'], ['data/nyu2_train/living_room_0038_out/77.jpg', 'data/nyu2_train/living_room_0038_out/77.png'], ['data/nyu2_train/living_room_0038_out/117.jpg', 'data/nyu2_train/living_room_0038_out/117.png'], ['data/nyu2_train/living_room_0038_out/125.jpg', 'data/nyu2_train/living_room_0038_out/125.png'], ['data/nyu2_train/living_room_0038_out/89.jpg', 'data/nyu2_train/living_room_0038_out/89.png'], ['data/nyu2_train/living_room_0038_out/102.jpg', 'data/nyu2_train/living_room_0038_out/102.png'], ['data/nyu2_train/living_room_0038_out/99.jpg', 'data/nyu2_train/living_room_0038_out/99.png'], ['data/nyu2_train/living_room_0038_out/72.jpg', 'data/nyu2_train/living_room_0038_out/72.png'], ['data/nyu2_train/living_room_0038_out/157.jpg', 'data/nyu2_train/living_room_0038_out/157.png'], ['data/nyu2_train/living_room_0038_out/81.jpg', 'data/nyu2_train/living_room_0038_out/81.png'], ['data/nyu2_train/living_room_0038_out/33.jpg', 'data/nyu2_train/living_room_0038_out/33.png'], ['data/nyu2_train/living_room_0038_out/27.jpg', 'data/nyu2_train/living_room_0038_out/27.png'], ['data/nyu2_train/living_room_0038_out/139.jpg', 'data/nyu2_train/living_room_0038_out/139.png'], ['data/nyu2_train/living_room_0038_out/38.jpg', 'data/nyu2_train/living_room_0038_out/38.png'], ['data/nyu2_train/living_room_0038_out/154.jpg', 'data/nyu2_train/living_room_0038_out/154.png'], ['data/nyu2_train/living_room_0038_out/78.jpg', 'data/nyu2_train/living_room_0038_out/78.png'], ['data/nyu2_train/living_room_0038_out/73.jpg', 'data/nyu2_train/living_room_0038_out/73.png'], ['data/nyu2_train/living_room_0038_out/159.jpg', 'data/nyu2_train/living_room_0038_out/159.png'], ['data/nyu2_train/living_room_0038_out/110.jpg', 'data/nyu2_train/living_room_0038_out/110.png'], ['data/nyu2_train/living_room_0038_out/143.jpg', 'data/nyu2_train/living_room_0038_out/143.png'], ['data/nyu2_train/living_room_0038_out/83.jpg', 'data/nyu2_train/living_room_0038_out/83.png'], ['data/nyu2_train/living_room_0038_out/87.jpg', 'data/nyu2_train/living_room_0038_out/87.png'], ['data/nyu2_train/living_room_0038_out/59.jpg', 'data/nyu2_train/living_room_0038_out/59.png'], ['data/nyu2_train/living_room_0038_out/36.jpg', 'data/nyu2_train/living_room_0038_out/36.png'], ['data/nyu2_train/living_room_0038_out/20.jpg', 'data/nyu2_train/living_room_0038_out/20.png'], ['data/nyu2_train/living_room_0038_out/165.jpg', 'data/nyu2_train/living_room_0038_out/165.png'], ['data/nyu2_train/living_room_0038_out/106.jpg', 'data/nyu2_train/living_room_0038_out/106.png'], ['data/nyu2_train/living_room_0038_out/145.jpg', 'data/nyu2_train/living_room_0038_out/145.png'], ['data/nyu2_train/living_room_0038_out/65.jpg', 'data/nyu2_train/living_room_0038_out/65.png'], ['data/nyu2_train/living_room_0038_out/120.jpg', 'data/nyu2_train/living_room_0038_out/120.png'], ['data/nyu2_train/living_room_0038_out/86.jpg', 'data/nyu2_train/living_room_0038_out/86.png'], ['data/nyu2_train/living_room_0038_out/44.jpg', 'data/nyu2_train/living_room_0038_out/44.png'], ['data/nyu2_train/living_room_0038_out/63.jpg', 'data/nyu2_train/living_room_0038_out/63.png'], ['data/nyu2_train/living_room_0038_out/116.jpg', 'data/nyu2_train/living_room_0038_out/116.png'], ['data/nyu2_train/living_room_0038_out/61.jpg', 'data/nyu2_train/living_room_0038_out/61.png'], ['data/nyu2_train/living_room_0038_out/32.jpg', 'data/nyu2_train/living_room_0038_out/32.png'], ['data/nyu2_train/living_room_0038_out/123.jpg', 'data/nyu2_train/living_room_0038_out/123.png'], ['data/nyu2_train/living_room_0038_out/23.jpg', 'data/nyu2_train/living_room_0038_out/23.png'], ['data/nyu2_train/living_room_0038_out/74.jpg', 'data/nyu2_train/living_room_0038_out/74.png'], ['data/nyu2_train/living_room_0038_out/164.jpg', 'data/nyu2_train/living_room_0038_out/164.png'], ['data/nyu2_train/living_room_0038_out/141.jpg', 'data/nyu2_train/living_room_0038_out/141.png'], ['data/nyu2_train/living_room_0038_out/52.jpg', 'data/nyu2_train/living_room_0038_out/52.png'], ['data/nyu2_train/living_room_0038_out/66.jpg', 'data/nyu2_train/living_room_0038_out/66.png'], ['data/nyu2_train/living_room_0038_out/24.jpg', 'data/nyu2_train/living_room_0038_out/24.png'], ['data/nyu2_train/living_room_0038_out/22.jpg', 'data/nyu2_train/living_room_0038_out/22.png'], ['data/nyu2_train/living_room_0038_out/166.jpg', 'data/nyu2_train/living_room_0038_out/166.png'], ['data/nyu2_train/living_room_0038_out/80.jpg', 'data/nyu2_train/living_room_0038_out/80.png'], ['data/nyu2_train/living_room_0038_out/96.jpg', 'data/nyu2_train/living_room_0038_out/96.png'], ['data/nyu2_train/living_room_0038_out/26.jpg', 'data/nyu2_train/living_room_0038_out/26.png'], ['data/nyu2_train/living_room_0038_out/88.jpg', 'data/nyu2_train/living_room_0038_out/88.png'], ['data/nyu2_train/living_room_0038_out/9.jpg', 'data/nyu2_train/living_room_0038_out/9.png'], ['data/nyu2_train/living_room_0038_out/109.jpg', 'data/nyu2_train/living_room_0038_out/109.png'], ['data/nyu2_train/living_room_0038_out/90.jpg', 'data/nyu2_train/living_room_0038_out/90.png'], ['data/nyu2_train/bedroom_0047_out/37.jpg', 'data/nyu2_train/bedroom_0047_out/37.png'], ['data/nyu2_train/bedroom_0047_out/6.jpg', 'data/nyu2_train/bedroom_0047_out/6.png'], ['data/nyu2_train/bedroom_0047_out/49.jpg', 'data/nyu2_train/bedroom_0047_out/49.png'], ['data/nyu2_train/bedroom_0047_out/94.jpg', 'data/nyu2_train/bedroom_0047_out/94.png'], ['data/nyu2_train/bedroom_0047_out/18.jpg', 'data/nyu2_train/bedroom_0047_out/18.png'], ['data/nyu2_train/bedroom_0047_out/21.jpg', 'data/nyu2_train/bedroom_0047_out/21.png'], ['data/nyu2_train/bedroom_0047_out/48.jpg', 'data/nyu2_train/bedroom_0047_out/48.png'], ['data/nyu2_train/bedroom_0047_out/75.jpg', 'data/nyu2_train/bedroom_0047_out/75.png'], ['data/nyu2_train/bedroom_0047_out/25.jpg', 'data/nyu2_train/bedroom_0047_out/25.png'], ['data/nyu2_train/bedroom_0047_out/13.jpg', 'data/nyu2_train/bedroom_0047_out/13.png'], ['data/nyu2_train/bedroom_0047_out/68.jpg', 'data/nyu2_train/bedroom_0047_out/68.png'], ['data/nyu2_train/bedroom_0047_out/28.jpg', 'data/nyu2_train/bedroom_0047_out/28.png'], ['data/nyu2_train/bedroom_0047_out/85.jpg', 'data/nyu2_train/bedroom_0047_out/85.png'], ['data/nyu2_train/bedroom_0047_out/57.jpg', 'data/nyu2_train/bedroom_0047_out/57.png'], ['data/nyu2_train/bedroom_0047_out/34.jpg', 'data/nyu2_train/bedroom_0047_out/34.png'], ['data/nyu2_train/bedroom_0047_out/53.jpg', 'data/nyu2_train/bedroom_0047_out/53.png'], ['data/nyu2_train/bedroom_0047_out/11.jpg', 'data/nyu2_train/bedroom_0047_out/11.png'], ['data/nyu2_train/bedroom_0047_out/46.jpg', 'data/nyu2_train/bedroom_0047_out/46.png'], ['data/nyu2_train/bedroom_0047_out/39.jpg', 'data/nyu2_train/bedroom_0047_out/39.png'], ['data/nyu2_train/bedroom_0047_out/71.jpg', 'data/nyu2_train/bedroom_0047_out/71.png'], ['data/nyu2_train/bedroom_0047_out/29.jpg', 'data/nyu2_train/bedroom_0047_out/29.png'], ['data/nyu2_train/bedroom_0047_out/14.jpg', 'data/nyu2_train/bedroom_0047_out/14.png'], ['data/nyu2_train/bedroom_0047_out/30.jpg', 'data/nyu2_train/bedroom_0047_out/30.png'], ['data/nyu2_train/bedroom_0047_out/16.jpg', 'data/nyu2_train/bedroom_0047_out/16.png'], ['data/nyu2_train/bedroom_0047_out/62.jpg', 'data/nyu2_train/bedroom_0047_out/62.png'], ['data/nyu2_train/bedroom_0047_out/56.jpg', 'data/nyu2_train/bedroom_0047_out/56.png'], ['data/nyu2_train/bedroom_0047_out/42.jpg', 'data/nyu2_train/bedroom_0047_out/42.png'], ['data/nyu2_train/bedroom_0047_out/2.jpg', 'data/nyu2_train/bedroom_0047_out/2.png'], ['data/nyu2_train/bedroom_0047_out/91.jpg', 'data/nyu2_train/bedroom_0047_out/91.png'], ['data/nyu2_train/bedroom_0047_out/93.jpg', 'data/nyu2_train/bedroom_0047_out/93.png'], ['data/nyu2_train/bedroom_0047_out/70.jpg', 'data/nyu2_train/bedroom_0047_out/70.png'], ['data/nyu2_train/bedroom_0047_out/60.jpg', 'data/nyu2_train/bedroom_0047_out/60.png'], ['data/nyu2_train/bedroom_0047_out/3.jpg', 'data/nyu2_train/bedroom_0047_out/3.png'], ['data/nyu2_train/bedroom_0047_out/54.jpg', 'data/nyu2_train/bedroom_0047_out/54.png'], ['data/nyu2_train/bedroom_0047_out/10.jpg', 'data/nyu2_train/bedroom_0047_out/10.png'], ['data/nyu2_train/bedroom_0047_out/4.jpg', 'data/nyu2_train/bedroom_0047_out/4.png'], ['data/nyu2_train/bedroom_0047_out/12.jpg', 'data/nyu2_train/bedroom_0047_out/12.png'], ['data/nyu2_train/bedroom_0047_out/64.jpg', 'data/nyu2_train/bedroom_0047_out/64.png'], ['data/nyu2_train/bedroom_0047_out/67.jpg', 'data/nyu2_train/bedroom_0047_out/67.png'], ['data/nyu2_train/bedroom_0047_out/8.jpg', 'data/nyu2_train/bedroom_0047_out/8.png'], ['data/nyu2_train/bedroom_0047_out/43.jpg', 'data/nyu2_train/bedroom_0047_out/43.png'], ['data/nyu2_train/bedroom_0047_out/17.jpg', 'data/nyu2_train/bedroom_0047_out/17.png'], ['data/nyu2_train/bedroom_0047_out/35.jpg', 'data/nyu2_train/bedroom_0047_out/35.png'], ['data/nyu2_train/bedroom_0047_out/40.jpg', 'data/nyu2_train/bedroom_0047_out/40.png'], ['data/nyu2_train/bedroom_0047_out/55.jpg', 'data/nyu2_train/bedroom_0047_out/55.png'], ['data/nyu2_train/bedroom_0047_out/95.jpg', 'data/nyu2_train/bedroom_0047_out/95.png'], ['data/nyu2_train/bedroom_0047_out/45.jpg', 'data/nyu2_train/bedroom_0047_out/45.png'], ['data/nyu2_train/bedroom_0047_out/82.jpg', 'data/nyu2_train/bedroom_0047_out/82.png'], ['data/nyu2_train/bedroom_0047_out/79.jpg', 'data/nyu2_train/bedroom_0047_out/79.png'], ['data/nyu2_train/bedroom_0047_out/31.jpg', 'data/nyu2_train/bedroom_0047_out/31.png'], ['data/nyu2_train/bedroom_0047_out/47.jpg', 'data/nyu2_train/bedroom_0047_out/47.png'], ['data/nyu2_train/bedroom_0047_out/41.jpg', 'data/nyu2_train/bedroom_0047_out/41.png'], ['data/nyu2_train/bedroom_0047_out/50.jpg', 'data/nyu2_train/bedroom_0047_out/50.png'], ['data/nyu2_train/bedroom_0047_out/19.jpg', 'data/nyu2_train/bedroom_0047_out/19.png'], ['data/nyu2_train/bedroom_0047_out/58.jpg', 'data/nyu2_train/bedroom_0047_out/58.png'], ['data/nyu2_train/bedroom_0047_out/76.jpg', 'data/nyu2_train/bedroom_0047_out/76.png'], ['data/nyu2_train/bedroom_0047_out/69.jpg', 'data/nyu2_train/bedroom_0047_out/69.png'], ['data/nyu2_train/bedroom_0047_out/5.jpg', 'data/nyu2_train/bedroom_0047_out/5.png'], ['data/nyu2_train/bedroom_0047_out/1.jpg', 'data/nyu2_train/bedroom_0047_out/1.png'], ['data/nyu2_train/bedroom_0047_out/84.jpg', 'data/nyu2_train/bedroom_0047_out/84.png'], ['data/nyu2_train/bedroom_0047_out/92.jpg', 'data/nyu2_train/bedroom_0047_out/92.png'], ['data/nyu2_train/bedroom_0047_out/51.jpg', 'data/nyu2_train/bedroom_0047_out/51.png'], ['data/nyu2_train/bedroom_0047_out/7.jpg', 'data/nyu2_train/bedroom_0047_out/7.png'], ['data/nyu2_train/bedroom_0047_out/15.jpg', 'data/nyu2_train/bedroom_0047_out/15.png'], ['data/nyu2_train/bedroom_0047_out/77.jpg', 'data/nyu2_train/bedroom_0047_out/77.png'], ['data/nyu2_train/bedroom_0047_out/89.jpg', 'data/nyu2_train/bedroom_0047_out/89.png'], ['data/nyu2_train/bedroom_0047_out/72.jpg', 'data/nyu2_train/bedroom_0047_out/72.png'], ['data/nyu2_train/bedroom_0047_out/81.jpg', 'data/nyu2_train/bedroom_0047_out/81.png'], ['data/nyu2_train/bedroom_0047_out/33.jpg', 'data/nyu2_train/bedroom_0047_out/33.png'], ['data/nyu2_train/bedroom_0047_out/27.jpg', 'data/nyu2_train/bedroom_0047_out/27.png'], ['data/nyu2_train/bedroom_0047_out/38.jpg', 'data/nyu2_train/bedroom_0047_out/38.png'], ['data/nyu2_train/bedroom_0047_out/78.jpg', 'data/nyu2_train/bedroom_0047_out/78.png'], ['data/nyu2_train/bedroom_0047_out/73.jpg', 'data/nyu2_train/bedroom_0047_out/73.png'], ['data/nyu2_train/bedroom_0047_out/83.jpg', 'data/nyu2_train/bedroom_0047_out/83.png'], ['data/nyu2_train/bedroom_0047_out/87.jpg', 'data/nyu2_train/bedroom_0047_out/87.png'], ['data/nyu2_train/bedroom_0047_out/59.jpg', 'data/nyu2_train/bedroom_0047_out/59.png'], ['data/nyu2_train/bedroom_0047_out/36.jpg', 'data/nyu2_train/bedroom_0047_out/36.png'], ['data/nyu2_train/bedroom_0047_out/20.jpg', 'data/nyu2_train/bedroom_0047_out/20.png'], ['data/nyu2_train/bedroom_0047_out/65.jpg', 'data/nyu2_train/bedroom_0047_out/65.png'], ['data/nyu2_train/bedroom_0047_out/86.jpg', 'data/nyu2_train/bedroom_0047_out/86.png'], ['data/nyu2_train/bedroom_0047_out/44.jpg', 'data/nyu2_train/bedroom_0047_out/44.png'], ['data/nyu2_train/bedroom_0047_out/63.jpg', 'data/nyu2_train/bedroom_0047_out/63.png'], ['data/nyu2_train/bedroom_0047_out/61.jpg', 'data/nyu2_train/bedroom_0047_out/61.png'], ['data/nyu2_train/bedroom_0047_out/32.jpg', 'data/nyu2_train/bedroom_0047_out/32.png'], ['data/nyu2_train/bedroom_0047_out/23.jpg', 'data/nyu2_train/bedroom_0047_out/23.png'], ['data/nyu2_train/bedroom_0047_out/74.jpg', 'data/nyu2_train/bedroom_0047_out/74.png'], ['data/nyu2_train/bedroom_0047_out/52.jpg', 'data/nyu2_train/bedroom_0047_out/52.png'], ['data/nyu2_train/bedroom_0047_out/66.jpg', 'data/nyu2_train/bedroom_0047_out/66.png'], ['data/nyu2_train/bedroom_0047_out/24.jpg', 'data/nyu2_train/bedroom_0047_out/24.png'], ['data/nyu2_train/bedroom_0047_out/22.jpg', 'data/nyu2_train/bedroom_0047_out/22.png'], ['data/nyu2_train/bedroom_0047_out/80.jpg', 'data/nyu2_train/bedroom_0047_out/80.png'], ['data/nyu2_train/bedroom_0047_out/26.jpg', 'data/nyu2_train/bedroom_0047_out/26.png'], ['data/nyu2_train/bedroom_0047_out/88.jpg', 'data/nyu2_train/bedroom_0047_out/88.png'], ['data/nyu2_train/bedroom_0047_out/9.jpg', 'data/nyu2_train/bedroom_0047_out/9.png'], ['data/nyu2_train/bedroom_0047_out/90.jpg', 'data/nyu2_train/bedroom_0047_out/90.png'], ['data/nyu2_train/bedroom_0113_out/37.jpg', 'data/nyu2_train/bedroom_0113_out/37.png'], ['data/nyu2_train/bedroom_0113_out/115.jpg', 'data/nyu2_train/bedroom_0113_out/115.png'], ['data/nyu2_train/bedroom_0113_out/6.jpg', 'data/nyu2_train/bedroom_0113_out/6.png'], ['data/nyu2_train/bedroom_0113_out/49.jpg', 'data/nyu2_train/bedroom_0113_out/49.png'], ['data/nyu2_train/bedroom_0113_out/152.jpg', 'data/nyu2_train/bedroom_0113_out/152.png'], ['data/nyu2_train/bedroom_0113_out/142.jpg', 'data/nyu2_train/bedroom_0113_out/142.png'], ['data/nyu2_train/bedroom_0113_out/94.jpg', 'data/nyu2_train/bedroom_0113_out/94.png'], ['data/nyu2_train/bedroom_0113_out/158.jpg', 'data/nyu2_train/bedroom_0113_out/158.png'], ['data/nyu2_train/bedroom_0113_out/18.jpg', 'data/nyu2_train/bedroom_0113_out/18.png'], ['data/nyu2_train/bedroom_0113_out/21.jpg', 'data/nyu2_train/bedroom_0113_out/21.png'], ['data/nyu2_train/bedroom_0113_out/48.jpg', 'data/nyu2_train/bedroom_0113_out/48.png'], ['data/nyu2_train/bedroom_0113_out/75.jpg', 'data/nyu2_train/bedroom_0113_out/75.png'], ['data/nyu2_train/bedroom_0113_out/25.jpg', 'data/nyu2_train/bedroom_0113_out/25.png'], ['data/nyu2_train/bedroom_0113_out/13.jpg', 'data/nyu2_train/bedroom_0113_out/13.png'], ['data/nyu2_train/bedroom_0113_out/68.jpg', 'data/nyu2_train/bedroom_0113_out/68.png'], ['data/nyu2_train/bedroom_0113_out/28.jpg', 'data/nyu2_train/bedroom_0113_out/28.png'], ['data/nyu2_train/bedroom_0113_out/161.jpg', 'data/nyu2_train/bedroom_0113_out/161.png'], ['data/nyu2_train/bedroom_0113_out/85.jpg', 'data/nyu2_train/bedroom_0113_out/85.png'], ['data/nyu2_train/bedroom_0113_out/57.jpg', 'data/nyu2_train/bedroom_0113_out/57.png'], ['data/nyu2_train/bedroom_0113_out/34.jpg', 'data/nyu2_train/bedroom_0113_out/34.png'], ['data/nyu2_train/bedroom_0113_out/118.jpg', 'data/nyu2_train/bedroom_0113_out/118.png'], ['data/nyu2_train/bedroom_0113_out/53.jpg', 'data/nyu2_train/bedroom_0113_out/53.png'], ['data/nyu2_train/bedroom_0113_out/11.jpg', 'data/nyu2_train/bedroom_0113_out/11.png'], ['data/nyu2_train/bedroom_0113_out/46.jpg', 'data/nyu2_train/bedroom_0113_out/46.png'], ['data/nyu2_train/bedroom_0113_out/135.jpg', 'data/nyu2_train/bedroom_0113_out/135.png'], ['data/nyu2_train/bedroom_0113_out/39.jpg', 'data/nyu2_train/bedroom_0113_out/39.png'], ['data/nyu2_train/bedroom_0113_out/71.jpg', 'data/nyu2_train/bedroom_0113_out/71.png'], ['data/nyu2_train/bedroom_0113_out/29.jpg', 'data/nyu2_train/bedroom_0113_out/29.png'], ['data/nyu2_train/bedroom_0113_out/14.jpg', 'data/nyu2_train/bedroom_0113_out/14.png'], ['data/nyu2_train/bedroom_0113_out/113.jpg', 'data/nyu2_train/bedroom_0113_out/113.png'], ['data/nyu2_train/bedroom_0113_out/138.jpg', 'data/nyu2_train/bedroom_0113_out/138.png'], ['data/nyu2_train/bedroom_0113_out/30.jpg', 'data/nyu2_train/bedroom_0113_out/30.png'], ['data/nyu2_train/bedroom_0113_out/16.jpg', 'data/nyu2_train/bedroom_0113_out/16.png'], ['data/nyu2_train/bedroom_0113_out/105.jpg', 'data/nyu2_train/bedroom_0113_out/105.png'], ['data/nyu2_train/bedroom_0113_out/62.jpg', 'data/nyu2_train/bedroom_0113_out/62.png'], ['data/nyu2_train/bedroom_0113_out/56.jpg', 'data/nyu2_train/bedroom_0113_out/56.png'], ['data/nyu2_train/bedroom_0113_out/119.jpg', 'data/nyu2_train/bedroom_0113_out/119.png'], ['data/nyu2_train/bedroom_0113_out/42.jpg', 'data/nyu2_train/bedroom_0113_out/42.png'], ['data/nyu2_train/bedroom_0113_out/2.jpg', 'data/nyu2_train/bedroom_0113_out/2.png'], ['data/nyu2_train/bedroom_0113_out/129.jpg', 'data/nyu2_train/bedroom_0113_out/129.png'], ['data/nyu2_train/bedroom_0113_out/160.jpg', 'data/nyu2_train/bedroom_0113_out/160.png'], ['data/nyu2_train/bedroom_0113_out/126.jpg', 'data/nyu2_train/bedroom_0113_out/126.png'], ['data/nyu2_train/bedroom_0113_out/91.jpg', 'data/nyu2_train/bedroom_0113_out/91.png'], ['data/nyu2_train/bedroom_0113_out/162.jpg', 'data/nyu2_train/bedroom_0113_out/162.png'], ['data/nyu2_train/bedroom_0113_out/93.jpg', 'data/nyu2_train/bedroom_0113_out/93.png'], ['data/nyu2_train/bedroom_0113_out/70.jpg', 'data/nyu2_train/bedroom_0113_out/70.png'], ['data/nyu2_train/bedroom_0113_out/60.jpg', 'data/nyu2_train/bedroom_0113_out/60.png'], ['data/nyu2_train/bedroom_0113_out/3.jpg', 'data/nyu2_train/bedroom_0113_out/3.png'], ['data/nyu2_train/bedroom_0113_out/132.jpg', 'data/nyu2_train/bedroom_0113_out/132.png'], ['data/nyu2_train/bedroom_0113_out/54.jpg', 'data/nyu2_train/bedroom_0113_out/54.png'], ['data/nyu2_train/bedroom_0113_out/146.jpg', 'data/nyu2_train/bedroom_0113_out/146.png'], ['data/nyu2_train/bedroom_0113_out/121.jpg', 'data/nyu2_train/bedroom_0113_out/121.png'], ['data/nyu2_train/bedroom_0113_out/122.jpg', 'data/nyu2_train/bedroom_0113_out/122.png'], ['data/nyu2_train/bedroom_0113_out/130.jpg', 'data/nyu2_train/bedroom_0113_out/130.png'], ['data/nyu2_train/bedroom_0113_out/10.jpg', 'data/nyu2_train/bedroom_0113_out/10.png'], ['data/nyu2_train/bedroom_0113_out/4.jpg', 'data/nyu2_train/bedroom_0113_out/4.png'], ['data/nyu2_train/bedroom_0113_out/153.jpg', 'data/nyu2_train/bedroom_0113_out/153.png'], ['data/nyu2_train/bedroom_0113_out/12.jpg', 'data/nyu2_train/bedroom_0113_out/12.png'], ['data/nyu2_train/bedroom_0113_out/163.jpg', 'data/nyu2_train/bedroom_0113_out/163.png'], ['data/nyu2_train/bedroom_0113_out/104.jpg', 'data/nyu2_train/bedroom_0113_out/104.png'], ['data/nyu2_train/bedroom_0113_out/134.jpg', 'data/nyu2_train/bedroom_0113_out/134.png'], ['data/nyu2_train/bedroom_0113_out/100.jpg', 'data/nyu2_train/bedroom_0113_out/100.png'], ['data/nyu2_train/bedroom_0113_out/64.jpg', 'data/nyu2_train/bedroom_0113_out/64.png'], ['data/nyu2_train/bedroom_0113_out/147.jpg', 'data/nyu2_train/bedroom_0113_out/147.png'], ['data/nyu2_train/bedroom_0113_out/103.jpg', 'data/nyu2_train/bedroom_0113_out/103.png'], ['data/nyu2_train/bedroom_0113_out/67.jpg', 'data/nyu2_train/bedroom_0113_out/67.png'], ['data/nyu2_train/bedroom_0113_out/114.jpg', 'data/nyu2_train/bedroom_0113_out/114.png'], ['data/nyu2_train/bedroom_0113_out/8.jpg', 'data/nyu2_train/bedroom_0113_out/8.png'], ['data/nyu2_train/bedroom_0113_out/127.jpg', 'data/nyu2_train/bedroom_0113_out/127.png'], ['data/nyu2_train/bedroom_0113_out/43.jpg', 'data/nyu2_train/bedroom_0113_out/43.png'], ['data/nyu2_train/bedroom_0113_out/144.jpg', 'data/nyu2_train/bedroom_0113_out/144.png'], ['data/nyu2_train/bedroom_0113_out/17.jpg', 'data/nyu2_train/bedroom_0113_out/17.png'], ['data/nyu2_train/bedroom_0113_out/151.jpg', 'data/nyu2_train/bedroom_0113_out/151.png'], ['data/nyu2_train/bedroom_0113_out/35.jpg', 'data/nyu2_train/bedroom_0113_out/35.png'], ['data/nyu2_train/bedroom_0113_out/40.jpg', 'data/nyu2_train/bedroom_0113_out/40.png'], ['data/nyu2_train/bedroom_0113_out/55.jpg', 'data/nyu2_train/bedroom_0113_out/55.png'], ['data/nyu2_train/bedroom_0113_out/95.jpg', 'data/nyu2_train/bedroom_0113_out/95.png'], ['data/nyu2_train/bedroom_0113_out/45.jpg', 'data/nyu2_train/bedroom_0113_out/45.png'], ['data/nyu2_train/bedroom_0113_out/82.jpg', 'data/nyu2_train/bedroom_0113_out/82.png'], ['data/nyu2_train/bedroom_0113_out/108.jpg', 'data/nyu2_train/bedroom_0113_out/108.png'], ['data/nyu2_train/bedroom_0113_out/79.jpg', 'data/nyu2_train/bedroom_0113_out/79.png'], ['data/nyu2_train/bedroom_0113_out/31.jpg', 'data/nyu2_train/bedroom_0113_out/31.png'], ['data/nyu2_train/bedroom_0113_out/137.jpg', 'data/nyu2_train/bedroom_0113_out/137.png'], ['data/nyu2_train/bedroom_0113_out/47.jpg', 'data/nyu2_train/bedroom_0113_out/47.png'], ['data/nyu2_train/bedroom_0113_out/111.jpg', 'data/nyu2_train/bedroom_0113_out/111.png'], ['data/nyu2_train/bedroom_0113_out/41.jpg', 'data/nyu2_train/bedroom_0113_out/41.png'], ['data/nyu2_train/bedroom_0113_out/50.jpg', 'data/nyu2_train/bedroom_0113_out/50.png'], ['data/nyu2_train/bedroom_0113_out/140.jpg', 'data/nyu2_train/bedroom_0113_out/140.png'], ['data/nyu2_train/bedroom_0113_out/19.jpg', 'data/nyu2_train/bedroom_0113_out/19.png'], ['data/nyu2_train/bedroom_0113_out/58.jpg', 'data/nyu2_train/bedroom_0113_out/58.png'], ['data/nyu2_train/bedroom_0113_out/98.jpg', 'data/nyu2_train/bedroom_0113_out/98.png'], ['data/nyu2_train/bedroom_0113_out/76.jpg', 'data/nyu2_train/bedroom_0113_out/76.png'], ['data/nyu2_train/bedroom_0113_out/124.jpg', 'data/nyu2_train/bedroom_0113_out/124.png'], ['data/nyu2_train/bedroom_0113_out/128.jpg', 'data/nyu2_train/bedroom_0113_out/128.png'], ['data/nyu2_train/bedroom_0113_out/149.jpg', 'data/nyu2_train/bedroom_0113_out/149.png'], ['data/nyu2_train/bedroom_0113_out/69.jpg', 'data/nyu2_train/bedroom_0113_out/69.png'], ['data/nyu2_train/bedroom_0113_out/155.jpg', 'data/nyu2_train/bedroom_0113_out/155.png'], ['data/nyu2_train/bedroom_0113_out/5.jpg', 'data/nyu2_train/bedroom_0113_out/5.png'], ['data/nyu2_train/bedroom_0113_out/131.jpg', 'data/nyu2_train/bedroom_0113_out/131.png'], ['data/nyu2_train/bedroom_0113_out/101.jpg', 'data/nyu2_train/bedroom_0113_out/101.png'], ['data/nyu2_train/bedroom_0113_out/112.jpg', 'data/nyu2_train/bedroom_0113_out/112.png'], ['data/nyu2_train/bedroom_0113_out/1.jpg', 'data/nyu2_train/bedroom_0113_out/1.png'], ['data/nyu2_train/bedroom_0113_out/148.jpg', 'data/nyu2_train/bedroom_0113_out/148.png'], ['data/nyu2_train/bedroom_0113_out/84.jpg', 'data/nyu2_train/bedroom_0113_out/84.png'], ['data/nyu2_train/bedroom_0113_out/92.jpg', 'data/nyu2_train/bedroom_0113_out/92.png'], ['data/nyu2_train/bedroom_0113_out/133.jpg', 'data/nyu2_train/bedroom_0113_out/133.png'], ['data/nyu2_train/bedroom_0113_out/150.jpg', 'data/nyu2_train/bedroom_0113_out/150.png'], ['data/nyu2_train/bedroom_0113_out/107.jpg', 'data/nyu2_train/bedroom_0113_out/107.png'], ['data/nyu2_train/bedroom_0113_out/136.jpg', 'data/nyu2_train/bedroom_0113_out/136.png'], ['data/nyu2_train/bedroom_0113_out/51.jpg', 'data/nyu2_train/bedroom_0113_out/51.png'], ['data/nyu2_train/bedroom_0113_out/7.jpg', 'data/nyu2_train/bedroom_0113_out/7.png'], ['data/nyu2_train/bedroom_0113_out/97.jpg', 'data/nyu2_train/bedroom_0113_out/97.png'], ['data/nyu2_train/bedroom_0113_out/15.jpg', 'data/nyu2_train/bedroom_0113_out/15.png'], ['data/nyu2_train/bedroom_0113_out/156.jpg', 'data/nyu2_train/bedroom_0113_out/156.png'], ['data/nyu2_train/bedroom_0113_out/77.jpg', 'data/nyu2_train/bedroom_0113_out/77.png'], ['data/nyu2_train/bedroom_0113_out/117.jpg', 'data/nyu2_train/bedroom_0113_out/117.png'], ['data/nyu2_train/bedroom_0113_out/125.jpg', 'data/nyu2_train/bedroom_0113_out/125.png'], ['data/nyu2_train/bedroom_0113_out/89.jpg', 'data/nyu2_train/bedroom_0113_out/89.png'], ['data/nyu2_train/bedroom_0113_out/102.jpg', 'data/nyu2_train/bedroom_0113_out/102.png'], ['data/nyu2_train/bedroom_0113_out/99.jpg', 'data/nyu2_train/bedroom_0113_out/99.png'], ['data/nyu2_train/bedroom_0113_out/72.jpg', 'data/nyu2_train/bedroom_0113_out/72.png'], ['data/nyu2_train/bedroom_0113_out/157.jpg', 'data/nyu2_train/bedroom_0113_out/157.png'], ['data/nyu2_train/bedroom_0113_out/81.jpg', 'data/nyu2_train/bedroom_0113_out/81.png'], ['data/nyu2_train/bedroom_0113_out/33.jpg', 'data/nyu2_train/bedroom_0113_out/33.png'], ['data/nyu2_train/bedroom_0113_out/27.jpg', 'data/nyu2_train/bedroom_0113_out/27.png'], ['data/nyu2_train/bedroom_0113_out/139.jpg', 'data/nyu2_train/bedroom_0113_out/139.png'], ['data/nyu2_train/bedroom_0113_out/38.jpg', 'data/nyu2_train/bedroom_0113_out/38.png'], ['data/nyu2_train/bedroom_0113_out/154.jpg', 'data/nyu2_train/bedroom_0113_out/154.png'], ['data/nyu2_train/bedroom_0113_out/78.jpg', 'data/nyu2_train/bedroom_0113_out/78.png'], ['data/nyu2_train/bedroom_0113_out/73.jpg', 'data/nyu2_train/bedroom_0113_out/73.png'], ['data/nyu2_train/bedroom_0113_out/159.jpg', 'data/nyu2_train/bedroom_0113_out/159.png'], ['data/nyu2_train/bedroom_0113_out/110.jpg', 'data/nyu2_train/bedroom_0113_out/110.png'], ['data/nyu2_train/bedroom_0113_out/143.jpg', 'data/nyu2_train/bedroom_0113_out/143.png'], ['data/nyu2_train/bedroom_0113_out/83.jpg', 'data/nyu2_train/bedroom_0113_out/83.png'], ['data/nyu2_train/bedroom_0113_out/87.jpg', 'data/nyu2_train/bedroom_0113_out/87.png'], ['data/nyu2_train/bedroom_0113_out/59.jpg', 'data/nyu2_train/bedroom_0113_out/59.png'], ['data/nyu2_train/bedroom_0113_out/36.jpg', 'data/nyu2_train/bedroom_0113_out/36.png'], ['data/nyu2_train/bedroom_0113_out/20.jpg', 'data/nyu2_train/bedroom_0113_out/20.png'], ['data/nyu2_train/bedroom_0113_out/165.jpg', 'data/nyu2_train/bedroom_0113_out/165.png'], ['data/nyu2_train/bedroom_0113_out/106.jpg', 'data/nyu2_train/bedroom_0113_out/106.png'], ['data/nyu2_train/bedroom_0113_out/145.jpg', 'data/nyu2_train/bedroom_0113_out/145.png'], ['data/nyu2_train/bedroom_0113_out/65.jpg', 'data/nyu2_train/bedroom_0113_out/65.png'], ['data/nyu2_train/bedroom_0113_out/120.jpg', 'data/nyu2_train/bedroom_0113_out/120.png'], ['data/nyu2_train/bedroom_0113_out/86.jpg', 'data/nyu2_train/bedroom_0113_out/86.png'], ['data/nyu2_train/bedroom_0113_out/44.jpg', 'data/nyu2_train/bedroom_0113_out/44.png'], ['data/nyu2_train/bedroom_0113_out/63.jpg', 'data/nyu2_train/bedroom_0113_out/63.png'], ['data/nyu2_train/bedroom_0113_out/116.jpg', 'data/nyu2_train/bedroom_0113_out/116.png'], ['data/nyu2_train/bedroom_0113_out/61.jpg', 'data/nyu2_train/bedroom_0113_out/61.png'], ['data/nyu2_train/bedroom_0113_out/32.jpg', 'data/nyu2_train/bedroom_0113_out/32.png'], ['data/nyu2_train/bedroom_0113_out/123.jpg', 'data/nyu2_train/bedroom_0113_out/123.png'], ['data/nyu2_train/bedroom_0113_out/23.jpg', 'data/nyu2_train/bedroom_0113_out/23.png'], ['data/nyu2_train/bedroom_0113_out/74.jpg', 'data/nyu2_train/bedroom_0113_out/74.png'], ['data/nyu2_train/bedroom_0113_out/164.jpg', 'data/nyu2_train/bedroom_0113_out/164.png'], ['data/nyu2_train/bedroom_0113_out/141.jpg', 'data/nyu2_train/bedroom_0113_out/141.png'], ['data/nyu2_train/bedroom_0113_out/52.jpg', 'data/nyu2_train/bedroom_0113_out/52.png'], ['data/nyu2_train/bedroom_0113_out/66.jpg', 'data/nyu2_train/bedroom_0113_out/66.png'], ['data/nyu2_train/bedroom_0113_out/24.jpg', 'data/nyu2_train/bedroom_0113_out/24.png'], ['data/nyu2_train/bedroom_0113_out/22.jpg', 'data/nyu2_train/bedroom_0113_out/22.png'], ['data/nyu2_train/bedroom_0113_out/166.jpg', 'data/nyu2_train/bedroom_0113_out/166.png'], ['data/nyu2_train/bedroom_0113_out/80.jpg', 'data/nyu2_train/bedroom_0113_out/80.png'], ['data/nyu2_train/bedroom_0113_out/96.jpg', 'data/nyu2_train/bedroom_0113_out/96.png'], ['data/nyu2_train/bedroom_0113_out/26.jpg', 'data/nyu2_train/bedroom_0113_out/26.png'], ['data/nyu2_train/bedroom_0113_out/88.jpg', 'data/nyu2_train/bedroom_0113_out/88.png'], ['data/nyu2_train/bedroom_0113_out/9.jpg', 'data/nyu2_train/bedroom_0113_out/9.png'], ['data/nyu2_train/bedroom_0113_out/109.jpg', 'data/nyu2_train/bedroom_0113_out/109.png'], ['data/nyu2_train/bedroom_0113_out/90.jpg', 'data/nyu2_train/bedroom_0113_out/90.png'], ['data/nyu2_train/kitchen_0011b_out/37.jpg', 'data/nyu2_train/kitchen_0011b_out/37.png'], ['data/nyu2_train/kitchen_0011b_out/115.jpg', 'data/nyu2_train/kitchen_0011b_out/115.png'], ['data/nyu2_train/kitchen_0011b_out/6.jpg', 'data/nyu2_train/kitchen_0011b_out/6.png'], ['data/nyu2_train/kitchen_0011b_out/49.jpg', 'data/nyu2_train/kitchen_0011b_out/49.png'], ['data/nyu2_train/kitchen_0011b_out/94.jpg', 'data/nyu2_train/kitchen_0011b_out/94.png'], ['data/nyu2_train/kitchen_0011b_out/18.jpg', 'data/nyu2_train/kitchen_0011b_out/18.png'], ['data/nyu2_train/kitchen_0011b_out/21.jpg', 'data/nyu2_train/kitchen_0011b_out/21.png'], ['data/nyu2_train/kitchen_0011b_out/48.jpg', 'data/nyu2_train/kitchen_0011b_out/48.png'], ['data/nyu2_train/kitchen_0011b_out/75.jpg', 'data/nyu2_train/kitchen_0011b_out/75.png'], ['data/nyu2_train/kitchen_0011b_out/25.jpg', 'data/nyu2_train/kitchen_0011b_out/25.png'], ['data/nyu2_train/kitchen_0011b_out/13.jpg', 'data/nyu2_train/kitchen_0011b_out/13.png'], ['data/nyu2_train/kitchen_0011b_out/68.jpg', 'data/nyu2_train/kitchen_0011b_out/68.png'], ['data/nyu2_train/kitchen_0011b_out/28.jpg', 'data/nyu2_train/kitchen_0011b_out/28.png'], ['data/nyu2_train/kitchen_0011b_out/85.jpg', 'data/nyu2_train/kitchen_0011b_out/85.png'], ['data/nyu2_train/kitchen_0011b_out/57.jpg', 'data/nyu2_train/kitchen_0011b_out/57.png'], ['data/nyu2_train/kitchen_0011b_out/34.jpg', 'data/nyu2_train/kitchen_0011b_out/34.png'], ['data/nyu2_train/kitchen_0011b_out/118.jpg', 'data/nyu2_train/kitchen_0011b_out/118.png'], ['data/nyu2_train/kitchen_0011b_out/53.jpg', 'data/nyu2_train/kitchen_0011b_out/53.png'], ['data/nyu2_train/kitchen_0011b_out/11.jpg', 'data/nyu2_train/kitchen_0011b_out/11.png'], ['data/nyu2_train/kitchen_0011b_out/46.jpg', 'data/nyu2_train/kitchen_0011b_out/46.png'], ['data/nyu2_train/kitchen_0011b_out/39.jpg', 'data/nyu2_train/kitchen_0011b_out/39.png'], ['data/nyu2_train/kitchen_0011b_out/71.jpg', 'data/nyu2_train/kitchen_0011b_out/71.png'], ['data/nyu2_train/kitchen_0011b_out/29.jpg', 'data/nyu2_train/kitchen_0011b_out/29.png'], ['data/nyu2_train/kitchen_0011b_out/14.jpg', 'data/nyu2_train/kitchen_0011b_out/14.png'], ['data/nyu2_train/kitchen_0011b_out/113.jpg', 'data/nyu2_train/kitchen_0011b_out/113.png'], ['data/nyu2_train/kitchen_0011b_out/30.jpg', 'data/nyu2_train/kitchen_0011b_out/30.png'], ['data/nyu2_train/kitchen_0011b_out/16.jpg', 'data/nyu2_train/kitchen_0011b_out/16.png'], ['data/nyu2_train/kitchen_0011b_out/105.jpg', 'data/nyu2_train/kitchen_0011b_out/105.png'], ['data/nyu2_train/kitchen_0011b_out/62.jpg', 'data/nyu2_train/kitchen_0011b_out/62.png'], ['data/nyu2_train/kitchen_0011b_out/56.jpg', 'data/nyu2_train/kitchen_0011b_out/56.png'], ['data/nyu2_train/kitchen_0011b_out/119.jpg', 'data/nyu2_train/kitchen_0011b_out/119.png'], ['data/nyu2_train/kitchen_0011b_out/42.jpg', 'data/nyu2_train/kitchen_0011b_out/42.png'], ['data/nyu2_train/kitchen_0011b_out/2.jpg', 'data/nyu2_train/kitchen_0011b_out/2.png'], ['data/nyu2_train/kitchen_0011b_out/91.jpg', 'data/nyu2_train/kitchen_0011b_out/91.png'], ['data/nyu2_train/kitchen_0011b_out/93.jpg', 'data/nyu2_train/kitchen_0011b_out/93.png'], ['data/nyu2_train/kitchen_0011b_out/70.jpg', 'data/nyu2_train/kitchen_0011b_out/70.png'], ['data/nyu2_train/kitchen_0011b_out/60.jpg', 'data/nyu2_train/kitchen_0011b_out/60.png'], ['data/nyu2_train/kitchen_0011b_out/3.jpg', 'data/nyu2_train/kitchen_0011b_out/3.png'], ['data/nyu2_train/kitchen_0011b_out/54.jpg', 'data/nyu2_train/kitchen_0011b_out/54.png'], ['data/nyu2_train/kitchen_0011b_out/121.jpg', 'data/nyu2_train/kitchen_0011b_out/121.png'], ['data/nyu2_train/kitchen_0011b_out/122.jpg', 'data/nyu2_train/kitchen_0011b_out/122.png'], ['data/nyu2_train/kitchen_0011b_out/10.jpg', 'data/nyu2_train/kitchen_0011b_out/10.png'], ['data/nyu2_train/kitchen_0011b_out/4.jpg', 'data/nyu2_train/kitchen_0011b_out/4.png'], ['data/nyu2_train/kitchen_0011b_out/12.jpg', 'data/nyu2_train/kitchen_0011b_out/12.png'], ['data/nyu2_train/kitchen_0011b_out/104.jpg', 'data/nyu2_train/kitchen_0011b_out/104.png'], ['data/nyu2_train/kitchen_0011b_out/100.jpg', 'data/nyu2_train/kitchen_0011b_out/100.png'], ['data/nyu2_train/kitchen_0011b_out/64.jpg', 'data/nyu2_train/kitchen_0011b_out/64.png'], ['data/nyu2_train/kitchen_0011b_out/103.jpg', 'data/nyu2_train/kitchen_0011b_out/103.png'], ['data/nyu2_train/kitchen_0011b_out/67.jpg', 'data/nyu2_train/kitchen_0011b_out/67.png'], ['data/nyu2_train/kitchen_0011b_out/114.jpg', 'data/nyu2_train/kitchen_0011b_out/114.png'], ['data/nyu2_train/kitchen_0011b_out/8.jpg', 'data/nyu2_train/kitchen_0011b_out/8.png'], ['data/nyu2_train/kitchen_0011b_out/43.jpg', 'data/nyu2_train/kitchen_0011b_out/43.png'], ['data/nyu2_train/kitchen_0011b_out/17.jpg', 'data/nyu2_train/kitchen_0011b_out/17.png'], ['data/nyu2_train/kitchen_0011b_out/35.jpg', 'data/nyu2_train/kitchen_0011b_out/35.png'], ['data/nyu2_train/kitchen_0011b_out/40.jpg', 'data/nyu2_train/kitchen_0011b_out/40.png'], ['data/nyu2_train/kitchen_0011b_out/55.jpg', 'data/nyu2_train/kitchen_0011b_out/55.png'], ['data/nyu2_train/kitchen_0011b_out/95.jpg', 'data/nyu2_train/kitchen_0011b_out/95.png'], ['data/nyu2_train/kitchen_0011b_out/45.jpg', 'data/nyu2_train/kitchen_0011b_out/45.png'], ['data/nyu2_train/kitchen_0011b_out/82.jpg', 'data/nyu2_train/kitchen_0011b_out/82.png'], ['data/nyu2_train/kitchen_0011b_out/108.jpg', 'data/nyu2_train/kitchen_0011b_out/108.png'], ['data/nyu2_train/kitchen_0011b_out/79.jpg', 'data/nyu2_train/kitchen_0011b_out/79.png'], ['data/nyu2_train/kitchen_0011b_out/31.jpg', 'data/nyu2_train/kitchen_0011b_out/31.png'], ['data/nyu2_train/kitchen_0011b_out/47.jpg', 'data/nyu2_train/kitchen_0011b_out/47.png'], ['data/nyu2_train/kitchen_0011b_out/111.jpg', 'data/nyu2_train/kitchen_0011b_out/111.png'], ['data/nyu2_train/kitchen_0011b_out/41.jpg', 'data/nyu2_train/kitchen_0011b_out/41.png'], ['data/nyu2_train/kitchen_0011b_out/50.jpg', 'data/nyu2_train/kitchen_0011b_out/50.png'], ['data/nyu2_train/kitchen_0011b_out/19.jpg', 'data/nyu2_train/kitchen_0011b_out/19.png'], ['data/nyu2_train/kitchen_0011b_out/58.jpg', 'data/nyu2_train/kitchen_0011b_out/58.png'], ['data/nyu2_train/kitchen_0011b_out/98.jpg', 'data/nyu2_train/kitchen_0011b_out/98.png'], ['data/nyu2_train/kitchen_0011b_out/76.jpg', 'data/nyu2_train/kitchen_0011b_out/76.png'], ['data/nyu2_train/kitchen_0011b_out/69.jpg', 'data/nyu2_train/kitchen_0011b_out/69.png'], ['data/nyu2_train/kitchen_0011b_out/5.jpg', 'data/nyu2_train/kitchen_0011b_out/5.png'], ['data/nyu2_train/kitchen_0011b_out/101.jpg', 'data/nyu2_train/kitchen_0011b_out/101.png'], ['data/nyu2_train/kitchen_0011b_out/112.jpg', 'data/nyu2_train/kitchen_0011b_out/112.png'], ['data/nyu2_train/kitchen_0011b_out/1.jpg', 'data/nyu2_train/kitchen_0011b_out/1.png'], ['data/nyu2_train/kitchen_0011b_out/84.jpg', 'data/nyu2_train/kitchen_0011b_out/84.png'], ['data/nyu2_train/kitchen_0011b_out/92.jpg', 'data/nyu2_train/kitchen_0011b_out/92.png'], ['data/nyu2_train/kitchen_0011b_out/107.jpg', 'data/nyu2_train/kitchen_0011b_out/107.png'], ['data/nyu2_train/kitchen_0011b_out/51.jpg', 'data/nyu2_train/kitchen_0011b_out/51.png'], ['data/nyu2_train/kitchen_0011b_out/7.jpg', 'data/nyu2_train/kitchen_0011b_out/7.png'], ['data/nyu2_train/kitchen_0011b_out/97.jpg', 'data/nyu2_train/kitchen_0011b_out/97.png'], ['data/nyu2_train/kitchen_0011b_out/15.jpg', 'data/nyu2_train/kitchen_0011b_out/15.png'], ['data/nyu2_train/kitchen_0011b_out/77.jpg', 'data/nyu2_train/kitchen_0011b_out/77.png'], ['data/nyu2_train/kitchen_0011b_out/117.jpg', 'data/nyu2_train/kitchen_0011b_out/117.png'], ['data/nyu2_train/kitchen_0011b_out/89.jpg', 'data/nyu2_train/kitchen_0011b_out/89.png'], ['data/nyu2_train/kitchen_0011b_out/102.jpg', 'data/nyu2_train/kitchen_0011b_out/102.png'], ['data/nyu2_train/kitchen_0011b_out/99.jpg', 'data/nyu2_train/kitchen_0011b_out/99.png'], ['data/nyu2_train/kitchen_0011b_out/72.jpg', 'data/nyu2_train/kitchen_0011b_out/72.png'], ['data/nyu2_train/kitchen_0011b_out/81.jpg', 'data/nyu2_train/kitchen_0011b_out/81.png'], ['data/nyu2_train/kitchen_0011b_out/33.jpg', 'data/nyu2_train/kitchen_0011b_out/33.png'], ['data/nyu2_train/kitchen_0011b_out/27.jpg', 'data/nyu2_train/kitchen_0011b_out/27.png'], ['data/nyu2_train/kitchen_0011b_out/38.jpg', 'data/nyu2_train/kitchen_0011b_out/38.png'], ['data/nyu2_train/kitchen_0011b_out/78.jpg', 'data/nyu2_train/kitchen_0011b_out/78.png'], ['data/nyu2_train/kitchen_0011b_out/73.jpg', 'data/nyu2_train/kitchen_0011b_out/73.png'], ['data/nyu2_train/kitchen_0011b_out/110.jpg', 'data/nyu2_train/kitchen_0011b_out/110.png'], ['data/nyu2_train/kitchen_0011b_out/83.jpg', 'data/nyu2_train/kitchen_0011b_out/83.png'], ['data/nyu2_train/kitchen_0011b_out/87.jpg', 'data/nyu2_train/kitchen_0011b_out/87.png'], ['data/nyu2_train/kitchen_0011b_out/59.jpg', 'data/nyu2_train/kitchen_0011b_out/59.png'], ['data/nyu2_train/kitchen_0011b_out/36.jpg', 'data/nyu2_train/kitchen_0011b_out/36.png'], ['data/nyu2_train/kitchen_0011b_out/20.jpg', 'data/nyu2_train/kitchen_0011b_out/20.png'], ['data/nyu2_train/kitchen_0011b_out/106.jpg', 'data/nyu2_train/kitchen_0011b_out/106.png'], ['data/nyu2_train/kitchen_0011b_out/65.jpg', 'data/nyu2_train/kitchen_0011b_out/65.png'], ['data/nyu2_train/kitchen_0011b_out/120.jpg', 'data/nyu2_train/kitchen_0011b_out/120.png'], ['data/nyu2_train/kitchen_0011b_out/86.jpg', 'data/nyu2_train/kitchen_0011b_out/86.png'], ['data/nyu2_train/kitchen_0011b_out/44.jpg', 'data/nyu2_train/kitchen_0011b_out/44.png'], ['data/nyu2_train/kitchen_0011b_out/63.jpg', 'data/nyu2_train/kitchen_0011b_out/63.png'], ['data/nyu2_train/kitchen_0011b_out/116.jpg', 'data/nyu2_train/kitchen_0011b_out/116.png'], ['data/nyu2_train/kitchen_0011b_out/61.jpg', 'data/nyu2_train/kitchen_0011b_out/61.png'], ['data/nyu2_train/kitchen_0011b_out/32.jpg', 'data/nyu2_train/kitchen_0011b_out/32.png'], ['data/nyu2_train/kitchen_0011b_out/123.jpg', 'data/nyu2_train/kitchen_0011b_out/123.png'], ['data/nyu2_train/kitchen_0011b_out/23.jpg', 'data/nyu2_train/kitchen_0011b_out/23.png'], ['data/nyu2_train/kitchen_0011b_out/74.jpg', 'data/nyu2_train/kitchen_0011b_out/74.png'], ['data/nyu2_train/kitchen_0011b_out/52.jpg', 'data/nyu2_train/kitchen_0011b_out/52.png'], ['data/nyu2_train/kitchen_0011b_out/66.jpg', 'data/nyu2_train/kitchen_0011b_out/66.png'], ['data/nyu2_train/kitchen_0011b_out/24.jpg', 'data/nyu2_train/kitchen_0011b_out/24.png'], ['data/nyu2_train/kitchen_0011b_out/22.jpg', 'data/nyu2_train/kitchen_0011b_out/22.png'], ['data/nyu2_train/kitchen_0011b_out/80.jpg', 'data/nyu2_train/kitchen_0011b_out/80.png'], ['data/nyu2_train/kitchen_0011b_out/96.jpg', 'data/nyu2_train/kitchen_0011b_out/96.png'], ['data/nyu2_train/kitchen_0011b_out/26.jpg', 'data/nyu2_train/kitchen_0011b_out/26.png'], ['data/nyu2_train/kitchen_0011b_out/88.jpg', 'data/nyu2_train/kitchen_0011b_out/88.png'], ['data/nyu2_train/kitchen_0011b_out/9.jpg', 'data/nyu2_train/kitchen_0011b_out/9.png'], ['data/nyu2_train/kitchen_0011b_out/109.jpg', 'data/nyu2_train/kitchen_0011b_out/109.png'], ['data/nyu2_train/kitchen_0011b_out/90.jpg', 'data/nyu2_train/kitchen_0011b_out/90.png'], ['data/nyu2_train/living_room_0035_out/37.jpg', 'data/nyu2_train/living_room_0035_out/37.png'], ['data/nyu2_train/living_room_0035_out/115.jpg', 'data/nyu2_train/living_room_0035_out/115.png'], ['data/nyu2_train/living_room_0035_out/6.jpg', 'data/nyu2_train/living_room_0035_out/6.png'], ['data/nyu2_train/living_room_0035_out/49.jpg', 'data/nyu2_train/living_room_0035_out/49.png'], ['data/nyu2_train/living_room_0035_out/152.jpg', 'data/nyu2_train/living_room_0035_out/152.png'], ['data/nyu2_train/living_room_0035_out/142.jpg', 'data/nyu2_train/living_room_0035_out/142.png'], ['data/nyu2_train/living_room_0035_out/94.jpg', 'data/nyu2_train/living_room_0035_out/94.png'], ['data/nyu2_train/living_room_0035_out/158.jpg', 'data/nyu2_train/living_room_0035_out/158.png'], ['data/nyu2_train/living_room_0035_out/18.jpg', 'data/nyu2_train/living_room_0035_out/18.png'], ['data/nyu2_train/living_room_0035_out/21.jpg', 'data/nyu2_train/living_room_0035_out/21.png'], ['data/nyu2_train/living_room_0035_out/48.jpg', 'data/nyu2_train/living_room_0035_out/48.png'], ['data/nyu2_train/living_room_0035_out/75.jpg', 'data/nyu2_train/living_room_0035_out/75.png'], ['data/nyu2_train/living_room_0035_out/25.jpg', 'data/nyu2_train/living_room_0035_out/25.png'], ['data/nyu2_train/living_room_0035_out/13.jpg', 'data/nyu2_train/living_room_0035_out/13.png'], ['data/nyu2_train/living_room_0035_out/68.jpg', 'data/nyu2_train/living_room_0035_out/68.png'], ['data/nyu2_train/living_room_0035_out/28.jpg', 'data/nyu2_train/living_room_0035_out/28.png'], ['data/nyu2_train/living_room_0035_out/85.jpg', 'data/nyu2_train/living_room_0035_out/85.png'], ['data/nyu2_train/living_room_0035_out/57.jpg', 'data/nyu2_train/living_room_0035_out/57.png'], ['data/nyu2_train/living_room_0035_out/34.jpg', 'data/nyu2_train/living_room_0035_out/34.png'], ['data/nyu2_train/living_room_0035_out/118.jpg', 'data/nyu2_train/living_room_0035_out/118.png'], ['data/nyu2_train/living_room_0035_out/53.jpg', 'data/nyu2_train/living_room_0035_out/53.png'], ['data/nyu2_train/living_room_0035_out/11.jpg', 'data/nyu2_train/living_room_0035_out/11.png'], ['data/nyu2_train/living_room_0035_out/46.jpg', 'data/nyu2_train/living_room_0035_out/46.png'], ['data/nyu2_train/living_room_0035_out/135.jpg', 'data/nyu2_train/living_room_0035_out/135.png'], ['data/nyu2_train/living_room_0035_out/39.jpg', 'data/nyu2_train/living_room_0035_out/39.png'], ['data/nyu2_train/living_room_0035_out/71.jpg', 'data/nyu2_train/living_room_0035_out/71.png'], ['data/nyu2_train/living_room_0035_out/29.jpg', 'data/nyu2_train/living_room_0035_out/29.png'], ['data/nyu2_train/living_room_0035_out/14.jpg', 'data/nyu2_train/living_room_0035_out/14.png'], ['data/nyu2_train/living_room_0035_out/113.jpg', 'data/nyu2_train/living_room_0035_out/113.png'], ['data/nyu2_train/living_room_0035_out/138.jpg', 'data/nyu2_train/living_room_0035_out/138.png'], ['data/nyu2_train/living_room_0035_out/30.jpg', 'data/nyu2_train/living_room_0035_out/30.png'], ['data/nyu2_train/living_room_0035_out/16.jpg', 'data/nyu2_train/living_room_0035_out/16.png'], ['data/nyu2_train/living_room_0035_out/105.jpg', 'data/nyu2_train/living_room_0035_out/105.png'], ['data/nyu2_train/living_room_0035_out/62.jpg', 'data/nyu2_train/living_room_0035_out/62.png'], ['data/nyu2_train/living_room_0035_out/56.jpg', 'data/nyu2_train/living_room_0035_out/56.png'], ['data/nyu2_train/living_room_0035_out/119.jpg', 'data/nyu2_train/living_room_0035_out/119.png'], ['data/nyu2_train/living_room_0035_out/42.jpg', 'data/nyu2_train/living_room_0035_out/42.png'], ['data/nyu2_train/living_room_0035_out/2.jpg', 'data/nyu2_train/living_room_0035_out/2.png'], ['data/nyu2_train/living_room_0035_out/129.jpg', 'data/nyu2_train/living_room_0035_out/129.png'], ['data/nyu2_train/living_room_0035_out/160.jpg', 'data/nyu2_train/living_room_0035_out/160.png'], ['data/nyu2_train/living_room_0035_out/126.jpg', 'data/nyu2_train/living_room_0035_out/126.png'], ['data/nyu2_train/living_room_0035_out/91.jpg', 'data/nyu2_train/living_room_0035_out/91.png'], ['data/nyu2_train/living_room_0035_out/93.jpg', 'data/nyu2_train/living_room_0035_out/93.png'], ['data/nyu2_train/living_room_0035_out/70.jpg', 'data/nyu2_train/living_room_0035_out/70.png'], ['data/nyu2_train/living_room_0035_out/60.jpg', 'data/nyu2_train/living_room_0035_out/60.png'], ['data/nyu2_train/living_room_0035_out/3.jpg', 'data/nyu2_train/living_room_0035_out/3.png'], ['data/nyu2_train/living_room_0035_out/132.jpg', 'data/nyu2_train/living_room_0035_out/132.png'], ['data/nyu2_train/living_room_0035_out/54.jpg', 'data/nyu2_train/living_room_0035_out/54.png'], ['data/nyu2_train/living_room_0035_out/146.jpg', 'data/nyu2_train/living_room_0035_out/146.png'], ['data/nyu2_train/living_room_0035_out/121.jpg', 'data/nyu2_train/living_room_0035_out/121.png'], ['data/nyu2_train/living_room_0035_out/122.jpg', 'data/nyu2_train/living_room_0035_out/122.png'], ['data/nyu2_train/living_room_0035_out/130.jpg', 'data/nyu2_train/living_room_0035_out/130.png'], ['data/nyu2_train/living_room_0035_out/10.jpg', 'data/nyu2_train/living_room_0035_out/10.png'], ['data/nyu2_train/living_room_0035_out/4.jpg', 'data/nyu2_train/living_room_0035_out/4.png'], ['data/nyu2_train/living_room_0035_out/153.jpg', 'data/nyu2_train/living_room_0035_out/153.png'], ['data/nyu2_train/living_room_0035_out/12.jpg', 'data/nyu2_train/living_room_0035_out/12.png'], ['data/nyu2_train/living_room_0035_out/104.jpg', 'data/nyu2_train/living_room_0035_out/104.png'], ['data/nyu2_train/living_room_0035_out/134.jpg', 'data/nyu2_train/living_room_0035_out/134.png'], ['data/nyu2_train/living_room_0035_out/100.jpg', 'data/nyu2_train/living_room_0035_out/100.png'], ['data/nyu2_train/living_room_0035_out/64.jpg', 'data/nyu2_train/living_room_0035_out/64.png'], ['data/nyu2_train/living_room_0035_out/147.jpg', 'data/nyu2_train/living_room_0035_out/147.png'], ['data/nyu2_train/living_room_0035_out/103.jpg', 'data/nyu2_train/living_room_0035_out/103.png'], ['data/nyu2_train/living_room_0035_out/67.jpg', 'data/nyu2_train/living_room_0035_out/67.png'], ['data/nyu2_train/living_room_0035_out/114.jpg', 'data/nyu2_train/living_room_0035_out/114.png'], ['data/nyu2_train/living_room_0035_out/8.jpg', 'data/nyu2_train/living_room_0035_out/8.png'], ['data/nyu2_train/living_room_0035_out/127.jpg', 'data/nyu2_train/living_room_0035_out/127.png'], ['data/nyu2_train/living_room_0035_out/43.jpg', 'data/nyu2_train/living_room_0035_out/43.png'], ['data/nyu2_train/living_room_0035_out/144.jpg', 'data/nyu2_train/living_room_0035_out/144.png'], ['data/nyu2_train/living_room_0035_out/17.jpg', 'data/nyu2_train/living_room_0035_out/17.png'], ['data/nyu2_train/living_room_0035_out/151.jpg', 'data/nyu2_train/living_room_0035_out/151.png'], ['data/nyu2_train/living_room_0035_out/35.jpg', 'data/nyu2_train/living_room_0035_out/35.png'], ['data/nyu2_train/living_room_0035_out/40.jpg', 'data/nyu2_train/living_room_0035_out/40.png'], ['data/nyu2_train/living_room_0035_out/55.jpg', 'data/nyu2_train/living_room_0035_out/55.png'], ['data/nyu2_train/living_room_0035_out/95.jpg', 'data/nyu2_train/living_room_0035_out/95.png'], ['data/nyu2_train/living_room_0035_out/45.jpg', 'data/nyu2_train/living_room_0035_out/45.png'], ['data/nyu2_train/living_room_0035_out/82.jpg', 'data/nyu2_train/living_room_0035_out/82.png'], ['data/nyu2_train/living_room_0035_out/108.jpg', 'data/nyu2_train/living_room_0035_out/108.png'], ['data/nyu2_train/living_room_0035_out/79.jpg', 'data/nyu2_train/living_room_0035_out/79.png'], ['data/nyu2_train/living_room_0035_out/31.jpg', 'data/nyu2_train/living_room_0035_out/31.png'], ['data/nyu2_train/living_room_0035_out/137.jpg', 'data/nyu2_train/living_room_0035_out/137.png'], ['data/nyu2_train/living_room_0035_out/47.jpg', 'data/nyu2_train/living_room_0035_out/47.png'], ['data/nyu2_train/living_room_0035_out/111.jpg', 'data/nyu2_train/living_room_0035_out/111.png'], ['data/nyu2_train/living_room_0035_out/41.jpg', 'data/nyu2_train/living_room_0035_out/41.png'], ['data/nyu2_train/living_room_0035_out/50.jpg', 'data/nyu2_train/living_room_0035_out/50.png'], ['data/nyu2_train/living_room_0035_out/140.jpg', 'data/nyu2_train/living_room_0035_out/140.png'], ['data/nyu2_train/living_room_0035_out/19.jpg', 'data/nyu2_train/living_room_0035_out/19.png'], ['data/nyu2_train/living_room_0035_out/58.jpg', 'data/nyu2_train/living_room_0035_out/58.png'], ['data/nyu2_train/living_room_0035_out/98.jpg', 'data/nyu2_train/living_room_0035_out/98.png'], ['data/nyu2_train/living_room_0035_out/76.jpg', 'data/nyu2_train/living_room_0035_out/76.png'], ['data/nyu2_train/living_room_0035_out/124.jpg', 'data/nyu2_train/living_room_0035_out/124.png'], ['data/nyu2_train/living_room_0035_out/128.jpg', 'data/nyu2_train/living_room_0035_out/128.png'], ['data/nyu2_train/living_room_0035_out/149.jpg', 'data/nyu2_train/living_room_0035_out/149.png'], ['data/nyu2_train/living_room_0035_out/69.jpg', 'data/nyu2_train/living_room_0035_out/69.png'], ['data/nyu2_train/living_room_0035_out/155.jpg', 'data/nyu2_train/living_room_0035_out/155.png'], ['data/nyu2_train/living_room_0035_out/5.jpg', 'data/nyu2_train/living_room_0035_out/5.png'], ['data/nyu2_train/living_room_0035_out/131.jpg', 'data/nyu2_train/living_room_0035_out/131.png'], ['data/nyu2_train/living_room_0035_out/101.jpg', 'data/nyu2_train/living_room_0035_out/101.png'], ['data/nyu2_train/living_room_0035_out/112.jpg', 'data/nyu2_train/living_room_0035_out/112.png'], ['data/nyu2_train/living_room_0035_out/1.jpg', 'data/nyu2_train/living_room_0035_out/1.png'], ['data/nyu2_train/living_room_0035_out/148.jpg', 'data/nyu2_train/living_room_0035_out/148.png'], ['data/nyu2_train/living_room_0035_out/84.jpg', 'data/nyu2_train/living_room_0035_out/84.png'], ['data/nyu2_train/living_room_0035_out/92.jpg', 'data/nyu2_train/living_room_0035_out/92.png'], ['data/nyu2_train/living_room_0035_out/133.jpg', 'data/nyu2_train/living_room_0035_out/133.png'], ['data/nyu2_train/living_room_0035_out/150.jpg', 'data/nyu2_train/living_room_0035_out/150.png'], ['data/nyu2_train/living_room_0035_out/107.jpg', 'data/nyu2_train/living_room_0035_out/107.png'], ['data/nyu2_train/living_room_0035_out/136.jpg', 'data/nyu2_train/living_room_0035_out/136.png'], ['data/nyu2_train/living_room_0035_out/51.jpg', 'data/nyu2_train/living_room_0035_out/51.png'], ['data/nyu2_train/living_room_0035_out/7.jpg', 'data/nyu2_train/living_room_0035_out/7.png'], ['data/nyu2_train/living_room_0035_out/97.jpg', 'data/nyu2_train/living_room_0035_out/97.png'], ['data/nyu2_train/living_room_0035_out/15.jpg', 'data/nyu2_train/living_room_0035_out/15.png'], ['data/nyu2_train/living_room_0035_out/156.jpg', 'data/nyu2_train/living_room_0035_out/156.png'], ['data/nyu2_train/living_room_0035_out/77.jpg', 'data/nyu2_train/living_room_0035_out/77.png'], ['data/nyu2_train/living_room_0035_out/117.jpg', 'data/nyu2_train/living_room_0035_out/117.png'], ['data/nyu2_train/living_room_0035_out/125.jpg', 'data/nyu2_train/living_room_0035_out/125.png'], ['data/nyu2_train/living_room_0035_out/89.jpg', 'data/nyu2_train/living_room_0035_out/89.png'], ['data/nyu2_train/living_room_0035_out/102.jpg', 'data/nyu2_train/living_room_0035_out/102.png'], ['data/nyu2_train/living_room_0035_out/99.jpg', 'data/nyu2_train/living_room_0035_out/99.png'], ['data/nyu2_train/living_room_0035_out/72.jpg', 'data/nyu2_train/living_room_0035_out/72.png'], ['data/nyu2_train/living_room_0035_out/157.jpg', 'data/nyu2_train/living_room_0035_out/157.png'], ['data/nyu2_train/living_room_0035_out/81.jpg', 'data/nyu2_train/living_room_0035_out/81.png'], ['data/nyu2_train/living_room_0035_out/33.jpg', 'data/nyu2_train/living_room_0035_out/33.png'], ['data/nyu2_train/living_room_0035_out/27.jpg', 'data/nyu2_train/living_room_0035_out/27.png'], ['data/nyu2_train/living_room_0035_out/139.jpg', 'data/nyu2_train/living_room_0035_out/139.png'], ['data/nyu2_train/living_room_0035_out/38.jpg', 'data/nyu2_train/living_room_0035_out/38.png'], ['data/nyu2_train/living_room_0035_out/154.jpg', 'data/nyu2_train/living_room_0035_out/154.png'], ['data/nyu2_train/living_room_0035_out/78.jpg', 'data/nyu2_train/living_room_0035_out/78.png'], ['data/nyu2_train/living_room_0035_out/73.jpg', 'data/nyu2_train/living_room_0035_out/73.png'], ['data/nyu2_train/living_room_0035_out/159.jpg', 'data/nyu2_train/living_room_0035_out/159.png'], ['data/nyu2_train/living_room_0035_out/110.jpg', 'data/nyu2_train/living_room_0035_out/110.png'], ['data/nyu2_train/living_room_0035_out/143.jpg', 'data/nyu2_train/living_room_0035_out/143.png'], ['data/nyu2_train/living_room_0035_out/83.jpg', 'data/nyu2_train/living_room_0035_out/83.png'], ['data/nyu2_train/living_room_0035_out/87.jpg', 'data/nyu2_train/living_room_0035_out/87.png'], ['data/nyu2_train/living_room_0035_out/59.jpg', 'data/nyu2_train/living_room_0035_out/59.png'], ['data/nyu2_train/living_room_0035_out/36.jpg', 'data/nyu2_train/living_room_0035_out/36.png'], ['data/nyu2_train/living_room_0035_out/20.jpg', 'data/nyu2_train/living_room_0035_out/20.png'], ['data/nyu2_train/living_room_0035_out/106.jpg', 'data/nyu2_train/living_room_0035_out/106.png'], ['data/nyu2_train/living_room_0035_out/145.jpg', 'data/nyu2_train/living_room_0035_out/145.png'], ['data/nyu2_train/living_room_0035_out/65.jpg', 'data/nyu2_train/living_room_0035_out/65.png'], ['data/nyu2_train/living_room_0035_out/120.jpg', 'data/nyu2_train/living_room_0035_out/120.png'], ['data/nyu2_train/living_room_0035_out/86.jpg', 'data/nyu2_train/living_room_0035_out/86.png'], ['data/nyu2_train/living_room_0035_out/44.jpg', 'data/nyu2_train/living_room_0035_out/44.png'], ['data/nyu2_train/living_room_0035_out/63.jpg', 'data/nyu2_train/living_room_0035_out/63.png'], ['data/nyu2_train/living_room_0035_out/116.jpg', 'data/nyu2_train/living_room_0035_out/116.png'], ['data/nyu2_train/living_room_0035_out/61.jpg', 'data/nyu2_train/living_room_0035_out/61.png'], ['data/nyu2_train/living_room_0035_out/32.jpg', 'data/nyu2_train/living_room_0035_out/32.png'], ['data/nyu2_train/living_room_0035_out/123.jpg', 'data/nyu2_train/living_room_0035_out/123.png'], ['data/nyu2_train/living_room_0035_out/23.jpg', 'data/nyu2_train/living_room_0035_out/23.png'], ['data/nyu2_train/living_room_0035_out/74.jpg', 'data/nyu2_train/living_room_0035_out/74.png'], ['data/nyu2_train/living_room_0035_out/141.jpg', 'data/nyu2_train/living_room_0035_out/141.png'], ['data/nyu2_train/living_room_0035_out/52.jpg', 'data/nyu2_train/living_room_0035_out/52.png'], ['data/nyu2_train/living_room_0035_out/66.jpg', 'data/nyu2_train/living_room_0035_out/66.png'], ['data/nyu2_train/living_room_0035_out/24.jpg', 'data/nyu2_train/living_room_0035_out/24.png'], ['data/nyu2_train/living_room_0035_out/22.jpg', 'data/nyu2_train/living_room_0035_out/22.png'], ['data/nyu2_train/living_room_0035_out/80.jpg', 'data/nyu2_train/living_room_0035_out/80.png'], ['data/nyu2_train/living_room_0035_out/96.jpg', 'data/nyu2_train/living_room_0035_out/96.png'], ['data/nyu2_train/living_room_0035_out/26.jpg', 'data/nyu2_train/living_room_0035_out/26.png'], ['data/nyu2_train/living_room_0035_out/88.jpg', 'data/nyu2_train/living_room_0035_out/88.png'], ['data/nyu2_train/living_room_0035_out/9.jpg', 'data/nyu2_train/living_room_0035_out/9.png'], ['data/nyu2_train/living_room_0035_out/109.jpg', 'data/nyu2_train/living_room_0035_out/109.png'], ['data/nyu2_train/living_room_0035_out/90.jpg', 'data/nyu2_train/living_room_0035_out/90.png']]\n"
     ]
    },
    {
     "name": "stderr",
     "output_type": "stream",
     "text": [
      "WARNING:absl:At this time, the v2.11+ optimizer `tf.keras.optimizers.Adam` runs slowly on M1/M2 Macs, please use the legacy Keras optimizer instead, located at `tf.keras.optimizers.legacy.Adam`.\n",
      "WARNING:absl:There is a known slowdown when using v2.11+ Keras optimizers on M1/M2 Macs. Falling back to the legacy Keras optimizer, i.e., `tf.keras.optimizers.legacy.Adam`.\n"
     ]
    },
    {
     "name": "stdout",
     "output_type": "stream",
     "text": [
      "Base model loaded DenseNet169\n",
      "\n",
      "Model created.\n",
      "Epoch 1/7\n",
      "71/71 [==============================] - ETA: 0s - loss: 1.2211WARNING:tensorflow:Can save best model only with val_loss available, skipping.\n"
     ]
    },
    {
     "name": "stderr",
     "output_type": "stream",
     "text": [
      "WARNING:tensorflow:Can save best model only with val_loss available, skipping.\n"
     ]
    },
    {
     "name": "stdout",
     "output_type": "stream",
     "text": [
      "71/71 [==============================] - 133s 2s/step - loss: 1.2211\n",
      "Epoch 2/7\n",
      "71/71 [==============================] - ETA: 0s - loss: 0.7926WARNING:tensorflow:Can save best model only with val_loss available, skipping.\n"
     ]
    },
    {
     "name": "stderr",
     "output_type": "stream",
     "text": [
      "WARNING:tensorflow:Can save best model only with val_loss available, skipping.\n"
     ]
    },
    {
     "name": "stdout",
     "output_type": "stream",
     "text": [
      "71/71 [==============================] - 119s 2s/step - loss: 0.7926\n",
      "Epoch 3/7\n",
      "71/71 [==============================] - ETA: 0s - loss: 0.5979WARNING:tensorflow:Can save best model only with val_loss available, skipping.\n"
     ]
    },
    {
     "name": "stderr",
     "output_type": "stream",
     "text": [
      "WARNING:tensorflow:Can save best model only with val_loss available, skipping.\n"
     ]
    },
    {
     "name": "stdout",
     "output_type": "stream",
     "text": [
      "71/71 [==============================] - 118s 2s/step - loss: 0.5979\n",
      "Epoch 4/7\n",
      "71/71 [==============================] - ETA: 0s - loss: 0.4851WARNING:tensorflow:Can save best model only with val_loss available, skipping.\n"
     ]
    },
    {
     "name": "stderr",
     "output_type": "stream",
     "text": [
      "WARNING:tensorflow:Can save best model only with val_loss available, skipping.\n"
     ]
    },
    {
     "name": "stdout",
     "output_type": "stream",
     "text": [
      "71/71 [==============================] - 120s 2s/step - loss: 0.4851\n",
      "Epoch 5/7\n",
      "71/71 [==============================] - ETA: 0s - loss: 0.4412WARNING:tensorflow:Can save best model only with val_loss available, skipping.\n"
     ]
    },
    {
     "name": "stderr",
     "output_type": "stream",
     "text": [
      "WARNING:tensorflow:Can save best model only with val_loss available, skipping.\n"
     ]
    },
    {
     "name": "stdout",
     "output_type": "stream",
     "text": [
      "71/71 [==============================] - 119s 2s/step - loss: 0.4412\n",
      "Epoch 6/7\n",
      "71/71 [==============================] - ETA: 0s - loss: 0.4264WARNING:tensorflow:Can save best model only with val_loss available, skipping.\n"
     ]
    },
    {
     "name": "stderr",
     "output_type": "stream",
     "text": [
      "WARNING:tensorflow:Can save best model only with val_loss available, skipping.\n"
     ]
    },
    {
     "name": "stdout",
     "output_type": "stream",
     "text": [
      "71/71 [==============================] - 119s 2s/step - loss: 0.4264\n",
      "Epoch 7/7\n",
      "71/71 [==============================] - ETA: 0s - loss: 0.3696WARNING:tensorflow:Can save best model only with val_loss available, skipping.\n"
     ]
    },
    {
     "name": "stderr",
     "output_type": "stream",
     "text": [
      "WARNING:tensorflow:Can save best model only with val_loss available, skipping.\n"
     ]
    },
    {
     "name": "stdout",
     "output_type": "stream",
     "text": [
      "\b\b\b\b\b\b\b\b\b\b\b\b\b\b\b\b\b\b\b\b\b\b\b\b\b\b\b\b\b\b\b\b\b\b\b\b\b\b\b\b\b\b\b\b\b\b\b\b\b\b\b\b\b\b\b\b\b\b\b\b\b\b\b\r",
      "71/71 [==============================] - 119s 2s/step - loss: 0.3696\n"
     ]
    },
    {
     "name": "stderr",
     "output_type": "stream",
     "text": [
      "WARNING:absl:At this time, the v2.11+ optimizer `tf.keras.optimizers.Adam` runs slowly on M1/M2 Macs, please use the legacy Keras optimizer instead, located at `tf.keras.optimizers.legacy.Adam`.\n",
      "WARNING:absl:There is a known slowdown when using v2.11+ Keras optimizers on M1/M2 Macs. Falling back to the legacy Keras optimizer, i.e., `tf.keras.optimizers.legacy.Adam`.\n"
     ]
    },
    {
     "name": "stdout",
     "output_type": "stream",
     "text": [
      "Base model loaded DenseNet169\n",
      "\n",
      "Model created.\n",
      "Epoch 1/7\n",
      "71/71 [==============================] - ETA: 0s - loss: 1.3728WARNING:tensorflow:Can save best model only with val_loss available, skipping.\n"
     ]
    },
    {
     "name": "stderr",
     "output_type": "stream",
     "text": [
      "WARNING:tensorflow:Can save best model only with val_loss available, skipping.\n"
     ]
    },
    {
     "name": "stdout",
     "output_type": "stream",
     "text": [
      "71/71 [==============================] - 146s 2s/step - loss: 1.3728\n",
      "Epoch 2/7\n",
      "71/71 [==============================] - ETA: 0s - loss: 0.8435WARNING:tensorflow:Can save best model only with val_loss available, skipping.\n"
     ]
    },
    {
     "name": "stderr",
     "output_type": "stream",
     "text": [
      "WARNING:tensorflow:Can save best model only with val_loss available, skipping.\n"
     ]
    },
    {
     "name": "stdout",
     "output_type": "stream",
     "text": [
      "71/71 [==============================] - 124s 2s/step - loss: 0.8435\n",
      "Epoch 3/7\n",
      "71/71 [==============================] - ETA: 0s - loss: 0.6401WARNING:tensorflow:Can save best model only with val_loss available, skipping.\n"
     ]
    },
    {
     "name": "stderr",
     "output_type": "stream",
     "text": [
      "WARNING:tensorflow:Can save best model only with val_loss available, skipping.\n"
     ]
    },
    {
     "name": "stdout",
     "output_type": "stream",
     "text": [
      "71/71 [==============================] - 126s 2s/step - loss: 0.6401\n",
      "Epoch 4/7\n",
      "71/71 [==============================] - ETA: 0s - loss: 0.6237WARNING:tensorflow:Can save best model only with val_loss available, skipping.\n"
     ]
    },
    {
     "name": "stderr",
     "output_type": "stream",
     "text": [
      "WARNING:tensorflow:Can save best model only with val_loss available, skipping.\n"
     ]
    },
    {
     "name": "stdout",
     "output_type": "stream",
     "text": [
      "71/71 [==============================] - 125s 2s/step - loss: 0.6237\n",
      "Epoch 5/7\n",
      "71/71 [==============================] - ETA: 0s - loss: 0.4891WARNING:tensorflow:Can save best model only with val_loss available, skipping.\n"
     ]
    },
    {
     "name": "stderr",
     "output_type": "stream",
     "text": [
      "WARNING:tensorflow:Can save best model only with val_loss available, skipping.\n"
     ]
    },
    {
     "name": "stdout",
     "output_type": "stream",
     "text": [
      "71/71 [==============================] - 122s 2s/step - loss: 0.4891\n",
      "Epoch 6/7\n",
      "71/71 [==============================] - ETA: 0s - loss: 0.4519WARNING:tensorflow:Can save best model only with val_loss available, skipping.\n"
     ]
    },
    {
     "name": "stderr",
     "output_type": "stream",
     "text": [
      "WARNING:tensorflow:Can save best model only with val_loss available, skipping.\n"
     ]
    },
    {
     "name": "stdout",
     "output_type": "stream",
     "text": [
      "71/71 [==============================] - 124s 2s/step - loss: 0.4519\n",
      "Epoch 7/7\n",
      "71/71 [==============================] - ETA: 0s - loss: 0.4137WARNING:tensorflow:Can save best model only with val_loss available, skipping.\n"
     ]
    },
    {
     "name": "stderr",
     "output_type": "stream",
     "text": [
      "WARNING:tensorflow:Can save best model only with val_loss available, skipping.\n"
     ]
    },
    {
     "name": "stdout",
     "output_type": "stream",
     "text": [
      "\b\b\b\b\b\b\b\b\b\b\b\b\b\b\b\b\b\b\b\b\b\b\b\b\b\b\b\b\b\b\b\b\b\b\b\b\b\b\b\b\b\b\b\b\b\b\b\b\b\b\b\b\b\b\b\b\b\b\b\b\b\b\b\r",
      "71/71 [==============================] - 122s 2s/step - loss: 0.4137\n"
     ]
    },
    {
     "name": "stderr",
     "output_type": "stream",
     "text": [
      "WARNING:absl:At this time, the v2.11+ optimizer `tf.keras.optimizers.Adam` runs slowly on M1/M2 Macs, please use the legacy Keras optimizer instead, located at `tf.keras.optimizers.legacy.Adam`.\n",
      "WARNING:absl:There is a known slowdown when using v2.11+ Keras optimizers on M1/M2 Macs. Falling back to the legacy Keras optimizer, i.e., `tf.keras.optimizers.legacy.Adam`.\n"
     ]
    },
    {
     "name": "stdout",
     "output_type": "stream",
     "text": [
      "Base model loaded DenseNet169\n",
      "\n",
      "Model created.\n",
      "Epoch 1/7\n",
      "71/71 [==============================] - ETA: 0s - loss: 1.3209WARNING:tensorflow:Can save best model only with val_loss available, skipping.\n"
     ]
    },
    {
     "name": "stderr",
     "output_type": "stream",
     "text": [
      "WARNING:tensorflow:Can save best model only with val_loss available, skipping.\n"
     ]
    },
    {
     "name": "stdout",
     "output_type": "stream",
     "text": [
      "71/71 [==============================] - 158s 2s/step - loss: 1.3209\n",
      "Epoch 2/7\n",
      "71/71 [==============================] - ETA: 0s - loss: 0.7897WARNING:tensorflow:Can save best model only with val_loss available, skipping.\n"
     ]
    },
    {
     "name": "stderr",
     "output_type": "stream",
     "text": [
      "WARNING:tensorflow:Can save best model only with val_loss available, skipping.\n"
     ]
    },
    {
     "name": "stdout",
     "output_type": "stream",
     "text": [
      "71/71 [==============================] - 124s 2s/step - loss: 0.7897\n",
      "Epoch 3/7\n",
      "71/71 [==============================] - ETA: 0s - loss: 0.5292WARNING:tensorflow:Can save best model only with val_loss available, skipping.\n"
     ]
    },
    {
     "name": "stderr",
     "output_type": "stream",
     "text": [
      "WARNING:tensorflow:Can save best model only with val_loss available, skipping.\n"
     ]
    },
    {
     "name": "stdout",
     "output_type": "stream",
     "text": [
      "71/71 [==============================] - 124s 2s/step - loss: 0.5292\n",
      "Epoch 4/7\n",
      "71/71 [==============================] - ETA: 0s - loss: 0.5662WARNING:tensorflow:Can save best model only with val_loss available, skipping.\n"
     ]
    },
    {
     "name": "stderr",
     "output_type": "stream",
     "text": [
      "WARNING:tensorflow:Can save best model only with val_loss available, skipping.\n"
     ]
    },
    {
     "name": "stdout",
     "output_type": "stream",
     "text": [
      "71/71 [==============================] - 126s 2s/step - loss: 0.5662\n",
      "Epoch 5/7\n",
      "71/71 [==============================] - ETA: 0s - loss: 0.4888WARNING:tensorflow:Can save best model only with val_loss available, skipping.\n"
     ]
    },
    {
     "name": "stderr",
     "output_type": "stream",
     "text": [
      "WARNING:tensorflow:Can save best model only with val_loss available, skipping.\n"
     ]
    },
    {
     "name": "stdout",
     "output_type": "stream",
     "text": [
      "71/71 [==============================] - 124s 2s/step - loss: 0.4888\n",
      "Epoch 6/7\n",
      "71/71 [==============================] - ETA: 0s - loss: 0.4277WARNING:tensorflow:Can save best model only with val_loss available, skipping.\n"
     ]
    },
    {
     "name": "stderr",
     "output_type": "stream",
     "text": [
      "WARNING:tensorflow:Can save best model only with val_loss available, skipping.\n"
     ]
    },
    {
     "name": "stdout",
     "output_type": "stream",
     "text": [
      "71/71 [==============================] - 126s 2s/step - loss: 0.4277\n",
      "Epoch 7/7\n",
      "71/71 [==============================] - ETA: 0s - loss: 0.4132WARNING:tensorflow:Can save best model only with val_loss available, skipping.\n"
     ]
    },
    {
     "name": "stderr",
     "output_type": "stream",
     "text": [
      "WARNING:tensorflow:Can save best model only with val_loss available, skipping.\n"
     ]
    },
    {
     "name": "stdout",
     "output_type": "stream",
     "text": [
      "\b\b\b\b\b\b\b\b\b\b\b\b\b\b\b\b\b\b\b\b\b\b\b\b\b\b\b\b\b\b\b\b\b\b\b\b\b\b\b\b\b\b\b\b\b\b\b\b\b\b\b\b\b\b\b\b\b\b\b\b\b\b\b\r",
      "71/71 [==============================] - 122s 2s/step - loss: 0.4132\n"
     ]
    },
    {
     "name": "stderr",
     "output_type": "stream",
     "text": [
      "WARNING:absl:At this time, the v2.11+ optimizer `tf.keras.optimizers.Adam` runs slowly on M1/M2 Macs, please use the legacy Keras optimizer instead, located at `tf.keras.optimizers.legacy.Adam`.\n",
      "WARNING:absl:There is a known slowdown when using v2.11+ Keras optimizers on M1/M2 Macs. Falling back to the legacy Keras optimizer, i.e., `tf.keras.optimizers.legacy.Adam`.\n"
     ]
    },
    {
     "name": "stdout",
     "output_type": "stream",
     "text": [
      "Base model loaded DenseNet169\n",
      "\n",
      "Model created.\n",
      "Epoch 1/7\n",
      "71/71 [==============================] - ETA: 0s - loss: 1.3773WARNING:tensorflow:Can save best model only with val_loss available, skipping.\n"
     ]
    },
    {
     "name": "stderr",
     "output_type": "stream",
     "text": [
      "WARNING:tensorflow:Can save best model only with val_loss available, skipping.\n"
     ]
    },
    {
     "name": "stdout",
     "output_type": "stream",
     "text": [
      "71/71 [==============================] - 168s 2s/step - loss: 1.3773\n",
      "Epoch 2/7\n",
      "71/71 [==============================] - ETA: 0s - loss: 0.7880WARNING:tensorflow:Can save best model only with val_loss available, skipping.\n"
     ]
    },
    {
     "name": "stderr",
     "output_type": "stream",
     "text": [
      "WARNING:tensorflow:Can save best model only with val_loss available, skipping.\n"
     ]
    },
    {
     "name": "stdout",
     "output_type": "stream",
     "text": [
      "71/71 [==============================] - 124s 2s/step - loss: 0.7880\n",
      "Epoch 3/7\n",
      "71/71 [==============================] - ETA: 0s - loss: 0.6261WARNING:tensorflow:Can save best model only with val_loss available, skipping.\n"
     ]
    },
    {
     "name": "stderr",
     "output_type": "stream",
     "text": [
      "WARNING:tensorflow:Can save best model only with val_loss available, skipping.\n"
     ]
    },
    {
     "name": "stdout",
     "output_type": "stream",
     "text": [
      "71/71 [==============================] - 125s 2s/step - loss: 0.6261\n",
      "Epoch 4/7\n",
      "71/71 [==============================] - ETA: 0s - loss: 0.5250WARNING:tensorflow:Can save best model only with val_loss available, skipping.\n"
     ]
    },
    {
     "name": "stderr",
     "output_type": "stream",
     "text": [
      "WARNING:tensorflow:Can save best model only with val_loss available, skipping.\n"
     ]
    },
    {
     "name": "stdout",
     "output_type": "stream",
     "text": [
      "71/71 [==============================] - 126s 2s/step - loss: 0.5250\n",
      "Epoch 5/7\n",
      "71/71 [==============================] - ETA: 0s - loss: 0.5089WARNING:tensorflow:Can save best model only with val_loss available, skipping.\n"
     ]
    },
    {
     "name": "stderr",
     "output_type": "stream",
     "text": [
      "WARNING:tensorflow:Can save best model only with val_loss available, skipping.\n"
     ]
    },
    {
     "name": "stdout",
     "output_type": "stream",
     "text": [
      "71/71 [==============================] - 125s 2s/step - loss: 0.5089\n",
      "Epoch 6/7\n",
      "71/71 [==============================] - ETA: 0s - loss: 0.4936WARNING:tensorflow:Can save best model only with val_loss available, skipping.\n"
     ]
    },
    {
     "name": "stderr",
     "output_type": "stream",
     "text": [
      "WARNING:tensorflow:Can save best model only with val_loss available, skipping.\n"
     ]
    },
    {
     "name": "stdout",
     "output_type": "stream",
     "text": [
      "71/71 [==============================] - 125s 2s/step - loss: 0.4936\n",
      "Epoch 7/7\n",
      "71/71 [==============================] - ETA: 0s - loss: 0.3899WARNING:tensorflow:Can save best model only with val_loss available, skipping.\n"
     ]
    },
    {
     "name": "stderr",
     "output_type": "stream",
     "text": [
      "WARNING:tensorflow:Can save best model only with val_loss available, skipping.\n"
     ]
    },
    {
     "name": "stdout",
     "output_type": "stream",
     "text": [
      "\b\b\b\b\b\b\b\b\b\b\b\b\b\b\b\b\b\b\b\b\b\b\b\b\b\b\b\b\b\b\b\b\b\b\b\b\b\b\b\b\b\b\b\b\b\b\b\b\b\b\b\b\b\b\b\b\b\b\b\b\b\b\b\r",
      "71/71 [==============================] - 123s 2s/step - loss: 0.3899\n"
     ]
    },
    {
     "name": "stderr",
     "output_type": "stream",
     "text": [
      "WARNING:absl:At this time, the v2.11+ optimizer `tf.keras.optimizers.Adam` runs slowly on M1/M2 Macs, please use the legacy Keras optimizer instead, located at `tf.keras.optimizers.legacy.Adam`.\n",
      "WARNING:absl:There is a known slowdown when using v2.11+ Keras optimizers on M1/M2 Macs. Falling back to the legacy Keras optimizer, i.e., `tf.keras.optimizers.legacy.Adam`.\n"
     ]
    },
    {
     "name": "stdout",
     "output_type": "stream",
     "text": [
      "Base model loaded DenseNet169\n",
      "\n",
      "Model created.\n",
      "Epoch 1/7\n",
      "71/71 [==============================] - ETA: 0s - loss: 1.5309WARNING:tensorflow:Can save best model only with val_loss available, skipping.\n"
     ]
    },
    {
     "name": "stderr",
     "output_type": "stream",
     "text": [
      "WARNING:tensorflow:Can save best model only with val_loss available, skipping.\n"
     ]
    },
    {
     "name": "stdout",
     "output_type": "stream",
     "text": [
      "71/71 [==============================] - 180s 2s/step - loss: 1.5309\n",
      "Epoch 2/7\n",
      "71/71 [==============================] - ETA: 0s - loss: 0.9646WARNING:tensorflow:Can save best model only with val_loss available, skipping.\n"
     ]
    },
    {
     "name": "stderr",
     "output_type": "stream",
     "text": [
      "WARNING:tensorflow:Can save best model only with val_loss available, skipping.\n"
     ]
    },
    {
     "name": "stdout",
     "output_type": "stream",
     "text": [
      "71/71 [==============================] - 127s 2s/step - loss: 0.9646\n",
      "Epoch 3/7\n",
      "71/71 [==============================] - ETA: 0s - loss: 0.6290WARNING:tensorflow:Can save best model only with val_loss available, skipping.\n"
     ]
    },
    {
     "name": "stderr",
     "output_type": "stream",
     "text": [
      "WARNING:tensorflow:Can save best model only with val_loss available, skipping.\n"
     ]
    },
    {
     "name": "stdout",
     "output_type": "stream",
     "text": [
      "71/71 [==============================] - 125s 2s/step - loss: 0.6290\n",
      "Epoch 4/7\n",
      "71/71 [==============================] - ETA: 0s - loss: 0.5620WARNING:tensorflow:Can save best model only with val_loss available, skipping.\n"
     ]
    },
    {
     "name": "stderr",
     "output_type": "stream",
     "text": [
      "WARNING:tensorflow:Can save best model only with val_loss available, skipping.\n"
     ]
    },
    {
     "name": "stdout",
     "output_type": "stream",
     "text": [
      "71/71 [==============================] - 125s 2s/step - loss: 0.5620\n",
      "Epoch 5/7\n",
      "71/71 [==============================] - ETA: 0s - loss: 0.5055WARNING:tensorflow:Can save best model only with val_loss available, skipping.\n"
     ]
    },
    {
     "name": "stderr",
     "output_type": "stream",
     "text": [
      "WARNING:tensorflow:Can save best model only with val_loss available, skipping.\n"
     ]
    },
    {
     "name": "stdout",
     "output_type": "stream",
     "text": [
      "71/71 [==============================] - 127s 2s/step - loss: 0.5055\n",
      "Epoch 6/7\n",
      "71/71 [==============================] - ETA: 0s - loss: 0.4832WARNING:tensorflow:Can save best model only with val_loss available, skipping.\n"
     ]
    },
    {
     "name": "stderr",
     "output_type": "stream",
     "text": [
      "WARNING:tensorflow:Can save best model only with val_loss available, skipping.\n"
     ]
    },
    {
     "name": "stdout",
     "output_type": "stream",
     "text": [
      "71/71 [==============================] - 126s 2s/step - loss: 0.4832\n",
      "Epoch 7/7\n",
      "71/71 [==============================] - ETA: 0s - loss: 0.4927WARNING:tensorflow:Can save best model only with val_loss available, skipping.\n"
     ]
    },
    {
     "name": "stderr",
     "output_type": "stream",
     "text": [
      "WARNING:tensorflow:Can save best model only with val_loss available, skipping.\n"
     ]
    },
    {
     "name": "stdout",
     "output_type": "stream",
     "text": [
      "\b\b\b\b\b\b\b\b\b\b\b\b\b\b\b\b\b\b\b\b\b\b\b\b\b\b\b\b\b\b\b\b\b\b\b\b\b\b\b\b\b\b\b\b\b\b\b\b\b\b\b\b\b\b\b\b\b\b\b\b\b\b\b\r",
      "71/71 [==============================] - 124s 2s/step - loss: 0.4927\n"
     ]
    },
    {
     "name": "stderr",
     "output_type": "stream",
     "text": [
      "WARNING:absl:At this time, the v2.11+ optimizer `tf.keras.optimizers.Adam` runs slowly on M1/M2 Macs, please use the legacy Keras optimizer instead, located at `tf.keras.optimizers.legacy.Adam`.\n",
      "WARNING:absl:There is a known slowdown when using v2.11+ Keras optimizers on M1/M2 Macs. Falling back to the legacy Keras optimizer, i.e., `tf.keras.optimizers.legacy.Adam`.\n"
     ]
    },
    {
     "name": "stdout",
     "output_type": "stream",
     "text": [
      "Base model loaded DenseNet169\n",
      "\n",
      "Model created.\n",
      "Epoch 1/7\n",
      "71/71 [==============================] - ETA: 0s - loss: 1.4230WARNING:tensorflow:Can save best model only with val_loss available, skipping.\n"
     ]
    },
    {
     "name": "stderr",
     "output_type": "stream",
     "text": [
      "WARNING:tensorflow:Can save best model only with val_loss available, skipping.\n"
     ]
    },
    {
     "name": "stdout",
     "output_type": "stream",
     "text": [
      "71/71 [==============================] - 181s 2s/step - loss: 1.4230\n",
      "Epoch 2/7\n",
      "71/71 [==============================] - ETA: 0s - loss: 0.7799WARNING:tensorflow:Can save best model only with val_loss available, skipping.\n"
     ]
    },
    {
     "name": "stderr",
     "output_type": "stream",
     "text": [
      "WARNING:tensorflow:Can save best model only with val_loss available, skipping.\n"
     ]
    },
    {
     "name": "stdout",
     "output_type": "stream",
     "text": [
      "71/71 [==============================] - 125s 2s/step - loss: 0.7799\n",
      "Epoch 3/7\n",
      "71/71 [==============================] - ETA: 0s - loss: 0.6043WARNING:tensorflow:Can save best model only with val_loss available, skipping.\n"
     ]
    },
    {
     "name": "stderr",
     "output_type": "stream",
     "text": [
      "WARNING:tensorflow:Can save best model only with val_loss available, skipping.\n"
     ]
    },
    {
     "name": "stdout",
     "output_type": "stream",
     "text": [
      "71/71 [==============================] - 128s 2s/step - loss: 0.6043\n",
      "Epoch 4/7\n",
      "71/71 [==============================] - ETA: 0s - loss: 0.5120WARNING:tensorflow:Can save best model only with val_loss available, skipping.\n"
     ]
    },
    {
     "name": "stderr",
     "output_type": "stream",
     "text": [
      "WARNING:tensorflow:Can save best model only with val_loss available, skipping.\n"
     ]
    },
    {
     "name": "stdout",
     "output_type": "stream",
     "text": [
      "71/71 [==============================] - 128s 2s/step - loss: 0.5120\n",
      "Epoch 5/7\n",
      "71/71 [==============================] - ETA: 0s - loss: 0.4648WARNING:tensorflow:Can save best model only with val_loss available, skipping.\n"
     ]
    },
    {
     "name": "stderr",
     "output_type": "stream",
     "text": [
      "WARNING:tensorflow:Can save best model only with val_loss available, skipping.\n"
     ]
    },
    {
     "name": "stdout",
     "output_type": "stream",
     "text": [
      "71/71 [==============================] - 127s 2s/step - loss: 0.4648\n",
      "Epoch 6/7\n",
      "71/71 [==============================] - ETA: 0s - loss: 0.4424WARNING:tensorflow:Can save best model only with val_loss available, skipping.\n"
     ]
    },
    {
     "name": "stderr",
     "output_type": "stream",
     "text": [
      "WARNING:tensorflow:Can save best model only with val_loss available, skipping.\n"
     ]
    },
    {
     "name": "stdout",
     "output_type": "stream",
     "text": [
      "71/71 [==============================] - 127s 2s/step - loss: 0.4424\n",
      "Epoch 7/7\n",
      "71/71 [==============================] - ETA: 0s - loss: 0.4939WARNING:tensorflow:Can save best model only with val_loss available, skipping.\n"
     ]
    },
    {
     "name": "stderr",
     "output_type": "stream",
     "text": [
      "WARNING:tensorflow:Can save best model only with val_loss available, skipping.\n"
     ]
    },
    {
     "name": "stdout",
     "output_type": "stream",
     "text": [
      "\b\b\b\b\b\b\b\b\b\b\b\b\b\b\b\b\b\b\b\b\b\b\b\b\b\b\b\b\b\b\b\b\b\b\b\b\b\b\b\b\b\b\b\b\b\b\b\b\b\b\b\b\b\b\b\b\b\b\b\b\b\b\b\r",
      "71/71 [==============================] - 127s 2s/step - loss: 0.4939\n"
     ]
    },
    {
     "name": "stderr",
     "output_type": "stream",
     "text": [
      "WARNING:absl:At this time, the v2.11+ optimizer `tf.keras.optimizers.Adam` runs slowly on M1/M2 Macs, please use the legacy Keras optimizer instead, located at `tf.keras.optimizers.legacy.Adam`.\n",
      "WARNING:absl:There is a known slowdown when using v2.11+ Keras optimizers on M1/M2 Macs. Falling back to the legacy Keras optimizer, i.e., `tf.keras.optimizers.legacy.Adam`.\n"
     ]
    },
    {
     "name": "stdout",
     "output_type": "stream",
     "text": [
      "Base model loaded DenseNet169\n",
      "\n",
      "Model created.\n",
      "Epoch 1/7\n",
      "71/71 [==============================] - ETA: 0s - loss: 1.2751WARNING:tensorflow:Can save best model only with val_loss available, skipping.\n"
     ]
    },
    {
     "name": "stderr",
     "output_type": "stream",
     "text": [
      "WARNING:tensorflow:Can save best model only with val_loss available, skipping.\n"
     ]
    },
    {
     "name": "stdout",
     "output_type": "stream",
     "text": [
      "71/71 [==============================] - 177s 2s/step - loss: 1.2751\n",
      "Epoch 2/7\n",
      "71/71 [==============================] - ETA: 0s - loss: 0.8213WARNING:tensorflow:Can save best model only with val_loss available, skipping.\n"
     ]
    },
    {
     "name": "stderr",
     "output_type": "stream",
     "text": [
      "WARNING:tensorflow:Can save best model only with val_loss available, skipping.\n"
     ]
    },
    {
     "name": "stdout",
     "output_type": "stream",
     "text": [
      "71/71 [==============================] - 127s 2s/step - loss: 0.8213\n",
      "Epoch 3/7\n",
      "71/71 [==============================] - ETA: 0s - loss: 0.5895WARNING:tensorflow:Can save best model only with val_loss available, skipping.\n"
     ]
    },
    {
     "name": "stderr",
     "output_type": "stream",
     "text": [
      "WARNING:tensorflow:Can save best model only with val_loss available, skipping.\n"
     ]
    },
    {
     "name": "stdout",
     "output_type": "stream",
     "text": [
      "71/71 [==============================] - 127s 2s/step - loss: 0.5895\n",
      "Epoch 4/7\n",
      "71/71 [==============================] - ETA: 0s - loss: 0.4939WARNING:tensorflow:Can save best model only with val_loss available, skipping.\n"
     ]
    },
    {
     "name": "stderr",
     "output_type": "stream",
     "text": [
      "WARNING:tensorflow:Can save best model only with val_loss available, skipping.\n"
     ]
    },
    {
     "name": "stdout",
     "output_type": "stream",
     "text": [
      "71/71 [==============================] - 127s 2s/step - loss: 0.4939\n",
      "Epoch 5/7\n",
      "71/71 [==============================] - ETA: 0s - loss: 0.5011WARNING:tensorflow:Can save best model only with val_loss available, skipping.\n"
     ]
    },
    {
     "name": "stderr",
     "output_type": "stream",
     "text": [
      "WARNING:tensorflow:Can save best model only with val_loss available, skipping.\n"
     ]
    },
    {
     "name": "stdout",
     "output_type": "stream",
     "text": [
      "71/71 [==============================] - 130s 2s/step - loss: 0.5011\n",
      "Epoch 6/7\n",
      "71/71 [==============================] - ETA: 0s - loss: 0.5214WARNING:tensorflow:Can save best model only with val_loss available, skipping.\n"
     ]
    },
    {
     "name": "stderr",
     "output_type": "stream",
     "text": [
      "WARNING:tensorflow:Can save best model only with val_loss available, skipping.\n"
     ]
    },
    {
     "name": "stdout",
     "output_type": "stream",
     "text": [
      "71/71 [==============================] - 127s 2s/step - loss: 0.5214\n",
      "Epoch 7/7\n",
      "71/71 [==============================] - ETA: 0s - loss: 0.3818WARNING:tensorflow:Can save best model only with val_loss available, skipping.\n"
     ]
    },
    {
     "name": "stderr",
     "output_type": "stream",
     "text": [
      "WARNING:tensorflow:Can save best model only with val_loss available, skipping.\n"
     ]
    },
    {
     "name": "stdout",
     "output_type": "stream",
     "text": [
      "\b\b\b\b\b\b\b\b\b\b\b\b\b\b\b\b\b\b\b\b\b\b\b\b\b\b\b\b\b\b\b\b\b\b\b\b\b\b\b\b\b\b\b\b\b\b\b\b\b\b\b\b\b\b\b\b\b\b\b\b\b\b\b\r",
      "71/71 [==============================] - 127s 2s/step - loss: 0.3818\n"
     ]
    },
    {
     "name": "stderr",
     "output_type": "stream",
     "text": [
      "WARNING:absl:At this time, the v2.11+ optimizer `tf.keras.optimizers.Adam` runs slowly on M1/M2 Macs, please use the legacy Keras optimizer instead, located at `tf.keras.optimizers.legacy.Adam`.\n",
      "WARNING:absl:There is a known slowdown when using v2.11+ Keras optimizers on M1/M2 Macs. Falling back to the legacy Keras optimizer, i.e., `tf.keras.optimizers.legacy.Adam`.\n"
     ]
    },
    {
     "name": "stdout",
     "output_type": "stream",
     "text": [
      "Base model loaded DenseNet169\n",
      "\n",
      "Model created.\n",
      "Epoch 1/7\n",
      "71/71 [==============================] - ETA: 0s - loss: 1.3189WARNING:tensorflow:Can save best model only with val_loss available, skipping.\n"
     ]
    },
    {
     "name": "stderr",
     "output_type": "stream",
     "text": [
      "WARNING:tensorflow:Can save best model only with val_loss available, skipping.\n"
     ]
    },
    {
     "name": "stdout",
     "output_type": "stream",
     "text": [
      "71/71 [==============================] - 195s 2s/step - loss: 1.3189\n",
      "Epoch 2/7\n",
      "71/71 [==============================] - ETA: 0s - loss: 0.8871WARNING:tensorflow:Can save best model only with val_loss available, skipping.\n"
     ]
    },
    {
     "name": "stderr",
     "output_type": "stream",
     "text": [
      "WARNING:tensorflow:Can save best model only with val_loss available, skipping.\n"
     ]
    },
    {
     "name": "stdout",
     "output_type": "stream",
     "text": [
      "71/71 [==============================] - 129s 2s/step - loss: 0.8871\n",
      "Epoch 3/7\n",
      "71/71 [==============================] - ETA: 0s - loss: 0.7296WARNING:tensorflow:Can save best model only with val_loss available, skipping.\n"
     ]
    },
    {
     "name": "stderr",
     "output_type": "stream",
     "text": [
      "WARNING:tensorflow:Can save best model only with val_loss available, skipping.\n"
     ]
    },
    {
     "name": "stdout",
     "output_type": "stream",
     "text": [
      "71/71 [==============================] - 129s 2s/step - loss: 0.7296\n",
      "Epoch 4/7\n",
      "71/71 [==============================] - ETA: 0s - loss: 0.5876WARNING:tensorflow:Can save best model only with val_loss available, skipping.\n"
     ]
    },
    {
     "name": "stderr",
     "output_type": "stream",
     "text": [
      "WARNING:tensorflow:Can save best model only with val_loss available, skipping.\n"
     ]
    },
    {
     "name": "stdout",
     "output_type": "stream",
     "text": [
      "71/71 [==============================] - 129s 2s/step - loss: 0.5876\n",
      "Epoch 5/7\n",
      "71/71 [==============================] - ETA: 0s - loss: 0.5113WARNING:tensorflow:Can save best model only with val_loss available, skipping.\n"
     ]
    },
    {
     "name": "stderr",
     "output_type": "stream",
     "text": [
      "WARNING:tensorflow:Can save best model only with val_loss available, skipping.\n"
     ]
    },
    {
     "name": "stdout",
     "output_type": "stream",
     "text": [
      "71/71 [==============================] - 130s 2s/step - loss: 0.5113\n",
      "Epoch 6/7\n",
      "71/71 [==============================] - ETA: 0s - loss: 0.4165WARNING:tensorflow:Can save best model only with val_loss available, skipping.\n"
     ]
    },
    {
     "name": "stderr",
     "output_type": "stream",
     "text": [
      "WARNING:tensorflow:Can save best model only with val_loss available, skipping.\n"
     ]
    },
    {
     "name": "stdout",
     "output_type": "stream",
     "text": [
      "71/71 [==============================] - 131s 2s/step - loss: 0.4165\n",
      "Epoch 7/7\n",
      "71/71 [==============================] - ETA: 0s - loss: 0.3876WARNING:tensorflow:Can save best model only with val_loss available, skipping.\n"
     ]
    },
    {
     "name": "stderr",
     "output_type": "stream",
     "text": [
      "WARNING:tensorflow:Can save best model only with val_loss available, skipping.\n"
     ]
    },
    {
     "name": "stdout",
     "output_type": "stream",
     "text": [
      "\b\b\b\b\b\b\b\b\b\b\b\b\b\b\b\b\b\b\b\b\b\b\b\b\b\b\b\b\b\b\b\b\b\b\b\b\b\b\b\b\b\b\b\b\b\b\b\b\b\b\b\b\b\b\b\b\b\b\b\b\b\b\b\r",
      "71/71 [==============================] - 131s 2s/step - loss: 0.3876\n"
     ]
    },
    {
     "name": "stderr",
     "output_type": "stream",
     "text": [
      "WARNING:absl:At this time, the v2.11+ optimizer `tf.keras.optimizers.Adam` runs slowly on M1/M2 Macs, please use the legacy Keras optimizer instead, located at `tf.keras.optimizers.legacy.Adam`.\n",
      "WARNING:absl:There is a known slowdown when using v2.11+ Keras optimizers on M1/M2 Macs. Falling back to the legacy Keras optimizer, i.e., `tf.keras.optimizers.legacy.Adam`.\n"
     ]
    },
    {
     "name": "stdout",
     "output_type": "stream",
     "text": [
      "Base model loaded DenseNet169\n",
      "\n",
      "Model created.\n",
      "Epoch 1/7\n",
      "71/71 [==============================] - ETA: 0s - loss: 1.4259WARNING:tensorflow:Can save best model only with val_loss available, skipping.\n"
     ]
    },
    {
     "name": "stderr",
     "output_type": "stream",
     "text": [
      "WARNING:tensorflow:Can save best model only with val_loss available, skipping.\n"
     ]
    },
    {
     "name": "stdout",
     "output_type": "stream",
     "text": [
      "71/71 [==============================] - 205s 2s/step - loss: 1.4259\n",
      "Epoch 2/7\n",
      "71/71 [==============================] - ETA: 0s - loss: 0.7228WARNING:tensorflow:Can save best model only with val_loss available, skipping.\n"
     ]
    },
    {
     "name": "stderr",
     "output_type": "stream",
     "text": [
      "WARNING:tensorflow:Can save best model only with val_loss available, skipping.\n"
     ]
    },
    {
     "name": "stdout",
     "output_type": "stream",
     "text": [
      "71/71 [==============================] - 128s 2s/step - loss: 0.7228\n",
      "Epoch 3/7\n",
      "71/71 [==============================] - ETA: 0s - loss: 0.6106WARNING:tensorflow:Can save best model only with val_loss available, skipping.\n"
     ]
    },
    {
     "name": "stderr",
     "output_type": "stream",
     "text": [
      "WARNING:tensorflow:Can save best model only with val_loss available, skipping.\n"
     ]
    },
    {
     "name": "stdout",
     "output_type": "stream",
     "text": [
      "71/71 [==============================] - 130s 2s/step - loss: 0.6106\n",
      "Epoch 4/7\n",
      "71/71 [==============================] - ETA: 0s - loss: 0.5489WARNING:tensorflow:Can save best model only with val_loss available, skipping.\n"
     ]
    },
    {
     "name": "stderr",
     "output_type": "stream",
     "text": [
      "WARNING:tensorflow:Can save best model only with val_loss available, skipping.\n"
     ]
    },
    {
     "name": "stdout",
     "output_type": "stream",
     "text": [
      "71/71 [==============================] - 129s 2s/step - loss: 0.5489\n",
      "Epoch 5/7\n",
      "71/71 [==============================] - ETA: 0s - loss: 0.4843WARNING:tensorflow:Can save best model only with val_loss available, skipping.\n"
     ]
    },
    {
     "name": "stderr",
     "output_type": "stream",
     "text": [
      "WARNING:tensorflow:Can save best model only with val_loss available, skipping.\n"
     ]
    },
    {
     "name": "stdout",
     "output_type": "stream",
     "text": [
      "71/71 [==============================] - 129s 2s/step - loss: 0.4843\n",
      "Epoch 6/7\n",
      "71/71 [==============================] - ETA: 0s - loss: 0.4279WARNING:tensorflow:Can save best model only with val_loss available, skipping.\n"
     ]
    },
    {
     "name": "stderr",
     "output_type": "stream",
     "text": [
      "WARNING:tensorflow:Can save best model only with val_loss available, skipping.\n"
     ]
    },
    {
     "name": "stdout",
     "output_type": "stream",
     "text": [
      "71/71 [==============================] - 128s 2s/step - loss: 0.4279\n",
      "Epoch 7/7\n",
      "71/71 [==============================] - ETA: 0s - loss: 0.4454WARNING:tensorflow:Can save best model only with val_loss available, skipping.\n"
     ]
    },
    {
     "name": "stderr",
     "output_type": "stream",
     "text": [
      "WARNING:tensorflow:Can save best model only with val_loss available, skipping.\n"
     ]
    },
    {
     "name": "stdout",
     "output_type": "stream",
     "text": [
      "\b\b\b\b\b\b\b\b\b\b\b\b\b\b\b\b\b\b\b\b\b\b\b\b\b\b\b\b\b\b\b\b\b\b\b\b\b\b\b\b\b\b\b\b\b\b\b\b\b\b\b\b\b\b\b\b\b\b\b\b\b\b\b\r",
      "71/71 [==============================] - 130s 2s/step - loss: 0.4454\n"
     ]
    },
    {
     "name": "stderr",
     "output_type": "stream",
     "text": [
      "WARNING:absl:At this time, the v2.11+ optimizer `tf.keras.optimizers.Adam` runs slowly on M1/M2 Macs, please use the legacy Keras optimizer instead, located at `tf.keras.optimizers.legacy.Adam`.\n",
      "WARNING:absl:There is a known slowdown when using v2.11+ Keras optimizers on M1/M2 Macs. Falling back to the legacy Keras optimizer, i.e., `tf.keras.optimizers.legacy.Adam`.\n"
     ]
    },
    {
     "name": "stdout",
     "output_type": "stream",
     "text": [
      "Base model loaded DenseNet169\n",
      "\n",
      "Model created.\n",
      "Epoch 1/7\n",
      "71/71 [==============================] - ETA: 0s - loss: 1.2881WARNING:tensorflow:Can save best model only with val_loss available, skipping.\n"
     ]
    },
    {
     "name": "stderr",
     "output_type": "stream",
     "text": [
      "WARNING:tensorflow:Can save best model only with val_loss available, skipping.\n"
     ]
    },
    {
     "name": "stdout",
     "output_type": "stream",
     "text": [
      "71/71 [==============================] - 211s 2s/step - loss: 1.2881\n",
      "Epoch 2/7\n",
      "71/71 [==============================] - ETA: 0s - loss: 0.7708WARNING:tensorflow:Can save best model only with val_loss available, skipping.\n"
     ]
    },
    {
     "name": "stderr",
     "output_type": "stream",
     "text": [
      "WARNING:tensorflow:Can save best model only with val_loss available, skipping.\n"
     ]
    },
    {
     "name": "stdout",
     "output_type": "stream",
     "text": [
      "71/71 [==============================] - 131s 2s/step - loss: 0.7708\n",
      "Epoch 3/7\n",
      "71/71 [==============================] - ETA: 0s - loss: 0.6358WARNING:tensorflow:Can save best model only with val_loss available, skipping.\n"
     ]
    },
    {
     "name": "stderr",
     "output_type": "stream",
     "text": [
      "WARNING:tensorflow:Can save best model only with val_loss available, skipping.\n"
     ]
    },
    {
     "name": "stdout",
     "output_type": "stream",
     "text": [
      "71/71 [==============================] - 129s 2s/step - loss: 0.6358\n",
      "Epoch 4/7\n",
      "71/71 [==============================] - ETA: 0s - loss: 0.5511WARNING:tensorflow:Can save best model only with val_loss available, skipping.\n"
     ]
    },
    {
     "name": "stderr",
     "output_type": "stream",
     "text": [
      "WARNING:tensorflow:Can save best model only with val_loss available, skipping.\n"
     ]
    },
    {
     "name": "stdout",
     "output_type": "stream",
     "text": [
      "71/71 [==============================] - 129s 2s/step - loss: 0.5511\n",
      "Epoch 5/7\n",
      "71/71 [==============================] - ETA: 0s - loss: 0.4800WARNING:tensorflow:Can save best model only with val_loss available, skipping.\n"
     ]
    },
    {
     "name": "stderr",
     "output_type": "stream",
     "text": [
      "WARNING:tensorflow:Can save best model only with val_loss available, skipping.\n"
     ]
    },
    {
     "name": "stdout",
     "output_type": "stream",
     "text": [
      "71/71 [==============================] - 132s 2s/step - loss: 0.4800\n",
      "Epoch 6/7\n",
      "71/71 [==============================] - ETA: 0s - loss: 0.4350WARNING:tensorflow:Can save best model only with val_loss available, skipping.\n"
     ]
    },
    {
     "name": "stderr",
     "output_type": "stream",
     "text": [
      "WARNING:tensorflow:Can save best model only with val_loss available, skipping.\n"
     ]
    },
    {
     "name": "stdout",
     "output_type": "stream",
     "text": [
      "71/71 [==============================] - 131s 2s/step - loss: 0.4350\n",
      "Epoch 7/7\n",
      "71/71 [==============================] - ETA: 0s - loss: 0.4030WARNING:tensorflow:Can save best model only with val_loss available, skipping.\n"
     ]
    },
    {
     "name": "stderr",
     "output_type": "stream",
     "text": [
      "WARNING:tensorflow:Can save best model only with val_loss available, skipping.\n"
     ]
    },
    {
     "name": "stdout",
     "output_type": "stream",
     "text": [
      "\b\b\b\b\b\b\b\b\b\b\b\b\b\b\b\b\b\b\b\b\b\b\b\b\b\b\b\b\b\b\b\b\b\b\b\b\b\b\b\b\b\b\b\b\b\b\b\b\b\b\b\b\b\b\b\b\b\b\b\b\b\b\b\r",
      "71/71 [==============================] - 131s 2s/step - loss: 0.4030\n"
     ]
    },
    {
     "name": "stderr",
     "output_type": "stream",
     "text": [
      "WARNING:absl:At this time, the v2.11+ optimizer `tf.keras.optimizers.Adam` runs slowly on M1/M2 Macs, please use the legacy Keras optimizer instead, located at `tf.keras.optimizers.legacy.Adam`.\n",
      "WARNING:absl:There is a known slowdown when using v2.11+ Keras optimizers on M1/M2 Macs. Falling back to the legacy Keras optimizer, i.e., `tf.keras.optimizers.legacy.Adam`.\n"
     ]
    },
    {
     "name": "stdout",
     "output_type": "stream",
     "text": [
      "Base model loaded DenseNet169\n",
      "\n",
      "Model created.\n",
      "Epoch 1/7\n",
      "71/71 [==============================] - ETA: 0s - loss: 1.3265WARNING:tensorflow:Can save best model only with val_loss available, skipping.\n"
     ]
    },
    {
     "name": "stderr",
     "output_type": "stream",
     "text": [
      "WARNING:tensorflow:Can save best model only with val_loss available, skipping.\n"
     ]
    },
    {
     "name": "stdout",
     "output_type": "stream",
     "text": [
      "71/71 [==============================] - 208s 3s/step - loss: 1.3265\n",
      "Epoch 2/7\n",
      "71/71 [==============================] - ETA: 0s - loss: 0.7384WARNING:tensorflow:Can save best model only with val_loss available, skipping.\n"
     ]
    },
    {
     "name": "stderr",
     "output_type": "stream",
     "text": [
      "WARNING:tensorflow:Can save best model only with val_loss available, skipping.\n"
     ]
    },
    {
     "name": "stdout",
     "output_type": "stream",
     "text": [
      "71/71 [==============================] - 130s 2s/step - loss: 0.7384\n",
      "Epoch 3/7\n",
      "71/71 [==============================] - ETA: 0s - loss: 0.6369WARNING:tensorflow:Can save best model only with val_loss available, skipping.\n"
     ]
    },
    {
     "name": "stderr",
     "output_type": "stream",
     "text": [
      "WARNING:tensorflow:Can save best model only with val_loss available, skipping.\n"
     ]
    },
    {
     "name": "stdout",
     "output_type": "stream",
     "text": [
      "71/71 [==============================] - 130s 2s/step - loss: 0.6369\n",
      "Epoch 4/7\n",
      "71/71 [==============================] - ETA: 0s - loss: 0.5108WARNING:tensorflow:Can save best model only with val_loss available, skipping.\n"
     ]
    },
    {
     "name": "stderr",
     "output_type": "stream",
     "text": [
      "WARNING:tensorflow:Can save best model only with val_loss available, skipping.\n"
     ]
    },
    {
     "name": "stdout",
     "output_type": "stream",
     "text": [
      "71/71 [==============================] - 131s 2s/step - loss: 0.5108\n",
      "Epoch 5/7\n",
      "71/71 [==============================] - ETA: 0s - loss: 0.5283WARNING:tensorflow:Can save best model only with val_loss available, skipping.\n"
     ]
    },
    {
     "name": "stderr",
     "output_type": "stream",
     "text": [
      "WARNING:tensorflow:Can save best model only with val_loss available, skipping.\n"
     ]
    },
    {
     "name": "stdout",
     "output_type": "stream",
     "text": [
      "71/71 [==============================] - 130s 2s/step - loss: 0.5283\n",
      "Epoch 6/7\n",
      "71/71 [==============================] - ETA: 0s - loss: 0.5039WARNING:tensorflow:Can save best model only with val_loss available, skipping.\n"
     ]
    },
    {
     "name": "stderr",
     "output_type": "stream",
     "text": [
      "WARNING:tensorflow:Can save best model only with val_loss available, skipping.\n"
     ]
    },
    {
     "name": "stdout",
     "output_type": "stream",
     "text": [
      "71/71 [==============================] - 129s 2s/step - loss: 0.5039\n",
      "Epoch 7/7\n",
      "71/71 [==============================] - ETA: 0s - loss: 0.3978WARNING:tensorflow:Can save best model only with val_loss available, skipping.\n"
     ]
    },
    {
     "name": "stderr",
     "output_type": "stream",
     "text": [
      "WARNING:tensorflow:Can save best model only with val_loss available, skipping.\n"
     ]
    },
    {
     "name": "stdout",
     "output_type": "stream",
     "text": [
      "\b\b\b\b\b\b\b\b\b\b\b\b\b\b\b\b\b\b\b\b\b\b\b\b\b\b\b\b\b\b\b\b\b\b\b\b\b\b\b\b\b\b\b\b\b\b\b\b\b\b\b\b\b\b\b\b\b\b\b\b\b\b\b\r",
      "71/71 [==============================] - 128s 2s/step - loss: 0.3978\n"
     ]
    },
    {
     "name": "stderr",
     "output_type": "stream",
     "text": [
      "WARNING:absl:At this time, the v2.11+ optimizer `tf.keras.optimizers.Adam` runs slowly on M1/M2 Macs, please use the legacy Keras optimizer instead, located at `tf.keras.optimizers.legacy.Adam`.\n",
      "WARNING:absl:There is a known slowdown when using v2.11+ Keras optimizers on M1/M2 Macs. Falling back to the legacy Keras optimizer, i.e., `tf.keras.optimizers.legacy.Adam`.\n"
     ]
    },
    {
     "name": "stdout",
     "output_type": "stream",
     "text": [
      "Base model loaded DenseNet169\n",
      "\n",
      "Model created.\n",
      "Epoch 1/7\n",
      "71/71 [==============================] - ETA: 0s - loss: 1.3393WARNING:tensorflow:Can save best model only with val_loss available, skipping.\n"
     ]
    },
    {
     "name": "stderr",
     "output_type": "stream",
     "text": [
      "WARNING:tensorflow:Can save best model only with val_loss available, skipping.\n"
     ]
    },
    {
     "name": "stdout",
     "output_type": "stream",
     "text": [
      "71/71 [==============================] - 238s 3s/step - loss: 1.3393\n",
      "Epoch 2/7\n",
      "71/71 [==============================] - ETA: 0s - loss: 0.8524WARNING:tensorflow:Can save best model only with val_loss available, skipping.\n"
     ]
    },
    {
     "name": "stderr",
     "output_type": "stream",
     "text": [
      "WARNING:tensorflow:Can save best model only with val_loss available, skipping.\n"
     ]
    },
    {
     "name": "stdout",
     "output_type": "stream",
     "text": [
      "71/71 [==============================] - 136s 2s/step - loss: 0.8524\n",
      "Epoch 3/7\n",
      "71/71 [==============================] - ETA: 0s - loss: 0.5697WARNING:tensorflow:Can save best model only with val_loss available, skipping.\n"
     ]
    },
    {
     "name": "stderr",
     "output_type": "stream",
     "text": [
      "WARNING:tensorflow:Can save best model only with val_loss available, skipping.\n"
     ]
    },
    {
     "name": "stdout",
     "output_type": "stream",
     "text": [
      "71/71 [==============================] - 135s 2s/step - loss: 0.5697\n",
      "Epoch 4/7\n",
      "71/71 [==============================] - ETA: 0s - loss: 0.5148WARNING:tensorflow:Can save best model only with val_loss available, skipping.\n"
     ]
    },
    {
     "name": "stderr",
     "output_type": "stream",
     "text": [
      "WARNING:tensorflow:Can save best model only with val_loss available, skipping.\n"
     ]
    },
    {
     "name": "stdout",
     "output_type": "stream",
     "text": [
      "71/71 [==============================] - 134s 2s/step - loss: 0.5148\n",
      "Epoch 5/7\n",
      "71/71 [==============================] - ETA: 0s - loss: 0.4466WARNING:tensorflow:Can save best model only with val_loss available, skipping.\n"
     ]
    },
    {
     "name": "stderr",
     "output_type": "stream",
     "text": [
      "WARNING:tensorflow:Can save best model only with val_loss available, skipping.\n"
     ]
    },
    {
     "name": "stdout",
     "output_type": "stream",
     "text": [
      "71/71 [==============================] - 134s 2s/step - loss: 0.4466\n",
      "Epoch 6/7\n",
      "71/71 [==============================] - ETA: 0s - loss: 0.4177WARNING:tensorflow:Can save best model only with val_loss available, skipping.\n"
     ]
    },
    {
     "name": "stderr",
     "output_type": "stream",
     "text": [
      "WARNING:tensorflow:Can save best model only with val_loss available, skipping.\n"
     ]
    },
    {
     "name": "stdout",
     "output_type": "stream",
     "text": [
      "71/71 [==============================] - 133s 2s/step - loss: 0.4177\n",
      "Epoch 7/7\n",
      "71/71 [==============================] - ETA: 0s - loss: 0.4431WARNING:tensorflow:Can save best model only with val_loss available, skipping.\n"
     ]
    },
    {
     "name": "stderr",
     "output_type": "stream",
     "text": [
      "WARNING:tensorflow:Can save best model only with val_loss available, skipping.\n"
     ]
    },
    {
     "name": "stdout",
     "output_type": "stream",
     "text": [
      "\b\b\b\b\b\b\b\b\b\b\b\b\b\b\b\b\b\b\b\b\b\b\b\b\b\b\b\b\b\b\b\b\b\b\b\b\b\b\b\b\b\b\b\b\b\b\b\b\b\b\b\b\b\b\b\b\b\b\b\b\b\b\b\r",
      "71/71 [==============================] - 133s 2s/step - loss: 0.4431\n"
     ]
    },
    {
     "name": "stderr",
     "output_type": "stream",
     "text": [
      "WARNING:absl:At this time, the v2.11+ optimizer `tf.keras.optimizers.Adam` runs slowly on M1/M2 Macs, please use the legacy Keras optimizer instead, located at `tf.keras.optimizers.legacy.Adam`.\n",
      "WARNING:absl:There is a known slowdown when using v2.11+ Keras optimizers on M1/M2 Macs. Falling back to the legacy Keras optimizer, i.e., `tf.keras.optimizers.legacy.Adam`.\n"
     ]
    },
    {
     "name": "stdout",
     "output_type": "stream",
     "text": [
      "Base model loaded DenseNet169\n",
      "\n",
      "Model created.\n",
      "Epoch 1/7\n",
      "71/71 [==============================] - ETA: 0s - loss: 1.3058WARNING:tensorflow:Can save best model only with val_loss available, skipping.\n"
     ]
    },
    {
     "name": "stderr",
     "output_type": "stream",
     "text": [
      "WARNING:tensorflow:Can save best model only with val_loss available, skipping.\n"
     ]
    },
    {
     "name": "stdout",
     "output_type": "stream",
     "text": [
      "71/71 [==============================] - 238s 3s/step - loss: 1.3058\n",
      "Epoch 2/7\n",
      "71/71 [==============================] - ETA: 0s - loss: 0.8018WARNING:tensorflow:Can save best model only with val_loss available, skipping.\n"
     ]
    },
    {
     "name": "stderr",
     "output_type": "stream",
     "text": [
      "WARNING:tensorflow:Can save best model only with val_loss available, skipping.\n"
     ]
    },
    {
     "name": "stdout",
     "output_type": "stream",
     "text": [
      "71/71 [==============================] - 132s 2s/step - loss: 0.8018\n",
      "Epoch 3/7\n",
      "71/71 [==============================] - ETA: 0s - loss: 0.7440WARNING:tensorflow:Can save best model only with val_loss available, skipping.\n"
     ]
    },
    {
     "name": "stderr",
     "output_type": "stream",
     "text": [
      "WARNING:tensorflow:Can save best model only with val_loss available, skipping.\n"
     ]
    },
    {
     "name": "stdout",
     "output_type": "stream",
     "text": [
      "71/71 [==============================] - 133s 2s/step - loss: 0.7440\n",
      "Epoch 4/7\n",
      "71/71 [==============================] - ETA: 0s - loss: 0.5332WARNING:tensorflow:Can save best model only with val_loss available, skipping.\n"
     ]
    },
    {
     "name": "stderr",
     "output_type": "stream",
     "text": [
      "WARNING:tensorflow:Can save best model only with val_loss available, skipping.\n"
     ]
    },
    {
     "name": "stdout",
     "output_type": "stream",
     "text": [
      "71/71 [==============================] - 133s 2s/step - loss: 0.5332\n",
      "Epoch 5/7\n",
      "71/71 [==============================] - ETA: 0s - loss: 0.4589WARNING:tensorflow:Can save best model only with val_loss available, skipping.\n"
     ]
    },
    {
     "name": "stderr",
     "output_type": "stream",
     "text": [
      "WARNING:tensorflow:Can save best model only with val_loss available, skipping.\n"
     ]
    },
    {
     "name": "stdout",
     "output_type": "stream",
     "text": [
      "71/71 [==============================] - 132s 2s/step - loss: 0.4589\n",
      "Epoch 6/7\n",
      "71/71 [==============================] - ETA: 0s - loss: 0.4152WARNING:tensorflow:Can save best model only with val_loss available, skipping.\n"
     ]
    },
    {
     "name": "stderr",
     "output_type": "stream",
     "text": [
      "WARNING:tensorflow:Can save best model only with val_loss available, skipping.\n"
     ]
    },
    {
     "name": "stdout",
     "output_type": "stream",
     "text": [
      "71/71 [==============================] - 133s 2s/step - loss: 0.4152\n",
      "Epoch 7/7\n",
      "71/71 [==============================] - ETA: 0s - loss: 0.4013WARNING:tensorflow:Can save best model only with val_loss available, skipping.\n"
     ]
    },
    {
     "name": "stderr",
     "output_type": "stream",
     "text": [
      "WARNING:tensorflow:Can save best model only with val_loss available, skipping.\n"
     ]
    },
    {
     "name": "stdout",
     "output_type": "stream",
     "text": [
      "\b\b\b\b\b\b\b\b\b\b\b\b\b\b\b\b\b\b\b\b\b\b\b\b\b\b\b\b\b\b\b\b\b\b\b\b\b\b\b\b\b\b\b\b\b\b\b\b\b\b\b\b\b\b\b\b\b\b\b\b\b\b\b\r",
      "71/71 [==============================] - 132s 2s/step - loss: 0.4013\n"
     ]
    },
    {
     "name": "stderr",
     "output_type": "stream",
     "text": [
      "WARNING:absl:At this time, the v2.11+ optimizer `tf.keras.optimizers.Adam` runs slowly on M1/M2 Macs, please use the legacy Keras optimizer instead, located at `tf.keras.optimizers.legacy.Adam`.\n",
      "WARNING:absl:There is a known slowdown when using v2.11+ Keras optimizers on M1/M2 Macs. Falling back to the legacy Keras optimizer, i.e., `tf.keras.optimizers.legacy.Adam`.\n"
     ]
    },
    {
     "name": "stdout",
     "output_type": "stream",
     "text": [
      "Base model loaded DenseNet169\n",
      "\n",
      "Model created.\n",
      "Epoch 1/7\n",
      "71/71 [==============================] - ETA: 0s - loss: 1.2847WARNING:tensorflow:Can save best model only with val_loss available, skipping.\n"
     ]
    },
    {
     "name": "stderr",
     "output_type": "stream",
     "text": [
      "WARNING:tensorflow:Can save best model only with val_loss available, skipping.\n"
     ]
    },
    {
     "name": "stdout",
     "output_type": "stream",
     "text": [
      "71/71 [==============================] - 245s 3s/step - loss: 1.2847\n",
      "Epoch 2/7\n",
      "71/71 [==============================] - ETA: 0s - loss: 0.7079WARNING:tensorflow:Can save best model only with val_loss available, skipping.\n"
     ]
    },
    {
     "name": "stderr",
     "output_type": "stream",
     "text": [
      "WARNING:tensorflow:Can save best model only with val_loss available, skipping.\n"
     ]
    },
    {
     "name": "stdout",
     "output_type": "stream",
     "text": [
      "71/71 [==============================] - 136s 2s/step - loss: 0.7079\n",
      "Epoch 3/7\n",
      "71/71 [==============================] - ETA: 0s - loss: 0.6013WARNING:tensorflow:Can save best model only with val_loss available, skipping.\n"
     ]
    },
    {
     "name": "stderr",
     "output_type": "stream",
     "text": [
      "WARNING:tensorflow:Can save best model only with val_loss available, skipping.\n"
     ]
    },
    {
     "name": "stdout",
     "output_type": "stream",
     "text": [
      "71/71 [==============================] - 135s 2s/step - loss: 0.6013\n",
      "Epoch 4/7\n",
      "71/71 [==============================] - ETA: 0s - loss: 0.5757WARNING:tensorflow:Can save best model only with val_loss available, skipping.\n"
     ]
    },
    {
     "name": "stderr",
     "output_type": "stream",
     "text": [
      "WARNING:tensorflow:Can save best model only with val_loss available, skipping.\n"
     ]
    },
    {
     "name": "stdout",
     "output_type": "stream",
     "text": [
      "71/71 [==============================] - 136s 2s/step - loss: 0.5757\n",
      "Epoch 5/7\n",
      "71/71 [==============================] - ETA: 0s - loss: 0.5065WARNING:tensorflow:Can save best model only with val_loss available, skipping.\n"
     ]
    },
    {
     "name": "stderr",
     "output_type": "stream",
     "text": [
      "WARNING:tensorflow:Can save best model only with val_loss available, skipping.\n"
     ]
    },
    {
     "name": "stdout",
     "output_type": "stream",
     "text": [
      "71/71 [==============================] - 134s 2s/step - loss: 0.5065\n",
      "Epoch 6/7\n",
      "71/71 [==============================] - ETA: 0s - loss: 0.4102WARNING:tensorflow:Can save best model only with val_loss available, skipping.\n"
     ]
    },
    {
     "name": "stderr",
     "output_type": "stream",
     "text": [
      "WARNING:tensorflow:Can save best model only with val_loss available, skipping.\n"
     ]
    },
    {
     "name": "stdout",
     "output_type": "stream",
     "text": [
      "71/71 [==============================] - 135s 2s/step - loss: 0.4102\n",
      "Epoch 7/7\n",
      "71/71 [==============================] - ETA: 0s - loss: 0.4229WARNING:tensorflow:Can save best model only with val_loss available, skipping.\n"
     ]
    },
    {
     "name": "stderr",
     "output_type": "stream",
     "text": [
      "WARNING:tensorflow:Can save best model only with val_loss available, skipping.\n"
     ]
    },
    {
     "name": "stdout",
     "output_type": "stream",
     "text": [
      "\b\b\b\b\b\b\b\b\b\b\b\b\b\b\b\b\b\b\b\b\b\b\b\b\b\b\b\b\b\b\b\b\b\b\b\b\b\b\b\b\b\b\b\b\b\b\b\b\b\b\b\b\b\b\b\b\b\b\b\b\b\b\b\r",
      "71/71 [==============================] - 136s 2s/step - loss: 0.4229\n"
     ]
    },
    {
     "name": "stderr",
     "output_type": "stream",
     "text": [
      "WARNING:absl:At this time, the v2.11+ optimizer `tf.keras.optimizers.Adam` runs slowly on M1/M2 Macs, please use the legacy Keras optimizer instead, located at `tf.keras.optimizers.legacy.Adam`.\n",
      "WARNING:absl:There is a known slowdown when using v2.11+ Keras optimizers on M1/M2 Macs. Falling back to the legacy Keras optimizer, i.e., `tf.keras.optimizers.legacy.Adam`.\n"
     ]
    },
    {
     "name": "stdout",
     "output_type": "stream",
     "text": [
      "Base model loaded DenseNet169\n",
      "\n",
      "Model created.\n",
      "Epoch 1/7\n",
      "71/71 [==============================] - ETA: 0s - loss: 1.4094WARNING:tensorflow:Can save best model only with val_loss available, skipping.\n"
     ]
    },
    {
     "name": "stderr",
     "output_type": "stream",
     "text": [
      "WARNING:tensorflow:Can save best model only with val_loss available, skipping.\n"
     ]
    },
    {
     "name": "stdout",
     "output_type": "stream",
     "text": [
      "71/71 [==============================] - 247s 3s/step - loss: 1.4094\n",
      "Epoch 2/7\n",
      "71/71 [==============================] - ETA: 0s - loss: 0.8879WARNING:tensorflow:Can save best model only with val_loss available, skipping.\n"
     ]
    },
    {
     "name": "stderr",
     "output_type": "stream",
     "text": [
      "WARNING:tensorflow:Can save best model only with val_loss available, skipping.\n"
     ]
    },
    {
     "name": "stdout",
     "output_type": "stream",
     "text": [
      "71/71 [==============================] - 134s 2s/step - loss: 0.8879\n",
      "Epoch 3/7\n",
      "71/71 [==============================] - ETA: 0s - loss: 0.7697WARNING:tensorflow:Can save best model only with val_loss available, skipping.\n"
     ]
    },
    {
     "name": "stderr",
     "output_type": "stream",
     "text": [
      "WARNING:tensorflow:Can save best model only with val_loss available, skipping.\n"
     ]
    },
    {
     "name": "stdout",
     "output_type": "stream",
     "text": [
      "71/71 [==============================] - 134s 2s/step - loss: 0.7697\n",
      "Epoch 4/7\n",
      "71/71 [==============================] - ETA: 0s - loss: 0.6485WARNING:tensorflow:Can save best model only with val_loss available, skipping.\n"
     ]
    },
    {
     "name": "stderr",
     "output_type": "stream",
     "text": [
      "WARNING:tensorflow:Can save best model only with val_loss available, skipping.\n"
     ]
    },
    {
     "name": "stdout",
     "output_type": "stream",
     "text": [
      "71/71 [==============================] - 133s 2s/step - loss: 0.6485\n",
      "Epoch 5/7\n",
      "71/71 [==============================] - ETA: 0s - loss: 0.6445WARNING:tensorflow:Can save best model only with val_loss available, skipping.\n"
     ]
    },
    {
     "name": "stderr",
     "output_type": "stream",
     "text": [
      "WARNING:tensorflow:Can save best model only with val_loss available, skipping.\n"
     ]
    },
    {
     "name": "stdout",
     "output_type": "stream",
     "text": [
      "71/71 [==============================] - 134s 2s/step - loss: 0.6445\n",
      "Epoch 6/7\n",
      "71/71 [==============================] - ETA: 0s - loss: 0.5328WARNING:tensorflow:Can save best model only with val_loss available, skipping.\n"
     ]
    },
    {
     "name": "stderr",
     "output_type": "stream",
     "text": [
      "WARNING:tensorflow:Can save best model only with val_loss available, skipping.\n"
     ]
    },
    {
     "name": "stdout",
     "output_type": "stream",
     "text": [
      "71/71 [==============================] - 133s 2s/step - loss: 0.5328\n",
      "Epoch 7/7\n",
      "71/71 [==============================] - ETA: 0s - loss: 0.4380WARNING:tensorflow:Can save best model only with val_loss available, skipping.\n"
     ]
    },
    {
     "name": "stderr",
     "output_type": "stream",
     "text": [
      "WARNING:tensorflow:Can save best model only with val_loss available, skipping.\n"
     ]
    },
    {
     "name": "stdout",
     "output_type": "stream",
     "text": [
      "\b\b\b\b\b\b\b\b\b\b\b\b\b\b\b\b\b\b\b\b\b\b\b\b\b\b\b\b\b\b\b\b\b\b\b\b\b\b\b\b\b\b\b\b\b\b\b\b\b\b\b\b\b\b\b\b\b\b\b\b\b\b\b\r",
      "71/71 [==============================] - 133s 2s/step - loss: 0.4380\n"
     ]
    },
    {
     "name": "stderr",
     "output_type": "stream",
     "text": [
      "WARNING:absl:At this time, the v2.11+ optimizer `tf.keras.optimizers.Adam` runs slowly on M1/M2 Macs, please use the legacy Keras optimizer instead, located at `tf.keras.optimizers.legacy.Adam`.\n",
      "WARNING:absl:There is a known slowdown when using v2.11+ Keras optimizers on M1/M2 Macs. Falling back to the legacy Keras optimizer, i.e., `tf.keras.optimizers.legacy.Adam`.\n"
     ]
    },
    {
     "name": "stdout",
     "output_type": "stream",
     "text": [
      "Base model loaded DenseNet169\n",
      "\n",
      "Model created.\n",
      "Epoch 1/7\n",
      "71/71 [==============================] - ETA: 0s - loss: 1.4677WARNING:tensorflow:Can save best model only with val_loss available, skipping.\n"
     ]
    },
    {
     "name": "stderr",
     "output_type": "stream",
     "text": [
      "WARNING:tensorflow:Can save best model only with val_loss available, skipping.\n"
     ]
    },
    {
     "name": "stdout",
     "output_type": "stream",
     "text": [
      "71/71 [==============================] - 267s 3s/step - loss: 1.4677\n",
      "Epoch 2/7\n",
      "71/71 [==============================] - ETA: 0s - loss: 0.7814WARNING:tensorflow:Can save best model only with val_loss available, skipping.\n"
     ]
    },
    {
     "name": "stderr",
     "output_type": "stream",
     "text": [
      "WARNING:tensorflow:Can save best model only with val_loss available, skipping.\n"
     ]
    },
    {
     "name": "stdout",
     "output_type": "stream",
     "text": [
      "71/71 [==============================] - 140s 2s/step - loss: 0.7814\n",
      "Epoch 3/7\n",
      "71/71 [==============================] - ETA: 0s - loss: 0.5876WARNING:tensorflow:Can save best model only with val_loss available, skipping.\n"
     ]
    },
    {
     "name": "stderr",
     "output_type": "stream",
     "text": [
      "WARNING:tensorflow:Can save best model only with val_loss available, skipping.\n"
     ]
    },
    {
     "name": "stdout",
     "output_type": "stream",
     "text": [
      "71/71 [==============================] - 138s 2s/step - loss: 0.5876\n",
      "Epoch 4/7\n",
      "71/71 [==============================] - ETA: 0s - loss: 0.5049WARNING:tensorflow:Can save best model only with val_loss available, skipping.\n"
     ]
    },
    {
     "name": "stderr",
     "output_type": "stream",
     "text": [
      "WARNING:tensorflow:Can save best model only with val_loss available, skipping.\n"
     ]
    },
    {
     "name": "stdout",
     "output_type": "stream",
     "text": [
      "71/71 [==============================] - 138s 2s/step - loss: 0.5049\n",
      "Epoch 5/7\n",
      "71/71 [==============================] - ETA: 0s - loss: 0.4526WARNING:tensorflow:Can save best model only with val_loss available, skipping.\n"
     ]
    },
    {
     "name": "stderr",
     "output_type": "stream",
     "text": [
      "WARNING:tensorflow:Can save best model only with val_loss available, skipping.\n"
     ]
    },
    {
     "name": "stdout",
     "output_type": "stream",
     "text": [
      "71/71 [==============================] - 138s 2s/step - loss: 0.4526\n",
      "Epoch 6/7\n",
      "71/71 [==============================] - ETA: 0s - loss: 0.4540WARNING:tensorflow:Can save best model only with val_loss available, skipping.\n"
     ]
    },
    {
     "name": "stderr",
     "output_type": "stream",
     "text": [
      "WARNING:tensorflow:Can save best model only with val_loss available, skipping.\n"
     ]
    },
    {
     "name": "stdout",
     "output_type": "stream",
     "text": [
      "71/71 [==============================] - 140s 2s/step - loss: 0.4540\n",
      "Epoch 7/7\n",
      "71/71 [==============================] - ETA: 0s - loss: 0.4548WARNING:tensorflow:Can save best model only with val_loss available, skipping.\n"
     ]
    },
    {
     "name": "stderr",
     "output_type": "stream",
     "text": [
      "WARNING:tensorflow:Can save best model only with val_loss available, skipping.\n"
     ]
    },
    {
     "name": "stdout",
     "output_type": "stream",
     "text": [
      "\b\b\b\b\b\b\b\b\b\b\b\b\b\b\b\b\b\b\b\b\b\b\b\b\b\b\b\b\b\b\b\b\b\b\b\b\b\b\b\b\b\b\b\b\b\b\b\b\b\b\b\b\b\b\b\b\b\b\b\b\b\b\b\r",
      "71/71 [==============================] - 138s 2s/step - loss: 0.4548\n"
     ]
    },
    {
     "name": "stderr",
     "output_type": "stream",
     "text": [
      "WARNING:absl:At this time, the v2.11+ optimizer `tf.keras.optimizers.Adam` runs slowly on M1/M2 Macs, please use the legacy Keras optimizer instead, located at `tf.keras.optimizers.legacy.Adam`.\n",
      "WARNING:absl:There is a known slowdown when using v2.11+ Keras optimizers on M1/M2 Macs. Falling back to the legacy Keras optimizer, i.e., `tf.keras.optimizers.legacy.Adam`.\n"
     ]
    },
    {
     "name": "stdout",
     "output_type": "stream",
     "text": [
      "Base model loaded DenseNet169\n",
      "\n",
      "Model created.\n",
      "Epoch 1/7\n",
      "71/71 [==============================] - ETA: 0s - loss: 1.2998WARNING:tensorflow:Can save best model only with val_loss available, skipping.\n"
     ]
    },
    {
     "name": "stderr",
     "output_type": "stream",
     "text": [
      "WARNING:tensorflow:Can save best model only with val_loss available, skipping.\n"
     ]
    },
    {
     "name": "stdout",
     "output_type": "stream",
     "text": [
      "71/71 [==============================] - 264s 3s/step - loss: 1.2998\n",
      "Epoch 2/7\n",
      "71/71 [==============================] - ETA: 0s - loss: 0.7354WARNING:tensorflow:Can save best model only with val_loss available, skipping.\n"
     ]
    },
    {
     "name": "stderr",
     "output_type": "stream",
     "text": [
      "WARNING:tensorflow:Can save best model only with val_loss available, skipping.\n"
     ]
    },
    {
     "name": "stdout",
     "output_type": "stream",
     "text": [
      "71/71 [==============================] - 140s 2s/step - loss: 0.7354\n",
      "Epoch 3/7\n",
      "71/71 [==============================] - ETA: 0s - loss: 0.5885WARNING:tensorflow:Can save best model only with val_loss available, skipping.\n"
     ]
    },
    {
     "name": "stderr",
     "output_type": "stream",
     "text": [
      "WARNING:tensorflow:Can save best model only with val_loss available, skipping.\n"
     ]
    },
    {
     "name": "stdout",
     "output_type": "stream",
     "text": [
      "71/71 [==============================] - 135s 2s/step - loss: 0.5885\n",
      "Epoch 4/7\n",
      "71/71 [==============================] - ETA: 0s - loss: 0.5166WARNING:tensorflow:Can save best model only with val_loss available, skipping.\n"
     ]
    },
    {
     "name": "stderr",
     "output_type": "stream",
     "text": [
      "WARNING:tensorflow:Can save best model only with val_loss available, skipping.\n"
     ]
    },
    {
     "name": "stdout",
     "output_type": "stream",
     "text": [
      "71/71 [==============================] - 137s 2s/step - loss: 0.5166\n",
      "Epoch 5/7\n",
      "71/71 [==============================] - ETA: 0s - loss: 0.4693WARNING:tensorflow:Can save best model only with val_loss available, skipping.\n"
     ]
    },
    {
     "name": "stderr",
     "output_type": "stream",
     "text": [
      "WARNING:tensorflow:Can save best model only with val_loss available, skipping.\n"
     ]
    },
    {
     "name": "stdout",
     "output_type": "stream",
     "text": [
      "71/71 [==============================] - 138s 2s/step - loss: 0.4693\n",
      "Epoch 6/7\n",
      "71/71 [==============================] - ETA: 0s - loss: 0.4140WARNING:tensorflow:Can save best model only with val_loss available, skipping.\n"
     ]
    },
    {
     "name": "stderr",
     "output_type": "stream",
     "text": [
      "WARNING:tensorflow:Can save best model only with val_loss available, skipping.\n"
     ]
    },
    {
     "name": "stdout",
     "output_type": "stream",
     "text": [
      "71/71 [==============================] - 138s 2s/step - loss: 0.4140\n",
      "Epoch 7/7\n",
      "71/71 [==============================] - ETA: 0s - loss: 0.4126WARNING:tensorflow:Can save best model only with val_loss available, skipping.\n"
     ]
    },
    {
     "name": "stderr",
     "output_type": "stream",
     "text": [
      "WARNING:tensorflow:Can save best model only with val_loss available, skipping.\n"
     ]
    },
    {
     "name": "stdout",
     "output_type": "stream",
     "text": [
      "\b\b\b\b\b\b\b\b\b\b\b\b\b\b\b\b\b\b\b\b\b\b\b\b\b\b\b\b\b\b\b\b\b\b\b\b\b\b\b\b\b\b\b\b\b\b\b\b\b\b\b\b\b\b\b\b\b\b\b\b\b\b\b\r",
      "71/71 [==============================] - 137s 2s/step - loss: 0.4126\n"
     ]
    },
    {
     "name": "stderr",
     "output_type": "stream",
     "text": [
      "WARNING:absl:At this time, the v2.11+ optimizer `tf.keras.optimizers.Adam` runs slowly on M1/M2 Macs, please use the legacy Keras optimizer instead, located at `tf.keras.optimizers.legacy.Adam`.\n",
      "WARNING:absl:There is a known slowdown when using v2.11+ Keras optimizers on M1/M2 Macs. Falling back to the legacy Keras optimizer, i.e., `tf.keras.optimizers.legacy.Adam`.\n"
     ]
    },
    {
     "name": "stdout",
     "output_type": "stream",
     "text": [
      "Base model loaded DenseNet169\n",
      "\n",
      "Model created.\n",
      "Epoch 1/7\n",
      "71/71 [==============================] - ETA: 0s - loss: 1.1884WARNING:tensorflow:Can save best model only with val_loss available, skipping.\n"
     ]
    },
    {
     "name": "stderr",
     "output_type": "stream",
     "text": [
      "WARNING:tensorflow:Can save best model only with val_loss available, skipping.\n"
     ]
    },
    {
     "name": "stdout",
     "output_type": "stream",
     "text": [
      "71/71 [==============================] - 282s 3s/step - loss: 1.1884\n",
      "Epoch 2/7\n",
      "71/71 [==============================] - ETA: 0s - loss: 0.8054WARNING:tensorflow:Can save best model only with val_loss available, skipping.\n"
     ]
    },
    {
     "name": "stderr",
     "output_type": "stream",
     "text": [
      "WARNING:tensorflow:Can save best model only with val_loss available, skipping.\n"
     ]
    },
    {
     "name": "stdout",
     "output_type": "stream",
     "text": [
      "71/71 [==============================] - 143s 2s/step - loss: 0.8054\n",
      "Epoch 3/7\n",
      "71/71 [==============================] - ETA: 0s - loss: 0.6366WARNING:tensorflow:Can save best model only with val_loss available, skipping.\n"
     ]
    },
    {
     "name": "stderr",
     "output_type": "stream",
     "text": [
      "WARNING:tensorflow:Can save best model only with val_loss available, skipping.\n"
     ]
    },
    {
     "name": "stdout",
     "output_type": "stream",
     "text": [
      "71/71 [==============================] - 142s 2s/step - loss: 0.6366\n",
      "Epoch 4/7\n",
      "71/71 [==============================] - ETA: 0s - loss: 0.6720WARNING:tensorflow:Can save best model only with val_loss available, skipping.\n"
     ]
    },
    {
     "name": "stderr",
     "output_type": "stream",
     "text": [
      "WARNING:tensorflow:Can save best model only with val_loss available, skipping.\n"
     ]
    },
    {
     "name": "stdout",
     "output_type": "stream",
     "text": [
      "71/71 [==============================] - 139s 2s/step - loss: 0.6720\n",
      "Epoch 5/7\n",
      "71/71 [==============================] - ETA: 0s - loss: 0.5370WARNING:tensorflow:Can save best model only with val_loss available, skipping.\n"
     ]
    },
    {
     "name": "stderr",
     "output_type": "stream",
     "text": [
      "WARNING:tensorflow:Can save best model only with val_loss available, skipping.\n"
     ]
    },
    {
     "name": "stdout",
     "output_type": "stream",
     "text": [
      "71/71 [==============================] - 140s 2s/step - loss: 0.5370\n",
      "Epoch 6/7\n",
      "71/71 [==============================] - ETA: 0s - loss: 0.4558WARNING:tensorflow:Can save best model only with val_loss available, skipping.\n"
     ]
    },
    {
     "name": "stderr",
     "output_type": "stream",
     "text": [
      "WARNING:tensorflow:Can save best model only with val_loss available, skipping.\n"
     ]
    },
    {
     "name": "stdout",
     "output_type": "stream",
     "text": [
      "71/71 [==============================] - 139s 2s/step - loss: 0.4558\n",
      "Epoch 7/7\n",
      "71/71 [==============================] - ETA: 0s - loss: 0.3869WARNING:tensorflow:Can save best model only with val_loss available, skipping.\n"
     ]
    },
    {
     "name": "stderr",
     "output_type": "stream",
     "text": [
      "WARNING:tensorflow:Can save best model only with val_loss available, skipping.\n"
     ]
    },
    {
     "name": "stdout",
     "output_type": "stream",
     "text": [
      "\b\b\b\b\b\b\b\b\b\b\b\b\b\b\b\b\b\b\b\b\b\b\b\b\b\b\b\b\b\b\b\b\b\b\b\b\b\b\b\b\b\b\b\b\b\b\b\b\b\b\b\b\b\b\b\b\b\b\b\b\b\b\b\r",
      "71/71 [==============================] - 141s 2s/step - loss: 0.3869\n"
     ]
    },
    {
     "name": "stderr",
     "output_type": "stream",
     "text": [
      "WARNING:absl:At this time, the v2.11+ optimizer `tf.keras.optimizers.Adam` runs slowly on M1/M2 Macs, please use the legacy Keras optimizer instead, located at `tf.keras.optimizers.legacy.Adam`.\n",
      "WARNING:absl:There is a known slowdown when using v2.11+ Keras optimizers on M1/M2 Macs. Falling back to the legacy Keras optimizer, i.e., `tf.keras.optimizers.legacy.Adam`.\n"
     ]
    },
    {
     "name": "stdout",
     "output_type": "stream",
     "text": [
      "Base model loaded DenseNet169\n",
      "\n",
      "Model created.\n",
      "Epoch 1/7\n",
      "71/71 [==============================] - ETA: 0s - loss: 1.3622WARNING:tensorflow:Can save best model only with val_loss available, skipping.\n"
     ]
    },
    {
     "name": "stderr",
     "output_type": "stream",
     "text": [
      "WARNING:tensorflow:Can save best model only with val_loss available, skipping.\n"
     ]
    },
    {
     "name": "stdout",
     "output_type": "stream",
     "text": [
      "71/71 [==============================] - 287s 3s/step - loss: 1.3622\n",
      "Epoch 2/7\n",
      "71/71 [==============================] - ETA: 0s - loss: 0.7676WARNING:tensorflow:Can save best model only with val_loss available, skipping.\n"
     ]
    },
    {
     "name": "stderr",
     "output_type": "stream",
     "text": [
      "WARNING:tensorflow:Can save best model only with val_loss available, skipping.\n"
     ]
    },
    {
     "name": "stdout",
     "output_type": "stream",
     "text": [
      "71/71 [==============================] - 143s 2s/step - loss: 0.7676\n",
      "Epoch 3/7\n",
      "71/71 [==============================] - ETA: 0s - loss: 0.6270WARNING:tensorflow:Can save best model only with val_loss available, skipping.\n"
     ]
    },
    {
     "name": "stderr",
     "output_type": "stream",
     "text": [
      "WARNING:tensorflow:Can save best model only with val_loss available, skipping.\n"
     ]
    },
    {
     "name": "stdout",
     "output_type": "stream",
     "text": [
      "71/71 [==============================] - 140s 2s/step - loss: 0.6270\n",
      "Epoch 4/7\n",
      "71/71 [==============================] - ETA: 0s - loss: 0.5477WARNING:tensorflow:Can save best model only with val_loss available, skipping.\n"
     ]
    },
    {
     "name": "stderr",
     "output_type": "stream",
     "text": [
      "WARNING:tensorflow:Can save best model only with val_loss available, skipping.\n"
     ]
    },
    {
     "name": "stdout",
     "output_type": "stream",
     "text": [
      "71/71 [==============================] - 144s 2s/step - loss: 0.5477\n",
      "Epoch 5/7\n",
      "71/71 [==============================] - ETA: 0s - loss: 0.4668WARNING:tensorflow:Can save best model only with val_loss available, skipping.\n"
     ]
    },
    {
     "name": "stderr",
     "output_type": "stream",
     "text": [
      "WARNING:tensorflow:Can save best model only with val_loss available, skipping.\n"
     ]
    },
    {
     "name": "stdout",
     "output_type": "stream",
     "text": [
      "71/71 [==============================] - 141s 2s/step - loss: 0.4668\n",
      "Epoch 6/7\n",
      "71/71 [==============================] - ETA: 0s - loss: 0.4829WARNING:tensorflow:Can save best model only with val_loss available, skipping.\n"
     ]
    },
    {
     "name": "stderr",
     "output_type": "stream",
     "text": [
      "WARNING:tensorflow:Can save best model only with val_loss available, skipping.\n"
     ]
    },
    {
     "name": "stdout",
     "output_type": "stream",
     "text": [
      "71/71 [==============================] - 140s 2s/step - loss: 0.4829\n",
      "Epoch 7/7\n",
      "71/71 [==============================] - ETA: 0s - loss: 0.4589WARNING:tensorflow:Can save best model only with val_loss available, skipping.\n"
     ]
    },
    {
     "name": "stderr",
     "output_type": "stream",
     "text": [
      "WARNING:tensorflow:Can save best model only with val_loss available, skipping.\n"
     ]
    },
    {
     "name": "stdout",
     "output_type": "stream",
     "text": [
      "\b\b\b\b\b\b\b\b\b\b\b\b\b\b\b\b\b\b\b\b\b\b\b\b\b\b\b\b\b\b\b\b\b\b\b\b\b\b\b\b\b\b\b\b\b\b\b\b\b\b\b\b\b\b\b\b\b\b\b\b\b\b\b\r",
      "71/71 [==============================] - 142s 2s/step - loss: 0.4589\n"
     ]
    },
    {
     "name": "stderr",
     "output_type": "stream",
     "text": [
      "WARNING:absl:At this time, the v2.11+ optimizer `tf.keras.optimizers.Adam` runs slowly on M1/M2 Macs, please use the legacy Keras optimizer instead, located at `tf.keras.optimizers.legacy.Adam`.\n",
      "WARNING:absl:There is a known slowdown when using v2.11+ Keras optimizers on M1/M2 Macs. Falling back to the legacy Keras optimizer, i.e., `tf.keras.optimizers.legacy.Adam`.\n"
     ]
    },
    {
     "name": "stdout",
     "output_type": "stream",
     "text": [
      "Base model loaded DenseNet169\n",
      "\n",
      "Model created.\n",
      "Epoch 1/7\n",
      "71/71 [==============================] - ETA: 0s - loss: 1.4231WARNING:tensorflow:Can save best model only with val_loss available, skipping.\n"
     ]
    },
    {
     "name": "stderr",
     "output_type": "stream",
     "text": [
      "WARNING:tensorflow:Can save best model only with val_loss available, skipping.\n"
     ]
    },
    {
     "name": "stdout",
     "output_type": "stream",
     "text": [
      "71/71 [==============================] - 302s 3s/step - loss: 1.4231\n",
      "Epoch 2/7\n",
      "71/71 [==============================] - ETA: 0s - loss: 0.8459WARNING:tensorflow:Can save best model only with val_loss available, skipping.\n"
     ]
    },
    {
     "name": "stderr",
     "output_type": "stream",
     "text": [
      "WARNING:tensorflow:Can save best model only with val_loss available, skipping.\n"
     ]
    },
    {
     "name": "stdout",
     "output_type": "stream",
     "text": [
      "71/71 [==============================] - 148s 2s/step - loss: 0.8459\n",
      "Epoch 3/7\n",
      "71/71 [==============================] - ETA: 0s - loss: 0.6894WARNING:tensorflow:Can save best model only with val_loss available, skipping.\n"
     ]
    },
    {
     "name": "stderr",
     "output_type": "stream",
     "text": [
      "WARNING:tensorflow:Can save best model only with val_loss available, skipping.\n"
     ]
    },
    {
     "name": "stdout",
     "output_type": "stream",
     "text": [
      "71/71 [==============================] - 145s 2s/step - loss: 0.6894\n",
      "Epoch 4/7\n",
      "71/71 [==============================] - ETA: 0s - loss: 0.5984WARNING:tensorflow:Can save best model only with val_loss available, skipping.\n"
     ]
    },
    {
     "name": "stderr",
     "output_type": "stream",
     "text": [
      "WARNING:tensorflow:Can save best model only with val_loss available, skipping.\n"
     ]
    },
    {
     "name": "stdout",
     "output_type": "stream",
     "text": [
      "71/71 [==============================] - 144s 2s/step - loss: 0.5984\n",
      "Epoch 5/7\n",
      "71/71 [==============================] - ETA: 0s - loss: 0.4722WARNING:tensorflow:Can save best model only with val_loss available, skipping.\n"
     ]
    },
    {
     "name": "stderr",
     "output_type": "stream",
     "text": [
      "WARNING:tensorflow:Can save best model only with val_loss available, skipping.\n"
     ]
    },
    {
     "name": "stdout",
     "output_type": "stream",
     "text": [
      "71/71 [==============================] - 144s 2s/step - loss: 0.4722\n",
      "Epoch 6/7\n",
      "71/71 [==============================] - ETA: 0s - loss: 0.4546WARNING:tensorflow:Can save best model only with val_loss available, skipping.\n"
     ]
    },
    {
     "name": "stderr",
     "output_type": "stream",
     "text": [
      "WARNING:tensorflow:Can save best model only with val_loss available, skipping.\n"
     ]
    },
    {
     "name": "stdout",
     "output_type": "stream",
     "text": [
      "71/71 [==============================] - 143s 2s/step - loss: 0.4546\n",
      "Epoch 7/7\n",
      "71/71 [==============================] - ETA: 0s - loss: 0.4506WARNING:tensorflow:Can save best model only with val_loss available, skipping.\n"
     ]
    },
    {
     "name": "stderr",
     "output_type": "stream",
     "text": [
      "WARNING:tensorflow:Can save best model only with val_loss available, skipping.\n"
     ]
    },
    {
     "name": "stdout",
     "output_type": "stream",
     "text": [
      "71/71 [==============================] - 142s 2s/step - loss: 0.4506\n",
      "Best Weights (w1, w2, w3): (0.2, 0.8, 0.4)\n",
      "Best Validation Loss: 0.33289405703544617\n"
     ]
    }
   ],
   "source": [
    "import os\n",
    "import matplotlib.pyplot as plt\n",
    "import tensorflow as tf\n",
    "from itertools import product\n",
    "import random\n",
    "\n",
    "# Define hyperparameters\n",
    "batch_size = 8\n",
    "learning_rate = 0.0001\n",
    "epochs = 7  # adjust the number of epochs for faster training\n",
    "\n",
    "# Define weight range for random search\n",
    "weight_range = [0.20, 0.40, 0.60, 0.80, 1.0]\n",
    "\n",
    "# Number of random combinations to try\n",
    "num_random_combinations = 20\n",
    "\n",
    "# Initialize the DataLoader\n",
    "dl = DataLoader(DEBUG=False)\n",
    "\n",
    "# Create a list to store loss values\n",
    "val_loss_values = []\n",
    "\n",
    "# Placeholder for best validation loss and corresponding weights\n",
    "best_val_loss = float('inf')\n",
    "best_weights = None\n",
    "\n",
    "# Perform random search\n",
    "for _ in range(num_random_combinations):\n",
    "    # Randomly sample weights from the weight range\n",
    "    w1 = random.choice(weight_range)\n",
    "    w2 = random.choice(weight_range)\n",
    "    w3 = random.choice(weight_range)\n",
    "\n",
    "    # Create a new instance of the model for each combination of weights\n",
    "    model = DepthEstimate()  # Initialize the model\n",
    "\n",
    "    # Compile the model with the current weights\n",
    "    optimizer = tf.keras.optimizers.Adam(learning_rate=learning_rate)\n",
    "\n",
    "    def custom_loss(y_true, y_pred):\n",
    "        global w1, w2, w3  \n",
    "        return depth_loss_function(y_true, y_pred, theta=0.1, maxDepthVal=1000.0/10.0)\n",
    "\n",
    "    model.compile(loss=custom_loss, optimizer=optimizer)\n",
    "\n",
    "    # Create training and validation datasets using DataLoader class\n",
    "    train_dataset = dl.get_batched_dataset(batch_size)\n",
    "    validation_dataset = dl.get_validation_dataset(batch_size)\n",
    "\n",
    "    # Calculate the number of steps per epoch based on the dataset size and batch size\n",
    "    steps_per_epoch = dl.length // batch_size\n",
    "\n",
    "    # Create a checkpoint callback for saving model weights\n",
    "    checkpoint_path = f\"training_weights_w1_{w1}_w2_{w2}_w3_{w3}/cp.ckpt\"\n",
    "    cp_callback = tf.keras.callbacks.ModelCheckpoint(\n",
    "        checkpoint_path,\n",
    "        save_weights_only=True,\n",
    "        save_best_only=True,\n",
    "        verbose=1\n",
    "    )\n",
    "\n",
    "    # Inside the training loop\n",
    "    history = model.fit(\n",
    "        train_dataset,\n",
    "        epochs=epochs,  # Train for the specified number of epochs\n",
    "        steps_per_epoch=steps_per_epoch,  # Specify the number of steps\n",
    "        verbose=1,\n",
    "        callbacks=[cp_callback]\n",
    "    )\n",
    "\n",
    "    # Calculate the average validation loss after training\n",
    "    val_loss = model.evaluate(validation_dataset, verbose=0)\n",
    "    val_loss_values.append(val_loss)\n",
    "\n",
    "    # Check if this combination of weights results in a lower validation loss\n",
    "    if val_loss < best_val_loss:\n",
    "        best_val_loss = val_loss\n",
    "        best_weights = (w1, w2, w3)\n",
    "\n",
    "# Print the best weights for this combination\n",
    "print(f\"Best Weights (w1, w2, w3): {best_weights}\")\n",
    "print(f\"Best Validation Loss: {best_val_loss}\")\n"
   ]
  },
  {
   "cell_type": "code",
   "execution_count": 7,
   "metadata": {},
   "outputs": [
    {
     "name": "stdout",
     "output_type": "stream",
     "text": [
      "Best Weights (w1, w2, w3): (0.2, 0.8, 0.4)\n",
      "Best Validation Loss: 0.33289405703544617\n"
     ]
    }
   ],
   "source": [
    "print(\"Best Weights (w1, w2, w3):\", best_weights)\n",
    "print(\"Best Validation Loss:\", best_val_loss)"
   ]
  },
  {
   "cell_type": "code",
   "execution_count": null,
   "metadata": {},
   "outputs": [],
   "source": []
  }
 ],
 "metadata": {
  "kernelspec": {
   "display_name": "Python 3 (ipykernel)",
   "language": "python",
   "name": "python3"
  },
  "language_info": {
   "codemirror_mode": {
    "name": "ipython",
    "version": 3
   },
   "file_extension": ".py",
   "mimetype": "text/x-python",
   "name": "python",
   "nbconvert_exporter": "python",
   "pygments_lexer": "ipython3",
   "version": "3.10.11"
  }
 },
 "nbformat": 4,
 "nbformat_minor": 2
}
