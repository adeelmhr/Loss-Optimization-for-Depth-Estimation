{
 "cells": [
  {
   "cell_type": "markdown",
   "metadata": {},
   "source": [
    "# Parameters"
   ]
  },
  {
   "cell_type": "code",
   "execution_count": 1,
   "metadata": {},
   "outputs": [],
   "source": [
    "batch_size     = 8\n",
    "learning_rate  = 0.0001\n",
    "epochs         = 5"
   ]
  },
  {
   "cell_type": "markdown",
   "metadata": {},
   "source": [
    "# Define model"
   ]
  },
  {
   "cell_type": "code",
   "execution_count": 2,
   "metadata": {},
   "outputs": [
    {
     "name": "stdout",
     "output_type": "stream",
     "text": [
      "Base model loaded DenseNet169\n",
      "\n",
      "Model created.\n"
     ]
    }
   ],
   "source": [
    "from model import DepthEstimate\n",
    "\n",
    "model = DepthEstimate()"
   ]
  },
  {
   "cell_type": "markdown",
   "metadata": {},
   "source": [
    "# Data loader"
   ]
  },
  {
   "cell_type": "code",
   "execution_count": 3,
   "metadata": {},
   "outputs": [
    {
     "name": "stdout",
     "output_type": "stream",
     "text": [
      "nyu2_train :  [['data/nyu2_train/living_room_0038_out/37.jpg', 'data/nyu2_train/living_room_0038_out/37.png'], ['data/nyu2_train/living_room_0038_out/115.jpg', 'data/nyu2_train/living_room_0038_out/115.png'], ['data/nyu2_train/living_room_0038_out/6.jpg', 'data/nyu2_train/living_room_0038_out/6.png'], ['data/nyu2_train/living_room_0038_out/49.jpg', 'data/nyu2_train/living_room_0038_out/49.png'], ['data/nyu2_train/living_room_0038_out/152.jpg', 'data/nyu2_train/living_room_0038_out/152.png'], ['data/nyu2_train/living_room_0038_out/142.jpg', 'data/nyu2_train/living_room_0038_out/142.png'], ['data/nyu2_train/living_room_0038_out/94.jpg', 'data/nyu2_train/living_room_0038_out/94.png'], ['data/nyu2_train/living_room_0038_out/158.jpg', 'data/nyu2_train/living_room_0038_out/158.png'], ['data/nyu2_train/living_room_0038_out/18.jpg', 'data/nyu2_train/living_room_0038_out/18.png'], ['data/nyu2_train/living_room_0038_out/167.jpg', 'data/nyu2_train/living_room_0038_out/167.png'], ['data/nyu2_train/living_room_0038_out/21.jpg', 'data/nyu2_train/living_room_0038_out/21.png'], ['data/nyu2_train/living_room_0038_out/48.jpg', 'data/nyu2_train/living_room_0038_out/48.png'], ['data/nyu2_train/living_room_0038_out/75.jpg', 'data/nyu2_train/living_room_0038_out/75.png'], ['data/nyu2_train/living_room_0038_out/171.jpg', 'data/nyu2_train/living_room_0038_out/171.png'], ['data/nyu2_train/living_room_0038_out/25.jpg', 'data/nyu2_train/living_room_0038_out/25.png'], ['data/nyu2_train/living_room_0038_out/13.jpg', 'data/nyu2_train/living_room_0038_out/13.png'], ['data/nyu2_train/living_room_0038_out/68.jpg', 'data/nyu2_train/living_room_0038_out/68.png'], ['data/nyu2_train/living_room_0038_out/28.jpg', 'data/nyu2_train/living_room_0038_out/28.png'], ['data/nyu2_train/living_room_0038_out/161.jpg', 'data/nyu2_train/living_room_0038_out/161.png'], ['data/nyu2_train/living_room_0038_out/85.jpg', 'data/nyu2_train/living_room_0038_out/85.png'], ['data/nyu2_train/living_room_0038_out/57.jpg', 'data/nyu2_train/living_room_0038_out/57.png'], ['data/nyu2_train/living_room_0038_out/34.jpg', 'data/nyu2_train/living_room_0038_out/34.png'], ['data/nyu2_train/living_room_0038_out/118.jpg', 'data/nyu2_train/living_room_0038_out/118.png'], ['data/nyu2_train/living_room_0038_out/53.jpg', 'data/nyu2_train/living_room_0038_out/53.png'], ['data/nyu2_train/living_room_0038_out/11.jpg', 'data/nyu2_train/living_room_0038_out/11.png'], ['data/nyu2_train/living_room_0038_out/46.jpg', 'data/nyu2_train/living_room_0038_out/46.png'], ['data/nyu2_train/living_room_0038_out/135.jpg', 'data/nyu2_train/living_room_0038_out/135.png'], ['data/nyu2_train/living_room_0038_out/39.jpg', 'data/nyu2_train/living_room_0038_out/39.png'], ['data/nyu2_train/living_room_0038_out/71.jpg', 'data/nyu2_train/living_room_0038_out/71.png'], ['data/nyu2_train/living_room_0038_out/29.jpg', 'data/nyu2_train/living_room_0038_out/29.png'], ['data/nyu2_train/living_room_0038_out/14.jpg', 'data/nyu2_train/living_room_0038_out/14.png'], ['data/nyu2_train/living_room_0038_out/113.jpg', 'data/nyu2_train/living_room_0038_out/113.png'], ['data/nyu2_train/living_room_0038_out/138.jpg', 'data/nyu2_train/living_room_0038_out/138.png'], ['data/nyu2_train/living_room_0038_out/30.jpg', 'data/nyu2_train/living_room_0038_out/30.png'], ['data/nyu2_train/living_room_0038_out/16.jpg', 'data/nyu2_train/living_room_0038_out/16.png'], ['data/nyu2_train/living_room_0038_out/105.jpg', 'data/nyu2_train/living_room_0038_out/105.png'], ['data/nyu2_train/living_room_0038_out/62.jpg', 'data/nyu2_train/living_room_0038_out/62.png'], ['data/nyu2_train/living_room_0038_out/56.jpg', 'data/nyu2_train/living_room_0038_out/56.png'], ['data/nyu2_train/living_room_0038_out/119.jpg', 'data/nyu2_train/living_room_0038_out/119.png'], ['data/nyu2_train/living_room_0038_out/42.jpg', 'data/nyu2_train/living_room_0038_out/42.png'], ['data/nyu2_train/living_room_0038_out/2.jpg', 'data/nyu2_train/living_room_0038_out/2.png'], ['data/nyu2_train/living_room_0038_out/129.jpg', 'data/nyu2_train/living_room_0038_out/129.png'], ['data/nyu2_train/living_room_0038_out/160.jpg', 'data/nyu2_train/living_room_0038_out/160.png'], ['data/nyu2_train/living_room_0038_out/126.jpg', 'data/nyu2_train/living_room_0038_out/126.png'], ['data/nyu2_train/living_room_0038_out/91.jpg', 'data/nyu2_train/living_room_0038_out/91.png'], ['data/nyu2_train/living_room_0038_out/162.jpg', 'data/nyu2_train/living_room_0038_out/162.png'], ['data/nyu2_train/living_room_0038_out/93.jpg', 'data/nyu2_train/living_room_0038_out/93.png'], ['data/nyu2_train/living_room_0038_out/70.jpg', 'data/nyu2_train/living_room_0038_out/70.png'], ['data/nyu2_train/living_room_0038_out/60.jpg', 'data/nyu2_train/living_room_0038_out/60.png'], ['data/nyu2_train/living_room_0038_out/3.jpg', 'data/nyu2_train/living_room_0038_out/3.png'], ['data/nyu2_train/living_room_0038_out/132.jpg', 'data/nyu2_train/living_room_0038_out/132.png'], ['data/nyu2_train/living_room_0038_out/54.jpg', 'data/nyu2_train/living_room_0038_out/54.png'], ['data/nyu2_train/living_room_0038_out/146.jpg', 'data/nyu2_train/living_room_0038_out/146.png'], ['data/nyu2_train/living_room_0038_out/121.jpg', 'data/nyu2_train/living_room_0038_out/121.png'], ['data/nyu2_train/living_room_0038_out/122.jpg', 'data/nyu2_train/living_room_0038_out/122.png'], ['data/nyu2_train/living_room_0038_out/130.jpg', 'data/nyu2_train/living_room_0038_out/130.png'], ['data/nyu2_train/living_room_0038_out/10.jpg', 'data/nyu2_train/living_room_0038_out/10.png'], ['data/nyu2_train/living_room_0038_out/4.jpg', 'data/nyu2_train/living_room_0038_out/4.png'], ['data/nyu2_train/living_room_0038_out/153.jpg', 'data/nyu2_train/living_room_0038_out/153.png'], ['data/nyu2_train/living_room_0038_out/12.jpg', 'data/nyu2_train/living_room_0038_out/12.png'], ['data/nyu2_train/living_room_0038_out/163.jpg', 'data/nyu2_train/living_room_0038_out/163.png'], ['data/nyu2_train/living_room_0038_out/169.jpg', 'data/nyu2_train/living_room_0038_out/169.png'], ['data/nyu2_train/living_room_0038_out/168.jpg', 'data/nyu2_train/living_room_0038_out/168.png'], ['data/nyu2_train/living_room_0038_out/104.jpg', 'data/nyu2_train/living_room_0038_out/104.png'], ['data/nyu2_train/living_room_0038_out/134.jpg', 'data/nyu2_train/living_room_0038_out/134.png'], ['data/nyu2_train/living_room_0038_out/100.jpg', 'data/nyu2_train/living_room_0038_out/100.png'], ['data/nyu2_train/living_room_0038_out/64.jpg', 'data/nyu2_train/living_room_0038_out/64.png'], ['data/nyu2_train/living_room_0038_out/147.jpg', 'data/nyu2_train/living_room_0038_out/147.png'], ['data/nyu2_train/living_room_0038_out/103.jpg', 'data/nyu2_train/living_room_0038_out/103.png'], ['data/nyu2_train/living_room_0038_out/67.jpg', 'data/nyu2_train/living_room_0038_out/67.png'], ['data/nyu2_train/living_room_0038_out/114.jpg', 'data/nyu2_train/living_room_0038_out/114.png'], ['data/nyu2_train/living_room_0038_out/8.jpg', 'data/nyu2_train/living_room_0038_out/8.png'], ['data/nyu2_train/living_room_0038_out/127.jpg', 'data/nyu2_train/living_room_0038_out/127.png'], ['data/nyu2_train/living_room_0038_out/43.jpg', 'data/nyu2_train/living_room_0038_out/43.png'], ['data/nyu2_train/living_room_0038_out/144.jpg', 'data/nyu2_train/living_room_0038_out/144.png'], ['data/nyu2_train/living_room_0038_out/17.jpg', 'data/nyu2_train/living_room_0038_out/17.png'], ['data/nyu2_train/living_room_0038_out/151.jpg', 'data/nyu2_train/living_room_0038_out/151.png'], ['data/nyu2_train/living_room_0038_out/35.jpg', 'data/nyu2_train/living_room_0038_out/35.png'], ['data/nyu2_train/living_room_0038_out/40.jpg', 'data/nyu2_train/living_room_0038_out/40.png'], ['data/nyu2_train/living_room_0038_out/55.jpg', 'data/nyu2_train/living_room_0038_out/55.png'], ['data/nyu2_train/living_room_0038_out/95.jpg', 'data/nyu2_train/living_room_0038_out/95.png'], ['data/nyu2_train/living_room_0038_out/45.jpg', 'data/nyu2_train/living_room_0038_out/45.png'], ['data/nyu2_train/living_room_0038_out/82.jpg', 'data/nyu2_train/living_room_0038_out/82.png'], ['data/nyu2_train/living_room_0038_out/108.jpg', 'data/nyu2_train/living_room_0038_out/108.png'], ['data/nyu2_train/living_room_0038_out/79.jpg', 'data/nyu2_train/living_room_0038_out/79.png'], ['data/nyu2_train/living_room_0038_out/31.jpg', 'data/nyu2_train/living_room_0038_out/31.png'], ['data/nyu2_train/living_room_0038_out/137.jpg', 'data/nyu2_train/living_room_0038_out/137.png'], ['data/nyu2_train/living_room_0038_out/47.jpg', 'data/nyu2_train/living_room_0038_out/47.png'], ['data/nyu2_train/living_room_0038_out/111.jpg', 'data/nyu2_train/living_room_0038_out/111.png'], ['data/nyu2_train/living_room_0038_out/41.jpg', 'data/nyu2_train/living_room_0038_out/41.png'], ['data/nyu2_train/living_room_0038_out/50.jpg', 'data/nyu2_train/living_room_0038_out/50.png'], ['data/nyu2_train/living_room_0038_out/140.jpg', 'data/nyu2_train/living_room_0038_out/140.png'], ['data/nyu2_train/living_room_0038_out/19.jpg', 'data/nyu2_train/living_room_0038_out/19.png'], ['data/nyu2_train/living_room_0038_out/58.jpg', 'data/nyu2_train/living_room_0038_out/58.png'], ['data/nyu2_train/living_room_0038_out/98.jpg', 'data/nyu2_train/living_room_0038_out/98.png'], ['data/nyu2_train/living_room_0038_out/76.jpg', 'data/nyu2_train/living_room_0038_out/76.png'], ['data/nyu2_train/living_room_0038_out/124.jpg', 'data/nyu2_train/living_room_0038_out/124.png'], ['data/nyu2_train/living_room_0038_out/128.jpg', 'data/nyu2_train/living_room_0038_out/128.png'], ['data/nyu2_train/living_room_0038_out/170.jpg', 'data/nyu2_train/living_room_0038_out/170.png'], ['data/nyu2_train/living_room_0038_out/149.jpg', 'data/nyu2_train/living_room_0038_out/149.png'], ['data/nyu2_train/living_room_0038_out/69.jpg', 'data/nyu2_train/living_room_0038_out/69.png'], ['data/nyu2_train/living_room_0038_out/155.jpg', 'data/nyu2_train/living_room_0038_out/155.png'], ['data/nyu2_train/living_room_0038_out/5.jpg', 'data/nyu2_train/living_room_0038_out/5.png'], ['data/nyu2_train/living_room_0038_out/131.jpg', 'data/nyu2_train/living_room_0038_out/131.png'], ['data/nyu2_train/living_room_0038_out/101.jpg', 'data/nyu2_train/living_room_0038_out/101.png'], ['data/nyu2_train/living_room_0038_out/112.jpg', 'data/nyu2_train/living_room_0038_out/112.png'], ['data/nyu2_train/living_room_0038_out/1.jpg', 'data/nyu2_train/living_room_0038_out/1.png'], ['data/nyu2_train/living_room_0038_out/148.jpg', 'data/nyu2_train/living_room_0038_out/148.png'], ['data/nyu2_train/living_room_0038_out/84.jpg', 'data/nyu2_train/living_room_0038_out/84.png'], ['data/nyu2_train/living_room_0038_out/92.jpg', 'data/nyu2_train/living_room_0038_out/92.png'], ['data/nyu2_train/living_room_0038_out/133.jpg', 'data/nyu2_train/living_room_0038_out/133.png'], ['data/nyu2_train/living_room_0038_out/150.jpg', 'data/nyu2_train/living_room_0038_out/150.png'], ['data/nyu2_train/living_room_0038_out/107.jpg', 'data/nyu2_train/living_room_0038_out/107.png'], ['data/nyu2_train/living_room_0038_out/136.jpg', 'data/nyu2_train/living_room_0038_out/136.png'], ['data/nyu2_train/living_room_0038_out/51.jpg', 'data/nyu2_train/living_room_0038_out/51.png'], ['data/nyu2_train/living_room_0038_out/7.jpg', 'data/nyu2_train/living_room_0038_out/7.png'], ['data/nyu2_train/living_room_0038_out/97.jpg', 'data/nyu2_train/living_room_0038_out/97.png'], ['data/nyu2_train/living_room_0038_out/15.jpg', 'data/nyu2_train/living_room_0038_out/15.png'], ['data/nyu2_train/living_room_0038_out/156.jpg', 'data/nyu2_train/living_room_0038_out/156.png'], ['data/nyu2_train/living_room_0038_out/77.jpg', 'data/nyu2_train/living_room_0038_out/77.png'], ['data/nyu2_train/living_room_0038_out/117.jpg', 'data/nyu2_train/living_room_0038_out/117.png'], ['data/nyu2_train/living_room_0038_out/125.jpg', 'data/nyu2_train/living_room_0038_out/125.png'], ['data/nyu2_train/living_room_0038_out/89.jpg', 'data/nyu2_train/living_room_0038_out/89.png'], ['data/nyu2_train/living_room_0038_out/102.jpg', 'data/nyu2_train/living_room_0038_out/102.png'], ['data/nyu2_train/living_room_0038_out/99.jpg', 'data/nyu2_train/living_room_0038_out/99.png'], ['data/nyu2_train/living_room_0038_out/72.jpg', 'data/nyu2_train/living_room_0038_out/72.png'], ['data/nyu2_train/living_room_0038_out/157.jpg', 'data/nyu2_train/living_room_0038_out/157.png'], ['data/nyu2_train/living_room_0038_out/81.jpg', 'data/nyu2_train/living_room_0038_out/81.png'], ['data/nyu2_train/living_room_0038_out/33.jpg', 'data/nyu2_train/living_room_0038_out/33.png'], ['data/nyu2_train/living_room_0038_out/27.jpg', 'data/nyu2_train/living_room_0038_out/27.png'], ['data/nyu2_train/living_room_0038_out/139.jpg', 'data/nyu2_train/living_room_0038_out/139.png'], ['data/nyu2_train/living_room_0038_out/38.jpg', 'data/nyu2_train/living_room_0038_out/38.png'], ['data/nyu2_train/living_room_0038_out/154.jpg', 'data/nyu2_train/living_room_0038_out/154.png'], ['data/nyu2_train/living_room_0038_out/78.jpg', 'data/nyu2_train/living_room_0038_out/78.png'], ['data/nyu2_train/living_room_0038_out/73.jpg', 'data/nyu2_train/living_room_0038_out/73.png'], ['data/nyu2_train/living_room_0038_out/159.jpg', 'data/nyu2_train/living_room_0038_out/159.png'], ['data/nyu2_train/living_room_0038_out/110.jpg', 'data/nyu2_train/living_room_0038_out/110.png'], ['data/nyu2_train/living_room_0038_out/143.jpg', 'data/nyu2_train/living_room_0038_out/143.png'], ['data/nyu2_train/living_room_0038_out/83.jpg', 'data/nyu2_train/living_room_0038_out/83.png'], ['data/nyu2_train/living_room_0038_out/87.jpg', 'data/nyu2_train/living_room_0038_out/87.png'], ['data/nyu2_train/living_room_0038_out/59.jpg', 'data/nyu2_train/living_room_0038_out/59.png'], ['data/nyu2_train/living_room_0038_out/36.jpg', 'data/nyu2_train/living_room_0038_out/36.png'], ['data/nyu2_train/living_room_0038_out/20.jpg', 'data/nyu2_train/living_room_0038_out/20.png'], ['data/nyu2_train/living_room_0038_out/165.jpg', 'data/nyu2_train/living_room_0038_out/165.png'], ['data/nyu2_train/living_room_0038_out/106.jpg', 'data/nyu2_train/living_room_0038_out/106.png'], ['data/nyu2_train/living_room_0038_out/145.jpg', 'data/nyu2_train/living_room_0038_out/145.png'], ['data/nyu2_train/living_room_0038_out/65.jpg', 'data/nyu2_train/living_room_0038_out/65.png'], ['data/nyu2_train/living_room_0038_out/120.jpg', 'data/nyu2_train/living_room_0038_out/120.png'], ['data/nyu2_train/living_room_0038_out/86.jpg', 'data/nyu2_train/living_room_0038_out/86.png'], ['data/nyu2_train/living_room_0038_out/44.jpg', 'data/nyu2_train/living_room_0038_out/44.png'], ['data/nyu2_train/living_room_0038_out/63.jpg', 'data/nyu2_train/living_room_0038_out/63.png'], ['data/nyu2_train/living_room_0038_out/116.jpg', 'data/nyu2_train/living_room_0038_out/116.png'], ['data/nyu2_train/living_room_0038_out/61.jpg', 'data/nyu2_train/living_room_0038_out/61.png'], ['data/nyu2_train/living_room_0038_out/32.jpg', 'data/nyu2_train/living_room_0038_out/32.png'], ['data/nyu2_train/living_room_0038_out/123.jpg', 'data/nyu2_train/living_room_0038_out/123.png'], ['data/nyu2_train/living_room_0038_out/23.jpg', 'data/nyu2_train/living_room_0038_out/23.png'], ['data/nyu2_train/living_room_0038_out/74.jpg', 'data/nyu2_train/living_room_0038_out/74.png'], ['data/nyu2_train/living_room_0038_out/164.jpg', 'data/nyu2_train/living_room_0038_out/164.png'], ['data/nyu2_train/living_room_0038_out/141.jpg', 'data/nyu2_train/living_room_0038_out/141.png'], ['data/nyu2_train/living_room_0038_out/52.jpg', 'data/nyu2_train/living_room_0038_out/52.png'], ['data/nyu2_train/living_room_0038_out/66.jpg', 'data/nyu2_train/living_room_0038_out/66.png'], ['data/nyu2_train/living_room_0038_out/24.jpg', 'data/nyu2_train/living_room_0038_out/24.png'], ['data/nyu2_train/living_room_0038_out/22.jpg', 'data/nyu2_train/living_room_0038_out/22.png'], ['data/nyu2_train/living_room_0038_out/166.jpg', 'data/nyu2_train/living_room_0038_out/166.png'], ['data/nyu2_train/living_room_0038_out/80.jpg', 'data/nyu2_train/living_room_0038_out/80.png'], ['data/nyu2_train/living_room_0038_out/96.jpg', 'data/nyu2_train/living_room_0038_out/96.png'], ['data/nyu2_train/living_room_0038_out/26.jpg', 'data/nyu2_train/living_room_0038_out/26.png'], ['data/nyu2_train/living_room_0038_out/88.jpg', 'data/nyu2_train/living_room_0038_out/88.png'], ['data/nyu2_train/living_room_0038_out/9.jpg', 'data/nyu2_train/living_room_0038_out/9.png'], ['data/nyu2_train/living_room_0038_out/109.jpg', 'data/nyu2_train/living_room_0038_out/109.png'], ['data/nyu2_train/living_room_0038_out/90.jpg', 'data/nyu2_train/living_room_0038_out/90.png'], ['data/nyu2_train/bedroom_0047_out/37.jpg', 'data/nyu2_train/bedroom_0047_out/37.png'], ['data/nyu2_train/bedroom_0047_out/6.jpg', 'data/nyu2_train/bedroom_0047_out/6.png'], ['data/nyu2_train/bedroom_0047_out/49.jpg', 'data/nyu2_train/bedroom_0047_out/49.png'], ['data/nyu2_train/bedroom_0047_out/94.jpg', 'data/nyu2_train/bedroom_0047_out/94.png'], ['data/nyu2_train/bedroom_0047_out/18.jpg', 'data/nyu2_train/bedroom_0047_out/18.png'], ['data/nyu2_train/bedroom_0047_out/21.jpg', 'data/nyu2_train/bedroom_0047_out/21.png'], ['data/nyu2_train/bedroom_0047_out/48.jpg', 'data/nyu2_train/bedroom_0047_out/48.png'], ['data/nyu2_train/bedroom_0047_out/75.jpg', 'data/nyu2_train/bedroom_0047_out/75.png'], ['data/nyu2_train/bedroom_0047_out/25.jpg', 'data/nyu2_train/bedroom_0047_out/25.png'], ['data/nyu2_train/bedroom_0047_out/13.jpg', 'data/nyu2_train/bedroom_0047_out/13.png'], ['data/nyu2_train/bedroom_0047_out/68.jpg', 'data/nyu2_train/bedroom_0047_out/68.png'], ['data/nyu2_train/bedroom_0047_out/28.jpg', 'data/nyu2_train/bedroom_0047_out/28.png'], ['data/nyu2_train/bedroom_0047_out/85.jpg', 'data/nyu2_train/bedroom_0047_out/85.png'], ['data/nyu2_train/bedroom_0047_out/57.jpg', 'data/nyu2_train/bedroom_0047_out/57.png'], ['data/nyu2_train/bedroom_0047_out/34.jpg', 'data/nyu2_train/bedroom_0047_out/34.png'], ['data/nyu2_train/bedroom_0047_out/53.jpg', 'data/nyu2_train/bedroom_0047_out/53.png'], ['data/nyu2_train/bedroom_0047_out/11.jpg', 'data/nyu2_train/bedroom_0047_out/11.png'], ['data/nyu2_train/bedroom_0047_out/46.jpg', 'data/nyu2_train/bedroom_0047_out/46.png'], ['data/nyu2_train/bedroom_0047_out/39.jpg', 'data/nyu2_train/bedroom_0047_out/39.png'], ['data/nyu2_train/bedroom_0047_out/71.jpg', 'data/nyu2_train/bedroom_0047_out/71.png'], ['data/nyu2_train/bedroom_0047_out/29.jpg', 'data/nyu2_train/bedroom_0047_out/29.png'], ['data/nyu2_train/bedroom_0047_out/14.jpg', 'data/nyu2_train/bedroom_0047_out/14.png'], ['data/nyu2_train/bedroom_0047_out/30.jpg', 'data/nyu2_train/bedroom_0047_out/30.png'], ['data/nyu2_train/bedroom_0047_out/16.jpg', 'data/nyu2_train/bedroom_0047_out/16.png'], ['data/nyu2_train/bedroom_0047_out/62.jpg', 'data/nyu2_train/bedroom_0047_out/62.png'], ['data/nyu2_train/bedroom_0047_out/56.jpg', 'data/nyu2_train/bedroom_0047_out/56.png'], ['data/nyu2_train/bedroom_0047_out/42.jpg', 'data/nyu2_train/bedroom_0047_out/42.png'], ['data/nyu2_train/bedroom_0047_out/2.jpg', 'data/nyu2_train/bedroom_0047_out/2.png'], ['data/nyu2_train/bedroom_0047_out/91.jpg', 'data/nyu2_train/bedroom_0047_out/91.png'], ['data/nyu2_train/bedroom_0047_out/93.jpg', 'data/nyu2_train/bedroom_0047_out/93.png'], ['data/nyu2_train/bedroom_0047_out/70.jpg', 'data/nyu2_train/bedroom_0047_out/70.png'], ['data/nyu2_train/bedroom_0047_out/60.jpg', 'data/nyu2_train/bedroom_0047_out/60.png'], ['data/nyu2_train/bedroom_0047_out/3.jpg', 'data/nyu2_train/bedroom_0047_out/3.png'], ['data/nyu2_train/bedroom_0047_out/54.jpg', 'data/nyu2_train/bedroom_0047_out/54.png'], ['data/nyu2_train/bedroom_0047_out/10.jpg', 'data/nyu2_train/bedroom_0047_out/10.png'], ['data/nyu2_train/bedroom_0047_out/4.jpg', 'data/nyu2_train/bedroom_0047_out/4.png'], ['data/nyu2_train/bedroom_0047_out/12.jpg', 'data/nyu2_train/bedroom_0047_out/12.png'], ['data/nyu2_train/bedroom_0047_out/64.jpg', 'data/nyu2_train/bedroom_0047_out/64.png'], ['data/nyu2_train/bedroom_0047_out/67.jpg', 'data/nyu2_train/bedroom_0047_out/67.png'], ['data/nyu2_train/bedroom_0047_out/8.jpg', 'data/nyu2_train/bedroom_0047_out/8.png'], ['data/nyu2_train/bedroom_0047_out/43.jpg', 'data/nyu2_train/bedroom_0047_out/43.png'], ['data/nyu2_train/bedroom_0047_out/17.jpg', 'data/nyu2_train/bedroom_0047_out/17.png'], ['data/nyu2_train/bedroom_0047_out/35.jpg', 'data/nyu2_train/bedroom_0047_out/35.png'], ['data/nyu2_train/bedroom_0047_out/40.jpg', 'data/nyu2_train/bedroom_0047_out/40.png'], ['data/nyu2_train/bedroom_0047_out/55.jpg', 'data/nyu2_train/bedroom_0047_out/55.png'], ['data/nyu2_train/bedroom_0047_out/95.jpg', 'data/nyu2_train/bedroom_0047_out/95.png'], ['data/nyu2_train/bedroom_0047_out/45.jpg', 'data/nyu2_train/bedroom_0047_out/45.png'], ['data/nyu2_train/bedroom_0047_out/82.jpg', 'data/nyu2_train/bedroom_0047_out/82.png'], ['data/nyu2_train/bedroom_0047_out/79.jpg', 'data/nyu2_train/bedroom_0047_out/79.png'], ['data/nyu2_train/bedroom_0047_out/31.jpg', 'data/nyu2_train/bedroom_0047_out/31.png'], ['data/nyu2_train/bedroom_0047_out/47.jpg', 'data/nyu2_train/bedroom_0047_out/47.png'], ['data/nyu2_train/bedroom_0047_out/41.jpg', 'data/nyu2_train/bedroom_0047_out/41.png'], ['data/nyu2_train/bedroom_0047_out/50.jpg', 'data/nyu2_train/bedroom_0047_out/50.png'], ['data/nyu2_train/bedroom_0047_out/19.jpg', 'data/nyu2_train/bedroom_0047_out/19.png'], ['data/nyu2_train/bedroom_0047_out/58.jpg', 'data/nyu2_train/bedroom_0047_out/58.png'], ['data/nyu2_train/bedroom_0047_out/76.jpg', 'data/nyu2_train/bedroom_0047_out/76.png'], ['data/nyu2_train/bedroom_0047_out/69.jpg', 'data/nyu2_train/bedroom_0047_out/69.png'], ['data/nyu2_train/bedroom_0047_out/5.jpg', 'data/nyu2_train/bedroom_0047_out/5.png'], ['data/nyu2_train/bedroom_0047_out/1.jpg', 'data/nyu2_train/bedroom_0047_out/1.png'], ['data/nyu2_train/bedroom_0047_out/84.jpg', 'data/nyu2_train/bedroom_0047_out/84.png'], ['data/nyu2_train/bedroom_0047_out/92.jpg', 'data/nyu2_train/bedroom_0047_out/92.png'], ['data/nyu2_train/bedroom_0047_out/51.jpg', 'data/nyu2_train/bedroom_0047_out/51.png'], ['data/nyu2_train/bedroom_0047_out/7.jpg', 'data/nyu2_train/bedroom_0047_out/7.png'], ['data/nyu2_train/bedroom_0047_out/15.jpg', 'data/nyu2_train/bedroom_0047_out/15.png'], ['data/nyu2_train/bedroom_0047_out/77.jpg', 'data/nyu2_train/bedroom_0047_out/77.png'], ['data/nyu2_train/bedroom_0047_out/89.jpg', 'data/nyu2_train/bedroom_0047_out/89.png'], ['data/nyu2_train/bedroom_0047_out/72.jpg', 'data/nyu2_train/bedroom_0047_out/72.png'], ['data/nyu2_train/bedroom_0047_out/81.jpg', 'data/nyu2_train/bedroom_0047_out/81.png'], ['data/nyu2_train/bedroom_0047_out/33.jpg', 'data/nyu2_train/bedroom_0047_out/33.png'], ['data/nyu2_train/bedroom_0047_out/27.jpg', 'data/nyu2_train/bedroom_0047_out/27.png'], ['data/nyu2_train/bedroom_0047_out/38.jpg', 'data/nyu2_train/bedroom_0047_out/38.png'], ['data/nyu2_train/bedroom_0047_out/78.jpg', 'data/nyu2_train/bedroom_0047_out/78.png'], ['data/nyu2_train/bedroom_0047_out/73.jpg', 'data/nyu2_train/bedroom_0047_out/73.png'], ['data/nyu2_train/bedroom_0047_out/83.jpg', 'data/nyu2_train/bedroom_0047_out/83.png'], ['data/nyu2_train/bedroom_0047_out/87.jpg', 'data/nyu2_train/bedroom_0047_out/87.png'], ['data/nyu2_train/bedroom_0047_out/59.jpg', 'data/nyu2_train/bedroom_0047_out/59.png'], ['data/nyu2_train/bedroom_0047_out/36.jpg', 'data/nyu2_train/bedroom_0047_out/36.png'], ['data/nyu2_train/bedroom_0047_out/20.jpg', 'data/nyu2_train/bedroom_0047_out/20.png'], ['data/nyu2_train/bedroom_0047_out/65.jpg', 'data/nyu2_train/bedroom_0047_out/65.png'], ['data/nyu2_train/bedroom_0047_out/86.jpg', 'data/nyu2_train/bedroom_0047_out/86.png'], ['data/nyu2_train/bedroom_0047_out/44.jpg', 'data/nyu2_train/bedroom_0047_out/44.png'], ['data/nyu2_train/bedroom_0047_out/63.jpg', 'data/nyu2_train/bedroom_0047_out/63.png'], ['data/nyu2_train/bedroom_0047_out/61.jpg', 'data/nyu2_train/bedroom_0047_out/61.png'], ['data/nyu2_train/bedroom_0047_out/32.jpg', 'data/nyu2_train/bedroom_0047_out/32.png'], ['data/nyu2_train/bedroom_0047_out/23.jpg', 'data/nyu2_train/bedroom_0047_out/23.png'], ['data/nyu2_train/bedroom_0047_out/74.jpg', 'data/nyu2_train/bedroom_0047_out/74.png'], ['data/nyu2_train/bedroom_0047_out/52.jpg', 'data/nyu2_train/bedroom_0047_out/52.png'], ['data/nyu2_train/bedroom_0047_out/66.jpg', 'data/nyu2_train/bedroom_0047_out/66.png'], ['data/nyu2_train/bedroom_0047_out/24.jpg', 'data/nyu2_train/bedroom_0047_out/24.png'], ['data/nyu2_train/bedroom_0047_out/22.jpg', 'data/nyu2_train/bedroom_0047_out/22.png'], ['data/nyu2_train/bedroom_0047_out/80.jpg', 'data/nyu2_train/bedroom_0047_out/80.png'], ['data/nyu2_train/bedroom_0047_out/26.jpg', 'data/nyu2_train/bedroom_0047_out/26.png'], ['data/nyu2_train/bedroom_0047_out/88.jpg', 'data/nyu2_train/bedroom_0047_out/88.png'], ['data/nyu2_train/bedroom_0047_out/9.jpg', 'data/nyu2_train/bedroom_0047_out/9.png'], ['data/nyu2_train/bedroom_0047_out/90.jpg', 'data/nyu2_train/bedroom_0047_out/90.png'], ['data/nyu2_train/bedroom_0113_out/37.jpg', 'data/nyu2_train/bedroom_0113_out/37.png'], ['data/nyu2_train/bedroom_0113_out/115.jpg', 'data/nyu2_train/bedroom_0113_out/115.png'], ['data/nyu2_train/bedroom_0113_out/6.jpg', 'data/nyu2_train/bedroom_0113_out/6.png'], ['data/nyu2_train/bedroom_0113_out/49.jpg', 'data/nyu2_train/bedroom_0113_out/49.png'], ['data/nyu2_train/bedroom_0113_out/152.jpg', 'data/nyu2_train/bedroom_0113_out/152.png'], ['data/nyu2_train/bedroom_0113_out/142.jpg', 'data/nyu2_train/bedroom_0113_out/142.png'], ['data/nyu2_train/bedroom_0113_out/94.jpg', 'data/nyu2_train/bedroom_0113_out/94.png'], ['data/nyu2_train/bedroom_0113_out/158.jpg', 'data/nyu2_train/bedroom_0113_out/158.png'], ['data/nyu2_train/bedroom_0113_out/18.jpg', 'data/nyu2_train/bedroom_0113_out/18.png'], ['data/nyu2_train/bedroom_0113_out/21.jpg', 'data/nyu2_train/bedroom_0113_out/21.png'], ['data/nyu2_train/bedroom_0113_out/48.jpg', 'data/nyu2_train/bedroom_0113_out/48.png'], ['data/nyu2_train/bedroom_0113_out/75.jpg', 'data/nyu2_train/bedroom_0113_out/75.png'], ['data/nyu2_train/bedroom_0113_out/25.jpg', 'data/nyu2_train/bedroom_0113_out/25.png'], ['data/nyu2_train/bedroom_0113_out/13.jpg', 'data/nyu2_train/bedroom_0113_out/13.png'], ['data/nyu2_train/bedroom_0113_out/68.jpg', 'data/nyu2_train/bedroom_0113_out/68.png'], ['data/nyu2_train/bedroom_0113_out/28.jpg', 'data/nyu2_train/bedroom_0113_out/28.png'], ['data/nyu2_train/bedroom_0113_out/161.jpg', 'data/nyu2_train/bedroom_0113_out/161.png'], ['data/nyu2_train/bedroom_0113_out/85.jpg', 'data/nyu2_train/bedroom_0113_out/85.png'], ['data/nyu2_train/bedroom_0113_out/57.jpg', 'data/nyu2_train/bedroom_0113_out/57.png'], ['data/nyu2_train/bedroom_0113_out/34.jpg', 'data/nyu2_train/bedroom_0113_out/34.png'], ['data/nyu2_train/bedroom_0113_out/118.jpg', 'data/nyu2_train/bedroom_0113_out/118.png'], ['data/nyu2_train/bedroom_0113_out/53.jpg', 'data/nyu2_train/bedroom_0113_out/53.png'], ['data/nyu2_train/bedroom_0113_out/11.jpg', 'data/nyu2_train/bedroom_0113_out/11.png'], ['data/nyu2_train/bedroom_0113_out/46.jpg', 'data/nyu2_train/bedroom_0113_out/46.png'], ['data/nyu2_train/bedroom_0113_out/135.jpg', 'data/nyu2_train/bedroom_0113_out/135.png'], ['data/nyu2_train/bedroom_0113_out/39.jpg', 'data/nyu2_train/bedroom_0113_out/39.png'], ['data/nyu2_train/bedroom_0113_out/71.jpg', 'data/nyu2_train/bedroom_0113_out/71.png'], ['data/nyu2_train/bedroom_0113_out/29.jpg', 'data/nyu2_train/bedroom_0113_out/29.png'], ['data/nyu2_train/bedroom_0113_out/14.jpg', 'data/nyu2_train/bedroom_0113_out/14.png'], ['data/nyu2_train/bedroom_0113_out/113.jpg', 'data/nyu2_train/bedroom_0113_out/113.png'], ['data/nyu2_train/bedroom_0113_out/138.jpg', 'data/nyu2_train/bedroom_0113_out/138.png'], ['data/nyu2_train/bedroom_0113_out/30.jpg', 'data/nyu2_train/bedroom_0113_out/30.png'], ['data/nyu2_train/bedroom_0113_out/16.jpg', 'data/nyu2_train/bedroom_0113_out/16.png'], ['data/nyu2_train/bedroom_0113_out/105.jpg', 'data/nyu2_train/bedroom_0113_out/105.png'], ['data/nyu2_train/bedroom_0113_out/62.jpg', 'data/nyu2_train/bedroom_0113_out/62.png'], ['data/nyu2_train/bedroom_0113_out/56.jpg', 'data/nyu2_train/bedroom_0113_out/56.png'], ['data/nyu2_train/bedroom_0113_out/119.jpg', 'data/nyu2_train/bedroom_0113_out/119.png'], ['data/nyu2_train/bedroom_0113_out/42.jpg', 'data/nyu2_train/bedroom_0113_out/42.png'], ['data/nyu2_train/bedroom_0113_out/2.jpg', 'data/nyu2_train/bedroom_0113_out/2.png'], ['data/nyu2_train/bedroom_0113_out/129.jpg', 'data/nyu2_train/bedroom_0113_out/129.png'], ['data/nyu2_train/bedroom_0113_out/160.jpg', 'data/nyu2_train/bedroom_0113_out/160.png'], ['data/nyu2_train/bedroom_0113_out/126.jpg', 'data/nyu2_train/bedroom_0113_out/126.png'], ['data/nyu2_train/bedroom_0113_out/91.jpg', 'data/nyu2_train/bedroom_0113_out/91.png'], ['data/nyu2_train/bedroom_0113_out/162.jpg', 'data/nyu2_train/bedroom_0113_out/162.png'], ['data/nyu2_train/bedroom_0113_out/93.jpg', 'data/nyu2_train/bedroom_0113_out/93.png'], ['data/nyu2_train/bedroom_0113_out/70.jpg', 'data/nyu2_train/bedroom_0113_out/70.png'], ['data/nyu2_train/bedroom_0113_out/60.jpg', 'data/nyu2_train/bedroom_0113_out/60.png'], ['data/nyu2_train/bedroom_0113_out/3.jpg', 'data/nyu2_train/bedroom_0113_out/3.png'], ['data/nyu2_train/bedroom_0113_out/132.jpg', 'data/nyu2_train/bedroom_0113_out/132.png'], ['data/nyu2_train/bedroom_0113_out/54.jpg', 'data/nyu2_train/bedroom_0113_out/54.png'], ['data/nyu2_train/bedroom_0113_out/146.jpg', 'data/nyu2_train/bedroom_0113_out/146.png'], ['data/nyu2_train/bedroom_0113_out/121.jpg', 'data/nyu2_train/bedroom_0113_out/121.png'], ['data/nyu2_train/bedroom_0113_out/122.jpg', 'data/nyu2_train/bedroom_0113_out/122.png'], ['data/nyu2_train/bedroom_0113_out/130.jpg', 'data/nyu2_train/bedroom_0113_out/130.png'], ['data/nyu2_train/bedroom_0113_out/10.jpg', 'data/nyu2_train/bedroom_0113_out/10.png'], ['data/nyu2_train/bedroom_0113_out/4.jpg', 'data/nyu2_train/bedroom_0113_out/4.png'], ['data/nyu2_train/bedroom_0113_out/153.jpg', 'data/nyu2_train/bedroom_0113_out/153.png'], ['data/nyu2_train/bedroom_0113_out/12.jpg', 'data/nyu2_train/bedroom_0113_out/12.png'], ['data/nyu2_train/bedroom_0113_out/163.jpg', 'data/nyu2_train/bedroom_0113_out/163.png'], ['data/nyu2_train/bedroom_0113_out/104.jpg', 'data/nyu2_train/bedroom_0113_out/104.png'], ['data/nyu2_train/bedroom_0113_out/134.jpg', 'data/nyu2_train/bedroom_0113_out/134.png'], ['data/nyu2_train/bedroom_0113_out/100.jpg', 'data/nyu2_train/bedroom_0113_out/100.png'], ['data/nyu2_train/bedroom_0113_out/64.jpg', 'data/nyu2_train/bedroom_0113_out/64.png'], ['data/nyu2_train/bedroom_0113_out/147.jpg', 'data/nyu2_train/bedroom_0113_out/147.png'], ['data/nyu2_train/bedroom_0113_out/103.jpg', 'data/nyu2_train/bedroom_0113_out/103.png'], ['data/nyu2_train/bedroom_0113_out/67.jpg', 'data/nyu2_train/bedroom_0113_out/67.png'], ['data/nyu2_train/bedroom_0113_out/114.jpg', 'data/nyu2_train/bedroom_0113_out/114.png'], ['data/nyu2_train/bedroom_0113_out/8.jpg', 'data/nyu2_train/bedroom_0113_out/8.png'], ['data/nyu2_train/bedroom_0113_out/127.jpg', 'data/nyu2_train/bedroom_0113_out/127.png'], ['data/nyu2_train/bedroom_0113_out/43.jpg', 'data/nyu2_train/bedroom_0113_out/43.png'], ['data/nyu2_train/bedroom_0113_out/144.jpg', 'data/nyu2_train/bedroom_0113_out/144.png'], ['data/nyu2_train/bedroom_0113_out/17.jpg', 'data/nyu2_train/bedroom_0113_out/17.png'], ['data/nyu2_train/bedroom_0113_out/151.jpg', 'data/nyu2_train/bedroom_0113_out/151.png'], ['data/nyu2_train/bedroom_0113_out/35.jpg', 'data/nyu2_train/bedroom_0113_out/35.png'], ['data/nyu2_train/bedroom_0113_out/40.jpg', 'data/nyu2_train/bedroom_0113_out/40.png'], ['data/nyu2_train/bedroom_0113_out/55.jpg', 'data/nyu2_train/bedroom_0113_out/55.png'], ['data/nyu2_train/bedroom_0113_out/95.jpg', 'data/nyu2_train/bedroom_0113_out/95.png'], ['data/nyu2_train/bedroom_0113_out/45.jpg', 'data/nyu2_train/bedroom_0113_out/45.png'], ['data/nyu2_train/bedroom_0113_out/82.jpg', 'data/nyu2_train/bedroom_0113_out/82.png'], ['data/nyu2_train/bedroom_0113_out/108.jpg', 'data/nyu2_train/bedroom_0113_out/108.png'], ['data/nyu2_train/bedroom_0113_out/79.jpg', 'data/nyu2_train/bedroom_0113_out/79.png'], ['data/nyu2_train/bedroom_0113_out/31.jpg', 'data/nyu2_train/bedroom_0113_out/31.png'], ['data/nyu2_train/bedroom_0113_out/137.jpg', 'data/nyu2_train/bedroom_0113_out/137.png'], ['data/nyu2_train/bedroom_0113_out/47.jpg', 'data/nyu2_train/bedroom_0113_out/47.png'], ['data/nyu2_train/bedroom_0113_out/111.jpg', 'data/nyu2_train/bedroom_0113_out/111.png'], ['data/nyu2_train/bedroom_0113_out/41.jpg', 'data/nyu2_train/bedroom_0113_out/41.png'], ['data/nyu2_train/bedroom_0113_out/50.jpg', 'data/nyu2_train/bedroom_0113_out/50.png'], ['data/nyu2_train/bedroom_0113_out/140.jpg', 'data/nyu2_train/bedroom_0113_out/140.png'], ['data/nyu2_train/bedroom_0113_out/19.jpg', 'data/nyu2_train/bedroom_0113_out/19.png'], ['data/nyu2_train/bedroom_0113_out/58.jpg', 'data/nyu2_train/bedroom_0113_out/58.png'], ['data/nyu2_train/bedroom_0113_out/98.jpg', 'data/nyu2_train/bedroom_0113_out/98.png'], ['data/nyu2_train/bedroom_0113_out/76.jpg', 'data/nyu2_train/bedroom_0113_out/76.png'], ['data/nyu2_train/bedroom_0113_out/124.jpg', 'data/nyu2_train/bedroom_0113_out/124.png'], ['data/nyu2_train/bedroom_0113_out/128.jpg', 'data/nyu2_train/bedroom_0113_out/128.png'], ['data/nyu2_train/bedroom_0113_out/149.jpg', 'data/nyu2_train/bedroom_0113_out/149.png'], ['data/nyu2_train/bedroom_0113_out/69.jpg', 'data/nyu2_train/bedroom_0113_out/69.png'], ['data/nyu2_train/bedroom_0113_out/155.jpg', 'data/nyu2_train/bedroom_0113_out/155.png'], ['data/nyu2_train/bedroom_0113_out/5.jpg', 'data/nyu2_train/bedroom_0113_out/5.png'], ['data/nyu2_train/bedroom_0113_out/131.jpg', 'data/nyu2_train/bedroom_0113_out/131.png'], ['data/nyu2_train/bedroom_0113_out/101.jpg', 'data/nyu2_train/bedroom_0113_out/101.png'], ['data/nyu2_train/bedroom_0113_out/112.jpg', 'data/nyu2_train/bedroom_0113_out/112.png'], ['data/nyu2_train/bedroom_0113_out/1.jpg', 'data/nyu2_train/bedroom_0113_out/1.png'], ['data/nyu2_train/bedroom_0113_out/148.jpg', 'data/nyu2_train/bedroom_0113_out/148.png'], ['data/nyu2_train/bedroom_0113_out/84.jpg', 'data/nyu2_train/bedroom_0113_out/84.png'], ['data/nyu2_train/bedroom_0113_out/92.jpg', 'data/nyu2_train/bedroom_0113_out/92.png'], ['data/nyu2_train/bedroom_0113_out/133.jpg', 'data/nyu2_train/bedroom_0113_out/133.png'], ['data/nyu2_train/bedroom_0113_out/150.jpg', 'data/nyu2_train/bedroom_0113_out/150.png'], ['data/nyu2_train/bedroom_0113_out/107.jpg', 'data/nyu2_train/bedroom_0113_out/107.png'], ['data/nyu2_train/bedroom_0113_out/136.jpg', 'data/nyu2_train/bedroom_0113_out/136.png'], ['data/nyu2_train/bedroom_0113_out/51.jpg', 'data/nyu2_train/bedroom_0113_out/51.png'], ['data/nyu2_train/bedroom_0113_out/7.jpg', 'data/nyu2_train/bedroom_0113_out/7.png'], ['data/nyu2_train/bedroom_0113_out/97.jpg', 'data/nyu2_train/bedroom_0113_out/97.png'], ['data/nyu2_train/bedroom_0113_out/15.jpg', 'data/nyu2_train/bedroom_0113_out/15.png'], ['data/nyu2_train/bedroom_0113_out/156.jpg', 'data/nyu2_train/bedroom_0113_out/156.png'], ['data/nyu2_train/bedroom_0113_out/77.jpg', 'data/nyu2_train/bedroom_0113_out/77.png'], ['data/nyu2_train/bedroom_0113_out/117.jpg', 'data/nyu2_train/bedroom_0113_out/117.png'], ['data/nyu2_train/bedroom_0113_out/125.jpg', 'data/nyu2_train/bedroom_0113_out/125.png'], ['data/nyu2_train/bedroom_0113_out/89.jpg', 'data/nyu2_train/bedroom_0113_out/89.png'], ['data/nyu2_train/bedroom_0113_out/102.jpg', 'data/nyu2_train/bedroom_0113_out/102.png'], ['data/nyu2_train/bedroom_0113_out/99.jpg', 'data/nyu2_train/bedroom_0113_out/99.png'], ['data/nyu2_train/bedroom_0113_out/72.jpg', 'data/nyu2_train/bedroom_0113_out/72.png'], ['data/nyu2_train/bedroom_0113_out/157.jpg', 'data/nyu2_train/bedroom_0113_out/157.png'], ['data/nyu2_train/bedroom_0113_out/81.jpg', 'data/nyu2_train/bedroom_0113_out/81.png'], ['data/nyu2_train/bedroom_0113_out/33.jpg', 'data/nyu2_train/bedroom_0113_out/33.png'], ['data/nyu2_train/bedroom_0113_out/27.jpg', 'data/nyu2_train/bedroom_0113_out/27.png'], ['data/nyu2_train/bedroom_0113_out/139.jpg', 'data/nyu2_train/bedroom_0113_out/139.png'], ['data/nyu2_train/bedroom_0113_out/38.jpg', 'data/nyu2_train/bedroom_0113_out/38.png'], ['data/nyu2_train/bedroom_0113_out/154.jpg', 'data/nyu2_train/bedroom_0113_out/154.png'], ['data/nyu2_train/bedroom_0113_out/78.jpg', 'data/nyu2_train/bedroom_0113_out/78.png'], ['data/nyu2_train/bedroom_0113_out/73.jpg', 'data/nyu2_train/bedroom_0113_out/73.png'], ['data/nyu2_train/bedroom_0113_out/159.jpg', 'data/nyu2_train/bedroom_0113_out/159.png'], ['data/nyu2_train/bedroom_0113_out/110.jpg', 'data/nyu2_train/bedroom_0113_out/110.png'], ['data/nyu2_train/bedroom_0113_out/143.jpg', 'data/nyu2_train/bedroom_0113_out/143.png'], ['data/nyu2_train/bedroom_0113_out/83.jpg', 'data/nyu2_train/bedroom_0113_out/83.png'], ['data/nyu2_train/bedroom_0113_out/87.jpg', 'data/nyu2_train/bedroom_0113_out/87.png'], ['data/nyu2_train/bedroom_0113_out/59.jpg', 'data/nyu2_train/bedroom_0113_out/59.png'], ['data/nyu2_train/bedroom_0113_out/36.jpg', 'data/nyu2_train/bedroom_0113_out/36.png'], ['data/nyu2_train/bedroom_0113_out/20.jpg', 'data/nyu2_train/bedroom_0113_out/20.png'], ['data/nyu2_train/bedroom_0113_out/165.jpg', 'data/nyu2_train/bedroom_0113_out/165.png'], ['data/nyu2_train/bedroom_0113_out/106.jpg', 'data/nyu2_train/bedroom_0113_out/106.png'], ['data/nyu2_train/bedroom_0113_out/145.jpg', 'data/nyu2_train/bedroom_0113_out/145.png'], ['data/nyu2_train/bedroom_0113_out/65.jpg', 'data/nyu2_train/bedroom_0113_out/65.png'], ['data/nyu2_train/bedroom_0113_out/120.jpg', 'data/nyu2_train/bedroom_0113_out/120.png'], ['data/nyu2_train/bedroom_0113_out/86.jpg', 'data/nyu2_train/bedroom_0113_out/86.png'], ['data/nyu2_train/bedroom_0113_out/44.jpg', 'data/nyu2_train/bedroom_0113_out/44.png'], ['data/nyu2_train/bedroom_0113_out/63.jpg', 'data/nyu2_train/bedroom_0113_out/63.png'], ['data/nyu2_train/bedroom_0113_out/116.jpg', 'data/nyu2_train/bedroom_0113_out/116.png'], ['data/nyu2_train/bedroom_0113_out/61.jpg', 'data/nyu2_train/bedroom_0113_out/61.png'], ['data/nyu2_train/bedroom_0113_out/32.jpg', 'data/nyu2_train/bedroom_0113_out/32.png'], ['data/nyu2_train/bedroom_0113_out/123.jpg', 'data/nyu2_train/bedroom_0113_out/123.png'], ['data/nyu2_train/bedroom_0113_out/23.jpg', 'data/nyu2_train/bedroom_0113_out/23.png'], ['data/nyu2_train/bedroom_0113_out/74.jpg', 'data/nyu2_train/bedroom_0113_out/74.png'], ['data/nyu2_train/bedroom_0113_out/164.jpg', 'data/nyu2_train/bedroom_0113_out/164.png'], ['data/nyu2_train/bedroom_0113_out/141.jpg', 'data/nyu2_train/bedroom_0113_out/141.png'], ['data/nyu2_train/bedroom_0113_out/52.jpg', 'data/nyu2_train/bedroom_0113_out/52.png'], ['data/nyu2_train/bedroom_0113_out/66.jpg', 'data/nyu2_train/bedroom_0113_out/66.png'], ['data/nyu2_train/bedroom_0113_out/24.jpg', 'data/nyu2_train/bedroom_0113_out/24.png'], ['data/nyu2_train/bedroom_0113_out/22.jpg', 'data/nyu2_train/bedroom_0113_out/22.png'], ['data/nyu2_train/bedroom_0113_out/166.jpg', 'data/nyu2_train/bedroom_0113_out/166.png'], ['data/nyu2_train/bedroom_0113_out/80.jpg', 'data/nyu2_train/bedroom_0113_out/80.png'], ['data/nyu2_train/bedroom_0113_out/96.jpg', 'data/nyu2_train/bedroom_0113_out/96.png'], ['data/nyu2_train/bedroom_0113_out/26.jpg', 'data/nyu2_train/bedroom_0113_out/26.png'], ['data/nyu2_train/bedroom_0113_out/88.jpg', 'data/nyu2_train/bedroom_0113_out/88.png'], ['data/nyu2_train/bedroom_0113_out/9.jpg', 'data/nyu2_train/bedroom_0113_out/9.png'], ['data/nyu2_train/bedroom_0113_out/109.jpg', 'data/nyu2_train/bedroom_0113_out/109.png'], ['data/nyu2_train/bedroom_0113_out/90.jpg', 'data/nyu2_train/bedroom_0113_out/90.png']]\n",
      "Data loader ready.\n"
     ]
    }
   ],
   "source": [
    "from data import DataLoader\n",
    "\n",
    "dl = DataLoader()\n",
    "train_generator = dl.get_batched_dataset(batch_size)\n",
    "\n",
    "# Get the validation dataset\n",
    "validation_dataset = dl.get_validation_dataset(batch_size)\n",
    "\n",
    "print('Data loader ready.')"
   ]
  },
  {
   "cell_type": "markdown",
   "metadata": {},
   "source": [
    "# Compile & Train"
   ]
  },
  {
   "cell_type": "code",
   "execution_count": 4,
   "metadata": {
    "scrolled": true
   },
   "outputs": [
    {
     "name": "stderr",
     "output_type": "stream",
     "text": [
      "/Users/adeelhafeez/GPU_Test/env/lib/python3.10/site-packages/keras/src/optimizers/legacy/adam.py:118: UserWarning: The `lr` argument is deprecated, use `learning_rate` instead.\n",
      "  super().__init__(name, **kwargs)\n"
     ]
    }
   ],
   "source": [
    "import tensorflow\n",
    "from loss import depth_loss_function\n",
    "\n",
    "optimizer = tensorflow.keras.optimizers.legacy.Adam(lr=learning_rate, amsgrad=True)\n",
    "\n",
    "# model.compile(loss=depth_loss_function, optimizer=optimizer)"
   ]
  },
  {
   "cell_type": "code",
   "execution_count": 5,
   "metadata": {},
   "outputs": [],
   "source": [
    "# Create checkpoint callback\n",
    "import os\n",
    "checkpoint_path = \"training_11/cp.ckpt\"\n",
    "checkpoint_dir = os.path.dirname(checkpoint_path)\n",
    "cp_callback = tensorflow.keras.callbacks.ModelCheckpoint(checkpoint_path, save_weights_only=True, save_best_only=True, verbose=1)\n"
   ]
  },
  {
   "cell_type": "code",
   "execution_count": 6,
   "metadata": {},
   "outputs": [
    {
     "name": "stdout",
     "output_type": "stream",
     "text": [
      "nyu2_train :  [['data/nyu2_train/living_room_0038_out/37.jpg', 'data/nyu2_train/living_room_0038_out/37.png'], ['data/nyu2_train/living_room_0038_out/115.jpg', 'data/nyu2_train/living_room_0038_out/115.png'], ['data/nyu2_train/living_room_0038_out/6.jpg', 'data/nyu2_train/living_room_0038_out/6.png'], ['data/nyu2_train/living_room_0038_out/49.jpg', 'data/nyu2_train/living_room_0038_out/49.png'], ['data/nyu2_train/living_room_0038_out/152.jpg', 'data/nyu2_train/living_room_0038_out/152.png'], ['data/nyu2_train/living_room_0038_out/142.jpg', 'data/nyu2_train/living_room_0038_out/142.png'], ['data/nyu2_train/living_room_0038_out/94.jpg', 'data/nyu2_train/living_room_0038_out/94.png'], ['data/nyu2_train/living_room_0038_out/158.jpg', 'data/nyu2_train/living_room_0038_out/158.png'], ['data/nyu2_train/living_room_0038_out/18.jpg', 'data/nyu2_train/living_room_0038_out/18.png'], ['data/nyu2_train/living_room_0038_out/167.jpg', 'data/nyu2_train/living_room_0038_out/167.png'], ['data/nyu2_train/living_room_0038_out/21.jpg', 'data/nyu2_train/living_room_0038_out/21.png'], ['data/nyu2_train/living_room_0038_out/48.jpg', 'data/nyu2_train/living_room_0038_out/48.png'], ['data/nyu2_train/living_room_0038_out/75.jpg', 'data/nyu2_train/living_room_0038_out/75.png'], ['data/nyu2_train/living_room_0038_out/171.jpg', 'data/nyu2_train/living_room_0038_out/171.png'], ['data/nyu2_train/living_room_0038_out/25.jpg', 'data/nyu2_train/living_room_0038_out/25.png'], ['data/nyu2_train/living_room_0038_out/13.jpg', 'data/nyu2_train/living_room_0038_out/13.png'], ['data/nyu2_train/living_room_0038_out/68.jpg', 'data/nyu2_train/living_room_0038_out/68.png'], ['data/nyu2_train/living_room_0038_out/28.jpg', 'data/nyu2_train/living_room_0038_out/28.png'], ['data/nyu2_train/living_room_0038_out/161.jpg', 'data/nyu2_train/living_room_0038_out/161.png'], ['data/nyu2_train/living_room_0038_out/85.jpg', 'data/nyu2_train/living_room_0038_out/85.png'], ['data/nyu2_train/living_room_0038_out/57.jpg', 'data/nyu2_train/living_room_0038_out/57.png'], ['data/nyu2_train/living_room_0038_out/34.jpg', 'data/nyu2_train/living_room_0038_out/34.png'], ['data/nyu2_train/living_room_0038_out/118.jpg', 'data/nyu2_train/living_room_0038_out/118.png'], ['data/nyu2_train/living_room_0038_out/53.jpg', 'data/nyu2_train/living_room_0038_out/53.png'], ['data/nyu2_train/living_room_0038_out/11.jpg', 'data/nyu2_train/living_room_0038_out/11.png'], ['data/nyu2_train/living_room_0038_out/46.jpg', 'data/nyu2_train/living_room_0038_out/46.png'], ['data/nyu2_train/living_room_0038_out/135.jpg', 'data/nyu2_train/living_room_0038_out/135.png'], ['data/nyu2_train/living_room_0038_out/39.jpg', 'data/nyu2_train/living_room_0038_out/39.png'], ['data/nyu2_train/living_room_0038_out/71.jpg', 'data/nyu2_train/living_room_0038_out/71.png'], ['data/nyu2_train/living_room_0038_out/29.jpg', 'data/nyu2_train/living_room_0038_out/29.png'], ['data/nyu2_train/living_room_0038_out/14.jpg', 'data/nyu2_train/living_room_0038_out/14.png'], ['data/nyu2_train/living_room_0038_out/113.jpg', 'data/nyu2_train/living_room_0038_out/113.png'], ['data/nyu2_train/living_room_0038_out/138.jpg', 'data/nyu2_train/living_room_0038_out/138.png'], ['data/nyu2_train/living_room_0038_out/30.jpg', 'data/nyu2_train/living_room_0038_out/30.png'], ['data/nyu2_train/living_room_0038_out/16.jpg', 'data/nyu2_train/living_room_0038_out/16.png'], ['data/nyu2_train/living_room_0038_out/105.jpg', 'data/nyu2_train/living_room_0038_out/105.png'], ['data/nyu2_train/living_room_0038_out/62.jpg', 'data/nyu2_train/living_room_0038_out/62.png'], ['data/nyu2_train/living_room_0038_out/56.jpg', 'data/nyu2_train/living_room_0038_out/56.png'], ['data/nyu2_train/living_room_0038_out/119.jpg', 'data/nyu2_train/living_room_0038_out/119.png'], ['data/nyu2_train/living_room_0038_out/42.jpg', 'data/nyu2_train/living_room_0038_out/42.png'], ['data/nyu2_train/living_room_0038_out/2.jpg', 'data/nyu2_train/living_room_0038_out/2.png'], ['data/nyu2_train/living_room_0038_out/129.jpg', 'data/nyu2_train/living_room_0038_out/129.png'], ['data/nyu2_train/living_room_0038_out/160.jpg', 'data/nyu2_train/living_room_0038_out/160.png'], ['data/nyu2_train/living_room_0038_out/126.jpg', 'data/nyu2_train/living_room_0038_out/126.png'], ['data/nyu2_train/living_room_0038_out/91.jpg', 'data/nyu2_train/living_room_0038_out/91.png'], ['data/nyu2_train/living_room_0038_out/162.jpg', 'data/nyu2_train/living_room_0038_out/162.png'], ['data/nyu2_train/living_room_0038_out/93.jpg', 'data/nyu2_train/living_room_0038_out/93.png'], ['data/nyu2_train/living_room_0038_out/70.jpg', 'data/nyu2_train/living_room_0038_out/70.png'], ['data/nyu2_train/living_room_0038_out/60.jpg', 'data/nyu2_train/living_room_0038_out/60.png'], ['data/nyu2_train/living_room_0038_out/3.jpg', 'data/nyu2_train/living_room_0038_out/3.png'], ['data/nyu2_train/living_room_0038_out/132.jpg', 'data/nyu2_train/living_room_0038_out/132.png'], ['data/nyu2_train/living_room_0038_out/54.jpg', 'data/nyu2_train/living_room_0038_out/54.png'], ['data/nyu2_train/living_room_0038_out/146.jpg', 'data/nyu2_train/living_room_0038_out/146.png'], ['data/nyu2_train/living_room_0038_out/121.jpg', 'data/nyu2_train/living_room_0038_out/121.png'], ['data/nyu2_train/living_room_0038_out/122.jpg', 'data/nyu2_train/living_room_0038_out/122.png'], ['data/nyu2_train/living_room_0038_out/130.jpg', 'data/nyu2_train/living_room_0038_out/130.png'], ['data/nyu2_train/living_room_0038_out/10.jpg', 'data/nyu2_train/living_room_0038_out/10.png'], ['data/nyu2_train/living_room_0038_out/4.jpg', 'data/nyu2_train/living_room_0038_out/4.png'], ['data/nyu2_train/living_room_0038_out/153.jpg', 'data/nyu2_train/living_room_0038_out/153.png'], ['data/nyu2_train/living_room_0038_out/12.jpg', 'data/nyu2_train/living_room_0038_out/12.png'], ['data/nyu2_train/living_room_0038_out/163.jpg', 'data/nyu2_train/living_room_0038_out/163.png'], ['data/nyu2_train/living_room_0038_out/169.jpg', 'data/nyu2_train/living_room_0038_out/169.png'], ['data/nyu2_train/living_room_0038_out/168.jpg', 'data/nyu2_train/living_room_0038_out/168.png'], ['data/nyu2_train/living_room_0038_out/104.jpg', 'data/nyu2_train/living_room_0038_out/104.png'], ['data/nyu2_train/living_room_0038_out/134.jpg', 'data/nyu2_train/living_room_0038_out/134.png'], ['data/nyu2_train/living_room_0038_out/100.jpg', 'data/nyu2_train/living_room_0038_out/100.png'], ['data/nyu2_train/living_room_0038_out/64.jpg', 'data/nyu2_train/living_room_0038_out/64.png'], ['data/nyu2_train/living_room_0038_out/147.jpg', 'data/nyu2_train/living_room_0038_out/147.png'], ['data/nyu2_train/living_room_0038_out/103.jpg', 'data/nyu2_train/living_room_0038_out/103.png'], ['data/nyu2_train/living_room_0038_out/67.jpg', 'data/nyu2_train/living_room_0038_out/67.png'], ['data/nyu2_train/living_room_0038_out/114.jpg', 'data/nyu2_train/living_room_0038_out/114.png'], ['data/nyu2_train/living_room_0038_out/8.jpg', 'data/nyu2_train/living_room_0038_out/8.png'], ['data/nyu2_train/living_room_0038_out/127.jpg', 'data/nyu2_train/living_room_0038_out/127.png'], ['data/nyu2_train/living_room_0038_out/43.jpg', 'data/nyu2_train/living_room_0038_out/43.png'], ['data/nyu2_train/living_room_0038_out/144.jpg', 'data/nyu2_train/living_room_0038_out/144.png'], ['data/nyu2_train/living_room_0038_out/17.jpg', 'data/nyu2_train/living_room_0038_out/17.png'], ['data/nyu2_train/living_room_0038_out/151.jpg', 'data/nyu2_train/living_room_0038_out/151.png'], ['data/nyu2_train/living_room_0038_out/35.jpg', 'data/nyu2_train/living_room_0038_out/35.png'], ['data/nyu2_train/living_room_0038_out/40.jpg', 'data/nyu2_train/living_room_0038_out/40.png'], ['data/nyu2_train/living_room_0038_out/55.jpg', 'data/nyu2_train/living_room_0038_out/55.png'], ['data/nyu2_train/living_room_0038_out/95.jpg', 'data/nyu2_train/living_room_0038_out/95.png'], ['data/nyu2_train/living_room_0038_out/45.jpg', 'data/nyu2_train/living_room_0038_out/45.png'], ['data/nyu2_train/living_room_0038_out/82.jpg', 'data/nyu2_train/living_room_0038_out/82.png'], ['data/nyu2_train/living_room_0038_out/108.jpg', 'data/nyu2_train/living_room_0038_out/108.png'], ['data/nyu2_train/living_room_0038_out/79.jpg', 'data/nyu2_train/living_room_0038_out/79.png'], ['data/nyu2_train/living_room_0038_out/31.jpg', 'data/nyu2_train/living_room_0038_out/31.png'], ['data/nyu2_train/living_room_0038_out/137.jpg', 'data/nyu2_train/living_room_0038_out/137.png'], ['data/nyu2_train/living_room_0038_out/47.jpg', 'data/nyu2_train/living_room_0038_out/47.png'], ['data/nyu2_train/living_room_0038_out/111.jpg', 'data/nyu2_train/living_room_0038_out/111.png'], ['data/nyu2_train/living_room_0038_out/41.jpg', 'data/nyu2_train/living_room_0038_out/41.png'], ['data/nyu2_train/living_room_0038_out/50.jpg', 'data/nyu2_train/living_room_0038_out/50.png'], ['data/nyu2_train/living_room_0038_out/140.jpg', 'data/nyu2_train/living_room_0038_out/140.png'], ['data/nyu2_train/living_room_0038_out/19.jpg', 'data/nyu2_train/living_room_0038_out/19.png'], ['data/nyu2_train/living_room_0038_out/58.jpg', 'data/nyu2_train/living_room_0038_out/58.png'], ['data/nyu2_train/living_room_0038_out/98.jpg', 'data/nyu2_train/living_room_0038_out/98.png'], ['data/nyu2_train/living_room_0038_out/76.jpg', 'data/nyu2_train/living_room_0038_out/76.png'], ['data/nyu2_train/living_room_0038_out/124.jpg', 'data/nyu2_train/living_room_0038_out/124.png'], ['data/nyu2_train/living_room_0038_out/128.jpg', 'data/nyu2_train/living_room_0038_out/128.png'], ['data/nyu2_train/living_room_0038_out/170.jpg', 'data/nyu2_train/living_room_0038_out/170.png'], ['data/nyu2_train/living_room_0038_out/149.jpg', 'data/nyu2_train/living_room_0038_out/149.png'], ['data/nyu2_train/living_room_0038_out/69.jpg', 'data/nyu2_train/living_room_0038_out/69.png'], ['data/nyu2_train/living_room_0038_out/155.jpg', 'data/nyu2_train/living_room_0038_out/155.png'], ['data/nyu2_train/living_room_0038_out/5.jpg', 'data/nyu2_train/living_room_0038_out/5.png'], ['data/nyu2_train/living_room_0038_out/131.jpg', 'data/nyu2_train/living_room_0038_out/131.png'], ['data/nyu2_train/living_room_0038_out/101.jpg', 'data/nyu2_train/living_room_0038_out/101.png'], ['data/nyu2_train/living_room_0038_out/112.jpg', 'data/nyu2_train/living_room_0038_out/112.png'], ['data/nyu2_train/living_room_0038_out/1.jpg', 'data/nyu2_train/living_room_0038_out/1.png'], ['data/nyu2_train/living_room_0038_out/148.jpg', 'data/nyu2_train/living_room_0038_out/148.png'], ['data/nyu2_train/living_room_0038_out/84.jpg', 'data/nyu2_train/living_room_0038_out/84.png'], ['data/nyu2_train/living_room_0038_out/92.jpg', 'data/nyu2_train/living_room_0038_out/92.png'], ['data/nyu2_train/living_room_0038_out/133.jpg', 'data/nyu2_train/living_room_0038_out/133.png'], ['data/nyu2_train/living_room_0038_out/150.jpg', 'data/nyu2_train/living_room_0038_out/150.png'], ['data/nyu2_train/living_room_0038_out/107.jpg', 'data/nyu2_train/living_room_0038_out/107.png'], ['data/nyu2_train/living_room_0038_out/136.jpg', 'data/nyu2_train/living_room_0038_out/136.png'], ['data/nyu2_train/living_room_0038_out/51.jpg', 'data/nyu2_train/living_room_0038_out/51.png'], ['data/nyu2_train/living_room_0038_out/7.jpg', 'data/nyu2_train/living_room_0038_out/7.png'], ['data/nyu2_train/living_room_0038_out/97.jpg', 'data/nyu2_train/living_room_0038_out/97.png'], ['data/nyu2_train/living_room_0038_out/15.jpg', 'data/nyu2_train/living_room_0038_out/15.png'], ['data/nyu2_train/living_room_0038_out/156.jpg', 'data/nyu2_train/living_room_0038_out/156.png'], ['data/nyu2_train/living_room_0038_out/77.jpg', 'data/nyu2_train/living_room_0038_out/77.png'], ['data/nyu2_train/living_room_0038_out/117.jpg', 'data/nyu2_train/living_room_0038_out/117.png'], ['data/nyu2_train/living_room_0038_out/125.jpg', 'data/nyu2_train/living_room_0038_out/125.png'], ['data/nyu2_train/living_room_0038_out/89.jpg', 'data/nyu2_train/living_room_0038_out/89.png'], ['data/nyu2_train/living_room_0038_out/102.jpg', 'data/nyu2_train/living_room_0038_out/102.png'], ['data/nyu2_train/living_room_0038_out/99.jpg', 'data/nyu2_train/living_room_0038_out/99.png'], ['data/nyu2_train/living_room_0038_out/72.jpg', 'data/nyu2_train/living_room_0038_out/72.png'], ['data/nyu2_train/living_room_0038_out/157.jpg', 'data/nyu2_train/living_room_0038_out/157.png'], ['data/nyu2_train/living_room_0038_out/81.jpg', 'data/nyu2_train/living_room_0038_out/81.png'], ['data/nyu2_train/living_room_0038_out/33.jpg', 'data/nyu2_train/living_room_0038_out/33.png'], ['data/nyu2_train/living_room_0038_out/27.jpg', 'data/nyu2_train/living_room_0038_out/27.png'], ['data/nyu2_train/living_room_0038_out/139.jpg', 'data/nyu2_train/living_room_0038_out/139.png'], ['data/nyu2_train/living_room_0038_out/38.jpg', 'data/nyu2_train/living_room_0038_out/38.png'], ['data/nyu2_train/living_room_0038_out/154.jpg', 'data/nyu2_train/living_room_0038_out/154.png'], ['data/nyu2_train/living_room_0038_out/78.jpg', 'data/nyu2_train/living_room_0038_out/78.png'], ['data/nyu2_train/living_room_0038_out/73.jpg', 'data/nyu2_train/living_room_0038_out/73.png'], ['data/nyu2_train/living_room_0038_out/159.jpg', 'data/nyu2_train/living_room_0038_out/159.png'], ['data/nyu2_train/living_room_0038_out/110.jpg', 'data/nyu2_train/living_room_0038_out/110.png'], ['data/nyu2_train/living_room_0038_out/143.jpg', 'data/nyu2_train/living_room_0038_out/143.png'], ['data/nyu2_train/living_room_0038_out/83.jpg', 'data/nyu2_train/living_room_0038_out/83.png'], ['data/nyu2_train/living_room_0038_out/87.jpg', 'data/nyu2_train/living_room_0038_out/87.png'], ['data/nyu2_train/living_room_0038_out/59.jpg', 'data/nyu2_train/living_room_0038_out/59.png'], ['data/nyu2_train/living_room_0038_out/36.jpg', 'data/nyu2_train/living_room_0038_out/36.png'], ['data/nyu2_train/living_room_0038_out/20.jpg', 'data/nyu2_train/living_room_0038_out/20.png'], ['data/nyu2_train/living_room_0038_out/165.jpg', 'data/nyu2_train/living_room_0038_out/165.png'], ['data/nyu2_train/living_room_0038_out/106.jpg', 'data/nyu2_train/living_room_0038_out/106.png'], ['data/nyu2_train/living_room_0038_out/145.jpg', 'data/nyu2_train/living_room_0038_out/145.png'], ['data/nyu2_train/living_room_0038_out/65.jpg', 'data/nyu2_train/living_room_0038_out/65.png'], ['data/nyu2_train/living_room_0038_out/120.jpg', 'data/nyu2_train/living_room_0038_out/120.png'], ['data/nyu2_train/living_room_0038_out/86.jpg', 'data/nyu2_train/living_room_0038_out/86.png'], ['data/nyu2_train/living_room_0038_out/44.jpg', 'data/nyu2_train/living_room_0038_out/44.png'], ['data/nyu2_train/living_room_0038_out/63.jpg', 'data/nyu2_train/living_room_0038_out/63.png'], ['data/nyu2_train/living_room_0038_out/116.jpg', 'data/nyu2_train/living_room_0038_out/116.png'], ['data/nyu2_train/living_room_0038_out/61.jpg', 'data/nyu2_train/living_room_0038_out/61.png'], ['data/nyu2_train/living_room_0038_out/32.jpg', 'data/nyu2_train/living_room_0038_out/32.png'], ['data/nyu2_train/living_room_0038_out/123.jpg', 'data/nyu2_train/living_room_0038_out/123.png'], ['data/nyu2_train/living_room_0038_out/23.jpg', 'data/nyu2_train/living_room_0038_out/23.png'], ['data/nyu2_train/living_room_0038_out/74.jpg', 'data/nyu2_train/living_room_0038_out/74.png'], ['data/nyu2_train/living_room_0038_out/164.jpg', 'data/nyu2_train/living_room_0038_out/164.png'], ['data/nyu2_train/living_room_0038_out/141.jpg', 'data/nyu2_train/living_room_0038_out/141.png'], ['data/nyu2_train/living_room_0038_out/52.jpg', 'data/nyu2_train/living_room_0038_out/52.png'], ['data/nyu2_train/living_room_0038_out/66.jpg', 'data/nyu2_train/living_room_0038_out/66.png'], ['data/nyu2_train/living_room_0038_out/24.jpg', 'data/nyu2_train/living_room_0038_out/24.png'], ['data/nyu2_train/living_room_0038_out/22.jpg', 'data/nyu2_train/living_room_0038_out/22.png'], ['data/nyu2_train/living_room_0038_out/166.jpg', 'data/nyu2_train/living_room_0038_out/166.png'], ['data/nyu2_train/living_room_0038_out/80.jpg', 'data/nyu2_train/living_room_0038_out/80.png'], ['data/nyu2_train/living_room_0038_out/96.jpg', 'data/nyu2_train/living_room_0038_out/96.png'], ['data/nyu2_train/living_room_0038_out/26.jpg', 'data/nyu2_train/living_room_0038_out/26.png'], ['data/nyu2_train/living_room_0038_out/88.jpg', 'data/nyu2_train/living_room_0038_out/88.png'], ['data/nyu2_train/living_room_0038_out/9.jpg', 'data/nyu2_train/living_room_0038_out/9.png'], ['data/nyu2_train/living_room_0038_out/109.jpg', 'data/nyu2_train/living_room_0038_out/109.png'], ['data/nyu2_train/living_room_0038_out/90.jpg', 'data/nyu2_train/living_room_0038_out/90.png'], ['data/nyu2_train/bedroom_0047_out/37.jpg', 'data/nyu2_train/bedroom_0047_out/37.png'], ['data/nyu2_train/bedroom_0047_out/6.jpg', 'data/nyu2_train/bedroom_0047_out/6.png'], ['data/nyu2_train/bedroom_0047_out/49.jpg', 'data/nyu2_train/bedroom_0047_out/49.png'], ['data/nyu2_train/bedroom_0047_out/94.jpg', 'data/nyu2_train/bedroom_0047_out/94.png'], ['data/nyu2_train/bedroom_0047_out/18.jpg', 'data/nyu2_train/bedroom_0047_out/18.png'], ['data/nyu2_train/bedroom_0047_out/21.jpg', 'data/nyu2_train/bedroom_0047_out/21.png'], ['data/nyu2_train/bedroom_0047_out/48.jpg', 'data/nyu2_train/bedroom_0047_out/48.png'], ['data/nyu2_train/bedroom_0047_out/75.jpg', 'data/nyu2_train/bedroom_0047_out/75.png'], ['data/nyu2_train/bedroom_0047_out/25.jpg', 'data/nyu2_train/bedroom_0047_out/25.png'], ['data/nyu2_train/bedroom_0047_out/13.jpg', 'data/nyu2_train/bedroom_0047_out/13.png'], ['data/nyu2_train/bedroom_0047_out/68.jpg', 'data/nyu2_train/bedroom_0047_out/68.png'], ['data/nyu2_train/bedroom_0047_out/28.jpg', 'data/nyu2_train/bedroom_0047_out/28.png'], ['data/nyu2_train/bedroom_0047_out/85.jpg', 'data/nyu2_train/bedroom_0047_out/85.png'], ['data/nyu2_train/bedroom_0047_out/57.jpg', 'data/nyu2_train/bedroom_0047_out/57.png'], ['data/nyu2_train/bedroom_0047_out/34.jpg', 'data/nyu2_train/bedroom_0047_out/34.png'], ['data/nyu2_train/bedroom_0047_out/53.jpg', 'data/nyu2_train/bedroom_0047_out/53.png'], ['data/nyu2_train/bedroom_0047_out/11.jpg', 'data/nyu2_train/bedroom_0047_out/11.png'], ['data/nyu2_train/bedroom_0047_out/46.jpg', 'data/nyu2_train/bedroom_0047_out/46.png'], ['data/nyu2_train/bedroom_0047_out/39.jpg', 'data/nyu2_train/bedroom_0047_out/39.png'], ['data/nyu2_train/bedroom_0047_out/71.jpg', 'data/nyu2_train/bedroom_0047_out/71.png'], ['data/nyu2_train/bedroom_0047_out/29.jpg', 'data/nyu2_train/bedroom_0047_out/29.png'], ['data/nyu2_train/bedroom_0047_out/14.jpg', 'data/nyu2_train/bedroom_0047_out/14.png'], ['data/nyu2_train/bedroom_0047_out/30.jpg', 'data/nyu2_train/bedroom_0047_out/30.png'], ['data/nyu2_train/bedroom_0047_out/16.jpg', 'data/nyu2_train/bedroom_0047_out/16.png'], ['data/nyu2_train/bedroom_0047_out/62.jpg', 'data/nyu2_train/bedroom_0047_out/62.png'], ['data/nyu2_train/bedroom_0047_out/56.jpg', 'data/nyu2_train/bedroom_0047_out/56.png'], ['data/nyu2_train/bedroom_0047_out/42.jpg', 'data/nyu2_train/bedroom_0047_out/42.png'], ['data/nyu2_train/bedroom_0047_out/2.jpg', 'data/nyu2_train/bedroom_0047_out/2.png'], ['data/nyu2_train/bedroom_0047_out/91.jpg', 'data/nyu2_train/bedroom_0047_out/91.png'], ['data/nyu2_train/bedroom_0047_out/93.jpg', 'data/nyu2_train/bedroom_0047_out/93.png'], ['data/nyu2_train/bedroom_0047_out/70.jpg', 'data/nyu2_train/bedroom_0047_out/70.png'], ['data/nyu2_train/bedroom_0047_out/60.jpg', 'data/nyu2_train/bedroom_0047_out/60.png'], ['data/nyu2_train/bedroom_0047_out/3.jpg', 'data/nyu2_train/bedroom_0047_out/3.png'], ['data/nyu2_train/bedroom_0047_out/54.jpg', 'data/nyu2_train/bedroom_0047_out/54.png'], ['data/nyu2_train/bedroom_0047_out/10.jpg', 'data/nyu2_train/bedroom_0047_out/10.png'], ['data/nyu2_train/bedroom_0047_out/4.jpg', 'data/nyu2_train/bedroom_0047_out/4.png'], ['data/nyu2_train/bedroom_0047_out/12.jpg', 'data/nyu2_train/bedroom_0047_out/12.png'], ['data/nyu2_train/bedroom_0047_out/64.jpg', 'data/nyu2_train/bedroom_0047_out/64.png'], ['data/nyu2_train/bedroom_0047_out/67.jpg', 'data/nyu2_train/bedroom_0047_out/67.png'], ['data/nyu2_train/bedroom_0047_out/8.jpg', 'data/nyu2_train/bedroom_0047_out/8.png'], ['data/nyu2_train/bedroom_0047_out/43.jpg', 'data/nyu2_train/bedroom_0047_out/43.png'], ['data/nyu2_train/bedroom_0047_out/17.jpg', 'data/nyu2_train/bedroom_0047_out/17.png'], ['data/nyu2_train/bedroom_0047_out/35.jpg', 'data/nyu2_train/bedroom_0047_out/35.png'], ['data/nyu2_train/bedroom_0047_out/40.jpg', 'data/nyu2_train/bedroom_0047_out/40.png'], ['data/nyu2_train/bedroom_0047_out/55.jpg', 'data/nyu2_train/bedroom_0047_out/55.png'], ['data/nyu2_train/bedroom_0047_out/95.jpg', 'data/nyu2_train/bedroom_0047_out/95.png'], ['data/nyu2_train/bedroom_0047_out/45.jpg', 'data/nyu2_train/bedroom_0047_out/45.png'], ['data/nyu2_train/bedroom_0047_out/82.jpg', 'data/nyu2_train/bedroom_0047_out/82.png'], ['data/nyu2_train/bedroom_0047_out/79.jpg', 'data/nyu2_train/bedroom_0047_out/79.png'], ['data/nyu2_train/bedroom_0047_out/31.jpg', 'data/nyu2_train/bedroom_0047_out/31.png'], ['data/nyu2_train/bedroom_0047_out/47.jpg', 'data/nyu2_train/bedroom_0047_out/47.png'], ['data/nyu2_train/bedroom_0047_out/41.jpg', 'data/nyu2_train/bedroom_0047_out/41.png'], ['data/nyu2_train/bedroom_0047_out/50.jpg', 'data/nyu2_train/bedroom_0047_out/50.png'], ['data/nyu2_train/bedroom_0047_out/19.jpg', 'data/nyu2_train/bedroom_0047_out/19.png'], ['data/nyu2_train/bedroom_0047_out/58.jpg', 'data/nyu2_train/bedroom_0047_out/58.png'], ['data/nyu2_train/bedroom_0047_out/76.jpg', 'data/nyu2_train/bedroom_0047_out/76.png'], ['data/nyu2_train/bedroom_0047_out/69.jpg', 'data/nyu2_train/bedroom_0047_out/69.png'], ['data/nyu2_train/bedroom_0047_out/5.jpg', 'data/nyu2_train/bedroom_0047_out/5.png'], ['data/nyu2_train/bedroom_0047_out/1.jpg', 'data/nyu2_train/bedroom_0047_out/1.png'], ['data/nyu2_train/bedroom_0047_out/84.jpg', 'data/nyu2_train/bedroom_0047_out/84.png'], ['data/nyu2_train/bedroom_0047_out/92.jpg', 'data/nyu2_train/bedroom_0047_out/92.png'], ['data/nyu2_train/bedroom_0047_out/51.jpg', 'data/nyu2_train/bedroom_0047_out/51.png'], ['data/nyu2_train/bedroom_0047_out/7.jpg', 'data/nyu2_train/bedroom_0047_out/7.png'], ['data/nyu2_train/bedroom_0047_out/15.jpg', 'data/nyu2_train/bedroom_0047_out/15.png'], ['data/nyu2_train/bedroom_0047_out/77.jpg', 'data/nyu2_train/bedroom_0047_out/77.png'], ['data/nyu2_train/bedroom_0047_out/89.jpg', 'data/nyu2_train/bedroom_0047_out/89.png'], ['data/nyu2_train/bedroom_0047_out/72.jpg', 'data/nyu2_train/bedroom_0047_out/72.png'], ['data/nyu2_train/bedroom_0047_out/81.jpg', 'data/nyu2_train/bedroom_0047_out/81.png'], ['data/nyu2_train/bedroom_0047_out/33.jpg', 'data/nyu2_train/bedroom_0047_out/33.png'], ['data/nyu2_train/bedroom_0047_out/27.jpg', 'data/nyu2_train/bedroom_0047_out/27.png'], ['data/nyu2_train/bedroom_0047_out/38.jpg', 'data/nyu2_train/bedroom_0047_out/38.png'], ['data/nyu2_train/bedroom_0047_out/78.jpg', 'data/nyu2_train/bedroom_0047_out/78.png'], ['data/nyu2_train/bedroom_0047_out/73.jpg', 'data/nyu2_train/bedroom_0047_out/73.png'], ['data/nyu2_train/bedroom_0047_out/83.jpg', 'data/nyu2_train/bedroom_0047_out/83.png'], ['data/nyu2_train/bedroom_0047_out/87.jpg', 'data/nyu2_train/bedroom_0047_out/87.png'], ['data/nyu2_train/bedroom_0047_out/59.jpg', 'data/nyu2_train/bedroom_0047_out/59.png'], ['data/nyu2_train/bedroom_0047_out/36.jpg', 'data/nyu2_train/bedroom_0047_out/36.png'], ['data/nyu2_train/bedroom_0047_out/20.jpg', 'data/nyu2_train/bedroom_0047_out/20.png'], ['data/nyu2_train/bedroom_0047_out/65.jpg', 'data/nyu2_train/bedroom_0047_out/65.png'], ['data/nyu2_train/bedroom_0047_out/86.jpg', 'data/nyu2_train/bedroom_0047_out/86.png'], ['data/nyu2_train/bedroom_0047_out/44.jpg', 'data/nyu2_train/bedroom_0047_out/44.png'], ['data/nyu2_train/bedroom_0047_out/63.jpg', 'data/nyu2_train/bedroom_0047_out/63.png'], ['data/nyu2_train/bedroom_0047_out/61.jpg', 'data/nyu2_train/bedroom_0047_out/61.png'], ['data/nyu2_train/bedroom_0047_out/32.jpg', 'data/nyu2_train/bedroom_0047_out/32.png'], ['data/nyu2_train/bedroom_0047_out/23.jpg', 'data/nyu2_train/bedroom_0047_out/23.png'], ['data/nyu2_train/bedroom_0047_out/74.jpg', 'data/nyu2_train/bedroom_0047_out/74.png'], ['data/nyu2_train/bedroom_0047_out/52.jpg', 'data/nyu2_train/bedroom_0047_out/52.png'], ['data/nyu2_train/bedroom_0047_out/66.jpg', 'data/nyu2_train/bedroom_0047_out/66.png'], ['data/nyu2_train/bedroom_0047_out/24.jpg', 'data/nyu2_train/bedroom_0047_out/24.png'], ['data/nyu2_train/bedroom_0047_out/22.jpg', 'data/nyu2_train/bedroom_0047_out/22.png'], ['data/nyu2_train/bedroom_0047_out/80.jpg', 'data/nyu2_train/bedroom_0047_out/80.png'], ['data/nyu2_train/bedroom_0047_out/26.jpg', 'data/nyu2_train/bedroom_0047_out/26.png'], ['data/nyu2_train/bedroom_0047_out/88.jpg', 'data/nyu2_train/bedroom_0047_out/88.png'], ['data/nyu2_train/bedroom_0047_out/9.jpg', 'data/nyu2_train/bedroom_0047_out/9.png'], ['data/nyu2_train/bedroom_0047_out/90.jpg', 'data/nyu2_train/bedroom_0047_out/90.png'], ['data/nyu2_train/bedroom_0113_out/37.jpg', 'data/nyu2_train/bedroom_0113_out/37.png'], ['data/nyu2_train/bedroom_0113_out/115.jpg', 'data/nyu2_train/bedroom_0113_out/115.png'], ['data/nyu2_train/bedroom_0113_out/6.jpg', 'data/nyu2_train/bedroom_0113_out/6.png'], ['data/nyu2_train/bedroom_0113_out/49.jpg', 'data/nyu2_train/bedroom_0113_out/49.png'], ['data/nyu2_train/bedroom_0113_out/152.jpg', 'data/nyu2_train/bedroom_0113_out/152.png'], ['data/nyu2_train/bedroom_0113_out/142.jpg', 'data/nyu2_train/bedroom_0113_out/142.png'], ['data/nyu2_train/bedroom_0113_out/94.jpg', 'data/nyu2_train/bedroom_0113_out/94.png'], ['data/nyu2_train/bedroom_0113_out/158.jpg', 'data/nyu2_train/bedroom_0113_out/158.png'], ['data/nyu2_train/bedroom_0113_out/18.jpg', 'data/nyu2_train/bedroom_0113_out/18.png'], ['data/nyu2_train/bedroom_0113_out/21.jpg', 'data/nyu2_train/bedroom_0113_out/21.png'], ['data/nyu2_train/bedroom_0113_out/48.jpg', 'data/nyu2_train/bedroom_0113_out/48.png'], ['data/nyu2_train/bedroom_0113_out/75.jpg', 'data/nyu2_train/bedroom_0113_out/75.png'], ['data/nyu2_train/bedroom_0113_out/25.jpg', 'data/nyu2_train/bedroom_0113_out/25.png'], ['data/nyu2_train/bedroom_0113_out/13.jpg', 'data/nyu2_train/bedroom_0113_out/13.png'], ['data/nyu2_train/bedroom_0113_out/68.jpg', 'data/nyu2_train/bedroom_0113_out/68.png'], ['data/nyu2_train/bedroom_0113_out/28.jpg', 'data/nyu2_train/bedroom_0113_out/28.png'], ['data/nyu2_train/bedroom_0113_out/161.jpg', 'data/nyu2_train/bedroom_0113_out/161.png'], ['data/nyu2_train/bedroom_0113_out/85.jpg', 'data/nyu2_train/bedroom_0113_out/85.png'], ['data/nyu2_train/bedroom_0113_out/57.jpg', 'data/nyu2_train/bedroom_0113_out/57.png'], ['data/nyu2_train/bedroom_0113_out/34.jpg', 'data/nyu2_train/bedroom_0113_out/34.png'], ['data/nyu2_train/bedroom_0113_out/118.jpg', 'data/nyu2_train/bedroom_0113_out/118.png'], ['data/nyu2_train/bedroom_0113_out/53.jpg', 'data/nyu2_train/bedroom_0113_out/53.png'], ['data/nyu2_train/bedroom_0113_out/11.jpg', 'data/nyu2_train/bedroom_0113_out/11.png'], ['data/nyu2_train/bedroom_0113_out/46.jpg', 'data/nyu2_train/bedroom_0113_out/46.png'], ['data/nyu2_train/bedroom_0113_out/135.jpg', 'data/nyu2_train/bedroom_0113_out/135.png'], ['data/nyu2_train/bedroom_0113_out/39.jpg', 'data/nyu2_train/bedroom_0113_out/39.png'], ['data/nyu2_train/bedroom_0113_out/71.jpg', 'data/nyu2_train/bedroom_0113_out/71.png'], ['data/nyu2_train/bedroom_0113_out/29.jpg', 'data/nyu2_train/bedroom_0113_out/29.png'], ['data/nyu2_train/bedroom_0113_out/14.jpg', 'data/nyu2_train/bedroom_0113_out/14.png'], ['data/nyu2_train/bedroom_0113_out/113.jpg', 'data/nyu2_train/bedroom_0113_out/113.png'], ['data/nyu2_train/bedroom_0113_out/138.jpg', 'data/nyu2_train/bedroom_0113_out/138.png'], ['data/nyu2_train/bedroom_0113_out/30.jpg', 'data/nyu2_train/bedroom_0113_out/30.png'], ['data/nyu2_train/bedroom_0113_out/16.jpg', 'data/nyu2_train/bedroom_0113_out/16.png'], ['data/nyu2_train/bedroom_0113_out/105.jpg', 'data/nyu2_train/bedroom_0113_out/105.png'], ['data/nyu2_train/bedroom_0113_out/62.jpg', 'data/nyu2_train/bedroom_0113_out/62.png'], ['data/nyu2_train/bedroom_0113_out/56.jpg', 'data/nyu2_train/bedroom_0113_out/56.png'], ['data/nyu2_train/bedroom_0113_out/119.jpg', 'data/nyu2_train/bedroom_0113_out/119.png'], ['data/nyu2_train/bedroom_0113_out/42.jpg', 'data/nyu2_train/bedroom_0113_out/42.png'], ['data/nyu2_train/bedroom_0113_out/2.jpg', 'data/nyu2_train/bedroom_0113_out/2.png'], ['data/nyu2_train/bedroom_0113_out/129.jpg', 'data/nyu2_train/bedroom_0113_out/129.png'], ['data/nyu2_train/bedroom_0113_out/160.jpg', 'data/nyu2_train/bedroom_0113_out/160.png'], ['data/nyu2_train/bedroom_0113_out/126.jpg', 'data/nyu2_train/bedroom_0113_out/126.png'], ['data/nyu2_train/bedroom_0113_out/91.jpg', 'data/nyu2_train/bedroom_0113_out/91.png'], ['data/nyu2_train/bedroom_0113_out/162.jpg', 'data/nyu2_train/bedroom_0113_out/162.png'], ['data/nyu2_train/bedroom_0113_out/93.jpg', 'data/nyu2_train/bedroom_0113_out/93.png'], ['data/nyu2_train/bedroom_0113_out/70.jpg', 'data/nyu2_train/bedroom_0113_out/70.png'], ['data/nyu2_train/bedroom_0113_out/60.jpg', 'data/nyu2_train/bedroom_0113_out/60.png'], ['data/nyu2_train/bedroom_0113_out/3.jpg', 'data/nyu2_train/bedroom_0113_out/3.png'], ['data/nyu2_train/bedroom_0113_out/132.jpg', 'data/nyu2_train/bedroom_0113_out/132.png'], ['data/nyu2_train/bedroom_0113_out/54.jpg', 'data/nyu2_train/bedroom_0113_out/54.png'], ['data/nyu2_train/bedroom_0113_out/146.jpg', 'data/nyu2_train/bedroom_0113_out/146.png'], ['data/nyu2_train/bedroom_0113_out/121.jpg', 'data/nyu2_train/bedroom_0113_out/121.png'], ['data/nyu2_train/bedroom_0113_out/122.jpg', 'data/nyu2_train/bedroom_0113_out/122.png'], ['data/nyu2_train/bedroom_0113_out/130.jpg', 'data/nyu2_train/bedroom_0113_out/130.png'], ['data/nyu2_train/bedroom_0113_out/10.jpg', 'data/nyu2_train/bedroom_0113_out/10.png'], ['data/nyu2_train/bedroom_0113_out/4.jpg', 'data/nyu2_train/bedroom_0113_out/4.png'], ['data/nyu2_train/bedroom_0113_out/153.jpg', 'data/nyu2_train/bedroom_0113_out/153.png'], ['data/nyu2_train/bedroom_0113_out/12.jpg', 'data/nyu2_train/bedroom_0113_out/12.png'], ['data/nyu2_train/bedroom_0113_out/163.jpg', 'data/nyu2_train/bedroom_0113_out/163.png'], ['data/nyu2_train/bedroom_0113_out/104.jpg', 'data/nyu2_train/bedroom_0113_out/104.png'], ['data/nyu2_train/bedroom_0113_out/134.jpg', 'data/nyu2_train/bedroom_0113_out/134.png'], ['data/nyu2_train/bedroom_0113_out/100.jpg', 'data/nyu2_train/bedroom_0113_out/100.png'], ['data/nyu2_train/bedroom_0113_out/64.jpg', 'data/nyu2_train/bedroom_0113_out/64.png'], ['data/nyu2_train/bedroom_0113_out/147.jpg', 'data/nyu2_train/bedroom_0113_out/147.png'], ['data/nyu2_train/bedroom_0113_out/103.jpg', 'data/nyu2_train/bedroom_0113_out/103.png'], ['data/nyu2_train/bedroom_0113_out/67.jpg', 'data/nyu2_train/bedroom_0113_out/67.png'], ['data/nyu2_train/bedroom_0113_out/114.jpg', 'data/nyu2_train/bedroom_0113_out/114.png'], ['data/nyu2_train/bedroom_0113_out/8.jpg', 'data/nyu2_train/bedroom_0113_out/8.png'], ['data/nyu2_train/bedroom_0113_out/127.jpg', 'data/nyu2_train/bedroom_0113_out/127.png'], ['data/nyu2_train/bedroom_0113_out/43.jpg', 'data/nyu2_train/bedroom_0113_out/43.png'], ['data/nyu2_train/bedroom_0113_out/144.jpg', 'data/nyu2_train/bedroom_0113_out/144.png'], ['data/nyu2_train/bedroom_0113_out/17.jpg', 'data/nyu2_train/bedroom_0113_out/17.png'], ['data/nyu2_train/bedroom_0113_out/151.jpg', 'data/nyu2_train/bedroom_0113_out/151.png'], ['data/nyu2_train/bedroom_0113_out/35.jpg', 'data/nyu2_train/bedroom_0113_out/35.png'], ['data/nyu2_train/bedroom_0113_out/40.jpg', 'data/nyu2_train/bedroom_0113_out/40.png'], ['data/nyu2_train/bedroom_0113_out/55.jpg', 'data/nyu2_train/bedroom_0113_out/55.png'], ['data/nyu2_train/bedroom_0113_out/95.jpg', 'data/nyu2_train/bedroom_0113_out/95.png'], ['data/nyu2_train/bedroom_0113_out/45.jpg', 'data/nyu2_train/bedroom_0113_out/45.png'], ['data/nyu2_train/bedroom_0113_out/82.jpg', 'data/nyu2_train/bedroom_0113_out/82.png'], ['data/nyu2_train/bedroom_0113_out/108.jpg', 'data/nyu2_train/bedroom_0113_out/108.png'], ['data/nyu2_train/bedroom_0113_out/79.jpg', 'data/nyu2_train/bedroom_0113_out/79.png'], ['data/nyu2_train/bedroom_0113_out/31.jpg', 'data/nyu2_train/bedroom_0113_out/31.png'], ['data/nyu2_train/bedroom_0113_out/137.jpg', 'data/nyu2_train/bedroom_0113_out/137.png'], ['data/nyu2_train/bedroom_0113_out/47.jpg', 'data/nyu2_train/bedroom_0113_out/47.png'], ['data/nyu2_train/bedroom_0113_out/111.jpg', 'data/nyu2_train/bedroom_0113_out/111.png'], ['data/nyu2_train/bedroom_0113_out/41.jpg', 'data/nyu2_train/bedroom_0113_out/41.png'], ['data/nyu2_train/bedroom_0113_out/50.jpg', 'data/nyu2_train/bedroom_0113_out/50.png'], ['data/nyu2_train/bedroom_0113_out/140.jpg', 'data/nyu2_train/bedroom_0113_out/140.png'], ['data/nyu2_train/bedroom_0113_out/19.jpg', 'data/nyu2_train/bedroom_0113_out/19.png'], ['data/nyu2_train/bedroom_0113_out/58.jpg', 'data/nyu2_train/bedroom_0113_out/58.png'], ['data/nyu2_train/bedroom_0113_out/98.jpg', 'data/nyu2_train/bedroom_0113_out/98.png'], ['data/nyu2_train/bedroom_0113_out/76.jpg', 'data/nyu2_train/bedroom_0113_out/76.png'], ['data/nyu2_train/bedroom_0113_out/124.jpg', 'data/nyu2_train/bedroom_0113_out/124.png'], ['data/nyu2_train/bedroom_0113_out/128.jpg', 'data/nyu2_train/bedroom_0113_out/128.png'], ['data/nyu2_train/bedroom_0113_out/149.jpg', 'data/nyu2_train/bedroom_0113_out/149.png'], ['data/nyu2_train/bedroom_0113_out/69.jpg', 'data/nyu2_train/bedroom_0113_out/69.png'], ['data/nyu2_train/bedroom_0113_out/155.jpg', 'data/nyu2_train/bedroom_0113_out/155.png'], ['data/nyu2_train/bedroom_0113_out/5.jpg', 'data/nyu2_train/bedroom_0113_out/5.png'], ['data/nyu2_train/bedroom_0113_out/131.jpg', 'data/nyu2_train/bedroom_0113_out/131.png'], ['data/nyu2_train/bedroom_0113_out/101.jpg', 'data/nyu2_train/bedroom_0113_out/101.png'], ['data/nyu2_train/bedroom_0113_out/112.jpg', 'data/nyu2_train/bedroom_0113_out/112.png'], ['data/nyu2_train/bedroom_0113_out/1.jpg', 'data/nyu2_train/bedroom_0113_out/1.png'], ['data/nyu2_train/bedroom_0113_out/148.jpg', 'data/nyu2_train/bedroom_0113_out/148.png'], ['data/nyu2_train/bedroom_0113_out/84.jpg', 'data/nyu2_train/bedroom_0113_out/84.png'], ['data/nyu2_train/bedroom_0113_out/92.jpg', 'data/nyu2_train/bedroom_0113_out/92.png'], ['data/nyu2_train/bedroom_0113_out/133.jpg', 'data/nyu2_train/bedroom_0113_out/133.png'], ['data/nyu2_train/bedroom_0113_out/150.jpg', 'data/nyu2_train/bedroom_0113_out/150.png'], ['data/nyu2_train/bedroom_0113_out/107.jpg', 'data/nyu2_train/bedroom_0113_out/107.png'], ['data/nyu2_train/bedroom_0113_out/136.jpg', 'data/nyu2_train/bedroom_0113_out/136.png'], ['data/nyu2_train/bedroom_0113_out/51.jpg', 'data/nyu2_train/bedroom_0113_out/51.png'], ['data/nyu2_train/bedroom_0113_out/7.jpg', 'data/nyu2_train/bedroom_0113_out/7.png'], ['data/nyu2_train/bedroom_0113_out/97.jpg', 'data/nyu2_train/bedroom_0113_out/97.png'], ['data/nyu2_train/bedroom_0113_out/15.jpg', 'data/nyu2_train/bedroom_0113_out/15.png'], ['data/nyu2_train/bedroom_0113_out/156.jpg', 'data/nyu2_train/bedroom_0113_out/156.png'], ['data/nyu2_train/bedroom_0113_out/77.jpg', 'data/nyu2_train/bedroom_0113_out/77.png'], ['data/nyu2_train/bedroom_0113_out/117.jpg', 'data/nyu2_train/bedroom_0113_out/117.png'], ['data/nyu2_train/bedroom_0113_out/125.jpg', 'data/nyu2_train/bedroom_0113_out/125.png'], ['data/nyu2_train/bedroom_0113_out/89.jpg', 'data/nyu2_train/bedroom_0113_out/89.png'], ['data/nyu2_train/bedroom_0113_out/102.jpg', 'data/nyu2_train/bedroom_0113_out/102.png'], ['data/nyu2_train/bedroom_0113_out/99.jpg', 'data/nyu2_train/bedroom_0113_out/99.png'], ['data/nyu2_train/bedroom_0113_out/72.jpg', 'data/nyu2_train/bedroom_0113_out/72.png'], ['data/nyu2_train/bedroom_0113_out/157.jpg', 'data/nyu2_train/bedroom_0113_out/157.png'], ['data/nyu2_train/bedroom_0113_out/81.jpg', 'data/nyu2_train/bedroom_0113_out/81.png'], ['data/nyu2_train/bedroom_0113_out/33.jpg', 'data/nyu2_train/bedroom_0113_out/33.png'], ['data/nyu2_train/bedroom_0113_out/27.jpg', 'data/nyu2_train/bedroom_0113_out/27.png'], ['data/nyu2_train/bedroom_0113_out/139.jpg', 'data/nyu2_train/bedroom_0113_out/139.png'], ['data/nyu2_train/bedroom_0113_out/38.jpg', 'data/nyu2_train/bedroom_0113_out/38.png'], ['data/nyu2_train/bedroom_0113_out/154.jpg', 'data/nyu2_train/bedroom_0113_out/154.png'], ['data/nyu2_train/bedroom_0113_out/78.jpg', 'data/nyu2_train/bedroom_0113_out/78.png'], ['data/nyu2_train/bedroom_0113_out/73.jpg', 'data/nyu2_train/bedroom_0113_out/73.png'], ['data/nyu2_train/bedroom_0113_out/159.jpg', 'data/nyu2_train/bedroom_0113_out/159.png'], ['data/nyu2_train/bedroom_0113_out/110.jpg', 'data/nyu2_train/bedroom_0113_out/110.png'], ['data/nyu2_train/bedroom_0113_out/143.jpg', 'data/nyu2_train/bedroom_0113_out/143.png'], ['data/nyu2_train/bedroom_0113_out/83.jpg', 'data/nyu2_train/bedroom_0113_out/83.png'], ['data/nyu2_train/bedroom_0113_out/87.jpg', 'data/nyu2_train/bedroom_0113_out/87.png'], ['data/nyu2_train/bedroom_0113_out/59.jpg', 'data/nyu2_train/bedroom_0113_out/59.png'], ['data/nyu2_train/bedroom_0113_out/36.jpg', 'data/nyu2_train/bedroom_0113_out/36.png'], ['data/nyu2_train/bedroom_0113_out/20.jpg', 'data/nyu2_train/bedroom_0113_out/20.png'], ['data/nyu2_train/bedroom_0113_out/165.jpg', 'data/nyu2_train/bedroom_0113_out/165.png'], ['data/nyu2_train/bedroom_0113_out/106.jpg', 'data/nyu2_train/bedroom_0113_out/106.png'], ['data/nyu2_train/bedroom_0113_out/145.jpg', 'data/nyu2_train/bedroom_0113_out/145.png'], ['data/nyu2_train/bedroom_0113_out/65.jpg', 'data/nyu2_train/bedroom_0113_out/65.png'], ['data/nyu2_train/bedroom_0113_out/120.jpg', 'data/nyu2_train/bedroom_0113_out/120.png'], ['data/nyu2_train/bedroom_0113_out/86.jpg', 'data/nyu2_train/bedroom_0113_out/86.png'], ['data/nyu2_train/bedroom_0113_out/44.jpg', 'data/nyu2_train/bedroom_0113_out/44.png'], ['data/nyu2_train/bedroom_0113_out/63.jpg', 'data/nyu2_train/bedroom_0113_out/63.png'], ['data/nyu2_train/bedroom_0113_out/116.jpg', 'data/nyu2_train/bedroom_0113_out/116.png'], ['data/nyu2_train/bedroom_0113_out/61.jpg', 'data/nyu2_train/bedroom_0113_out/61.png'], ['data/nyu2_train/bedroom_0113_out/32.jpg', 'data/nyu2_train/bedroom_0113_out/32.png'], ['data/nyu2_train/bedroom_0113_out/123.jpg', 'data/nyu2_train/bedroom_0113_out/123.png'], ['data/nyu2_train/bedroom_0113_out/23.jpg', 'data/nyu2_train/bedroom_0113_out/23.png'], ['data/nyu2_train/bedroom_0113_out/74.jpg', 'data/nyu2_train/bedroom_0113_out/74.png'], ['data/nyu2_train/bedroom_0113_out/164.jpg', 'data/nyu2_train/bedroom_0113_out/164.png'], ['data/nyu2_train/bedroom_0113_out/141.jpg', 'data/nyu2_train/bedroom_0113_out/141.png'], ['data/nyu2_train/bedroom_0113_out/52.jpg', 'data/nyu2_train/bedroom_0113_out/52.png'], ['data/nyu2_train/bedroom_0113_out/66.jpg', 'data/nyu2_train/bedroom_0113_out/66.png'], ['data/nyu2_train/bedroom_0113_out/24.jpg', 'data/nyu2_train/bedroom_0113_out/24.png'], ['data/nyu2_train/bedroom_0113_out/22.jpg', 'data/nyu2_train/bedroom_0113_out/22.png'], ['data/nyu2_train/bedroom_0113_out/166.jpg', 'data/nyu2_train/bedroom_0113_out/166.png'], ['data/nyu2_train/bedroom_0113_out/80.jpg', 'data/nyu2_train/bedroom_0113_out/80.png'], ['data/nyu2_train/bedroom_0113_out/96.jpg', 'data/nyu2_train/bedroom_0113_out/96.png'], ['data/nyu2_train/bedroom_0113_out/26.jpg', 'data/nyu2_train/bedroom_0113_out/26.png'], ['data/nyu2_train/bedroom_0113_out/88.jpg', 'data/nyu2_train/bedroom_0113_out/88.png'], ['data/nyu2_train/bedroom_0113_out/9.jpg', 'data/nyu2_train/bedroom_0113_out/9.png'], ['data/nyu2_train/bedroom_0113_out/109.jpg', 'data/nyu2_train/bedroom_0113_out/109.png'], ['data/nyu2_train/bedroom_0113_out/90.jpg', 'data/nyu2_train/bedroom_0113_out/90.png']]\n"
     ]
    },
    {
     "name": "stderr",
     "output_type": "stream",
     "text": [
      "WARNING:absl:At this time, the v2.11+ optimizer `tf.keras.optimizers.Adam` runs slowly on M1/M2 Macs, please use the legacy Keras optimizer instead, located at `tf.keras.optimizers.legacy.Adam`.\n",
      "WARNING:absl:There is a known slowdown when using v2.11+ Keras optimizers on M1/M2 Macs. Falling back to the legacy Keras optimizer, i.e., `tf.keras.optimizers.legacy.Adam`.\n"
     ]
    },
    {
     "name": "stdout",
     "output_type": "stream",
     "text": [
      "Base model loaded DenseNet169\n",
      "\n",
      "Model created.\n",
      "Epoch 1/5\n",
      "43/43 [==============================] - 89s 2s/step - loss: 1.1030\n",
      "Epoch 2/5\n",
      "43/43 [==============================] - 75s 2s/step - loss: 0.5638\n",
      "Epoch 3/5\n",
      "43/43 [==============================] - 76s 2s/step - loss: 0.4622\n",
      "Epoch 4/5\n",
      "43/43 [==============================] - 75s 2s/step - loss: 0.4666\n",
      "Epoch 5/5\n",
      "43/43 [==============================] - 77s 2s/step - loss: 0.4476\n"
     ]
    },
    {
     "name": "stderr",
     "output_type": "stream",
     "text": [
      "WARNING:absl:At this time, the v2.11+ optimizer `tf.keras.optimizers.Adam` runs slowly on M1/M2 Macs, please use the legacy Keras optimizer instead, located at `tf.keras.optimizers.legacy.Adam`.\n",
      "WARNING:absl:There is a known slowdown when using v2.11+ Keras optimizers on M1/M2 Macs. Falling back to the legacy Keras optimizer, i.e., `tf.keras.optimizers.legacy.Adam`.\n"
     ]
    },
    {
     "name": "stdout",
     "output_type": "stream",
     "text": [
      "Base model loaded DenseNet169\n",
      "\n",
      "Model created.\n",
      "Epoch 1/5\n",
      "43/43 [==============================] - 98s 2s/step - loss: 1.0640\n",
      "Epoch 2/5\n",
      "43/43 [==============================] - 75s 2s/step - loss: 0.5449\n",
      "Epoch 3/5\n",
      "43/43 [==============================] - 74s 2s/step - loss: 0.5576\n",
      "Epoch 4/5\n",
      "43/43 [==============================] - 75s 2s/step - loss: 0.4294\n",
      "Epoch 5/5\n",
      "43/43 [==============================] - 75s 2s/step - loss: 0.3591\n"
     ]
    },
    {
     "name": "stderr",
     "output_type": "stream",
     "text": [
      "WARNING:absl:At this time, the v2.11+ optimizer `tf.keras.optimizers.Adam` runs slowly on M1/M2 Macs, please use the legacy Keras optimizer instead, located at `tf.keras.optimizers.legacy.Adam`.\n",
      "WARNING:absl:There is a known slowdown when using v2.11+ Keras optimizers on M1/M2 Macs. Falling back to the legacy Keras optimizer, i.e., `tf.keras.optimizers.legacy.Adam`.\n"
     ]
    },
    {
     "name": "stdout",
     "output_type": "stream",
     "text": [
      "Base model loaded DenseNet169\n",
      "\n",
      "Model created.\n",
      "Epoch 1/5\n",
      "43/43 [==============================] - 109s 2s/step - loss: 1.1072\n",
      "Epoch 2/5\n",
      "43/43 [==============================] - 79s 2s/step - loss: 0.5440\n",
      "Epoch 3/5\n",
      "43/43 [==============================] - 78s 2s/step - loss: 0.5601\n",
      "Epoch 4/5\n",
      "43/43 [==============================] - 78s 2s/step - loss: 0.4554\n",
      "Epoch 5/5\n",
      "43/43 [==============================] - 78s 2s/step - loss: 0.4305\n"
     ]
    },
    {
     "name": "stderr",
     "output_type": "stream",
     "text": [
      "WARNING:absl:At this time, the v2.11+ optimizer `tf.keras.optimizers.Adam` runs slowly on M1/M2 Macs, please use the legacy Keras optimizer instead, located at `tf.keras.optimizers.legacy.Adam`.\n",
      "WARNING:absl:There is a known slowdown when using v2.11+ Keras optimizers on M1/M2 Macs. Falling back to the legacy Keras optimizer, i.e., `tf.keras.optimizers.legacy.Adam`.\n"
     ]
    },
    {
     "name": "stdout",
     "output_type": "stream",
     "text": [
      "Base model loaded DenseNet169\n",
      "\n",
      "Model created.\n",
      "Epoch 1/5\n",
      "43/43 [==============================] - 126s 2s/step - loss: 1.0071\n",
      "Epoch 2/5\n",
      "43/43 [==============================] - 82s 2s/step - loss: 0.7244\n",
      "Epoch 3/5\n",
      "43/43 [==============================] - 80s 2s/step - loss: 0.4989\n",
      "Epoch 4/5\n",
      "43/43 [==============================] - 78s 2s/step - loss: 0.4446\n",
      "Epoch 5/5\n",
      "43/43 [==============================] - 78s 2s/step - loss: 0.3860\n"
     ]
    },
    {
     "name": "stderr",
     "output_type": "stream",
     "text": [
      "WARNING:absl:At this time, the v2.11+ optimizer `tf.keras.optimizers.Adam` runs slowly on M1/M2 Macs, please use the legacy Keras optimizer instead, located at `tf.keras.optimizers.legacy.Adam`.\n",
      "WARNING:absl:There is a known slowdown when using v2.11+ Keras optimizers on M1/M2 Macs. Falling back to the legacy Keras optimizer, i.e., `tf.keras.optimizers.legacy.Adam`.\n"
     ]
    },
    {
     "name": "stdout",
     "output_type": "stream",
     "text": [
      "Base model loaded DenseNet169\n",
      "\n",
      "Model created.\n",
      "Epoch 1/5\n",
      "43/43 [==============================] - 128s 2s/step - loss: 1.0837\n",
      "Epoch 2/5\n",
      "43/43 [==============================] - 84s 2s/step - loss: 0.5781\n",
      "Epoch 3/5\n",
      "43/43 [==============================] - 80s 2s/step - loss: 0.4811\n",
      "Epoch 4/5\n",
      "43/43 [==============================] - 79s 2s/step - loss: 0.5119\n",
      "Epoch 5/5\n",
      "43/43 [==============================] - 78s 2s/step - loss: 0.3893\n"
     ]
    },
    {
     "name": "stderr",
     "output_type": "stream",
     "text": [
      "WARNING:absl:At this time, the v2.11+ optimizer `tf.keras.optimizers.Adam` runs slowly on M1/M2 Macs, please use the legacy Keras optimizer instead, located at `tf.keras.optimizers.legacy.Adam`.\n",
      "WARNING:absl:There is a known slowdown when using v2.11+ Keras optimizers on M1/M2 Macs. Falling back to the legacy Keras optimizer, i.e., `tf.keras.optimizers.legacy.Adam`.\n"
     ]
    },
    {
     "name": "stdout",
     "output_type": "stream",
     "text": [
      "Base model loaded DenseNet169\n",
      "\n",
      "Model created.\n",
      "Epoch 1/5\n",
      "43/43 [==============================] - 130s 3s/step - loss: 1.1451\n",
      "Epoch 2/5\n",
      "43/43 [==============================] - 81s 2s/step - loss: 0.6172\n",
      "Epoch 3/5\n",
      "43/43 [==============================] - 80s 2s/step - loss: 0.5701\n",
      "Epoch 4/5\n",
      "43/43 [==============================] - 80s 2s/step - loss: 0.4486\n",
      "Epoch 5/5\n",
      "43/43 [==============================] - 79s 2s/step - loss: 0.3989\n"
     ]
    },
    {
     "name": "stderr",
     "output_type": "stream",
     "text": [
      "WARNING:absl:At this time, the v2.11+ optimizer `tf.keras.optimizers.Adam` runs slowly on M1/M2 Macs, please use the legacy Keras optimizer instead, located at `tf.keras.optimizers.legacy.Adam`.\n",
      "WARNING:absl:There is a known slowdown when using v2.11+ Keras optimizers on M1/M2 Macs. Falling back to the legacy Keras optimizer, i.e., `tf.keras.optimizers.legacy.Adam`.\n"
     ]
    },
    {
     "name": "stdout",
     "output_type": "stream",
     "text": [
      "Base model loaded DenseNet169\n",
      "\n",
      "Model created.\n",
      "Epoch 1/5\n",
      "43/43 [==============================] - 149s 3s/step - loss: 1.0753\n",
      "Epoch 2/5\n",
      "43/43 [==============================] - 82s 2s/step - loss: 0.6564\n",
      "Epoch 3/5\n",
      "43/43 [==============================] - 79s 2s/step - loss: 0.5186\n",
      "Epoch 4/5\n",
      "43/43 [==============================] - 80s 2s/step - loss: 0.4193\n",
      "Epoch 5/5\n",
      "43/43 [==============================] - 81s 2s/step - loss: 0.3847\n"
     ]
    },
    {
     "name": "stderr",
     "output_type": "stream",
     "text": [
      "WARNING:absl:At this time, the v2.11+ optimizer `tf.keras.optimizers.Adam` runs slowly on M1/M2 Macs, please use the legacy Keras optimizer instead, located at `tf.keras.optimizers.legacy.Adam`.\n",
      "WARNING:absl:There is a known slowdown when using v2.11+ Keras optimizers on M1/M2 Macs. Falling back to the legacy Keras optimizer, i.e., `tf.keras.optimizers.legacy.Adam`.\n"
     ]
    },
    {
     "name": "stdout",
     "output_type": "stream",
     "text": [
      "Base model loaded DenseNet169\n",
      "\n",
      "Model created.\n",
      "Epoch 1/5\n",
      "43/43 [==============================] - 151s 3s/step - loss: 1.1798\n",
      "Epoch 2/5\n",
      "43/43 [==============================] - 81s 2s/step - loss: 0.5979\n",
      "Epoch 3/5\n",
      "43/43 [==============================] - 84s 2s/step - loss: 0.5086\n",
      "Epoch 4/5\n",
      "43/43 [==============================] - 82s 2s/step - loss: 0.4454\n",
      "Epoch 5/5\n",
      "43/43 [==============================] - 82s 2s/step - loss: 0.3808\n"
     ]
    },
    {
     "name": "stderr",
     "output_type": "stream",
     "text": [
      "WARNING:absl:At this time, the v2.11+ optimizer `tf.keras.optimizers.Adam` runs slowly on M1/M2 Macs, please use the legacy Keras optimizer instead, located at `tf.keras.optimizers.legacy.Adam`.\n",
      "WARNING:absl:There is a known slowdown when using v2.11+ Keras optimizers on M1/M2 Macs. Falling back to the legacy Keras optimizer, i.e., `tf.keras.optimizers.legacy.Adam`.\n"
     ]
    },
    {
     "name": "stdout",
     "output_type": "stream",
     "text": [
      "Base model loaded DenseNet169\n",
      "\n",
      "Model created.\n",
      "Epoch 1/5\n",
      "43/43 [==============================] - 157s 3s/step - loss: 1.0942\n",
      "Epoch 2/5\n",
      "43/43 [==============================] - 85s 2s/step - loss: 0.6244\n",
      "Epoch 3/5\n",
      "43/43 [==============================] - 87s 2s/step - loss: 0.5282\n",
      "Epoch 4/5\n",
      "43/43 [==============================] - 87s 2s/step - loss: 0.4251\n",
      "Epoch 5/5\n",
      "43/43 [==============================] - 89s 2s/step - loss: 0.4585\n"
     ]
    },
    {
     "name": "stderr",
     "output_type": "stream",
     "text": [
      "WARNING:absl:At this time, the v2.11+ optimizer `tf.keras.optimizers.Adam` runs slowly on M1/M2 Macs, please use the legacy Keras optimizer instead, located at `tf.keras.optimizers.legacy.Adam`.\n",
      "WARNING:absl:There is a known slowdown when using v2.11+ Keras optimizers on M1/M2 Macs. Falling back to the legacy Keras optimizer, i.e., `tf.keras.optimizers.legacy.Adam`.\n"
     ]
    },
    {
     "name": "stdout",
     "output_type": "stream",
     "text": [
      "Base model loaded DenseNet169\n",
      "\n",
      "Model created.\n",
      "Epoch 1/5\n",
      "43/43 [==============================] - 171s 3s/step - loss: 1.1770\n",
      "Epoch 2/5\n",
      "43/43 [==============================] - 90s 2s/step - loss: 0.6345\n",
      "Epoch 3/5\n",
      "43/43 [==============================] - 90s 2s/step - loss: 0.5047\n",
      "Epoch 4/5\n",
      "43/43 [==============================] - 84s 2s/step - loss: 0.4497\n",
      "Epoch 5/5\n",
      "43/43 [==============================] - 81s 2s/step - loss: 0.4166\n"
     ]
    },
    {
     "name": "stderr",
     "output_type": "stream",
     "text": [
      "WARNING:absl:At this time, the v2.11+ optimizer `tf.keras.optimizers.Adam` runs slowly on M1/M2 Macs, please use the legacy Keras optimizer instead, located at `tf.keras.optimizers.legacy.Adam`.\n",
      "WARNING:absl:There is a known slowdown when using v2.11+ Keras optimizers on M1/M2 Macs. Falling back to the legacy Keras optimizer, i.e., `tf.keras.optimizers.legacy.Adam`.\n"
     ]
    },
    {
     "name": "stdout",
     "output_type": "stream",
     "text": [
      "Base model loaded DenseNet169\n",
      "\n",
      "Model created.\n",
      "Epoch 1/5\n",
      "43/43 [==============================] - 181s 3s/step - loss: 1.3547\n",
      "Epoch 2/5\n",
      "43/43 [==============================] - 87s 2s/step - loss: 0.5716\n",
      "Epoch 3/5\n",
      "43/43 [==============================] - 85s 2s/step - loss: 0.4784\n",
      "Epoch 4/5\n",
      "43/43 [==============================] - 85s 2s/step - loss: 0.4945\n",
      "Epoch 5/5\n",
      "43/43 [==============================] - 84s 2s/step - loss: 0.4191\n"
     ]
    },
    {
     "name": "stderr",
     "output_type": "stream",
     "text": [
      "WARNING:absl:At this time, the v2.11+ optimizer `tf.keras.optimizers.Adam` runs slowly on M1/M2 Macs, please use the legacy Keras optimizer instead, located at `tf.keras.optimizers.legacy.Adam`.\n",
      "WARNING:absl:There is a known slowdown when using v2.11+ Keras optimizers on M1/M2 Macs. Falling back to the legacy Keras optimizer, i.e., `tf.keras.optimizers.legacy.Adam`.\n"
     ]
    },
    {
     "name": "stdout",
     "output_type": "stream",
     "text": [
      "Base model loaded DenseNet169\n",
      "\n",
      "Model created.\n",
      "Epoch 1/5\n",
      "43/43 [==============================] - 173s 3s/step - loss: 1.1214\n",
      "Epoch 2/5\n",
      "43/43 [==============================] - 86s 2s/step - loss: 0.6223\n",
      "Epoch 3/5\n",
      "43/43 [==============================] - 85s 2s/step - loss: 0.5057\n",
      "Epoch 4/5\n",
      "43/43 [==============================] - 84s 2s/step - loss: 0.4448\n",
      "Epoch 5/5\n",
      "43/43 [==============================] - 86s 2s/step - loss: 0.3656\n"
     ]
    },
    {
     "name": "stderr",
     "output_type": "stream",
     "text": [
      "WARNING:absl:At this time, the v2.11+ optimizer `tf.keras.optimizers.Adam` runs slowly on M1/M2 Macs, please use the legacy Keras optimizer instead, located at `tf.keras.optimizers.legacy.Adam`.\n",
      "WARNING:absl:There is a known slowdown when using v2.11+ Keras optimizers on M1/M2 Macs. Falling back to the legacy Keras optimizer, i.e., `tf.keras.optimizers.legacy.Adam`.\n"
     ]
    },
    {
     "name": "stdout",
     "output_type": "stream",
     "text": [
      "Base model loaded DenseNet169\n",
      "\n",
      "Model created.\n",
      "Epoch 1/5\n",
      "43/43 [==============================] - 191s 4s/step - loss: 1.1684\n",
      "Epoch 2/5\n",
      "43/43 [==============================] - 93s 2s/step - loss: 0.6379\n",
      "Epoch 3/5\n",
      "43/43 [==============================] - 87s 2s/step - loss: 0.4759\n",
      "Epoch 4/5\n",
      "43/43 [==============================] - 87s 2s/step - loss: 0.4092\n",
      "Epoch 5/5\n",
      "43/43 [==============================] - 87s 2s/step - loss: 0.3610\n"
     ]
    },
    {
     "name": "stderr",
     "output_type": "stream",
     "text": [
      "WARNING:absl:At this time, the v2.11+ optimizer `tf.keras.optimizers.Adam` runs slowly on M1/M2 Macs, please use the legacy Keras optimizer instead, located at `tf.keras.optimizers.legacy.Adam`.\n",
      "WARNING:absl:There is a known slowdown when using v2.11+ Keras optimizers on M1/M2 Macs. Falling back to the legacy Keras optimizer, i.e., `tf.keras.optimizers.legacy.Adam`.\n"
     ]
    },
    {
     "name": "stdout",
     "output_type": "stream",
     "text": [
      "Base model loaded DenseNet169\n",
      "\n",
      "Model created.\n",
      "Epoch 1/5\n",
      "43/43 [==============================] - 203s 4s/step - loss: 1.3210\n",
      "Epoch 2/5\n",
      "43/43 [==============================] - 87s 2s/step - loss: 0.6164\n",
      "Epoch 3/5\n",
      "43/43 [==============================] - 87s 2s/step - loss: 0.4800\n",
      "Epoch 4/5\n",
      "43/43 [==============================] - 87s 2s/step - loss: 0.4525\n",
      "Epoch 5/5\n",
      "43/43 [==============================] - 87s 2s/step - loss: 0.4872\n"
     ]
    },
    {
     "name": "stderr",
     "output_type": "stream",
     "text": [
      "WARNING:absl:At this time, the v2.11+ optimizer `tf.keras.optimizers.Adam` runs slowly on M1/M2 Macs, please use the legacy Keras optimizer instead, located at `tf.keras.optimizers.legacy.Adam`.\n",
      "WARNING:absl:There is a known slowdown when using v2.11+ Keras optimizers on M1/M2 Macs. Falling back to the legacy Keras optimizer, i.e., `tf.keras.optimizers.legacy.Adam`.\n"
     ]
    },
    {
     "name": "stdout",
     "output_type": "stream",
     "text": [
      "Base model loaded DenseNet169\n",
      "\n",
      "Model created.\n",
      "Epoch 1/5\n",
      "43/43 [==============================] - 209s 4s/step - loss: 1.0486\n",
      "Epoch 2/5\n",
      "43/43 [==============================] - 94s 2s/step - loss: 0.6962\n",
      "Epoch 3/5\n",
      "43/43 [==============================] - 87s 2s/step - loss: 0.5244\n",
      "Epoch 4/5\n",
      "43/43 [==============================] - 90s 2s/step - loss: 0.4453\n",
      "Epoch 5/5\n",
      "43/43 [==============================] - 88s 2s/step - loss: 0.3910\n"
     ]
    },
    {
     "name": "stderr",
     "output_type": "stream",
     "text": [
      "WARNING:absl:At this time, the v2.11+ optimizer `tf.keras.optimizers.Adam` runs slowly on M1/M2 Macs, please use the legacy Keras optimizer instead, located at `tf.keras.optimizers.legacy.Adam`.\n",
      "WARNING:absl:There is a known slowdown when using v2.11+ Keras optimizers on M1/M2 Macs. Falling back to the legacy Keras optimizer, i.e., `tf.keras.optimizers.legacy.Adam`.\n"
     ]
    },
    {
     "name": "stdout",
     "output_type": "stream",
     "text": [
      "Base model loaded DenseNet169\n",
      "\n",
      "Model created.\n",
      "Epoch 1/5\n",
      "43/43 [==============================] - 220s 4s/step - loss: 1.0864\n",
      "Epoch 2/5\n",
      "43/43 [==============================] - 90s 2s/step - loss: 0.5290\n",
      "Epoch 3/5\n",
      "43/43 [==============================] - 91s 2s/step - loss: 0.4705\n",
      "Epoch 4/5\n",
      "43/43 [==============================] - 89s 2s/step - loss: 0.4754\n",
      "Epoch 5/5\n",
      "43/43 [==============================] - 90s 2s/step - loss: 0.4235\n"
     ]
    },
    {
     "name": "stderr",
     "output_type": "stream",
     "text": [
      "WARNING:absl:At this time, the v2.11+ optimizer `tf.keras.optimizers.Adam` runs slowly on M1/M2 Macs, please use the legacy Keras optimizer instead, located at `tf.keras.optimizers.legacy.Adam`.\n",
      "WARNING:absl:There is a known slowdown when using v2.11+ Keras optimizers on M1/M2 Macs. Falling back to the legacy Keras optimizer, i.e., `tf.keras.optimizers.legacy.Adam`.\n"
     ]
    },
    {
     "name": "stdout",
     "output_type": "stream",
     "text": [
      "Base model loaded DenseNet169\n",
      "\n",
      "Model created.\n",
      "Epoch 1/5\n",
      "43/43 [==============================] - 217s 4s/step - loss: 1.0930\n",
      "Epoch 2/5\n",
      "43/43 [==============================] - 92s 2s/step - loss: 0.5892\n",
      "Epoch 3/5\n",
      "43/43 [==============================] - 92s 2s/step - loss: 0.5053\n",
      "Epoch 4/5\n",
      "43/43 [==============================] - 90s 2s/step - loss: 0.5141\n",
      "Epoch 5/5\n",
      "43/43 [==============================] - 91s 2s/step - loss: 0.5307\n"
     ]
    },
    {
     "name": "stderr",
     "output_type": "stream",
     "text": [
      "WARNING:absl:At this time, the v2.11+ optimizer `tf.keras.optimizers.Adam` runs slowly on M1/M2 Macs, please use the legacy Keras optimizer instead, located at `tf.keras.optimizers.legacy.Adam`.\n",
      "WARNING:absl:There is a known slowdown when using v2.11+ Keras optimizers on M1/M2 Macs. Falling back to the legacy Keras optimizer, i.e., `tf.keras.optimizers.legacy.Adam`.\n"
     ]
    },
    {
     "name": "stdout",
     "output_type": "stream",
     "text": [
      "Base model loaded DenseNet169\n",
      "\n",
      "Model created.\n",
      "Epoch 1/5\n",
      "43/43 [==============================] - 229s 4s/step - loss: 1.1857\n",
      "Epoch 2/5\n",
      "43/43 [==============================] - 90s 2s/step - loss: 0.7162\n",
      "Epoch 3/5\n",
      "43/43 [==============================] - 91s 2s/step - loss: 0.5607\n",
      "Epoch 4/5\n",
      "43/43 [==============================] - 90s 2s/step - loss: 0.4371\n",
      "Epoch 5/5\n",
      "43/43 [==============================] - 90s 2s/step - loss: 0.4522\n"
     ]
    },
    {
     "name": "stderr",
     "output_type": "stream",
     "text": [
      "WARNING:absl:At this time, the v2.11+ optimizer `tf.keras.optimizers.Adam` runs slowly on M1/M2 Macs, please use the legacy Keras optimizer instead, located at `tf.keras.optimizers.legacy.Adam`.\n",
      "WARNING:absl:There is a known slowdown when using v2.11+ Keras optimizers on M1/M2 Macs. Falling back to the legacy Keras optimizer, i.e., `tf.keras.optimizers.legacy.Adam`.\n"
     ]
    },
    {
     "name": "stdout",
     "output_type": "stream",
     "text": [
      "Base model loaded DenseNet169\n",
      "\n",
      "Model created.\n",
      "Epoch 1/5\n",
      "43/43 [==============================] - 256s 4s/step - loss: 1.0868\n",
      "Epoch 2/5\n",
      "43/43 [==============================] - 95s 2s/step - loss: 0.5241\n",
      "Epoch 3/5\n",
      "43/43 [==============================] - 94s 2s/step - loss: 0.5005\n",
      "Epoch 4/5\n",
      "43/43 [==============================] - 91s 2s/step - loss: 0.4698\n",
      "Epoch 5/5\n",
      "43/43 [==============================] - 92s 2s/step - loss: 0.3739\n"
     ]
    },
    {
     "name": "stderr",
     "output_type": "stream",
     "text": [
      "WARNING:absl:At this time, the v2.11+ optimizer `tf.keras.optimizers.Adam` runs slowly on M1/M2 Macs, please use the legacy Keras optimizer instead, located at `tf.keras.optimizers.legacy.Adam`.\n",
      "WARNING:absl:There is a known slowdown when using v2.11+ Keras optimizers on M1/M2 Macs. Falling back to the legacy Keras optimizer, i.e., `tf.keras.optimizers.legacy.Adam`.\n"
     ]
    },
    {
     "name": "stdout",
     "output_type": "stream",
     "text": [
      "Base model loaded DenseNet169\n",
      "\n",
      "Model created.\n",
      "Epoch 1/5\n",
      "43/43 [==============================] - 252s 5s/step - loss: 0.9249\n",
      "Epoch 2/5\n",
      "43/43 [==============================] - 93s 2s/step - loss: 0.6097\n",
      "Epoch 3/5\n",
      "43/43 [==============================] - 93s 2s/step - loss: 0.5056\n",
      "Epoch 4/5\n",
      "43/43 [==============================] - 91s 2s/step - loss: 0.4256\n",
      "Epoch 5/5\n",
      "43/43 [==============================] - 92s 2s/step - loss: 0.3863\n"
     ]
    },
    {
     "name": "stderr",
     "output_type": "stream",
     "text": [
      "WARNING:absl:At this time, the v2.11+ optimizer `tf.keras.optimizers.Adam` runs slowly on M1/M2 Macs, please use the legacy Keras optimizer instead, located at `tf.keras.optimizers.legacy.Adam`.\n",
      "WARNING:absl:There is a known slowdown when using v2.11+ Keras optimizers on M1/M2 Macs. Falling back to the legacy Keras optimizer, i.e., `tf.keras.optimizers.legacy.Adam`.\n"
     ]
    },
    {
     "name": "stdout",
     "output_type": "stream",
     "text": [
      "Base model loaded DenseNet169\n",
      "\n",
      "Model created.\n",
      "Epoch 1/5\n",
      "43/43 [==============================] - 254s 5s/step - loss: 1.1003\n",
      "Epoch 2/5\n",
      "43/43 [==============================] - 93s 2s/step - loss: 0.5363\n",
      "Epoch 3/5\n",
      "43/43 [==============================] - 96s 2s/step - loss: 0.4993\n",
      "Epoch 4/5\n",
      "43/43 [==============================] - 94s 2s/step - loss: 0.4610\n",
      "Epoch 5/5\n",
      "43/43 [==============================] - 95s 2s/step - loss: 0.4411\n"
     ]
    },
    {
     "name": "stderr",
     "output_type": "stream",
     "text": [
      "WARNING:absl:At this time, the v2.11+ optimizer `tf.keras.optimizers.Adam` runs slowly on M1/M2 Macs, please use the legacy Keras optimizer instead, located at `tf.keras.optimizers.legacy.Adam`.\n",
      "WARNING:absl:There is a known slowdown when using v2.11+ Keras optimizers on M1/M2 Macs. Falling back to the legacy Keras optimizer, i.e., `tf.keras.optimizers.legacy.Adam`.\n"
     ]
    },
    {
     "name": "stdout",
     "output_type": "stream",
     "text": [
      "Base model loaded DenseNet169\n",
      "\n",
      "Model created.\n",
      "Epoch 1/5\n",
      "43/43 [==============================] - 240s 5s/step - loss: 1.1835\n",
      "Epoch 2/5\n",
      "43/43 [==============================] - 100s 2s/step - loss: 0.6384\n",
      "Epoch 3/5\n",
      "43/43 [==============================] - 92s 2s/step - loss: 0.4603\n",
      "Epoch 4/5\n",
      "43/43 [==============================] - 93s 2s/step - loss: 0.4158\n",
      "Epoch 5/5\n",
      "43/43 [==============================] - 93s 2s/step - loss: 0.4075\n"
     ]
    },
    {
     "name": "stderr",
     "output_type": "stream",
     "text": [
      "WARNING:absl:At this time, the v2.11+ optimizer `tf.keras.optimizers.Adam` runs slowly on M1/M2 Macs, please use the legacy Keras optimizer instead, located at `tf.keras.optimizers.legacy.Adam`.\n",
      "WARNING:absl:There is a known slowdown when using v2.11+ Keras optimizers on M1/M2 Macs. Falling back to the legacy Keras optimizer, i.e., `tf.keras.optimizers.legacy.Adam`.\n"
     ]
    },
    {
     "name": "stdout",
     "output_type": "stream",
     "text": [
      "Base model loaded DenseNet169\n",
      "\n",
      "Model created.\n",
      "Epoch 1/5\n",
      "43/43 [==============================] - 299s 5s/step - loss: 1.0841\n",
      "Epoch 2/5\n",
      "43/43 [==============================] - 99s 2s/step - loss: 0.8075\n",
      "Epoch 3/5\n",
      "43/43 [==============================] - 97s 2s/step - loss: 0.5680\n",
      "Epoch 4/5\n",
      "43/43 [==============================] - 100s 2s/step - loss: 0.4750\n",
      "Epoch 5/5\n",
      "43/43 [==============================] - 97s 2s/step - loss: 0.3964\n"
     ]
    },
    {
     "name": "stderr",
     "output_type": "stream",
     "text": [
      "WARNING:absl:At this time, the v2.11+ optimizer `tf.keras.optimizers.Adam` runs slowly on M1/M2 Macs, please use the legacy Keras optimizer instead, located at `tf.keras.optimizers.legacy.Adam`.\n",
      "WARNING:absl:There is a known slowdown when using v2.11+ Keras optimizers on M1/M2 Macs. Falling back to the legacy Keras optimizer, i.e., `tf.keras.optimizers.legacy.Adam`.\n"
     ]
    },
    {
     "name": "stdout",
     "output_type": "stream",
     "text": [
      "Base model loaded DenseNet169\n",
      "\n",
      "Model created.\n",
      "Epoch 1/5\n",
      "43/43 [==============================] - 278s 5s/step - loss: 1.0584\n",
      "Epoch 2/5\n",
      "43/43 [==============================] - 96s 2s/step - loss: 0.5495\n",
      "Epoch 3/5\n",
      "43/43 [==============================] - 95s 2s/step - loss: 0.5189\n",
      "Epoch 4/5\n",
      "43/43 [==============================] - 95s 2s/step - loss: 0.4802\n",
      "Epoch 5/5\n",
      "43/43 [==============================] - 94s 2s/step - loss: 0.3835\n"
     ]
    },
    {
     "name": "stderr",
     "output_type": "stream",
     "text": [
      "WARNING:absl:At this time, the v2.11+ optimizer `tf.keras.optimizers.Adam` runs slowly on M1/M2 Macs, please use the legacy Keras optimizer instead, located at `tf.keras.optimizers.legacy.Adam`.\n",
      "WARNING:absl:There is a known slowdown when using v2.11+ Keras optimizers on M1/M2 Macs. Falling back to the legacy Keras optimizer, i.e., `tf.keras.optimizers.legacy.Adam`.\n"
     ]
    },
    {
     "name": "stdout",
     "output_type": "stream",
     "text": [
      "Base model loaded DenseNet169\n",
      "\n",
      "Model created.\n",
      "Epoch 1/5\n",
      "43/43 [==============================] - 293s 5s/step - loss: 1.0678\n",
      "Epoch 2/5\n",
      "43/43 [==============================] - 99s 2s/step - loss: 0.6863\n",
      "Epoch 3/5\n",
      "43/43 [==============================] - 101s 2s/step - loss: 0.7125\n",
      "Epoch 4/5\n",
      "43/43 [==============================] - 98s 2s/step - loss: 0.4437\n",
      "Epoch 5/5\n",
      "43/43 [==============================] - 96s 2s/step - loss: 0.3870\n"
     ]
    },
    {
     "name": "stderr",
     "output_type": "stream",
     "text": [
      "WARNING:absl:At this time, the v2.11+ optimizer `tf.keras.optimizers.Adam` runs slowly on M1/M2 Macs, please use the legacy Keras optimizer instead, located at `tf.keras.optimizers.legacy.Adam`.\n",
      "WARNING:absl:There is a known slowdown when using v2.11+ Keras optimizers on M1/M2 Macs. Falling back to the legacy Keras optimizer, i.e., `tf.keras.optimizers.legacy.Adam`.\n"
     ]
    },
    {
     "name": "stdout",
     "output_type": "stream",
     "text": [
      "Base model loaded DenseNet169\n",
      "\n",
      "Model created.\n",
      "Epoch 1/5\n",
      "43/43 [==============================] - 300s 5s/step - loss: 1.1973\n",
      "Epoch 2/5\n",
      "43/43 [==============================] - 107s 2s/step - loss: 0.5722\n",
      "Epoch 3/5\n",
      "43/43 [==============================] - 98s 2s/step - loss: 0.4901\n",
      "Epoch 4/5\n",
      "43/43 [==============================] - 98s 2s/step - loss: 0.4526\n",
      "Epoch 5/5\n",
      "43/43 [==============================] - 97s 2s/step - loss: 0.4356\n"
     ]
    },
    {
     "name": "stderr",
     "output_type": "stream",
     "text": [
      "WARNING:absl:At this time, the v2.11+ optimizer `tf.keras.optimizers.Adam` runs slowly on M1/M2 Macs, please use the legacy Keras optimizer instead, located at `tf.keras.optimizers.legacy.Adam`.\n",
      "WARNING:absl:There is a known slowdown when using v2.11+ Keras optimizers on M1/M2 Macs. Falling back to the legacy Keras optimizer, i.e., `tf.keras.optimizers.legacy.Adam`.\n"
     ]
    },
    {
     "name": "stdout",
     "output_type": "stream",
     "text": [
      "Base model loaded DenseNet169\n",
      "\n",
      "Model created.\n",
      "Epoch 1/5\n",
      "43/43 [==============================] - 321s 6s/step - loss: 1.1007\n",
      "Epoch 2/5\n",
      "43/43 [==============================] - 103s 2s/step - loss: 0.5935\n",
      "Epoch 3/5\n",
      "43/43 [==============================] - 99s 2s/step - loss: 0.5202\n",
      "Epoch 4/5\n",
      "43/43 [==============================] - 99s 2s/step - loss: 0.3849\n",
      "Epoch 5/5\n",
      "43/43 [==============================] - 97s 2s/step - loss: 0.4103\n",
      "Best Weights (w1, w2, w3): (1.0, 0.5, 1.0)\n",
      "Best Validation Loss: 0.3698512613773346\n"
     ]
    }
   ],
   "source": [
    "import os\n",
    "import tensorflow as tf\n",
    "from itertools import product\n",
    "\n",
    "# Reduced weight range\n",
    "weight_range = [0.0, 0.5, 1.0]\n",
    "\n",
    "# Initialize the DataLoader\n",
    "dl = DataLoader(DEBUG=False)\n",
    "\n",
    "# Placeholder for best validation loss and corresponding weights\n",
    "best_val_loss = float('inf')\n",
    "best_weights = None\n",
    "\n",
    "# Loop over all possible combinations of weights\n",
    "for w1, w2, w3 in product(weight_range, repeat=3):\n",
    "    # Create a new instance of the model for each combination of weights\n",
    "    model = DepthEstimate()  # Initialize the model\n",
    "\n",
    "    # Compile the model with the current weights\n",
    "    optimizer = tf.keras.optimizers.Adam(learning_rate=learning_rate)\n",
    "\n",
    "    def custom_loss(y_true, y_pred):\n",
    "        global w1, w2, w3  # Add these lines to access the global weights\n",
    "        return depth_loss_function(y_true, y_pred, theta=0.1, maxDepthVal=1000.0/10.0)\n",
    "\n",
    "    model.compile(loss=custom_loss, optimizer=optimizer)\n",
    "\n",
    "    # Create training and validation datasets using your DataLoader class\n",
    "    train_dataset = dl.get_batched_dataset(batch_size)\n",
    "    validation_dataset = dl.get_validation_dataset(batch_size)\n",
    "\n",
    "    # Calculate the number of steps per epoch based on the dataset size and batch size\n",
    "    steps_per_epoch = dl.length // batch_size\n",
    "\n",
    "    # Inside your training loop\n",
    "    history = model.fit(\n",
    "        train_dataset,\n",
    "        epochs=5,  # Train for 5 epochs\n",
    "        steps_per_epoch=steps_per_epoch,  # Specify the number of steps\n",
    "        verbose=1\n",
    "    )\n",
    "\n",
    "    # Calculate the average validation loss after training\n",
    "    val_loss = model.evaluate(validation_dataset, verbose=0)\n",
    "\n",
    "    # Check if this combination of weights results in a lower validation loss\n",
    "    if val_loss < best_val_loss:\n",
    "        best_val_loss = val_loss\n",
    "        best_weights = (w1, w2, w3)\n",
    "\n",
    "# Print the best weights for this combination\n",
    "print(f\"Best Weights (w1, w2, w3): {best_weights}\")\n",
    "print(f\"Best Validation Loss: {best_val_loss}\")\n"
   ]
  },
  {
   "cell_type": "code",
   "execution_count": 7,
   "metadata": {},
   "outputs": [
    {
     "name": "stdout",
     "output_type": "stream",
     "text": [
      "Best Weights (w1, w2, w3): (1.0, 0.5, 1.0)\n",
      "Best Validation Loss: 0.3698512613773346\n"
     ]
    }
   ],
   "source": [
    "print(\"Best Weights (w1, w2, w3):\", best_weights)\n",
    "print(\"Best Validation Loss:\", best_val_loss)"
   ]
  },
  {
   "cell_type": "code",
   "execution_count": null,
   "metadata": {},
   "outputs": [],
   "source": []
  }
 ],
 "metadata": {
  "kernelspec": {
   "display_name": "Python 3 (ipykernel)",
   "language": "python",
   "name": "python3"
  },
  "language_info": {
   "codemirror_mode": {
    "name": "ipython",
    "version": 3
   },
   "file_extension": ".py",
   "mimetype": "text/x-python",
   "name": "python",
   "nbconvert_exporter": "python",
   "pygments_lexer": "ipython3",
   "version": "3.10.11"
  }
 },
 "nbformat": 4,
 "nbformat_minor": 2
}
