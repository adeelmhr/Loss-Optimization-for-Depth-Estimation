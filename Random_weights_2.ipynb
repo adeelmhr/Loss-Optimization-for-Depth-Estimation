{
 "cells": [
  {
   "cell_type": "markdown",
   "metadata": {},
   "source": [
    "# Parameters"
   ]
  },
  {
   "cell_type": "code",
   "execution_count": 1,
   "metadata": {},
   "outputs": [],
   "source": [
    "batch_size     = 8\n",
    "learning_rate  = 0.0001\n",
    "epochs         = 7"
   ]
  },
  {
   "cell_type": "markdown",
   "metadata": {},
   "source": [
    "# Define model"
   ]
  },
  {
   "cell_type": "code",
   "execution_count": 2,
   "metadata": {},
   "outputs": [
    {
     "name": "stdout",
     "output_type": "stream",
     "text": [
      "Base model loaded DenseNet169\n",
      "\n",
      "Model created.\n"
     ]
    }
   ],
   "source": [
    "from model import DepthEstimate\n",
    "\n",
    "model = DepthEstimate()"
   ]
  },
  {
   "cell_type": "markdown",
   "metadata": {},
   "source": [
    "# Data loader"
   ]
  },
  {
   "cell_type": "code",
   "execution_count": 3,
   "metadata": {},
   "outputs": [
    {
     "name": "stdout",
     "output_type": "stream",
     "text": [
      "nyu2_train :  [['data/nyu2_train/living_room_0038_out/37.jpg', 'data/nyu2_train/living_room_0038_out/37.png'], ['data/nyu2_train/living_room_0038_out/115.jpg', 'data/nyu2_train/living_room_0038_out/115.png'], ['data/nyu2_train/living_room_0038_out/6.jpg', 'data/nyu2_train/living_room_0038_out/6.png'], ['data/nyu2_train/living_room_0038_out/49.jpg', 'data/nyu2_train/living_room_0038_out/49.png'], ['data/nyu2_train/living_room_0038_out/152.jpg', 'data/nyu2_train/living_room_0038_out/152.png'], ['data/nyu2_train/living_room_0038_out/142.jpg', 'data/nyu2_train/living_room_0038_out/142.png'], ['data/nyu2_train/living_room_0038_out/94.jpg', 'data/nyu2_train/living_room_0038_out/94.png'], ['data/nyu2_train/living_room_0038_out/158.jpg', 'data/nyu2_train/living_room_0038_out/158.png'], ['data/nyu2_train/living_room_0038_out/18.jpg', 'data/nyu2_train/living_room_0038_out/18.png'], ['data/nyu2_train/living_room_0038_out/167.jpg', 'data/nyu2_train/living_room_0038_out/167.png'], ['data/nyu2_train/living_room_0038_out/21.jpg', 'data/nyu2_train/living_room_0038_out/21.png'], ['data/nyu2_train/living_room_0038_out/48.jpg', 'data/nyu2_train/living_room_0038_out/48.png'], ['data/nyu2_train/living_room_0038_out/75.jpg', 'data/nyu2_train/living_room_0038_out/75.png'], ['data/nyu2_train/living_room_0038_out/171.jpg', 'data/nyu2_train/living_room_0038_out/171.png'], ['data/nyu2_train/living_room_0038_out/25.jpg', 'data/nyu2_train/living_room_0038_out/25.png'], ['data/nyu2_train/living_room_0038_out/13.jpg', 'data/nyu2_train/living_room_0038_out/13.png'], ['data/nyu2_train/living_room_0038_out/68.jpg', 'data/nyu2_train/living_room_0038_out/68.png'], ['data/nyu2_train/living_room_0038_out/28.jpg', 'data/nyu2_train/living_room_0038_out/28.png'], ['data/nyu2_train/living_room_0038_out/161.jpg', 'data/nyu2_train/living_room_0038_out/161.png'], ['data/nyu2_train/living_room_0038_out/85.jpg', 'data/nyu2_train/living_room_0038_out/85.png'], ['data/nyu2_train/living_room_0038_out/57.jpg', 'data/nyu2_train/living_room_0038_out/57.png'], ['data/nyu2_train/living_room_0038_out/34.jpg', 'data/nyu2_train/living_room_0038_out/34.png'], ['data/nyu2_train/living_room_0038_out/118.jpg', 'data/nyu2_train/living_room_0038_out/118.png'], ['data/nyu2_train/living_room_0038_out/53.jpg', 'data/nyu2_train/living_room_0038_out/53.png'], ['data/nyu2_train/living_room_0038_out/11.jpg', 'data/nyu2_train/living_room_0038_out/11.png'], ['data/nyu2_train/living_room_0038_out/46.jpg', 'data/nyu2_train/living_room_0038_out/46.png'], ['data/nyu2_train/living_room_0038_out/135.jpg', 'data/nyu2_train/living_room_0038_out/135.png'], ['data/nyu2_train/living_room_0038_out/39.jpg', 'data/nyu2_train/living_room_0038_out/39.png'], ['data/nyu2_train/living_room_0038_out/71.jpg', 'data/nyu2_train/living_room_0038_out/71.png'], ['data/nyu2_train/living_room_0038_out/29.jpg', 'data/nyu2_train/living_room_0038_out/29.png'], ['data/nyu2_train/living_room_0038_out/14.jpg', 'data/nyu2_train/living_room_0038_out/14.png'], ['data/nyu2_train/living_room_0038_out/113.jpg', 'data/nyu2_train/living_room_0038_out/113.png'], ['data/nyu2_train/living_room_0038_out/138.jpg', 'data/nyu2_train/living_room_0038_out/138.png'], ['data/nyu2_train/living_room_0038_out/30.jpg', 'data/nyu2_train/living_room_0038_out/30.png'], ['data/nyu2_train/living_room_0038_out/16.jpg', 'data/nyu2_train/living_room_0038_out/16.png'], ['data/nyu2_train/living_room_0038_out/105.jpg', 'data/nyu2_train/living_room_0038_out/105.png'], ['data/nyu2_train/living_room_0038_out/62.jpg', 'data/nyu2_train/living_room_0038_out/62.png'], ['data/nyu2_train/living_room_0038_out/56.jpg', 'data/nyu2_train/living_room_0038_out/56.png'], ['data/nyu2_train/living_room_0038_out/119.jpg', 'data/nyu2_train/living_room_0038_out/119.png'], ['data/nyu2_train/living_room_0038_out/42.jpg', 'data/nyu2_train/living_room_0038_out/42.png'], ['data/nyu2_train/living_room_0038_out/2.jpg', 'data/nyu2_train/living_room_0038_out/2.png'], ['data/nyu2_train/living_room_0038_out/129.jpg', 'data/nyu2_train/living_room_0038_out/129.png'], ['data/nyu2_train/living_room_0038_out/160.jpg', 'data/nyu2_train/living_room_0038_out/160.png'], ['data/nyu2_train/living_room_0038_out/126.jpg', 'data/nyu2_train/living_room_0038_out/126.png'], ['data/nyu2_train/living_room_0038_out/91.jpg', 'data/nyu2_train/living_room_0038_out/91.png'], ['data/nyu2_train/living_room_0038_out/162.jpg', 'data/nyu2_train/living_room_0038_out/162.png'], ['data/nyu2_train/living_room_0038_out/93.jpg', 'data/nyu2_train/living_room_0038_out/93.png'], ['data/nyu2_train/living_room_0038_out/70.jpg', 'data/nyu2_train/living_room_0038_out/70.png'], ['data/nyu2_train/living_room_0038_out/60.jpg', 'data/nyu2_train/living_room_0038_out/60.png'], ['data/nyu2_train/living_room_0038_out/3.jpg', 'data/nyu2_train/living_room_0038_out/3.png'], ['data/nyu2_train/living_room_0038_out/132.jpg', 'data/nyu2_train/living_room_0038_out/132.png'], ['data/nyu2_train/living_room_0038_out/54.jpg', 'data/nyu2_train/living_room_0038_out/54.png'], ['data/nyu2_train/living_room_0038_out/146.jpg', 'data/nyu2_train/living_room_0038_out/146.png'], ['data/nyu2_train/living_room_0038_out/121.jpg', 'data/nyu2_train/living_room_0038_out/121.png'], ['data/nyu2_train/living_room_0038_out/122.jpg', 'data/nyu2_train/living_room_0038_out/122.png'], ['data/nyu2_train/living_room_0038_out/130.jpg', 'data/nyu2_train/living_room_0038_out/130.png'], ['data/nyu2_train/living_room_0038_out/10.jpg', 'data/nyu2_train/living_room_0038_out/10.png'], ['data/nyu2_train/living_room_0038_out/4.jpg', 'data/nyu2_train/living_room_0038_out/4.png'], ['data/nyu2_train/living_room_0038_out/153.jpg', 'data/nyu2_train/living_room_0038_out/153.png'], ['data/nyu2_train/living_room_0038_out/12.jpg', 'data/nyu2_train/living_room_0038_out/12.png'], ['data/nyu2_train/living_room_0038_out/163.jpg', 'data/nyu2_train/living_room_0038_out/163.png'], ['data/nyu2_train/living_room_0038_out/169.jpg', 'data/nyu2_train/living_room_0038_out/169.png'], ['data/nyu2_train/living_room_0038_out/168.jpg', 'data/nyu2_train/living_room_0038_out/168.png'], ['data/nyu2_train/living_room_0038_out/104.jpg', 'data/nyu2_train/living_room_0038_out/104.png'], ['data/nyu2_train/living_room_0038_out/134.jpg', 'data/nyu2_train/living_room_0038_out/134.png'], ['data/nyu2_train/living_room_0038_out/100.jpg', 'data/nyu2_train/living_room_0038_out/100.png'], ['data/nyu2_train/living_room_0038_out/64.jpg', 'data/nyu2_train/living_room_0038_out/64.png'], ['data/nyu2_train/living_room_0038_out/147.jpg', 'data/nyu2_train/living_room_0038_out/147.png'], ['data/nyu2_train/living_room_0038_out/103.jpg', 'data/nyu2_train/living_room_0038_out/103.png'], ['data/nyu2_train/living_room_0038_out/67.jpg', 'data/nyu2_train/living_room_0038_out/67.png'], ['data/nyu2_train/living_room_0038_out/114.jpg', 'data/nyu2_train/living_room_0038_out/114.png'], ['data/nyu2_train/living_room_0038_out/8.jpg', 'data/nyu2_train/living_room_0038_out/8.png'], ['data/nyu2_train/living_room_0038_out/127.jpg', 'data/nyu2_train/living_room_0038_out/127.png'], ['data/nyu2_train/living_room_0038_out/43.jpg', 'data/nyu2_train/living_room_0038_out/43.png'], ['data/nyu2_train/living_room_0038_out/144.jpg', 'data/nyu2_train/living_room_0038_out/144.png'], ['data/nyu2_train/living_room_0038_out/17.jpg', 'data/nyu2_train/living_room_0038_out/17.png'], ['data/nyu2_train/living_room_0038_out/151.jpg', 'data/nyu2_train/living_room_0038_out/151.png'], ['data/nyu2_train/living_room_0038_out/35.jpg', 'data/nyu2_train/living_room_0038_out/35.png'], ['data/nyu2_train/living_room_0038_out/40.jpg', 'data/nyu2_train/living_room_0038_out/40.png'], ['data/nyu2_train/living_room_0038_out/55.jpg', 'data/nyu2_train/living_room_0038_out/55.png'], ['data/nyu2_train/living_room_0038_out/95.jpg', 'data/nyu2_train/living_room_0038_out/95.png'], ['data/nyu2_train/living_room_0038_out/45.jpg', 'data/nyu2_train/living_room_0038_out/45.png'], ['data/nyu2_train/living_room_0038_out/82.jpg', 'data/nyu2_train/living_room_0038_out/82.png'], ['data/nyu2_train/living_room_0038_out/108.jpg', 'data/nyu2_train/living_room_0038_out/108.png'], ['data/nyu2_train/living_room_0038_out/79.jpg', 'data/nyu2_train/living_room_0038_out/79.png'], ['data/nyu2_train/living_room_0038_out/31.jpg', 'data/nyu2_train/living_room_0038_out/31.png'], ['data/nyu2_train/living_room_0038_out/137.jpg', 'data/nyu2_train/living_room_0038_out/137.png'], ['data/nyu2_train/living_room_0038_out/47.jpg', 'data/nyu2_train/living_room_0038_out/47.png'], ['data/nyu2_train/living_room_0038_out/111.jpg', 'data/nyu2_train/living_room_0038_out/111.png'], ['data/nyu2_train/living_room_0038_out/41.jpg', 'data/nyu2_train/living_room_0038_out/41.png'], ['data/nyu2_train/living_room_0038_out/50.jpg', 'data/nyu2_train/living_room_0038_out/50.png'], ['data/nyu2_train/living_room_0038_out/140.jpg', 'data/nyu2_train/living_room_0038_out/140.png'], ['data/nyu2_train/living_room_0038_out/19.jpg', 'data/nyu2_train/living_room_0038_out/19.png'], ['data/nyu2_train/living_room_0038_out/58.jpg', 'data/nyu2_train/living_room_0038_out/58.png'], ['data/nyu2_train/living_room_0038_out/98.jpg', 'data/nyu2_train/living_room_0038_out/98.png'], ['data/nyu2_train/living_room_0038_out/76.jpg', 'data/nyu2_train/living_room_0038_out/76.png'], ['data/nyu2_train/living_room_0038_out/124.jpg', 'data/nyu2_train/living_room_0038_out/124.png'], ['data/nyu2_train/living_room_0038_out/128.jpg', 'data/nyu2_train/living_room_0038_out/128.png'], ['data/nyu2_train/living_room_0038_out/170.jpg', 'data/nyu2_train/living_room_0038_out/170.png'], ['data/nyu2_train/living_room_0038_out/149.jpg', 'data/nyu2_train/living_room_0038_out/149.png'], ['data/nyu2_train/living_room_0038_out/69.jpg', 'data/nyu2_train/living_room_0038_out/69.png'], ['data/nyu2_train/living_room_0038_out/155.jpg', 'data/nyu2_train/living_room_0038_out/155.png'], ['data/nyu2_train/living_room_0038_out/5.jpg', 'data/nyu2_train/living_room_0038_out/5.png'], ['data/nyu2_train/living_room_0038_out/131.jpg', 'data/nyu2_train/living_room_0038_out/131.png'], ['data/nyu2_train/living_room_0038_out/101.jpg', 'data/nyu2_train/living_room_0038_out/101.png'], ['data/nyu2_train/living_room_0038_out/112.jpg', 'data/nyu2_train/living_room_0038_out/112.png'], ['data/nyu2_train/living_room_0038_out/1.jpg', 'data/nyu2_train/living_room_0038_out/1.png'], ['data/nyu2_train/living_room_0038_out/148.jpg', 'data/nyu2_train/living_room_0038_out/148.png'], ['data/nyu2_train/living_room_0038_out/84.jpg', 'data/nyu2_train/living_room_0038_out/84.png'], ['data/nyu2_train/living_room_0038_out/92.jpg', 'data/nyu2_train/living_room_0038_out/92.png'], ['data/nyu2_train/living_room_0038_out/133.jpg', 'data/nyu2_train/living_room_0038_out/133.png'], ['data/nyu2_train/living_room_0038_out/150.jpg', 'data/nyu2_train/living_room_0038_out/150.png'], ['data/nyu2_train/living_room_0038_out/107.jpg', 'data/nyu2_train/living_room_0038_out/107.png'], ['data/nyu2_train/living_room_0038_out/136.jpg', 'data/nyu2_train/living_room_0038_out/136.png'], ['data/nyu2_train/living_room_0038_out/51.jpg', 'data/nyu2_train/living_room_0038_out/51.png'], ['data/nyu2_train/living_room_0038_out/7.jpg', 'data/nyu2_train/living_room_0038_out/7.png'], ['data/nyu2_train/living_room_0038_out/97.jpg', 'data/nyu2_train/living_room_0038_out/97.png'], ['data/nyu2_train/living_room_0038_out/15.jpg', 'data/nyu2_train/living_room_0038_out/15.png'], ['data/nyu2_train/living_room_0038_out/156.jpg', 'data/nyu2_train/living_room_0038_out/156.png'], ['data/nyu2_train/living_room_0038_out/77.jpg', 'data/nyu2_train/living_room_0038_out/77.png'], ['data/nyu2_train/living_room_0038_out/117.jpg', 'data/nyu2_train/living_room_0038_out/117.png'], ['data/nyu2_train/living_room_0038_out/125.jpg', 'data/nyu2_train/living_room_0038_out/125.png'], ['data/nyu2_train/living_room_0038_out/89.jpg', 'data/nyu2_train/living_room_0038_out/89.png'], ['data/nyu2_train/living_room_0038_out/102.jpg', 'data/nyu2_train/living_room_0038_out/102.png'], ['data/nyu2_train/living_room_0038_out/99.jpg', 'data/nyu2_train/living_room_0038_out/99.png'], ['data/nyu2_train/living_room_0038_out/72.jpg', 'data/nyu2_train/living_room_0038_out/72.png'], ['data/nyu2_train/living_room_0038_out/157.jpg', 'data/nyu2_train/living_room_0038_out/157.png'], ['data/nyu2_train/living_room_0038_out/81.jpg', 'data/nyu2_train/living_room_0038_out/81.png'], ['data/nyu2_train/living_room_0038_out/33.jpg', 'data/nyu2_train/living_room_0038_out/33.png'], ['data/nyu2_train/living_room_0038_out/27.jpg', 'data/nyu2_train/living_room_0038_out/27.png'], ['data/nyu2_train/living_room_0038_out/139.jpg', 'data/nyu2_train/living_room_0038_out/139.png'], ['data/nyu2_train/living_room_0038_out/38.jpg', 'data/nyu2_train/living_room_0038_out/38.png'], ['data/nyu2_train/living_room_0038_out/154.jpg', 'data/nyu2_train/living_room_0038_out/154.png'], ['data/nyu2_train/living_room_0038_out/78.jpg', 'data/nyu2_train/living_room_0038_out/78.png'], ['data/nyu2_train/living_room_0038_out/73.jpg', 'data/nyu2_train/living_room_0038_out/73.png'], ['data/nyu2_train/living_room_0038_out/159.jpg', 'data/nyu2_train/living_room_0038_out/159.png'], ['data/nyu2_train/living_room_0038_out/110.jpg', 'data/nyu2_train/living_room_0038_out/110.png'], ['data/nyu2_train/living_room_0038_out/143.jpg', 'data/nyu2_train/living_room_0038_out/143.png'], ['data/nyu2_train/living_room_0038_out/83.jpg', 'data/nyu2_train/living_room_0038_out/83.png'], ['data/nyu2_train/living_room_0038_out/87.jpg', 'data/nyu2_train/living_room_0038_out/87.png'], ['data/nyu2_train/living_room_0038_out/59.jpg', 'data/nyu2_train/living_room_0038_out/59.png'], ['data/nyu2_train/living_room_0038_out/36.jpg', 'data/nyu2_train/living_room_0038_out/36.png'], ['data/nyu2_train/living_room_0038_out/20.jpg', 'data/nyu2_train/living_room_0038_out/20.png'], ['data/nyu2_train/living_room_0038_out/165.jpg', 'data/nyu2_train/living_room_0038_out/165.png'], ['data/nyu2_train/living_room_0038_out/106.jpg', 'data/nyu2_train/living_room_0038_out/106.png'], ['data/nyu2_train/living_room_0038_out/145.jpg', 'data/nyu2_train/living_room_0038_out/145.png'], ['data/nyu2_train/living_room_0038_out/65.jpg', 'data/nyu2_train/living_room_0038_out/65.png'], ['data/nyu2_train/living_room_0038_out/120.jpg', 'data/nyu2_train/living_room_0038_out/120.png'], ['data/nyu2_train/living_room_0038_out/86.jpg', 'data/nyu2_train/living_room_0038_out/86.png'], ['data/nyu2_train/living_room_0038_out/44.jpg', 'data/nyu2_train/living_room_0038_out/44.png'], ['data/nyu2_train/living_room_0038_out/63.jpg', 'data/nyu2_train/living_room_0038_out/63.png'], ['data/nyu2_train/living_room_0038_out/116.jpg', 'data/nyu2_train/living_room_0038_out/116.png'], ['data/nyu2_train/living_room_0038_out/61.jpg', 'data/nyu2_train/living_room_0038_out/61.png'], ['data/nyu2_train/living_room_0038_out/32.jpg', 'data/nyu2_train/living_room_0038_out/32.png'], ['data/nyu2_train/living_room_0038_out/123.jpg', 'data/nyu2_train/living_room_0038_out/123.png'], ['data/nyu2_train/living_room_0038_out/23.jpg', 'data/nyu2_train/living_room_0038_out/23.png'], ['data/nyu2_train/living_room_0038_out/74.jpg', 'data/nyu2_train/living_room_0038_out/74.png'], ['data/nyu2_train/living_room_0038_out/164.jpg', 'data/nyu2_train/living_room_0038_out/164.png'], ['data/nyu2_train/living_room_0038_out/141.jpg', 'data/nyu2_train/living_room_0038_out/141.png'], ['data/nyu2_train/living_room_0038_out/52.jpg', 'data/nyu2_train/living_room_0038_out/52.png'], ['data/nyu2_train/living_room_0038_out/66.jpg', 'data/nyu2_train/living_room_0038_out/66.png'], ['data/nyu2_train/living_room_0038_out/24.jpg', 'data/nyu2_train/living_room_0038_out/24.png'], ['data/nyu2_train/living_room_0038_out/22.jpg', 'data/nyu2_train/living_room_0038_out/22.png'], ['data/nyu2_train/living_room_0038_out/166.jpg', 'data/nyu2_train/living_room_0038_out/166.png'], ['data/nyu2_train/living_room_0038_out/80.jpg', 'data/nyu2_train/living_room_0038_out/80.png'], ['data/nyu2_train/living_room_0038_out/96.jpg', 'data/nyu2_train/living_room_0038_out/96.png'], ['data/nyu2_train/living_room_0038_out/26.jpg', 'data/nyu2_train/living_room_0038_out/26.png'], ['data/nyu2_train/living_room_0038_out/88.jpg', 'data/nyu2_train/living_room_0038_out/88.png'], ['data/nyu2_train/living_room_0038_out/9.jpg', 'data/nyu2_train/living_room_0038_out/9.png'], ['data/nyu2_train/living_room_0038_out/109.jpg', 'data/nyu2_train/living_room_0038_out/109.png'], ['data/nyu2_train/living_room_0038_out/90.jpg', 'data/nyu2_train/living_room_0038_out/90.png'], ['data/nyu2_train/bedroom_0047_out/37.jpg', 'data/nyu2_train/bedroom_0047_out/37.png'], ['data/nyu2_train/bedroom_0047_out/6.jpg', 'data/nyu2_train/bedroom_0047_out/6.png'], ['data/nyu2_train/bedroom_0047_out/49.jpg', 'data/nyu2_train/bedroom_0047_out/49.png'], ['data/nyu2_train/bedroom_0047_out/94.jpg', 'data/nyu2_train/bedroom_0047_out/94.png'], ['data/nyu2_train/bedroom_0047_out/18.jpg', 'data/nyu2_train/bedroom_0047_out/18.png'], ['data/nyu2_train/bedroom_0047_out/21.jpg', 'data/nyu2_train/bedroom_0047_out/21.png'], ['data/nyu2_train/bedroom_0047_out/48.jpg', 'data/nyu2_train/bedroom_0047_out/48.png'], ['data/nyu2_train/bedroom_0047_out/75.jpg', 'data/nyu2_train/bedroom_0047_out/75.png'], ['data/nyu2_train/bedroom_0047_out/25.jpg', 'data/nyu2_train/bedroom_0047_out/25.png'], ['data/nyu2_train/bedroom_0047_out/13.jpg', 'data/nyu2_train/bedroom_0047_out/13.png'], ['data/nyu2_train/bedroom_0047_out/68.jpg', 'data/nyu2_train/bedroom_0047_out/68.png'], ['data/nyu2_train/bedroom_0047_out/28.jpg', 'data/nyu2_train/bedroom_0047_out/28.png'], ['data/nyu2_train/bedroom_0047_out/85.jpg', 'data/nyu2_train/bedroom_0047_out/85.png'], ['data/nyu2_train/bedroom_0047_out/57.jpg', 'data/nyu2_train/bedroom_0047_out/57.png'], ['data/nyu2_train/bedroom_0047_out/34.jpg', 'data/nyu2_train/bedroom_0047_out/34.png'], ['data/nyu2_train/bedroom_0047_out/53.jpg', 'data/nyu2_train/bedroom_0047_out/53.png'], ['data/nyu2_train/bedroom_0047_out/11.jpg', 'data/nyu2_train/bedroom_0047_out/11.png'], ['data/nyu2_train/bedroom_0047_out/46.jpg', 'data/nyu2_train/bedroom_0047_out/46.png'], ['data/nyu2_train/bedroom_0047_out/39.jpg', 'data/nyu2_train/bedroom_0047_out/39.png'], ['data/nyu2_train/bedroom_0047_out/71.jpg', 'data/nyu2_train/bedroom_0047_out/71.png'], ['data/nyu2_train/bedroom_0047_out/29.jpg', 'data/nyu2_train/bedroom_0047_out/29.png'], ['data/nyu2_train/bedroom_0047_out/14.jpg', 'data/nyu2_train/bedroom_0047_out/14.png'], ['data/nyu2_train/bedroom_0047_out/30.jpg', 'data/nyu2_train/bedroom_0047_out/30.png'], ['data/nyu2_train/bedroom_0047_out/16.jpg', 'data/nyu2_train/bedroom_0047_out/16.png'], ['data/nyu2_train/bedroom_0047_out/62.jpg', 'data/nyu2_train/bedroom_0047_out/62.png'], ['data/nyu2_train/bedroom_0047_out/56.jpg', 'data/nyu2_train/bedroom_0047_out/56.png'], ['data/nyu2_train/bedroom_0047_out/42.jpg', 'data/nyu2_train/bedroom_0047_out/42.png'], ['data/nyu2_train/bedroom_0047_out/2.jpg', 'data/nyu2_train/bedroom_0047_out/2.png'], ['data/nyu2_train/bedroom_0047_out/91.jpg', 'data/nyu2_train/bedroom_0047_out/91.png'], ['data/nyu2_train/bedroom_0047_out/93.jpg', 'data/nyu2_train/bedroom_0047_out/93.png'], ['data/nyu2_train/bedroom_0047_out/70.jpg', 'data/nyu2_train/bedroom_0047_out/70.png'], ['data/nyu2_train/bedroom_0047_out/60.jpg', 'data/nyu2_train/bedroom_0047_out/60.png'], ['data/nyu2_train/bedroom_0047_out/3.jpg', 'data/nyu2_train/bedroom_0047_out/3.png'], ['data/nyu2_train/bedroom_0047_out/54.jpg', 'data/nyu2_train/bedroom_0047_out/54.png'], ['data/nyu2_train/bedroom_0047_out/10.jpg', 'data/nyu2_train/bedroom_0047_out/10.png'], ['data/nyu2_train/bedroom_0047_out/4.jpg', 'data/nyu2_train/bedroom_0047_out/4.png'], ['data/nyu2_train/bedroom_0047_out/12.jpg', 'data/nyu2_train/bedroom_0047_out/12.png'], ['data/nyu2_train/bedroom_0047_out/64.jpg', 'data/nyu2_train/bedroom_0047_out/64.png'], ['data/nyu2_train/bedroom_0047_out/67.jpg', 'data/nyu2_train/bedroom_0047_out/67.png'], ['data/nyu2_train/bedroom_0047_out/8.jpg', 'data/nyu2_train/bedroom_0047_out/8.png'], ['data/nyu2_train/bedroom_0047_out/43.jpg', 'data/nyu2_train/bedroom_0047_out/43.png'], ['data/nyu2_train/bedroom_0047_out/17.jpg', 'data/nyu2_train/bedroom_0047_out/17.png'], ['data/nyu2_train/bedroom_0047_out/35.jpg', 'data/nyu2_train/bedroom_0047_out/35.png'], ['data/nyu2_train/bedroom_0047_out/40.jpg', 'data/nyu2_train/bedroom_0047_out/40.png'], ['data/nyu2_train/bedroom_0047_out/55.jpg', 'data/nyu2_train/bedroom_0047_out/55.png'], ['data/nyu2_train/bedroom_0047_out/95.jpg', 'data/nyu2_train/bedroom_0047_out/95.png'], ['data/nyu2_train/bedroom_0047_out/45.jpg', 'data/nyu2_train/bedroom_0047_out/45.png'], ['data/nyu2_train/bedroom_0047_out/82.jpg', 'data/nyu2_train/bedroom_0047_out/82.png'], ['data/nyu2_train/bedroom_0047_out/79.jpg', 'data/nyu2_train/bedroom_0047_out/79.png'], ['data/nyu2_train/bedroom_0047_out/31.jpg', 'data/nyu2_train/bedroom_0047_out/31.png'], ['data/nyu2_train/bedroom_0047_out/47.jpg', 'data/nyu2_train/bedroom_0047_out/47.png'], ['data/nyu2_train/bedroom_0047_out/41.jpg', 'data/nyu2_train/bedroom_0047_out/41.png'], ['data/nyu2_train/bedroom_0047_out/50.jpg', 'data/nyu2_train/bedroom_0047_out/50.png'], ['data/nyu2_train/bedroom_0047_out/19.jpg', 'data/nyu2_train/bedroom_0047_out/19.png'], ['data/nyu2_train/bedroom_0047_out/58.jpg', 'data/nyu2_train/bedroom_0047_out/58.png'], ['data/nyu2_train/bedroom_0047_out/76.jpg', 'data/nyu2_train/bedroom_0047_out/76.png'], ['data/nyu2_train/bedroom_0047_out/69.jpg', 'data/nyu2_train/bedroom_0047_out/69.png'], ['data/nyu2_train/bedroom_0047_out/5.jpg', 'data/nyu2_train/bedroom_0047_out/5.png'], ['data/nyu2_train/bedroom_0047_out/1.jpg', 'data/nyu2_train/bedroom_0047_out/1.png'], ['data/nyu2_train/bedroom_0047_out/84.jpg', 'data/nyu2_train/bedroom_0047_out/84.png'], ['data/nyu2_train/bedroom_0047_out/92.jpg', 'data/nyu2_train/bedroom_0047_out/92.png'], ['data/nyu2_train/bedroom_0047_out/51.jpg', 'data/nyu2_train/bedroom_0047_out/51.png'], ['data/nyu2_train/bedroom_0047_out/7.jpg', 'data/nyu2_train/bedroom_0047_out/7.png'], ['data/nyu2_train/bedroom_0047_out/15.jpg', 'data/nyu2_train/bedroom_0047_out/15.png'], ['data/nyu2_train/bedroom_0047_out/77.jpg', 'data/nyu2_train/bedroom_0047_out/77.png'], ['data/nyu2_train/bedroom_0047_out/89.jpg', 'data/nyu2_train/bedroom_0047_out/89.png'], ['data/nyu2_train/bedroom_0047_out/72.jpg', 'data/nyu2_train/bedroom_0047_out/72.png'], ['data/nyu2_train/bedroom_0047_out/81.jpg', 'data/nyu2_train/bedroom_0047_out/81.png'], ['data/nyu2_train/bedroom_0047_out/33.jpg', 'data/nyu2_train/bedroom_0047_out/33.png'], ['data/nyu2_train/bedroom_0047_out/27.jpg', 'data/nyu2_train/bedroom_0047_out/27.png'], ['data/nyu2_train/bedroom_0047_out/38.jpg', 'data/nyu2_train/bedroom_0047_out/38.png'], ['data/nyu2_train/bedroom_0047_out/78.jpg', 'data/nyu2_train/bedroom_0047_out/78.png'], ['data/nyu2_train/bedroom_0047_out/73.jpg', 'data/nyu2_train/bedroom_0047_out/73.png'], ['data/nyu2_train/bedroom_0047_out/83.jpg', 'data/nyu2_train/bedroom_0047_out/83.png'], ['data/nyu2_train/bedroom_0047_out/87.jpg', 'data/nyu2_train/bedroom_0047_out/87.png'], ['data/nyu2_train/bedroom_0047_out/59.jpg', 'data/nyu2_train/bedroom_0047_out/59.png'], ['data/nyu2_train/bedroom_0047_out/36.jpg', 'data/nyu2_train/bedroom_0047_out/36.png'], ['data/nyu2_train/bedroom_0047_out/20.jpg', 'data/nyu2_train/bedroom_0047_out/20.png'], ['data/nyu2_train/bedroom_0047_out/65.jpg', 'data/nyu2_train/bedroom_0047_out/65.png'], ['data/nyu2_train/bedroom_0047_out/86.jpg', 'data/nyu2_train/bedroom_0047_out/86.png'], ['data/nyu2_train/bedroom_0047_out/44.jpg', 'data/nyu2_train/bedroom_0047_out/44.png'], ['data/nyu2_train/bedroom_0047_out/63.jpg', 'data/nyu2_train/bedroom_0047_out/63.png'], ['data/nyu2_train/bedroom_0047_out/61.jpg', 'data/nyu2_train/bedroom_0047_out/61.png'], ['data/nyu2_train/bedroom_0047_out/32.jpg', 'data/nyu2_train/bedroom_0047_out/32.png'], ['data/nyu2_train/bedroom_0047_out/23.jpg', 'data/nyu2_train/bedroom_0047_out/23.png'], ['data/nyu2_train/bedroom_0047_out/74.jpg', 'data/nyu2_train/bedroom_0047_out/74.png'], ['data/nyu2_train/bedroom_0047_out/52.jpg', 'data/nyu2_train/bedroom_0047_out/52.png'], ['data/nyu2_train/bedroom_0047_out/66.jpg', 'data/nyu2_train/bedroom_0047_out/66.png'], ['data/nyu2_train/bedroom_0047_out/24.jpg', 'data/nyu2_train/bedroom_0047_out/24.png'], ['data/nyu2_train/bedroom_0047_out/22.jpg', 'data/nyu2_train/bedroom_0047_out/22.png'], ['data/nyu2_train/bedroom_0047_out/80.jpg', 'data/nyu2_train/bedroom_0047_out/80.png'], ['data/nyu2_train/bedroom_0047_out/26.jpg', 'data/nyu2_train/bedroom_0047_out/26.png'], ['data/nyu2_train/bedroom_0047_out/88.jpg', 'data/nyu2_train/bedroom_0047_out/88.png'], ['data/nyu2_train/bedroom_0047_out/9.jpg', 'data/nyu2_train/bedroom_0047_out/9.png'], ['data/nyu2_train/bedroom_0047_out/90.jpg', 'data/nyu2_train/bedroom_0047_out/90.png'], ['data/nyu2_train/bedroom_0113_out/37.jpg', 'data/nyu2_train/bedroom_0113_out/37.png'], ['data/nyu2_train/bedroom_0113_out/115.jpg', 'data/nyu2_train/bedroom_0113_out/115.png'], ['data/nyu2_train/bedroom_0113_out/6.jpg', 'data/nyu2_train/bedroom_0113_out/6.png'], ['data/nyu2_train/bedroom_0113_out/49.jpg', 'data/nyu2_train/bedroom_0113_out/49.png'], ['data/nyu2_train/bedroom_0113_out/152.jpg', 'data/nyu2_train/bedroom_0113_out/152.png'], ['data/nyu2_train/bedroom_0113_out/142.jpg', 'data/nyu2_train/bedroom_0113_out/142.png'], ['data/nyu2_train/bedroom_0113_out/94.jpg', 'data/nyu2_train/bedroom_0113_out/94.png'], ['data/nyu2_train/bedroom_0113_out/158.jpg', 'data/nyu2_train/bedroom_0113_out/158.png'], ['data/nyu2_train/bedroom_0113_out/18.jpg', 'data/nyu2_train/bedroom_0113_out/18.png'], ['data/nyu2_train/bedroom_0113_out/21.jpg', 'data/nyu2_train/bedroom_0113_out/21.png'], ['data/nyu2_train/bedroom_0113_out/48.jpg', 'data/nyu2_train/bedroom_0113_out/48.png'], ['data/nyu2_train/bedroom_0113_out/75.jpg', 'data/nyu2_train/bedroom_0113_out/75.png'], ['data/nyu2_train/bedroom_0113_out/25.jpg', 'data/nyu2_train/bedroom_0113_out/25.png'], ['data/nyu2_train/bedroom_0113_out/13.jpg', 'data/nyu2_train/bedroom_0113_out/13.png'], ['data/nyu2_train/bedroom_0113_out/68.jpg', 'data/nyu2_train/bedroom_0113_out/68.png'], ['data/nyu2_train/bedroom_0113_out/28.jpg', 'data/nyu2_train/bedroom_0113_out/28.png'], ['data/nyu2_train/bedroom_0113_out/161.jpg', 'data/nyu2_train/bedroom_0113_out/161.png'], ['data/nyu2_train/bedroom_0113_out/85.jpg', 'data/nyu2_train/bedroom_0113_out/85.png'], ['data/nyu2_train/bedroom_0113_out/57.jpg', 'data/nyu2_train/bedroom_0113_out/57.png'], ['data/nyu2_train/bedroom_0113_out/34.jpg', 'data/nyu2_train/bedroom_0113_out/34.png'], ['data/nyu2_train/bedroom_0113_out/118.jpg', 'data/nyu2_train/bedroom_0113_out/118.png'], ['data/nyu2_train/bedroom_0113_out/53.jpg', 'data/nyu2_train/bedroom_0113_out/53.png'], ['data/nyu2_train/bedroom_0113_out/11.jpg', 'data/nyu2_train/bedroom_0113_out/11.png'], ['data/nyu2_train/bedroom_0113_out/46.jpg', 'data/nyu2_train/bedroom_0113_out/46.png'], ['data/nyu2_train/bedroom_0113_out/135.jpg', 'data/nyu2_train/bedroom_0113_out/135.png'], ['data/nyu2_train/bedroom_0113_out/39.jpg', 'data/nyu2_train/bedroom_0113_out/39.png'], ['data/nyu2_train/bedroom_0113_out/71.jpg', 'data/nyu2_train/bedroom_0113_out/71.png'], ['data/nyu2_train/bedroom_0113_out/29.jpg', 'data/nyu2_train/bedroom_0113_out/29.png'], ['data/nyu2_train/bedroom_0113_out/14.jpg', 'data/nyu2_train/bedroom_0113_out/14.png'], ['data/nyu2_train/bedroom_0113_out/113.jpg', 'data/nyu2_train/bedroom_0113_out/113.png'], ['data/nyu2_train/bedroom_0113_out/138.jpg', 'data/nyu2_train/bedroom_0113_out/138.png'], ['data/nyu2_train/bedroom_0113_out/30.jpg', 'data/nyu2_train/bedroom_0113_out/30.png'], ['data/nyu2_train/bedroom_0113_out/16.jpg', 'data/nyu2_train/bedroom_0113_out/16.png'], ['data/nyu2_train/bedroom_0113_out/105.jpg', 'data/nyu2_train/bedroom_0113_out/105.png'], ['data/nyu2_train/bedroom_0113_out/62.jpg', 'data/nyu2_train/bedroom_0113_out/62.png'], ['data/nyu2_train/bedroom_0113_out/56.jpg', 'data/nyu2_train/bedroom_0113_out/56.png'], ['data/nyu2_train/bedroom_0113_out/119.jpg', 'data/nyu2_train/bedroom_0113_out/119.png'], ['data/nyu2_train/bedroom_0113_out/42.jpg', 'data/nyu2_train/bedroom_0113_out/42.png'], ['data/nyu2_train/bedroom_0113_out/2.jpg', 'data/nyu2_train/bedroom_0113_out/2.png'], ['data/nyu2_train/bedroom_0113_out/129.jpg', 'data/nyu2_train/bedroom_0113_out/129.png'], ['data/nyu2_train/bedroom_0113_out/160.jpg', 'data/nyu2_train/bedroom_0113_out/160.png'], ['data/nyu2_train/bedroom_0113_out/126.jpg', 'data/nyu2_train/bedroom_0113_out/126.png'], ['data/nyu2_train/bedroom_0113_out/91.jpg', 'data/nyu2_train/bedroom_0113_out/91.png'], ['data/nyu2_train/bedroom_0113_out/162.jpg', 'data/nyu2_train/bedroom_0113_out/162.png'], ['data/nyu2_train/bedroom_0113_out/93.jpg', 'data/nyu2_train/bedroom_0113_out/93.png'], ['data/nyu2_train/bedroom_0113_out/70.jpg', 'data/nyu2_train/bedroom_0113_out/70.png'], ['data/nyu2_train/bedroom_0113_out/60.jpg', 'data/nyu2_train/bedroom_0113_out/60.png'], ['data/nyu2_train/bedroom_0113_out/3.jpg', 'data/nyu2_train/bedroom_0113_out/3.png'], ['data/nyu2_train/bedroom_0113_out/132.jpg', 'data/nyu2_train/bedroom_0113_out/132.png'], ['data/nyu2_train/bedroom_0113_out/54.jpg', 'data/nyu2_train/bedroom_0113_out/54.png'], ['data/nyu2_train/bedroom_0113_out/146.jpg', 'data/nyu2_train/bedroom_0113_out/146.png'], ['data/nyu2_train/bedroom_0113_out/121.jpg', 'data/nyu2_train/bedroom_0113_out/121.png'], ['data/nyu2_train/bedroom_0113_out/122.jpg', 'data/nyu2_train/bedroom_0113_out/122.png'], ['data/nyu2_train/bedroom_0113_out/130.jpg', 'data/nyu2_train/bedroom_0113_out/130.png'], ['data/nyu2_train/bedroom_0113_out/10.jpg', 'data/nyu2_train/bedroom_0113_out/10.png'], ['data/nyu2_train/bedroom_0113_out/4.jpg', 'data/nyu2_train/bedroom_0113_out/4.png'], ['data/nyu2_train/bedroom_0113_out/153.jpg', 'data/nyu2_train/bedroom_0113_out/153.png'], ['data/nyu2_train/bedroom_0113_out/12.jpg', 'data/nyu2_train/bedroom_0113_out/12.png'], ['data/nyu2_train/bedroom_0113_out/163.jpg', 'data/nyu2_train/bedroom_0113_out/163.png'], ['data/nyu2_train/bedroom_0113_out/104.jpg', 'data/nyu2_train/bedroom_0113_out/104.png'], ['data/nyu2_train/bedroom_0113_out/134.jpg', 'data/nyu2_train/bedroom_0113_out/134.png'], ['data/nyu2_train/bedroom_0113_out/100.jpg', 'data/nyu2_train/bedroom_0113_out/100.png'], ['data/nyu2_train/bedroom_0113_out/64.jpg', 'data/nyu2_train/bedroom_0113_out/64.png'], ['data/nyu2_train/bedroom_0113_out/147.jpg', 'data/nyu2_train/bedroom_0113_out/147.png'], ['data/nyu2_train/bedroom_0113_out/103.jpg', 'data/nyu2_train/bedroom_0113_out/103.png'], ['data/nyu2_train/bedroom_0113_out/67.jpg', 'data/nyu2_train/bedroom_0113_out/67.png'], ['data/nyu2_train/bedroom_0113_out/114.jpg', 'data/nyu2_train/bedroom_0113_out/114.png'], ['data/nyu2_train/bedroom_0113_out/8.jpg', 'data/nyu2_train/bedroom_0113_out/8.png'], ['data/nyu2_train/bedroom_0113_out/127.jpg', 'data/nyu2_train/bedroom_0113_out/127.png'], ['data/nyu2_train/bedroom_0113_out/43.jpg', 'data/nyu2_train/bedroom_0113_out/43.png'], ['data/nyu2_train/bedroom_0113_out/144.jpg', 'data/nyu2_train/bedroom_0113_out/144.png'], ['data/nyu2_train/bedroom_0113_out/17.jpg', 'data/nyu2_train/bedroom_0113_out/17.png'], ['data/nyu2_train/bedroom_0113_out/151.jpg', 'data/nyu2_train/bedroom_0113_out/151.png'], ['data/nyu2_train/bedroom_0113_out/35.jpg', 'data/nyu2_train/bedroom_0113_out/35.png'], ['data/nyu2_train/bedroom_0113_out/40.jpg', 'data/nyu2_train/bedroom_0113_out/40.png'], ['data/nyu2_train/bedroom_0113_out/55.jpg', 'data/nyu2_train/bedroom_0113_out/55.png'], ['data/nyu2_train/bedroom_0113_out/95.jpg', 'data/nyu2_train/bedroom_0113_out/95.png'], ['data/nyu2_train/bedroom_0113_out/45.jpg', 'data/nyu2_train/bedroom_0113_out/45.png'], ['data/nyu2_train/bedroom_0113_out/82.jpg', 'data/nyu2_train/bedroom_0113_out/82.png'], ['data/nyu2_train/bedroom_0113_out/108.jpg', 'data/nyu2_train/bedroom_0113_out/108.png'], ['data/nyu2_train/bedroom_0113_out/79.jpg', 'data/nyu2_train/bedroom_0113_out/79.png'], ['data/nyu2_train/bedroom_0113_out/31.jpg', 'data/nyu2_train/bedroom_0113_out/31.png'], ['data/nyu2_train/bedroom_0113_out/137.jpg', 'data/nyu2_train/bedroom_0113_out/137.png'], ['data/nyu2_train/bedroom_0113_out/47.jpg', 'data/nyu2_train/bedroom_0113_out/47.png'], ['data/nyu2_train/bedroom_0113_out/111.jpg', 'data/nyu2_train/bedroom_0113_out/111.png'], ['data/nyu2_train/bedroom_0113_out/41.jpg', 'data/nyu2_train/bedroom_0113_out/41.png'], ['data/nyu2_train/bedroom_0113_out/50.jpg', 'data/nyu2_train/bedroom_0113_out/50.png'], ['data/nyu2_train/bedroom_0113_out/140.jpg', 'data/nyu2_train/bedroom_0113_out/140.png'], ['data/nyu2_train/bedroom_0113_out/19.jpg', 'data/nyu2_train/bedroom_0113_out/19.png'], ['data/nyu2_train/bedroom_0113_out/58.jpg', 'data/nyu2_train/bedroom_0113_out/58.png'], ['data/nyu2_train/bedroom_0113_out/98.jpg', 'data/nyu2_train/bedroom_0113_out/98.png'], ['data/nyu2_train/bedroom_0113_out/76.jpg', 'data/nyu2_train/bedroom_0113_out/76.png'], ['data/nyu2_train/bedroom_0113_out/124.jpg', 'data/nyu2_train/bedroom_0113_out/124.png'], ['data/nyu2_train/bedroom_0113_out/128.jpg', 'data/nyu2_train/bedroom_0113_out/128.png'], ['data/nyu2_train/bedroom_0113_out/149.jpg', 'data/nyu2_train/bedroom_0113_out/149.png'], ['data/nyu2_train/bedroom_0113_out/69.jpg', 'data/nyu2_train/bedroom_0113_out/69.png'], ['data/nyu2_train/bedroom_0113_out/155.jpg', 'data/nyu2_train/bedroom_0113_out/155.png'], ['data/nyu2_train/bedroom_0113_out/5.jpg', 'data/nyu2_train/bedroom_0113_out/5.png'], ['data/nyu2_train/bedroom_0113_out/131.jpg', 'data/nyu2_train/bedroom_0113_out/131.png'], ['data/nyu2_train/bedroom_0113_out/101.jpg', 'data/nyu2_train/bedroom_0113_out/101.png'], ['data/nyu2_train/bedroom_0113_out/112.jpg', 'data/nyu2_train/bedroom_0113_out/112.png'], ['data/nyu2_train/bedroom_0113_out/1.jpg', 'data/nyu2_train/bedroom_0113_out/1.png'], ['data/nyu2_train/bedroom_0113_out/148.jpg', 'data/nyu2_train/bedroom_0113_out/148.png'], ['data/nyu2_train/bedroom_0113_out/84.jpg', 'data/nyu2_train/bedroom_0113_out/84.png'], ['data/nyu2_train/bedroom_0113_out/92.jpg', 'data/nyu2_train/bedroom_0113_out/92.png'], ['data/nyu2_train/bedroom_0113_out/133.jpg', 'data/nyu2_train/bedroom_0113_out/133.png'], ['data/nyu2_train/bedroom_0113_out/150.jpg', 'data/nyu2_train/bedroom_0113_out/150.png'], ['data/nyu2_train/bedroom_0113_out/107.jpg', 'data/nyu2_train/bedroom_0113_out/107.png'], ['data/nyu2_train/bedroom_0113_out/136.jpg', 'data/nyu2_train/bedroom_0113_out/136.png'], ['data/nyu2_train/bedroom_0113_out/51.jpg', 'data/nyu2_train/bedroom_0113_out/51.png'], ['data/nyu2_train/bedroom_0113_out/7.jpg', 'data/nyu2_train/bedroom_0113_out/7.png'], ['data/nyu2_train/bedroom_0113_out/97.jpg', 'data/nyu2_train/bedroom_0113_out/97.png'], ['data/nyu2_train/bedroom_0113_out/15.jpg', 'data/nyu2_train/bedroom_0113_out/15.png'], ['data/nyu2_train/bedroom_0113_out/156.jpg', 'data/nyu2_train/bedroom_0113_out/156.png'], ['data/nyu2_train/bedroom_0113_out/77.jpg', 'data/nyu2_train/bedroom_0113_out/77.png'], ['data/nyu2_train/bedroom_0113_out/117.jpg', 'data/nyu2_train/bedroom_0113_out/117.png'], ['data/nyu2_train/bedroom_0113_out/125.jpg', 'data/nyu2_train/bedroom_0113_out/125.png'], ['data/nyu2_train/bedroom_0113_out/89.jpg', 'data/nyu2_train/bedroom_0113_out/89.png'], ['data/nyu2_train/bedroom_0113_out/102.jpg', 'data/nyu2_train/bedroom_0113_out/102.png'], ['data/nyu2_train/bedroom_0113_out/99.jpg', 'data/nyu2_train/bedroom_0113_out/99.png'], ['data/nyu2_train/bedroom_0113_out/72.jpg', 'data/nyu2_train/bedroom_0113_out/72.png'], ['data/nyu2_train/bedroom_0113_out/157.jpg', 'data/nyu2_train/bedroom_0113_out/157.png'], ['data/nyu2_train/bedroom_0113_out/81.jpg', 'data/nyu2_train/bedroom_0113_out/81.png'], ['data/nyu2_train/bedroom_0113_out/33.jpg', 'data/nyu2_train/bedroom_0113_out/33.png'], ['data/nyu2_train/bedroom_0113_out/27.jpg', 'data/nyu2_train/bedroom_0113_out/27.png'], ['data/nyu2_train/bedroom_0113_out/139.jpg', 'data/nyu2_train/bedroom_0113_out/139.png'], ['data/nyu2_train/bedroom_0113_out/38.jpg', 'data/nyu2_train/bedroom_0113_out/38.png'], ['data/nyu2_train/bedroom_0113_out/154.jpg', 'data/nyu2_train/bedroom_0113_out/154.png'], ['data/nyu2_train/bedroom_0113_out/78.jpg', 'data/nyu2_train/bedroom_0113_out/78.png'], ['data/nyu2_train/bedroom_0113_out/73.jpg', 'data/nyu2_train/bedroom_0113_out/73.png'], ['data/nyu2_train/bedroom_0113_out/159.jpg', 'data/nyu2_train/bedroom_0113_out/159.png'], ['data/nyu2_train/bedroom_0113_out/110.jpg', 'data/nyu2_train/bedroom_0113_out/110.png'], ['data/nyu2_train/bedroom_0113_out/143.jpg', 'data/nyu2_train/bedroom_0113_out/143.png'], ['data/nyu2_train/bedroom_0113_out/83.jpg', 'data/nyu2_train/bedroom_0113_out/83.png'], ['data/nyu2_train/bedroom_0113_out/87.jpg', 'data/nyu2_train/bedroom_0113_out/87.png'], ['data/nyu2_train/bedroom_0113_out/59.jpg', 'data/nyu2_train/bedroom_0113_out/59.png'], ['data/nyu2_train/bedroom_0113_out/36.jpg', 'data/nyu2_train/bedroom_0113_out/36.png'], ['data/nyu2_train/bedroom_0113_out/20.jpg', 'data/nyu2_train/bedroom_0113_out/20.png'], ['data/nyu2_train/bedroom_0113_out/165.jpg', 'data/nyu2_train/bedroom_0113_out/165.png'], ['data/nyu2_train/bedroom_0113_out/106.jpg', 'data/nyu2_train/bedroom_0113_out/106.png'], ['data/nyu2_train/bedroom_0113_out/145.jpg', 'data/nyu2_train/bedroom_0113_out/145.png'], ['data/nyu2_train/bedroom_0113_out/65.jpg', 'data/nyu2_train/bedroom_0113_out/65.png'], ['data/nyu2_train/bedroom_0113_out/120.jpg', 'data/nyu2_train/bedroom_0113_out/120.png'], ['data/nyu2_train/bedroom_0113_out/86.jpg', 'data/nyu2_train/bedroom_0113_out/86.png'], ['data/nyu2_train/bedroom_0113_out/44.jpg', 'data/nyu2_train/bedroom_0113_out/44.png'], ['data/nyu2_train/bedroom_0113_out/63.jpg', 'data/nyu2_train/bedroom_0113_out/63.png'], ['data/nyu2_train/bedroom_0113_out/116.jpg', 'data/nyu2_train/bedroom_0113_out/116.png'], ['data/nyu2_train/bedroom_0113_out/61.jpg', 'data/nyu2_train/bedroom_0113_out/61.png'], ['data/nyu2_train/bedroom_0113_out/32.jpg', 'data/nyu2_train/bedroom_0113_out/32.png'], ['data/nyu2_train/bedroom_0113_out/123.jpg', 'data/nyu2_train/bedroom_0113_out/123.png'], ['data/nyu2_train/bedroom_0113_out/23.jpg', 'data/nyu2_train/bedroom_0113_out/23.png'], ['data/nyu2_train/bedroom_0113_out/74.jpg', 'data/nyu2_train/bedroom_0113_out/74.png'], ['data/nyu2_train/bedroom_0113_out/164.jpg', 'data/nyu2_train/bedroom_0113_out/164.png'], ['data/nyu2_train/bedroom_0113_out/141.jpg', 'data/nyu2_train/bedroom_0113_out/141.png'], ['data/nyu2_train/bedroom_0113_out/52.jpg', 'data/nyu2_train/bedroom_0113_out/52.png'], ['data/nyu2_train/bedroom_0113_out/66.jpg', 'data/nyu2_train/bedroom_0113_out/66.png'], ['data/nyu2_train/bedroom_0113_out/24.jpg', 'data/nyu2_train/bedroom_0113_out/24.png'], ['data/nyu2_train/bedroom_0113_out/22.jpg', 'data/nyu2_train/bedroom_0113_out/22.png'], ['data/nyu2_train/bedroom_0113_out/166.jpg', 'data/nyu2_train/bedroom_0113_out/166.png'], ['data/nyu2_train/bedroom_0113_out/80.jpg', 'data/nyu2_train/bedroom_0113_out/80.png'], ['data/nyu2_train/bedroom_0113_out/96.jpg', 'data/nyu2_train/bedroom_0113_out/96.png'], ['data/nyu2_train/bedroom_0113_out/26.jpg', 'data/nyu2_train/bedroom_0113_out/26.png'], ['data/nyu2_train/bedroom_0113_out/88.jpg', 'data/nyu2_train/bedroom_0113_out/88.png'], ['data/nyu2_train/bedroom_0113_out/9.jpg', 'data/nyu2_train/bedroom_0113_out/9.png'], ['data/nyu2_train/bedroom_0113_out/109.jpg', 'data/nyu2_train/bedroom_0113_out/109.png'], ['data/nyu2_train/bedroom_0113_out/90.jpg', 'data/nyu2_train/bedroom_0113_out/90.png'], ['data/nyu2_train/kitchen_0011b_out/37.jpg', 'data/nyu2_train/kitchen_0011b_out/37.png'], ['data/nyu2_train/kitchen_0011b_out/115.jpg', 'data/nyu2_train/kitchen_0011b_out/115.png'], ['data/nyu2_train/kitchen_0011b_out/6.jpg', 'data/nyu2_train/kitchen_0011b_out/6.png'], ['data/nyu2_train/kitchen_0011b_out/49.jpg', 'data/nyu2_train/kitchen_0011b_out/49.png'], ['data/nyu2_train/kitchen_0011b_out/94.jpg', 'data/nyu2_train/kitchen_0011b_out/94.png'], ['data/nyu2_train/kitchen_0011b_out/18.jpg', 'data/nyu2_train/kitchen_0011b_out/18.png'], ['data/nyu2_train/kitchen_0011b_out/21.jpg', 'data/nyu2_train/kitchen_0011b_out/21.png'], ['data/nyu2_train/kitchen_0011b_out/48.jpg', 'data/nyu2_train/kitchen_0011b_out/48.png'], ['data/nyu2_train/kitchen_0011b_out/75.jpg', 'data/nyu2_train/kitchen_0011b_out/75.png'], ['data/nyu2_train/kitchen_0011b_out/25.jpg', 'data/nyu2_train/kitchen_0011b_out/25.png'], ['data/nyu2_train/kitchen_0011b_out/13.jpg', 'data/nyu2_train/kitchen_0011b_out/13.png'], ['data/nyu2_train/kitchen_0011b_out/68.jpg', 'data/nyu2_train/kitchen_0011b_out/68.png'], ['data/nyu2_train/kitchen_0011b_out/28.jpg', 'data/nyu2_train/kitchen_0011b_out/28.png'], ['data/nyu2_train/kitchen_0011b_out/85.jpg', 'data/nyu2_train/kitchen_0011b_out/85.png'], ['data/nyu2_train/kitchen_0011b_out/57.jpg', 'data/nyu2_train/kitchen_0011b_out/57.png'], ['data/nyu2_train/kitchen_0011b_out/34.jpg', 'data/nyu2_train/kitchen_0011b_out/34.png'], ['data/nyu2_train/kitchen_0011b_out/118.jpg', 'data/nyu2_train/kitchen_0011b_out/118.png'], ['data/nyu2_train/kitchen_0011b_out/53.jpg', 'data/nyu2_train/kitchen_0011b_out/53.png'], ['data/nyu2_train/kitchen_0011b_out/11.jpg', 'data/nyu2_train/kitchen_0011b_out/11.png'], ['data/nyu2_train/kitchen_0011b_out/46.jpg', 'data/nyu2_train/kitchen_0011b_out/46.png'], ['data/nyu2_train/kitchen_0011b_out/39.jpg', 'data/nyu2_train/kitchen_0011b_out/39.png'], ['data/nyu2_train/kitchen_0011b_out/71.jpg', 'data/nyu2_train/kitchen_0011b_out/71.png'], ['data/nyu2_train/kitchen_0011b_out/29.jpg', 'data/nyu2_train/kitchen_0011b_out/29.png'], ['data/nyu2_train/kitchen_0011b_out/14.jpg', 'data/nyu2_train/kitchen_0011b_out/14.png'], ['data/nyu2_train/kitchen_0011b_out/113.jpg', 'data/nyu2_train/kitchen_0011b_out/113.png'], ['data/nyu2_train/kitchen_0011b_out/30.jpg', 'data/nyu2_train/kitchen_0011b_out/30.png'], ['data/nyu2_train/kitchen_0011b_out/16.jpg', 'data/nyu2_train/kitchen_0011b_out/16.png'], ['data/nyu2_train/kitchen_0011b_out/105.jpg', 'data/nyu2_train/kitchen_0011b_out/105.png'], ['data/nyu2_train/kitchen_0011b_out/62.jpg', 'data/nyu2_train/kitchen_0011b_out/62.png'], ['data/nyu2_train/kitchen_0011b_out/56.jpg', 'data/nyu2_train/kitchen_0011b_out/56.png'], ['data/nyu2_train/kitchen_0011b_out/119.jpg', 'data/nyu2_train/kitchen_0011b_out/119.png'], ['data/nyu2_train/kitchen_0011b_out/42.jpg', 'data/nyu2_train/kitchen_0011b_out/42.png'], ['data/nyu2_train/kitchen_0011b_out/2.jpg', 'data/nyu2_train/kitchen_0011b_out/2.png'], ['data/nyu2_train/kitchen_0011b_out/91.jpg', 'data/nyu2_train/kitchen_0011b_out/91.png'], ['data/nyu2_train/kitchen_0011b_out/93.jpg', 'data/nyu2_train/kitchen_0011b_out/93.png'], ['data/nyu2_train/kitchen_0011b_out/70.jpg', 'data/nyu2_train/kitchen_0011b_out/70.png'], ['data/nyu2_train/kitchen_0011b_out/60.jpg', 'data/nyu2_train/kitchen_0011b_out/60.png'], ['data/nyu2_train/kitchen_0011b_out/3.jpg', 'data/nyu2_train/kitchen_0011b_out/3.png'], ['data/nyu2_train/kitchen_0011b_out/54.jpg', 'data/nyu2_train/kitchen_0011b_out/54.png'], ['data/nyu2_train/kitchen_0011b_out/121.jpg', 'data/nyu2_train/kitchen_0011b_out/121.png'], ['data/nyu2_train/kitchen_0011b_out/122.jpg', 'data/nyu2_train/kitchen_0011b_out/122.png'], ['data/nyu2_train/kitchen_0011b_out/10.jpg', 'data/nyu2_train/kitchen_0011b_out/10.png'], ['data/nyu2_train/kitchen_0011b_out/4.jpg', 'data/nyu2_train/kitchen_0011b_out/4.png'], ['data/nyu2_train/kitchen_0011b_out/12.jpg', 'data/nyu2_train/kitchen_0011b_out/12.png'], ['data/nyu2_train/kitchen_0011b_out/104.jpg', 'data/nyu2_train/kitchen_0011b_out/104.png'], ['data/nyu2_train/kitchen_0011b_out/100.jpg', 'data/nyu2_train/kitchen_0011b_out/100.png'], ['data/nyu2_train/kitchen_0011b_out/64.jpg', 'data/nyu2_train/kitchen_0011b_out/64.png'], ['data/nyu2_train/kitchen_0011b_out/103.jpg', 'data/nyu2_train/kitchen_0011b_out/103.png'], ['data/nyu2_train/kitchen_0011b_out/67.jpg', 'data/nyu2_train/kitchen_0011b_out/67.png'], ['data/nyu2_train/kitchen_0011b_out/114.jpg', 'data/nyu2_train/kitchen_0011b_out/114.png'], ['data/nyu2_train/kitchen_0011b_out/8.jpg', 'data/nyu2_train/kitchen_0011b_out/8.png'], ['data/nyu2_train/kitchen_0011b_out/43.jpg', 'data/nyu2_train/kitchen_0011b_out/43.png'], ['data/nyu2_train/kitchen_0011b_out/17.jpg', 'data/nyu2_train/kitchen_0011b_out/17.png'], ['data/nyu2_train/kitchen_0011b_out/35.jpg', 'data/nyu2_train/kitchen_0011b_out/35.png'], ['data/nyu2_train/kitchen_0011b_out/40.jpg', 'data/nyu2_train/kitchen_0011b_out/40.png'], ['data/nyu2_train/kitchen_0011b_out/55.jpg', 'data/nyu2_train/kitchen_0011b_out/55.png'], ['data/nyu2_train/kitchen_0011b_out/95.jpg', 'data/nyu2_train/kitchen_0011b_out/95.png'], ['data/nyu2_train/kitchen_0011b_out/45.jpg', 'data/nyu2_train/kitchen_0011b_out/45.png'], ['data/nyu2_train/kitchen_0011b_out/82.jpg', 'data/nyu2_train/kitchen_0011b_out/82.png'], ['data/nyu2_train/kitchen_0011b_out/108.jpg', 'data/nyu2_train/kitchen_0011b_out/108.png'], ['data/nyu2_train/kitchen_0011b_out/79.jpg', 'data/nyu2_train/kitchen_0011b_out/79.png'], ['data/nyu2_train/kitchen_0011b_out/31.jpg', 'data/nyu2_train/kitchen_0011b_out/31.png'], ['data/nyu2_train/kitchen_0011b_out/47.jpg', 'data/nyu2_train/kitchen_0011b_out/47.png'], ['data/nyu2_train/kitchen_0011b_out/111.jpg', 'data/nyu2_train/kitchen_0011b_out/111.png'], ['data/nyu2_train/kitchen_0011b_out/41.jpg', 'data/nyu2_train/kitchen_0011b_out/41.png'], ['data/nyu2_train/kitchen_0011b_out/50.jpg', 'data/nyu2_train/kitchen_0011b_out/50.png'], ['data/nyu2_train/kitchen_0011b_out/19.jpg', 'data/nyu2_train/kitchen_0011b_out/19.png'], ['data/nyu2_train/kitchen_0011b_out/58.jpg', 'data/nyu2_train/kitchen_0011b_out/58.png'], ['data/nyu2_train/kitchen_0011b_out/98.jpg', 'data/nyu2_train/kitchen_0011b_out/98.png'], ['data/nyu2_train/kitchen_0011b_out/76.jpg', 'data/nyu2_train/kitchen_0011b_out/76.png'], ['data/nyu2_train/kitchen_0011b_out/69.jpg', 'data/nyu2_train/kitchen_0011b_out/69.png'], ['data/nyu2_train/kitchen_0011b_out/5.jpg', 'data/nyu2_train/kitchen_0011b_out/5.png'], ['data/nyu2_train/kitchen_0011b_out/101.jpg', 'data/nyu2_train/kitchen_0011b_out/101.png'], ['data/nyu2_train/kitchen_0011b_out/112.jpg', 'data/nyu2_train/kitchen_0011b_out/112.png'], ['data/nyu2_train/kitchen_0011b_out/1.jpg', 'data/nyu2_train/kitchen_0011b_out/1.png'], ['data/nyu2_train/kitchen_0011b_out/84.jpg', 'data/nyu2_train/kitchen_0011b_out/84.png'], ['data/nyu2_train/kitchen_0011b_out/92.jpg', 'data/nyu2_train/kitchen_0011b_out/92.png'], ['data/nyu2_train/kitchen_0011b_out/107.jpg', 'data/nyu2_train/kitchen_0011b_out/107.png'], ['data/nyu2_train/kitchen_0011b_out/51.jpg', 'data/nyu2_train/kitchen_0011b_out/51.png'], ['data/nyu2_train/kitchen_0011b_out/7.jpg', 'data/nyu2_train/kitchen_0011b_out/7.png'], ['data/nyu2_train/kitchen_0011b_out/97.jpg', 'data/nyu2_train/kitchen_0011b_out/97.png'], ['data/nyu2_train/kitchen_0011b_out/15.jpg', 'data/nyu2_train/kitchen_0011b_out/15.png'], ['data/nyu2_train/kitchen_0011b_out/77.jpg', 'data/nyu2_train/kitchen_0011b_out/77.png'], ['data/nyu2_train/kitchen_0011b_out/117.jpg', 'data/nyu2_train/kitchen_0011b_out/117.png'], ['data/nyu2_train/kitchen_0011b_out/89.jpg', 'data/nyu2_train/kitchen_0011b_out/89.png'], ['data/nyu2_train/kitchen_0011b_out/102.jpg', 'data/nyu2_train/kitchen_0011b_out/102.png'], ['data/nyu2_train/kitchen_0011b_out/99.jpg', 'data/nyu2_train/kitchen_0011b_out/99.png'], ['data/nyu2_train/kitchen_0011b_out/72.jpg', 'data/nyu2_train/kitchen_0011b_out/72.png'], ['data/nyu2_train/kitchen_0011b_out/81.jpg', 'data/nyu2_train/kitchen_0011b_out/81.png'], ['data/nyu2_train/kitchen_0011b_out/33.jpg', 'data/nyu2_train/kitchen_0011b_out/33.png'], ['data/nyu2_train/kitchen_0011b_out/27.jpg', 'data/nyu2_train/kitchen_0011b_out/27.png'], ['data/nyu2_train/kitchen_0011b_out/38.jpg', 'data/nyu2_train/kitchen_0011b_out/38.png'], ['data/nyu2_train/kitchen_0011b_out/78.jpg', 'data/nyu2_train/kitchen_0011b_out/78.png'], ['data/nyu2_train/kitchen_0011b_out/73.jpg', 'data/nyu2_train/kitchen_0011b_out/73.png'], ['data/nyu2_train/kitchen_0011b_out/110.jpg', 'data/nyu2_train/kitchen_0011b_out/110.png'], ['data/nyu2_train/kitchen_0011b_out/83.jpg', 'data/nyu2_train/kitchen_0011b_out/83.png'], ['data/nyu2_train/kitchen_0011b_out/87.jpg', 'data/nyu2_train/kitchen_0011b_out/87.png'], ['data/nyu2_train/kitchen_0011b_out/59.jpg', 'data/nyu2_train/kitchen_0011b_out/59.png'], ['data/nyu2_train/kitchen_0011b_out/36.jpg', 'data/nyu2_train/kitchen_0011b_out/36.png'], ['data/nyu2_train/kitchen_0011b_out/20.jpg', 'data/nyu2_train/kitchen_0011b_out/20.png'], ['data/nyu2_train/kitchen_0011b_out/106.jpg', 'data/nyu2_train/kitchen_0011b_out/106.png'], ['data/nyu2_train/kitchen_0011b_out/65.jpg', 'data/nyu2_train/kitchen_0011b_out/65.png'], ['data/nyu2_train/kitchen_0011b_out/120.jpg', 'data/nyu2_train/kitchen_0011b_out/120.png'], ['data/nyu2_train/kitchen_0011b_out/86.jpg', 'data/nyu2_train/kitchen_0011b_out/86.png'], ['data/nyu2_train/kitchen_0011b_out/44.jpg', 'data/nyu2_train/kitchen_0011b_out/44.png'], ['data/nyu2_train/kitchen_0011b_out/63.jpg', 'data/nyu2_train/kitchen_0011b_out/63.png'], ['data/nyu2_train/kitchen_0011b_out/116.jpg', 'data/nyu2_train/kitchen_0011b_out/116.png'], ['data/nyu2_train/kitchen_0011b_out/61.jpg', 'data/nyu2_train/kitchen_0011b_out/61.png'], ['data/nyu2_train/kitchen_0011b_out/32.jpg', 'data/nyu2_train/kitchen_0011b_out/32.png'], ['data/nyu2_train/kitchen_0011b_out/123.jpg', 'data/nyu2_train/kitchen_0011b_out/123.png'], ['data/nyu2_train/kitchen_0011b_out/23.jpg', 'data/nyu2_train/kitchen_0011b_out/23.png'], ['data/nyu2_train/kitchen_0011b_out/74.jpg', 'data/nyu2_train/kitchen_0011b_out/74.png'], ['data/nyu2_train/kitchen_0011b_out/52.jpg', 'data/nyu2_train/kitchen_0011b_out/52.png'], ['data/nyu2_train/kitchen_0011b_out/66.jpg', 'data/nyu2_train/kitchen_0011b_out/66.png'], ['data/nyu2_train/kitchen_0011b_out/24.jpg', 'data/nyu2_train/kitchen_0011b_out/24.png'], ['data/nyu2_train/kitchen_0011b_out/22.jpg', 'data/nyu2_train/kitchen_0011b_out/22.png'], ['data/nyu2_train/kitchen_0011b_out/80.jpg', 'data/nyu2_train/kitchen_0011b_out/80.png'], ['data/nyu2_train/kitchen_0011b_out/96.jpg', 'data/nyu2_train/kitchen_0011b_out/96.png'], ['data/nyu2_train/kitchen_0011b_out/26.jpg', 'data/nyu2_train/kitchen_0011b_out/26.png'], ['data/nyu2_train/kitchen_0011b_out/88.jpg', 'data/nyu2_train/kitchen_0011b_out/88.png'], ['data/nyu2_train/kitchen_0011b_out/9.jpg', 'data/nyu2_train/kitchen_0011b_out/9.png'], ['data/nyu2_train/kitchen_0011b_out/109.jpg', 'data/nyu2_train/kitchen_0011b_out/109.png'], ['data/nyu2_train/kitchen_0011b_out/90.jpg', 'data/nyu2_train/kitchen_0011b_out/90.png'], ['data/nyu2_train/living_room_0035_out/37.jpg', 'data/nyu2_train/living_room_0035_out/37.png'], ['data/nyu2_train/living_room_0035_out/115.jpg', 'data/nyu2_train/living_room_0035_out/115.png'], ['data/nyu2_train/living_room_0035_out/6.jpg', 'data/nyu2_train/living_room_0035_out/6.png'], ['data/nyu2_train/living_room_0035_out/49.jpg', 'data/nyu2_train/living_room_0035_out/49.png'], ['data/nyu2_train/living_room_0035_out/152.jpg', 'data/nyu2_train/living_room_0035_out/152.png'], ['data/nyu2_train/living_room_0035_out/142.jpg', 'data/nyu2_train/living_room_0035_out/142.png'], ['data/nyu2_train/living_room_0035_out/94.jpg', 'data/nyu2_train/living_room_0035_out/94.png'], ['data/nyu2_train/living_room_0035_out/158.jpg', 'data/nyu2_train/living_room_0035_out/158.png'], ['data/nyu2_train/living_room_0035_out/18.jpg', 'data/nyu2_train/living_room_0035_out/18.png'], ['data/nyu2_train/living_room_0035_out/21.jpg', 'data/nyu2_train/living_room_0035_out/21.png'], ['data/nyu2_train/living_room_0035_out/48.jpg', 'data/nyu2_train/living_room_0035_out/48.png'], ['data/nyu2_train/living_room_0035_out/75.jpg', 'data/nyu2_train/living_room_0035_out/75.png'], ['data/nyu2_train/living_room_0035_out/25.jpg', 'data/nyu2_train/living_room_0035_out/25.png'], ['data/nyu2_train/living_room_0035_out/13.jpg', 'data/nyu2_train/living_room_0035_out/13.png'], ['data/nyu2_train/living_room_0035_out/68.jpg', 'data/nyu2_train/living_room_0035_out/68.png'], ['data/nyu2_train/living_room_0035_out/28.jpg', 'data/nyu2_train/living_room_0035_out/28.png'], ['data/nyu2_train/living_room_0035_out/85.jpg', 'data/nyu2_train/living_room_0035_out/85.png'], ['data/nyu2_train/living_room_0035_out/57.jpg', 'data/nyu2_train/living_room_0035_out/57.png'], ['data/nyu2_train/living_room_0035_out/34.jpg', 'data/nyu2_train/living_room_0035_out/34.png'], ['data/nyu2_train/living_room_0035_out/118.jpg', 'data/nyu2_train/living_room_0035_out/118.png'], ['data/nyu2_train/living_room_0035_out/53.jpg', 'data/nyu2_train/living_room_0035_out/53.png'], ['data/nyu2_train/living_room_0035_out/11.jpg', 'data/nyu2_train/living_room_0035_out/11.png'], ['data/nyu2_train/living_room_0035_out/46.jpg', 'data/nyu2_train/living_room_0035_out/46.png'], ['data/nyu2_train/living_room_0035_out/135.jpg', 'data/nyu2_train/living_room_0035_out/135.png'], ['data/nyu2_train/living_room_0035_out/39.jpg', 'data/nyu2_train/living_room_0035_out/39.png'], ['data/nyu2_train/living_room_0035_out/71.jpg', 'data/nyu2_train/living_room_0035_out/71.png'], ['data/nyu2_train/living_room_0035_out/29.jpg', 'data/nyu2_train/living_room_0035_out/29.png'], ['data/nyu2_train/living_room_0035_out/14.jpg', 'data/nyu2_train/living_room_0035_out/14.png'], ['data/nyu2_train/living_room_0035_out/113.jpg', 'data/nyu2_train/living_room_0035_out/113.png'], ['data/nyu2_train/living_room_0035_out/138.jpg', 'data/nyu2_train/living_room_0035_out/138.png'], ['data/nyu2_train/living_room_0035_out/30.jpg', 'data/nyu2_train/living_room_0035_out/30.png'], ['data/nyu2_train/living_room_0035_out/16.jpg', 'data/nyu2_train/living_room_0035_out/16.png'], ['data/nyu2_train/living_room_0035_out/105.jpg', 'data/nyu2_train/living_room_0035_out/105.png'], ['data/nyu2_train/living_room_0035_out/62.jpg', 'data/nyu2_train/living_room_0035_out/62.png'], ['data/nyu2_train/living_room_0035_out/56.jpg', 'data/nyu2_train/living_room_0035_out/56.png'], ['data/nyu2_train/living_room_0035_out/119.jpg', 'data/nyu2_train/living_room_0035_out/119.png'], ['data/nyu2_train/living_room_0035_out/42.jpg', 'data/nyu2_train/living_room_0035_out/42.png'], ['data/nyu2_train/living_room_0035_out/2.jpg', 'data/nyu2_train/living_room_0035_out/2.png'], ['data/nyu2_train/living_room_0035_out/129.jpg', 'data/nyu2_train/living_room_0035_out/129.png'], ['data/nyu2_train/living_room_0035_out/160.jpg', 'data/nyu2_train/living_room_0035_out/160.png'], ['data/nyu2_train/living_room_0035_out/126.jpg', 'data/nyu2_train/living_room_0035_out/126.png'], ['data/nyu2_train/living_room_0035_out/91.jpg', 'data/nyu2_train/living_room_0035_out/91.png'], ['data/nyu2_train/living_room_0035_out/93.jpg', 'data/nyu2_train/living_room_0035_out/93.png'], ['data/nyu2_train/living_room_0035_out/70.jpg', 'data/nyu2_train/living_room_0035_out/70.png'], ['data/nyu2_train/living_room_0035_out/60.jpg', 'data/nyu2_train/living_room_0035_out/60.png'], ['data/nyu2_train/living_room_0035_out/3.jpg', 'data/nyu2_train/living_room_0035_out/3.png'], ['data/nyu2_train/living_room_0035_out/132.jpg', 'data/nyu2_train/living_room_0035_out/132.png'], ['data/nyu2_train/living_room_0035_out/54.jpg', 'data/nyu2_train/living_room_0035_out/54.png'], ['data/nyu2_train/living_room_0035_out/146.jpg', 'data/nyu2_train/living_room_0035_out/146.png'], ['data/nyu2_train/living_room_0035_out/121.jpg', 'data/nyu2_train/living_room_0035_out/121.png'], ['data/nyu2_train/living_room_0035_out/122.jpg', 'data/nyu2_train/living_room_0035_out/122.png'], ['data/nyu2_train/living_room_0035_out/130.jpg', 'data/nyu2_train/living_room_0035_out/130.png'], ['data/nyu2_train/living_room_0035_out/10.jpg', 'data/nyu2_train/living_room_0035_out/10.png'], ['data/nyu2_train/living_room_0035_out/4.jpg', 'data/nyu2_train/living_room_0035_out/4.png'], ['data/nyu2_train/living_room_0035_out/153.jpg', 'data/nyu2_train/living_room_0035_out/153.png'], ['data/nyu2_train/living_room_0035_out/12.jpg', 'data/nyu2_train/living_room_0035_out/12.png'], ['data/nyu2_train/living_room_0035_out/104.jpg', 'data/nyu2_train/living_room_0035_out/104.png'], ['data/nyu2_train/living_room_0035_out/134.jpg', 'data/nyu2_train/living_room_0035_out/134.png'], ['data/nyu2_train/living_room_0035_out/100.jpg', 'data/nyu2_train/living_room_0035_out/100.png'], ['data/nyu2_train/living_room_0035_out/64.jpg', 'data/nyu2_train/living_room_0035_out/64.png'], ['data/nyu2_train/living_room_0035_out/147.jpg', 'data/nyu2_train/living_room_0035_out/147.png'], ['data/nyu2_train/living_room_0035_out/103.jpg', 'data/nyu2_train/living_room_0035_out/103.png'], ['data/nyu2_train/living_room_0035_out/67.jpg', 'data/nyu2_train/living_room_0035_out/67.png'], ['data/nyu2_train/living_room_0035_out/114.jpg', 'data/nyu2_train/living_room_0035_out/114.png'], ['data/nyu2_train/living_room_0035_out/8.jpg', 'data/nyu2_train/living_room_0035_out/8.png'], ['data/nyu2_train/living_room_0035_out/127.jpg', 'data/nyu2_train/living_room_0035_out/127.png'], ['data/nyu2_train/living_room_0035_out/43.jpg', 'data/nyu2_train/living_room_0035_out/43.png'], ['data/nyu2_train/living_room_0035_out/144.jpg', 'data/nyu2_train/living_room_0035_out/144.png'], ['data/nyu2_train/living_room_0035_out/17.jpg', 'data/nyu2_train/living_room_0035_out/17.png'], ['data/nyu2_train/living_room_0035_out/151.jpg', 'data/nyu2_train/living_room_0035_out/151.png'], ['data/nyu2_train/living_room_0035_out/35.jpg', 'data/nyu2_train/living_room_0035_out/35.png'], ['data/nyu2_train/living_room_0035_out/40.jpg', 'data/nyu2_train/living_room_0035_out/40.png'], ['data/nyu2_train/living_room_0035_out/55.jpg', 'data/nyu2_train/living_room_0035_out/55.png'], ['data/nyu2_train/living_room_0035_out/95.jpg', 'data/nyu2_train/living_room_0035_out/95.png'], ['data/nyu2_train/living_room_0035_out/45.jpg', 'data/nyu2_train/living_room_0035_out/45.png'], ['data/nyu2_train/living_room_0035_out/82.jpg', 'data/nyu2_train/living_room_0035_out/82.png'], ['data/nyu2_train/living_room_0035_out/108.jpg', 'data/nyu2_train/living_room_0035_out/108.png'], ['data/nyu2_train/living_room_0035_out/79.jpg', 'data/nyu2_train/living_room_0035_out/79.png'], ['data/nyu2_train/living_room_0035_out/31.jpg', 'data/nyu2_train/living_room_0035_out/31.png'], ['data/nyu2_train/living_room_0035_out/137.jpg', 'data/nyu2_train/living_room_0035_out/137.png'], ['data/nyu2_train/living_room_0035_out/47.jpg', 'data/nyu2_train/living_room_0035_out/47.png'], ['data/nyu2_train/living_room_0035_out/111.jpg', 'data/nyu2_train/living_room_0035_out/111.png'], ['data/nyu2_train/living_room_0035_out/41.jpg', 'data/nyu2_train/living_room_0035_out/41.png'], ['data/nyu2_train/living_room_0035_out/50.jpg', 'data/nyu2_train/living_room_0035_out/50.png'], ['data/nyu2_train/living_room_0035_out/140.jpg', 'data/nyu2_train/living_room_0035_out/140.png'], ['data/nyu2_train/living_room_0035_out/19.jpg', 'data/nyu2_train/living_room_0035_out/19.png'], ['data/nyu2_train/living_room_0035_out/58.jpg', 'data/nyu2_train/living_room_0035_out/58.png'], ['data/nyu2_train/living_room_0035_out/98.jpg', 'data/nyu2_train/living_room_0035_out/98.png'], ['data/nyu2_train/living_room_0035_out/76.jpg', 'data/nyu2_train/living_room_0035_out/76.png'], ['data/nyu2_train/living_room_0035_out/124.jpg', 'data/nyu2_train/living_room_0035_out/124.png'], ['data/nyu2_train/living_room_0035_out/128.jpg', 'data/nyu2_train/living_room_0035_out/128.png'], ['data/nyu2_train/living_room_0035_out/149.jpg', 'data/nyu2_train/living_room_0035_out/149.png'], ['data/nyu2_train/living_room_0035_out/69.jpg', 'data/nyu2_train/living_room_0035_out/69.png'], ['data/nyu2_train/living_room_0035_out/155.jpg', 'data/nyu2_train/living_room_0035_out/155.png'], ['data/nyu2_train/living_room_0035_out/5.jpg', 'data/nyu2_train/living_room_0035_out/5.png'], ['data/nyu2_train/living_room_0035_out/131.jpg', 'data/nyu2_train/living_room_0035_out/131.png'], ['data/nyu2_train/living_room_0035_out/101.jpg', 'data/nyu2_train/living_room_0035_out/101.png'], ['data/nyu2_train/living_room_0035_out/112.jpg', 'data/nyu2_train/living_room_0035_out/112.png'], ['data/nyu2_train/living_room_0035_out/1.jpg', 'data/nyu2_train/living_room_0035_out/1.png'], ['data/nyu2_train/living_room_0035_out/148.jpg', 'data/nyu2_train/living_room_0035_out/148.png'], ['data/nyu2_train/living_room_0035_out/84.jpg', 'data/nyu2_train/living_room_0035_out/84.png'], ['data/nyu2_train/living_room_0035_out/92.jpg', 'data/nyu2_train/living_room_0035_out/92.png'], ['data/nyu2_train/living_room_0035_out/133.jpg', 'data/nyu2_train/living_room_0035_out/133.png'], ['data/nyu2_train/living_room_0035_out/150.jpg', 'data/nyu2_train/living_room_0035_out/150.png'], ['data/nyu2_train/living_room_0035_out/107.jpg', 'data/nyu2_train/living_room_0035_out/107.png'], ['data/nyu2_train/living_room_0035_out/136.jpg', 'data/nyu2_train/living_room_0035_out/136.png'], ['data/nyu2_train/living_room_0035_out/51.jpg', 'data/nyu2_train/living_room_0035_out/51.png'], ['data/nyu2_train/living_room_0035_out/7.jpg', 'data/nyu2_train/living_room_0035_out/7.png'], ['data/nyu2_train/living_room_0035_out/97.jpg', 'data/nyu2_train/living_room_0035_out/97.png'], ['data/nyu2_train/living_room_0035_out/15.jpg', 'data/nyu2_train/living_room_0035_out/15.png'], ['data/nyu2_train/living_room_0035_out/156.jpg', 'data/nyu2_train/living_room_0035_out/156.png'], ['data/nyu2_train/living_room_0035_out/77.jpg', 'data/nyu2_train/living_room_0035_out/77.png'], ['data/nyu2_train/living_room_0035_out/117.jpg', 'data/nyu2_train/living_room_0035_out/117.png'], ['data/nyu2_train/living_room_0035_out/125.jpg', 'data/nyu2_train/living_room_0035_out/125.png'], ['data/nyu2_train/living_room_0035_out/89.jpg', 'data/nyu2_train/living_room_0035_out/89.png'], ['data/nyu2_train/living_room_0035_out/102.jpg', 'data/nyu2_train/living_room_0035_out/102.png'], ['data/nyu2_train/living_room_0035_out/99.jpg', 'data/nyu2_train/living_room_0035_out/99.png'], ['data/nyu2_train/living_room_0035_out/72.jpg', 'data/nyu2_train/living_room_0035_out/72.png'], ['data/nyu2_train/living_room_0035_out/157.jpg', 'data/nyu2_train/living_room_0035_out/157.png'], ['data/nyu2_train/living_room_0035_out/81.jpg', 'data/nyu2_train/living_room_0035_out/81.png'], ['data/nyu2_train/living_room_0035_out/33.jpg', 'data/nyu2_train/living_room_0035_out/33.png'], ['data/nyu2_train/living_room_0035_out/27.jpg', 'data/nyu2_train/living_room_0035_out/27.png'], ['data/nyu2_train/living_room_0035_out/139.jpg', 'data/nyu2_train/living_room_0035_out/139.png'], ['data/nyu2_train/living_room_0035_out/38.jpg', 'data/nyu2_train/living_room_0035_out/38.png'], ['data/nyu2_train/living_room_0035_out/154.jpg', 'data/nyu2_train/living_room_0035_out/154.png'], ['data/nyu2_train/living_room_0035_out/78.jpg', 'data/nyu2_train/living_room_0035_out/78.png'], ['data/nyu2_train/living_room_0035_out/73.jpg', 'data/nyu2_train/living_room_0035_out/73.png'], ['data/nyu2_train/living_room_0035_out/159.jpg', 'data/nyu2_train/living_room_0035_out/159.png'], ['data/nyu2_train/living_room_0035_out/110.jpg', 'data/nyu2_train/living_room_0035_out/110.png'], ['data/nyu2_train/living_room_0035_out/143.jpg', 'data/nyu2_train/living_room_0035_out/143.png'], ['data/nyu2_train/living_room_0035_out/83.jpg', 'data/nyu2_train/living_room_0035_out/83.png'], ['data/nyu2_train/living_room_0035_out/87.jpg', 'data/nyu2_train/living_room_0035_out/87.png'], ['data/nyu2_train/living_room_0035_out/59.jpg', 'data/nyu2_train/living_room_0035_out/59.png'], ['data/nyu2_train/living_room_0035_out/36.jpg', 'data/nyu2_train/living_room_0035_out/36.png'], ['data/nyu2_train/living_room_0035_out/20.jpg', 'data/nyu2_train/living_room_0035_out/20.png'], ['data/nyu2_train/living_room_0035_out/106.jpg', 'data/nyu2_train/living_room_0035_out/106.png'], ['data/nyu2_train/living_room_0035_out/145.jpg', 'data/nyu2_train/living_room_0035_out/145.png'], ['data/nyu2_train/living_room_0035_out/65.jpg', 'data/nyu2_train/living_room_0035_out/65.png'], ['data/nyu2_train/living_room_0035_out/120.jpg', 'data/nyu2_train/living_room_0035_out/120.png'], ['data/nyu2_train/living_room_0035_out/86.jpg', 'data/nyu2_train/living_room_0035_out/86.png'], ['data/nyu2_train/living_room_0035_out/44.jpg', 'data/nyu2_train/living_room_0035_out/44.png'], ['data/nyu2_train/living_room_0035_out/63.jpg', 'data/nyu2_train/living_room_0035_out/63.png'], ['data/nyu2_train/living_room_0035_out/116.jpg', 'data/nyu2_train/living_room_0035_out/116.png'], ['data/nyu2_train/living_room_0035_out/61.jpg', 'data/nyu2_train/living_room_0035_out/61.png'], ['data/nyu2_train/living_room_0035_out/32.jpg', 'data/nyu2_train/living_room_0035_out/32.png'], ['data/nyu2_train/living_room_0035_out/123.jpg', 'data/nyu2_train/living_room_0035_out/123.png'], ['data/nyu2_train/living_room_0035_out/23.jpg', 'data/nyu2_train/living_room_0035_out/23.png'], ['data/nyu2_train/living_room_0035_out/74.jpg', 'data/nyu2_train/living_room_0035_out/74.png'], ['data/nyu2_train/living_room_0035_out/141.jpg', 'data/nyu2_train/living_room_0035_out/141.png'], ['data/nyu2_train/living_room_0035_out/52.jpg', 'data/nyu2_train/living_room_0035_out/52.png'], ['data/nyu2_train/living_room_0035_out/66.jpg', 'data/nyu2_train/living_room_0035_out/66.png'], ['data/nyu2_train/living_room_0035_out/24.jpg', 'data/nyu2_train/living_room_0035_out/24.png'], ['data/nyu2_train/living_room_0035_out/22.jpg', 'data/nyu2_train/living_room_0035_out/22.png'], ['data/nyu2_train/living_room_0035_out/80.jpg', 'data/nyu2_train/living_room_0035_out/80.png'], ['data/nyu2_train/living_room_0035_out/96.jpg', 'data/nyu2_train/living_room_0035_out/96.png'], ['data/nyu2_train/living_room_0035_out/26.jpg', 'data/nyu2_train/living_room_0035_out/26.png'], ['data/nyu2_train/living_room_0035_out/88.jpg', 'data/nyu2_train/living_room_0035_out/88.png'], ['data/nyu2_train/living_room_0035_out/9.jpg', 'data/nyu2_train/living_room_0035_out/9.png'], ['data/nyu2_train/living_room_0035_out/109.jpg', 'data/nyu2_train/living_room_0035_out/109.png'], ['data/nyu2_train/living_room_0035_out/90.jpg', 'data/nyu2_train/living_room_0035_out/90.png']]\n",
      "Data loader ready.\n"
     ]
    }
   ],
   "source": [
    "from data import DataLoader\n",
    "\n",
    "dl = DataLoader()\n",
    "train_generator = dl.get_batched_dataset(batch_size)\n",
    "\n",
    "# Get the validation dataset\n",
    "validation_dataset = dl.get_validation_dataset(batch_size)\n",
    "\n",
    "print('Data loader ready.')"
   ]
  },
  {
   "cell_type": "markdown",
   "metadata": {},
   "source": [
    "# Compile & Train"
   ]
  },
  {
   "cell_type": "code",
   "execution_count": 4,
   "metadata": {
    "scrolled": true
   },
   "outputs": [
    {
     "name": "stderr",
     "output_type": "stream",
     "text": [
      "/Users/adeelhafeez/GPU_Test/env/lib/python3.10/site-packages/keras/src/optimizers/legacy/adam.py:118: UserWarning: The `lr` argument is deprecated, use `learning_rate` instead.\n",
      "  super().__init__(name, **kwargs)\n"
     ]
    }
   ],
   "source": [
    "import tensorflow\n",
    "from loss import depth_loss_function\n",
    "\n",
    "optimizer = tensorflow.keras.optimizers.legacy.Adam(lr=learning_rate, amsgrad=True)\n",
    "\n",
    "# model.compile(loss=depth_loss_function, optimizer=optimizer)"
   ]
  },
  {
   "cell_type": "code",
   "execution_count": 5,
   "metadata": {},
   "outputs": [],
   "source": [
    "# Create checkpoint callback\n",
    "import os\n",
    "checkpoint_path = \"training_11/cp.ckpt\"\n",
    "checkpoint_dir = os.path.dirname(checkpoint_path)\n",
    "cp_callback = tensorflow.keras.callbacks.ModelCheckpoint(checkpoint_path, save_weights_only=True, save_best_only=True, verbose=1)\n"
   ]
  },
  {
   "cell_type": "code",
   "execution_count": 7,
   "metadata": {},
   "outputs": [
    {
     "name": "stdout",
     "output_type": "stream",
     "text": [
      "nyu2_train :  [['data/nyu2_train/living_room_0038_out/37.jpg', 'data/nyu2_train/living_room_0038_out/37.png'], ['data/nyu2_train/living_room_0038_out/115.jpg', 'data/nyu2_train/living_room_0038_out/115.png'], ['data/nyu2_train/living_room_0038_out/6.jpg', 'data/nyu2_train/living_room_0038_out/6.png'], ['data/nyu2_train/living_room_0038_out/49.jpg', 'data/nyu2_train/living_room_0038_out/49.png'], ['data/nyu2_train/living_room_0038_out/152.jpg', 'data/nyu2_train/living_room_0038_out/152.png'], ['data/nyu2_train/living_room_0038_out/142.jpg', 'data/nyu2_train/living_room_0038_out/142.png'], ['data/nyu2_train/living_room_0038_out/94.jpg', 'data/nyu2_train/living_room_0038_out/94.png'], ['data/nyu2_train/living_room_0038_out/158.jpg', 'data/nyu2_train/living_room_0038_out/158.png'], ['data/nyu2_train/living_room_0038_out/18.jpg', 'data/nyu2_train/living_room_0038_out/18.png'], ['data/nyu2_train/living_room_0038_out/167.jpg', 'data/nyu2_train/living_room_0038_out/167.png'], ['data/nyu2_train/living_room_0038_out/21.jpg', 'data/nyu2_train/living_room_0038_out/21.png'], ['data/nyu2_train/living_room_0038_out/48.jpg', 'data/nyu2_train/living_room_0038_out/48.png'], ['data/nyu2_train/living_room_0038_out/75.jpg', 'data/nyu2_train/living_room_0038_out/75.png'], ['data/nyu2_train/living_room_0038_out/171.jpg', 'data/nyu2_train/living_room_0038_out/171.png'], ['data/nyu2_train/living_room_0038_out/25.jpg', 'data/nyu2_train/living_room_0038_out/25.png'], ['data/nyu2_train/living_room_0038_out/13.jpg', 'data/nyu2_train/living_room_0038_out/13.png'], ['data/nyu2_train/living_room_0038_out/68.jpg', 'data/nyu2_train/living_room_0038_out/68.png'], ['data/nyu2_train/living_room_0038_out/28.jpg', 'data/nyu2_train/living_room_0038_out/28.png'], ['data/nyu2_train/living_room_0038_out/161.jpg', 'data/nyu2_train/living_room_0038_out/161.png'], ['data/nyu2_train/living_room_0038_out/85.jpg', 'data/nyu2_train/living_room_0038_out/85.png'], ['data/nyu2_train/living_room_0038_out/57.jpg', 'data/nyu2_train/living_room_0038_out/57.png'], ['data/nyu2_train/living_room_0038_out/34.jpg', 'data/nyu2_train/living_room_0038_out/34.png'], ['data/nyu2_train/living_room_0038_out/118.jpg', 'data/nyu2_train/living_room_0038_out/118.png'], ['data/nyu2_train/living_room_0038_out/53.jpg', 'data/nyu2_train/living_room_0038_out/53.png'], ['data/nyu2_train/living_room_0038_out/11.jpg', 'data/nyu2_train/living_room_0038_out/11.png'], ['data/nyu2_train/living_room_0038_out/46.jpg', 'data/nyu2_train/living_room_0038_out/46.png'], ['data/nyu2_train/living_room_0038_out/135.jpg', 'data/nyu2_train/living_room_0038_out/135.png'], ['data/nyu2_train/living_room_0038_out/39.jpg', 'data/nyu2_train/living_room_0038_out/39.png'], ['data/nyu2_train/living_room_0038_out/71.jpg', 'data/nyu2_train/living_room_0038_out/71.png'], ['data/nyu2_train/living_room_0038_out/29.jpg', 'data/nyu2_train/living_room_0038_out/29.png'], ['data/nyu2_train/living_room_0038_out/14.jpg', 'data/nyu2_train/living_room_0038_out/14.png'], ['data/nyu2_train/living_room_0038_out/113.jpg', 'data/nyu2_train/living_room_0038_out/113.png'], ['data/nyu2_train/living_room_0038_out/138.jpg', 'data/nyu2_train/living_room_0038_out/138.png'], ['data/nyu2_train/living_room_0038_out/30.jpg', 'data/nyu2_train/living_room_0038_out/30.png'], ['data/nyu2_train/living_room_0038_out/16.jpg', 'data/nyu2_train/living_room_0038_out/16.png'], ['data/nyu2_train/living_room_0038_out/105.jpg', 'data/nyu2_train/living_room_0038_out/105.png'], ['data/nyu2_train/living_room_0038_out/62.jpg', 'data/nyu2_train/living_room_0038_out/62.png'], ['data/nyu2_train/living_room_0038_out/56.jpg', 'data/nyu2_train/living_room_0038_out/56.png'], ['data/nyu2_train/living_room_0038_out/119.jpg', 'data/nyu2_train/living_room_0038_out/119.png'], ['data/nyu2_train/living_room_0038_out/42.jpg', 'data/nyu2_train/living_room_0038_out/42.png'], ['data/nyu2_train/living_room_0038_out/2.jpg', 'data/nyu2_train/living_room_0038_out/2.png'], ['data/nyu2_train/living_room_0038_out/129.jpg', 'data/nyu2_train/living_room_0038_out/129.png'], ['data/nyu2_train/living_room_0038_out/160.jpg', 'data/nyu2_train/living_room_0038_out/160.png'], ['data/nyu2_train/living_room_0038_out/126.jpg', 'data/nyu2_train/living_room_0038_out/126.png'], ['data/nyu2_train/living_room_0038_out/91.jpg', 'data/nyu2_train/living_room_0038_out/91.png'], ['data/nyu2_train/living_room_0038_out/162.jpg', 'data/nyu2_train/living_room_0038_out/162.png'], ['data/nyu2_train/living_room_0038_out/93.jpg', 'data/nyu2_train/living_room_0038_out/93.png'], ['data/nyu2_train/living_room_0038_out/70.jpg', 'data/nyu2_train/living_room_0038_out/70.png'], ['data/nyu2_train/living_room_0038_out/60.jpg', 'data/nyu2_train/living_room_0038_out/60.png'], ['data/nyu2_train/living_room_0038_out/3.jpg', 'data/nyu2_train/living_room_0038_out/3.png'], ['data/nyu2_train/living_room_0038_out/132.jpg', 'data/nyu2_train/living_room_0038_out/132.png'], ['data/nyu2_train/living_room_0038_out/54.jpg', 'data/nyu2_train/living_room_0038_out/54.png'], ['data/nyu2_train/living_room_0038_out/146.jpg', 'data/nyu2_train/living_room_0038_out/146.png'], ['data/nyu2_train/living_room_0038_out/121.jpg', 'data/nyu2_train/living_room_0038_out/121.png'], ['data/nyu2_train/living_room_0038_out/122.jpg', 'data/nyu2_train/living_room_0038_out/122.png'], ['data/nyu2_train/living_room_0038_out/130.jpg', 'data/nyu2_train/living_room_0038_out/130.png'], ['data/nyu2_train/living_room_0038_out/10.jpg', 'data/nyu2_train/living_room_0038_out/10.png'], ['data/nyu2_train/living_room_0038_out/4.jpg', 'data/nyu2_train/living_room_0038_out/4.png'], ['data/nyu2_train/living_room_0038_out/153.jpg', 'data/nyu2_train/living_room_0038_out/153.png'], ['data/nyu2_train/living_room_0038_out/12.jpg', 'data/nyu2_train/living_room_0038_out/12.png'], ['data/nyu2_train/living_room_0038_out/163.jpg', 'data/nyu2_train/living_room_0038_out/163.png'], ['data/nyu2_train/living_room_0038_out/169.jpg', 'data/nyu2_train/living_room_0038_out/169.png'], ['data/nyu2_train/living_room_0038_out/168.jpg', 'data/nyu2_train/living_room_0038_out/168.png'], ['data/nyu2_train/living_room_0038_out/104.jpg', 'data/nyu2_train/living_room_0038_out/104.png'], ['data/nyu2_train/living_room_0038_out/134.jpg', 'data/nyu2_train/living_room_0038_out/134.png'], ['data/nyu2_train/living_room_0038_out/100.jpg', 'data/nyu2_train/living_room_0038_out/100.png'], ['data/nyu2_train/living_room_0038_out/64.jpg', 'data/nyu2_train/living_room_0038_out/64.png'], ['data/nyu2_train/living_room_0038_out/147.jpg', 'data/nyu2_train/living_room_0038_out/147.png'], ['data/nyu2_train/living_room_0038_out/103.jpg', 'data/nyu2_train/living_room_0038_out/103.png'], ['data/nyu2_train/living_room_0038_out/67.jpg', 'data/nyu2_train/living_room_0038_out/67.png'], ['data/nyu2_train/living_room_0038_out/114.jpg', 'data/nyu2_train/living_room_0038_out/114.png'], ['data/nyu2_train/living_room_0038_out/8.jpg', 'data/nyu2_train/living_room_0038_out/8.png'], ['data/nyu2_train/living_room_0038_out/127.jpg', 'data/nyu2_train/living_room_0038_out/127.png'], ['data/nyu2_train/living_room_0038_out/43.jpg', 'data/nyu2_train/living_room_0038_out/43.png'], ['data/nyu2_train/living_room_0038_out/144.jpg', 'data/nyu2_train/living_room_0038_out/144.png'], ['data/nyu2_train/living_room_0038_out/17.jpg', 'data/nyu2_train/living_room_0038_out/17.png'], ['data/nyu2_train/living_room_0038_out/151.jpg', 'data/nyu2_train/living_room_0038_out/151.png'], ['data/nyu2_train/living_room_0038_out/35.jpg', 'data/nyu2_train/living_room_0038_out/35.png'], ['data/nyu2_train/living_room_0038_out/40.jpg', 'data/nyu2_train/living_room_0038_out/40.png'], ['data/nyu2_train/living_room_0038_out/55.jpg', 'data/nyu2_train/living_room_0038_out/55.png'], ['data/nyu2_train/living_room_0038_out/95.jpg', 'data/nyu2_train/living_room_0038_out/95.png'], ['data/nyu2_train/living_room_0038_out/45.jpg', 'data/nyu2_train/living_room_0038_out/45.png'], ['data/nyu2_train/living_room_0038_out/82.jpg', 'data/nyu2_train/living_room_0038_out/82.png'], ['data/nyu2_train/living_room_0038_out/108.jpg', 'data/nyu2_train/living_room_0038_out/108.png'], ['data/nyu2_train/living_room_0038_out/79.jpg', 'data/nyu2_train/living_room_0038_out/79.png'], ['data/nyu2_train/living_room_0038_out/31.jpg', 'data/nyu2_train/living_room_0038_out/31.png'], ['data/nyu2_train/living_room_0038_out/137.jpg', 'data/nyu2_train/living_room_0038_out/137.png'], ['data/nyu2_train/living_room_0038_out/47.jpg', 'data/nyu2_train/living_room_0038_out/47.png'], ['data/nyu2_train/living_room_0038_out/111.jpg', 'data/nyu2_train/living_room_0038_out/111.png'], ['data/nyu2_train/living_room_0038_out/41.jpg', 'data/nyu2_train/living_room_0038_out/41.png'], ['data/nyu2_train/living_room_0038_out/50.jpg', 'data/nyu2_train/living_room_0038_out/50.png'], ['data/nyu2_train/living_room_0038_out/140.jpg', 'data/nyu2_train/living_room_0038_out/140.png'], ['data/nyu2_train/living_room_0038_out/19.jpg', 'data/nyu2_train/living_room_0038_out/19.png'], ['data/nyu2_train/living_room_0038_out/58.jpg', 'data/nyu2_train/living_room_0038_out/58.png'], ['data/nyu2_train/living_room_0038_out/98.jpg', 'data/nyu2_train/living_room_0038_out/98.png'], ['data/nyu2_train/living_room_0038_out/76.jpg', 'data/nyu2_train/living_room_0038_out/76.png'], ['data/nyu2_train/living_room_0038_out/124.jpg', 'data/nyu2_train/living_room_0038_out/124.png'], ['data/nyu2_train/living_room_0038_out/128.jpg', 'data/nyu2_train/living_room_0038_out/128.png'], ['data/nyu2_train/living_room_0038_out/170.jpg', 'data/nyu2_train/living_room_0038_out/170.png'], ['data/nyu2_train/living_room_0038_out/149.jpg', 'data/nyu2_train/living_room_0038_out/149.png'], ['data/nyu2_train/living_room_0038_out/69.jpg', 'data/nyu2_train/living_room_0038_out/69.png'], ['data/nyu2_train/living_room_0038_out/155.jpg', 'data/nyu2_train/living_room_0038_out/155.png'], ['data/nyu2_train/living_room_0038_out/5.jpg', 'data/nyu2_train/living_room_0038_out/5.png'], ['data/nyu2_train/living_room_0038_out/131.jpg', 'data/nyu2_train/living_room_0038_out/131.png'], ['data/nyu2_train/living_room_0038_out/101.jpg', 'data/nyu2_train/living_room_0038_out/101.png'], ['data/nyu2_train/living_room_0038_out/112.jpg', 'data/nyu2_train/living_room_0038_out/112.png'], ['data/nyu2_train/living_room_0038_out/1.jpg', 'data/nyu2_train/living_room_0038_out/1.png'], ['data/nyu2_train/living_room_0038_out/148.jpg', 'data/nyu2_train/living_room_0038_out/148.png'], ['data/nyu2_train/living_room_0038_out/84.jpg', 'data/nyu2_train/living_room_0038_out/84.png'], ['data/nyu2_train/living_room_0038_out/92.jpg', 'data/nyu2_train/living_room_0038_out/92.png'], ['data/nyu2_train/living_room_0038_out/133.jpg', 'data/nyu2_train/living_room_0038_out/133.png'], ['data/nyu2_train/living_room_0038_out/150.jpg', 'data/nyu2_train/living_room_0038_out/150.png'], ['data/nyu2_train/living_room_0038_out/107.jpg', 'data/nyu2_train/living_room_0038_out/107.png'], ['data/nyu2_train/living_room_0038_out/136.jpg', 'data/nyu2_train/living_room_0038_out/136.png'], ['data/nyu2_train/living_room_0038_out/51.jpg', 'data/nyu2_train/living_room_0038_out/51.png'], ['data/nyu2_train/living_room_0038_out/7.jpg', 'data/nyu2_train/living_room_0038_out/7.png'], ['data/nyu2_train/living_room_0038_out/97.jpg', 'data/nyu2_train/living_room_0038_out/97.png'], ['data/nyu2_train/living_room_0038_out/15.jpg', 'data/nyu2_train/living_room_0038_out/15.png'], ['data/nyu2_train/living_room_0038_out/156.jpg', 'data/nyu2_train/living_room_0038_out/156.png'], ['data/nyu2_train/living_room_0038_out/77.jpg', 'data/nyu2_train/living_room_0038_out/77.png'], ['data/nyu2_train/living_room_0038_out/117.jpg', 'data/nyu2_train/living_room_0038_out/117.png'], ['data/nyu2_train/living_room_0038_out/125.jpg', 'data/nyu2_train/living_room_0038_out/125.png'], ['data/nyu2_train/living_room_0038_out/89.jpg', 'data/nyu2_train/living_room_0038_out/89.png'], ['data/nyu2_train/living_room_0038_out/102.jpg', 'data/nyu2_train/living_room_0038_out/102.png'], ['data/nyu2_train/living_room_0038_out/99.jpg', 'data/nyu2_train/living_room_0038_out/99.png'], ['data/nyu2_train/living_room_0038_out/72.jpg', 'data/nyu2_train/living_room_0038_out/72.png'], ['data/nyu2_train/living_room_0038_out/157.jpg', 'data/nyu2_train/living_room_0038_out/157.png'], ['data/nyu2_train/living_room_0038_out/81.jpg', 'data/nyu2_train/living_room_0038_out/81.png'], ['data/nyu2_train/living_room_0038_out/33.jpg', 'data/nyu2_train/living_room_0038_out/33.png'], ['data/nyu2_train/living_room_0038_out/27.jpg', 'data/nyu2_train/living_room_0038_out/27.png'], ['data/nyu2_train/living_room_0038_out/139.jpg', 'data/nyu2_train/living_room_0038_out/139.png'], ['data/nyu2_train/living_room_0038_out/38.jpg', 'data/nyu2_train/living_room_0038_out/38.png'], ['data/nyu2_train/living_room_0038_out/154.jpg', 'data/nyu2_train/living_room_0038_out/154.png'], ['data/nyu2_train/living_room_0038_out/78.jpg', 'data/nyu2_train/living_room_0038_out/78.png'], ['data/nyu2_train/living_room_0038_out/73.jpg', 'data/nyu2_train/living_room_0038_out/73.png'], ['data/nyu2_train/living_room_0038_out/159.jpg', 'data/nyu2_train/living_room_0038_out/159.png'], ['data/nyu2_train/living_room_0038_out/110.jpg', 'data/nyu2_train/living_room_0038_out/110.png'], ['data/nyu2_train/living_room_0038_out/143.jpg', 'data/nyu2_train/living_room_0038_out/143.png'], ['data/nyu2_train/living_room_0038_out/83.jpg', 'data/nyu2_train/living_room_0038_out/83.png'], ['data/nyu2_train/living_room_0038_out/87.jpg', 'data/nyu2_train/living_room_0038_out/87.png'], ['data/nyu2_train/living_room_0038_out/59.jpg', 'data/nyu2_train/living_room_0038_out/59.png'], ['data/nyu2_train/living_room_0038_out/36.jpg', 'data/nyu2_train/living_room_0038_out/36.png'], ['data/nyu2_train/living_room_0038_out/20.jpg', 'data/nyu2_train/living_room_0038_out/20.png'], ['data/nyu2_train/living_room_0038_out/165.jpg', 'data/nyu2_train/living_room_0038_out/165.png'], ['data/nyu2_train/living_room_0038_out/106.jpg', 'data/nyu2_train/living_room_0038_out/106.png'], ['data/nyu2_train/living_room_0038_out/145.jpg', 'data/nyu2_train/living_room_0038_out/145.png'], ['data/nyu2_train/living_room_0038_out/65.jpg', 'data/nyu2_train/living_room_0038_out/65.png'], ['data/nyu2_train/living_room_0038_out/120.jpg', 'data/nyu2_train/living_room_0038_out/120.png'], ['data/nyu2_train/living_room_0038_out/86.jpg', 'data/nyu2_train/living_room_0038_out/86.png'], ['data/nyu2_train/living_room_0038_out/44.jpg', 'data/nyu2_train/living_room_0038_out/44.png'], ['data/nyu2_train/living_room_0038_out/63.jpg', 'data/nyu2_train/living_room_0038_out/63.png'], ['data/nyu2_train/living_room_0038_out/116.jpg', 'data/nyu2_train/living_room_0038_out/116.png'], ['data/nyu2_train/living_room_0038_out/61.jpg', 'data/nyu2_train/living_room_0038_out/61.png'], ['data/nyu2_train/living_room_0038_out/32.jpg', 'data/nyu2_train/living_room_0038_out/32.png'], ['data/nyu2_train/living_room_0038_out/123.jpg', 'data/nyu2_train/living_room_0038_out/123.png'], ['data/nyu2_train/living_room_0038_out/23.jpg', 'data/nyu2_train/living_room_0038_out/23.png'], ['data/nyu2_train/living_room_0038_out/74.jpg', 'data/nyu2_train/living_room_0038_out/74.png'], ['data/nyu2_train/living_room_0038_out/164.jpg', 'data/nyu2_train/living_room_0038_out/164.png'], ['data/nyu2_train/living_room_0038_out/141.jpg', 'data/nyu2_train/living_room_0038_out/141.png'], ['data/nyu2_train/living_room_0038_out/52.jpg', 'data/nyu2_train/living_room_0038_out/52.png'], ['data/nyu2_train/living_room_0038_out/66.jpg', 'data/nyu2_train/living_room_0038_out/66.png'], ['data/nyu2_train/living_room_0038_out/24.jpg', 'data/nyu2_train/living_room_0038_out/24.png'], ['data/nyu2_train/living_room_0038_out/22.jpg', 'data/nyu2_train/living_room_0038_out/22.png'], ['data/nyu2_train/living_room_0038_out/166.jpg', 'data/nyu2_train/living_room_0038_out/166.png'], ['data/nyu2_train/living_room_0038_out/80.jpg', 'data/nyu2_train/living_room_0038_out/80.png'], ['data/nyu2_train/living_room_0038_out/96.jpg', 'data/nyu2_train/living_room_0038_out/96.png'], ['data/nyu2_train/living_room_0038_out/26.jpg', 'data/nyu2_train/living_room_0038_out/26.png'], ['data/nyu2_train/living_room_0038_out/88.jpg', 'data/nyu2_train/living_room_0038_out/88.png'], ['data/nyu2_train/living_room_0038_out/9.jpg', 'data/nyu2_train/living_room_0038_out/9.png'], ['data/nyu2_train/living_room_0038_out/109.jpg', 'data/nyu2_train/living_room_0038_out/109.png'], ['data/nyu2_train/living_room_0038_out/90.jpg', 'data/nyu2_train/living_room_0038_out/90.png'], ['data/nyu2_train/bedroom_0047_out/37.jpg', 'data/nyu2_train/bedroom_0047_out/37.png'], ['data/nyu2_train/bedroom_0047_out/6.jpg', 'data/nyu2_train/bedroom_0047_out/6.png'], ['data/nyu2_train/bedroom_0047_out/49.jpg', 'data/nyu2_train/bedroom_0047_out/49.png'], ['data/nyu2_train/bedroom_0047_out/94.jpg', 'data/nyu2_train/bedroom_0047_out/94.png'], ['data/nyu2_train/bedroom_0047_out/18.jpg', 'data/nyu2_train/bedroom_0047_out/18.png'], ['data/nyu2_train/bedroom_0047_out/21.jpg', 'data/nyu2_train/bedroom_0047_out/21.png'], ['data/nyu2_train/bedroom_0047_out/48.jpg', 'data/nyu2_train/bedroom_0047_out/48.png'], ['data/nyu2_train/bedroom_0047_out/75.jpg', 'data/nyu2_train/bedroom_0047_out/75.png'], ['data/nyu2_train/bedroom_0047_out/25.jpg', 'data/nyu2_train/bedroom_0047_out/25.png'], ['data/nyu2_train/bedroom_0047_out/13.jpg', 'data/nyu2_train/bedroom_0047_out/13.png'], ['data/nyu2_train/bedroom_0047_out/68.jpg', 'data/nyu2_train/bedroom_0047_out/68.png'], ['data/nyu2_train/bedroom_0047_out/28.jpg', 'data/nyu2_train/bedroom_0047_out/28.png'], ['data/nyu2_train/bedroom_0047_out/85.jpg', 'data/nyu2_train/bedroom_0047_out/85.png'], ['data/nyu2_train/bedroom_0047_out/57.jpg', 'data/nyu2_train/bedroom_0047_out/57.png'], ['data/nyu2_train/bedroom_0047_out/34.jpg', 'data/nyu2_train/bedroom_0047_out/34.png'], ['data/nyu2_train/bedroom_0047_out/53.jpg', 'data/nyu2_train/bedroom_0047_out/53.png'], ['data/nyu2_train/bedroom_0047_out/11.jpg', 'data/nyu2_train/bedroom_0047_out/11.png'], ['data/nyu2_train/bedroom_0047_out/46.jpg', 'data/nyu2_train/bedroom_0047_out/46.png'], ['data/nyu2_train/bedroom_0047_out/39.jpg', 'data/nyu2_train/bedroom_0047_out/39.png'], ['data/nyu2_train/bedroom_0047_out/71.jpg', 'data/nyu2_train/bedroom_0047_out/71.png'], ['data/nyu2_train/bedroom_0047_out/29.jpg', 'data/nyu2_train/bedroom_0047_out/29.png'], ['data/nyu2_train/bedroom_0047_out/14.jpg', 'data/nyu2_train/bedroom_0047_out/14.png'], ['data/nyu2_train/bedroom_0047_out/30.jpg', 'data/nyu2_train/bedroom_0047_out/30.png'], ['data/nyu2_train/bedroom_0047_out/16.jpg', 'data/nyu2_train/bedroom_0047_out/16.png'], ['data/nyu2_train/bedroom_0047_out/62.jpg', 'data/nyu2_train/bedroom_0047_out/62.png'], ['data/nyu2_train/bedroom_0047_out/56.jpg', 'data/nyu2_train/bedroom_0047_out/56.png'], ['data/nyu2_train/bedroom_0047_out/42.jpg', 'data/nyu2_train/bedroom_0047_out/42.png'], ['data/nyu2_train/bedroom_0047_out/2.jpg', 'data/nyu2_train/bedroom_0047_out/2.png'], ['data/nyu2_train/bedroom_0047_out/91.jpg', 'data/nyu2_train/bedroom_0047_out/91.png'], ['data/nyu2_train/bedroom_0047_out/93.jpg', 'data/nyu2_train/bedroom_0047_out/93.png'], ['data/nyu2_train/bedroom_0047_out/70.jpg', 'data/nyu2_train/bedroom_0047_out/70.png'], ['data/nyu2_train/bedroom_0047_out/60.jpg', 'data/nyu2_train/bedroom_0047_out/60.png'], ['data/nyu2_train/bedroom_0047_out/3.jpg', 'data/nyu2_train/bedroom_0047_out/3.png'], ['data/nyu2_train/bedroom_0047_out/54.jpg', 'data/nyu2_train/bedroom_0047_out/54.png'], ['data/nyu2_train/bedroom_0047_out/10.jpg', 'data/nyu2_train/bedroom_0047_out/10.png'], ['data/nyu2_train/bedroom_0047_out/4.jpg', 'data/nyu2_train/bedroom_0047_out/4.png'], ['data/nyu2_train/bedroom_0047_out/12.jpg', 'data/nyu2_train/bedroom_0047_out/12.png'], ['data/nyu2_train/bedroom_0047_out/64.jpg', 'data/nyu2_train/bedroom_0047_out/64.png'], ['data/nyu2_train/bedroom_0047_out/67.jpg', 'data/nyu2_train/bedroom_0047_out/67.png'], ['data/nyu2_train/bedroom_0047_out/8.jpg', 'data/nyu2_train/bedroom_0047_out/8.png'], ['data/nyu2_train/bedroom_0047_out/43.jpg', 'data/nyu2_train/bedroom_0047_out/43.png'], ['data/nyu2_train/bedroom_0047_out/17.jpg', 'data/nyu2_train/bedroom_0047_out/17.png'], ['data/nyu2_train/bedroom_0047_out/35.jpg', 'data/nyu2_train/bedroom_0047_out/35.png'], ['data/nyu2_train/bedroom_0047_out/40.jpg', 'data/nyu2_train/bedroom_0047_out/40.png'], ['data/nyu2_train/bedroom_0047_out/55.jpg', 'data/nyu2_train/bedroom_0047_out/55.png'], ['data/nyu2_train/bedroom_0047_out/95.jpg', 'data/nyu2_train/bedroom_0047_out/95.png'], ['data/nyu2_train/bedroom_0047_out/45.jpg', 'data/nyu2_train/bedroom_0047_out/45.png'], ['data/nyu2_train/bedroom_0047_out/82.jpg', 'data/nyu2_train/bedroom_0047_out/82.png'], ['data/nyu2_train/bedroom_0047_out/79.jpg', 'data/nyu2_train/bedroom_0047_out/79.png'], ['data/nyu2_train/bedroom_0047_out/31.jpg', 'data/nyu2_train/bedroom_0047_out/31.png'], ['data/nyu2_train/bedroom_0047_out/47.jpg', 'data/nyu2_train/bedroom_0047_out/47.png'], ['data/nyu2_train/bedroom_0047_out/41.jpg', 'data/nyu2_train/bedroom_0047_out/41.png'], ['data/nyu2_train/bedroom_0047_out/50.jpg', 'data/nyu2_train/bedroom_0047_out/50.png'], ['data/nyu2_train/bedroom_0047_out/19.jpg', 'data/nyu2_train/bedroom_0047_out/19.png'], ['data/nyu2_train/bedroom_0047_out/58.jpg', 'data/nyu2_train/bedroom_0047_out/58.png'], ['data/nyu2_train/bedroom_0047_out/76.jpg', 'data/nyu2_train/bedroom_0047_out/76.png'], ['data/nyu2_train/bedroom_0047_out/69.jpg', 'data/nyu2_train/bedroom_0047_out/69.png'], ['data/nyu2_train/bedroom_0047_out/5.jpg', 'data/nyu2_train/bedroom_0047_out/5.png'], ['data/nyu2_train/bedroom_0047_out/1.jpg', 'data/nyu2_train/bedroom_0047_out/1.png'], ['data/nyu2_train/bedroom_0047_out/84.jpg', 'data/nyu2_train/bedroom_0047_out/84.png'], ['data/nyu2_train/bedroom_0047_out/92.jpg', 'data/nyu2_train/bedroom_0047_out/92.png'], ['data/nyu2_train/bedroom_0047_out/51.jpg', 'data/nyu2_train/bedroom_0047_out/51.png'], ['data/nyu2_train/bedroom_0047_out/7.jpg', 'data/nyu2_train/bedroom_0047_out/7.png'], ['data/nyu2_train/bedroom_0047_out/15.jpg', 'data/nyu2_train/bedroom_0047_out/15.png'], ['data/nyu2_train/bedroom_0047_out/77.jpg', 'data/nyu2_train/bedroom_0047_out/77.png'], ['data/nyu2_train/bedroom_0047_out/89.jpg', 'data/nyu2_train/bedroom_0047_out/89.png'], ['data/nyu2_train/bedroom_0047_out/72.jpg', 'data/nyu2_train/bedroom_0047_out/72.png'], ['data/nyu2_train/bedroom_0047_out/81.jpg', 'data/nyu2_train/bedroom_0047_out/81.png'], ['data/nyu2_train/bedroom_0047_out/33.jpg', 'data/nyu2_train/bedroom_0047_out/33.png'], ['data/nyu2_train/bedroom_0047_out/27.jpg', 'data/nyu2_train/bedroom_0047_out/27.png'], ['data/nyu2_train/bedroom_0047_out/38.jpg', 'data/nyu2_train/bedroom_0047_out/38.png'], ['data/nyu2_train/bedroom_0047_out/78.jpg', 'data/nyu2_train/bedroom_0047_out/78.png'], ['data/nyu2_train/bedroom_0047_out/73.jpg', 'data/nyu2_train/bedroom_0047_out/73.png'], ['data/nyu2_train/bedroom_0047_out/83.jpg', 'data/nyu2_train/bedroom_0047_out/83.png'], ['data/nyu2_train/bedroom_0047_out/87.jpg', 'data/nyu2_train/bedroom_0047_out/87.png'], ['data/nyu2_train/bedroom_0047_out/59.jpg', 'data/nyu2_train/bedroom_0047_out/59.png'], ['data/nyu2_train/bedroom_0047_out/36.jpg', 'data/nyu2_train/bedroom_0047_out/36.png'], ['data/nyu2_train/bedroom_0047_out/20.jpg', 'data/nyu2_train/bedroom_0047_out/20.png'], ['data/nyu2_train/bedroom_0047_out/65.jpg', 'data/nyu2_train/bedroom_0047_out/65.png'], ['data/nyu2_train/bedroom_0047_out/86.jpg', 'data/nyu2_train/bedroom_0047_out/86.png'], ['data/nyu2_train/bedroom_0047_out/44.jpg', 'data/nyu2_train/bedroom_0047_out/44.png'], ['data/nyu2_train/bedroom_0047_out/63.jpg', 'data/nyu2_train/bedroom_0047_out/63.png'], ['data/nyu2_train/bedroom_0047_out/61.jpg', 'data/nyu2_train/bedroom_0047_out/61.png'], ['data/nyu2_train/bedroom_0047_out/32.jpg', 'data/nyu2_train/bedroom_0047_out/32.png'], ['data/nyu2_train/bedroom_0047_out/23.jpg', 'data/nyu2_train/bedroom_0047_out/23.png'], ['data/nyu2_train/bedroom_0047_out/74.jpg', 'data/nyu2_train/bedroom_0047_out/74.png'], ['data/nyu2_train/bedroom_0047_out/52.jpg', 'data/nyu2_train/bedroom_0047_out/52.png'], ['data/nyu2_train/bedroom_0047_out/66.jpg', 'data/nyu2_train/bedroom_0047_out/66.png'], ['data/nyu2_train/bedroom_0047_out/24.jpg', 'data/nyu2_train/bedroom_0047_out/24.png'], ['data/nyu2_train/bedroom_0047_out/22.jpg', 'data/nyu2_train/bedroom_0047_out/22.png'], ['data/nyu2_train/bedroom_0047_out/80.jpg', 'data/nyu2_train/bedroom_0047_out/80.png'], ['data/nyu2_train/bedroom_0047_out/26.jpg', 'data/nyu2_train/bedroom_0047_out/26.png'], ['data/nyu2_train/bedroom_0047_out/88.jpg', 'data/nyu2_train/bedroom_0047_out/88.png'], ['data/nyu2_train/bedroom_0047_out/9.jpg', 'data/nyu2_train/bedroom_0047_out/9.png'], ['data/nyu2_train/bedroom_0047_out/90.jpg', 'data/nyu2_train/bedroom_0047_out/90.png'], ['data/nyu2_train/bedroom_0113_out/37.jpg', 'data/nyu2_train/bedroom_0113_out/37.png'], ['data/nyu2_train/bedroom_0113_out/115.jpg', 'data/nyu2_train/bedroom_0113_out/115.png'], ['data/nyu2_train/bedroom_0113_out/6.jpg', 'data/nyu2_train/bedroom_0113_out/6.png'], ['data/nyu2_train/bedroom_0113_out/49.jpg', 'data/nyu2_train/bedroom_0113_out/49.png'], ['data/nyu2_train/bedroom_0113_out/152.jpg', 'data/nyu2_train/bedroom_0113_out/152.png'], ['data/nyu2_train/bedroom_0113_out/142.jpg', 'data/nyu2_train/bedroom_0113_out/142.png'], ['data/nyu2_train/bedroom_0113_out/94.jpg', 'data/nyu2_train/bedroom_0113_out/94.png'], ['data/nyu2_train/bedroom_0113_out/158.jpg', 'data/nyu2_train/bedroom_0113_out/158.png'], ['data/nyu2_train/bedroom_0113_out/18.jpg', 'data/nyu2_train/bedroom_0113_out/18.png'], ['data/nyu2_train/bedroom_0113_out/21.jpg', 'data/nyu2_train/bedroom_0113_out/21.png'], ['data/nyu2_train/bedroom_0113_out/48.jpg', 'data/nyu2_train/bedroom_0113_out/48.png'], ['data/nyu2_train/bedroom_0113_out/75.jpg', 'data/nyu2_train/bedroom_0113_out/75.png'], ['data/nyu2_train/bedroom_0113_out/25.jpg', 'data/nyu2_train/bedroom_0113_out/25.png'], ['data/nyu2_train/bedroom_0113_out/13.jpg', 'data/nyu2_train/bedroom_0113_out/13.png'], ['data/nyu2_train/bedroom_0113_out/68.jpg', 'data/nyu2_train/bedroom_0113_out/68.png'], ['data/nyu2_train/bedroom_0113_out/28.jpg', 'data/nyu2_train/bedroom_0113_out/28.png'], ['data/nyu2_train/bedroom_0113_out/161.jpg', 'data/nyu2_train/bedroom_0113_out/161.png'], ['data/nyu2_train/bedroom_0113_out/85.jpg', 'data/nyu2_train/bedroom_0113_out/85.png'], ['data/nyu2_train/bedroom_0113_out/57.jpg', 'data/nyu2_train/bedroom_0113_out/57.png'], ['data/nyu2_train/bedroom_0113_out/34.jpg', 'data/nyu2_train/bedroom_0113_out/34.png'], ['data/nyu2_train/bedroom_0113_out/118.jpg', 'data/nyu2_train/bedroom_0113_out/118.png'], ['data/nyu2_train/bedroom_0113_out/53.jpg', 'data/nyu2_train/bedroom_0113_out/53.png'], ['data/nyu2_train/bedroom_0113_out/11.jpg', 'data/nyu2_train/bedroom_0113_out/11.png'], ['data/nyu2_train/bedroom_0113_out/46.jpg', 'data/nyu2_train/bedroom_0113_out/46.png'], ['data/nyu2_train/bedroom_0113_out/135.jpg', 'data/nyu2_train/bedroom_0113_out/135.png'], ['data/nyu2_train/bedroom_0113_out/39.jpg', 'data/nyu2_train/bedroom_0113_out/39.png'], ['data/nyu2_train/bedroom_0113_out/71.jpg', 'data/nyu2_train/bedroom_0113_out/71.png'], ['data/nyu2_train/bedroom_0113_out/29.jpg', 'data/nyu2_train/bedroom_0113_out/29.png'], ['data/nyu2_train/bedroom_0113_out/14.jpg', 'data/nyu2_train/bedroom_0113_out/14.png'], ['data/nyu2_train/bedroom_0113_out/113.jpg', 'data/nyu2_train/bedroom_0113_out/113.png'], ['data/nyu2_train/bedroom_0113_out/138.jpg', 'data/nyu2_train/bedroom_0113_out/138.png'], ['data/nyu2_train/bedroom_0113_out/30.jpg', 'data/nyu2_train/bedroom_0113_out/30.png'], ['data/nyu2_train/bedroom_0113_out/16.jpg', 'data/nyu2_train/bedroom_0113_out/16.png'], ['data/nyu2_train/bedroom_0113_out/105.jpg', 'data/nyu2_train/bedroom_0113_out/105.png'], ['data/nyu2_train/bedroom_0113_out/62.jpg', 'data/nyu2_train/bedroom_0113_out/62.png'], ['data/nyu2_train/bedroom_0113_out/56.jpg', 'data/nyu2_train/bedroom_0113_out/56.png'], ['data/nyu2_train/bedroom_0113_out/119.jpg', 'data/nyu2_train/bedroom_0113_out/119.png'], ['data/nyu2_train/bedroom_0113_out/42.jpg', 'data/nyu2_train/bedroom_0113_out/42.png'], ['data/nyu2_train/bedroom_0113_out/2.jpg', 'data/nyu2_train/bedroom_0113_out/2.png'], ['data/nyu2_train/bedroom_0113_out/129.jpg', 'data/nyu2_train/bedroom_0113_out/129.png'], ['data/nyu2_train/bedroom_0113_out/160.jpg', 'data/nyu2_train/bedroom_0113_out/160.png'], ['data/nyu2_train/bedroom_0113_out/126.jpg', 'data/nyu2_train/bedroom_0113_out/126.png'], ['data/nyu2_train/bedroom_0113_out/91.jpg', 'data/nyu2_train/bedroom_0113_out/91.png'], ['data/nyu2_train/bedroom_0113_out/162.jpg', 'data/nyu2_train/bedroom_0113_out/162.png'], ['data/nyu2_train/bedroom_0113_out/93.jpg', 'data/nyu2_train/bedroom_0113_out/93.png'], ['data/nyu2_train/bedroom_0113_out/70.jpg', 'data/nyu2_train/bedroom_0113_out/70.png'], ['data/nyu2_train/bedroom_0113_out/60.jpg', 'data/nyu2_train/bedroom_0113_out/60.png'], ['data/nyu2_train/bedroom_0113_out/3.jpg', 'data/nyu2_train/bedroom_0113_out/3.png'], ['data/nyu2_train/bedroom_0113_out/132.jpg', 'data/nyu2_train/bedroom_0113_out/132.png'], ['data/nyu2_train/bedroom_0113_out/54.jpg', 'data/nyu2_train/bedroom_0113_out/54.png'], ['data/nyu2_train/bedroom_0113_out/146.jpg', 'data/nyu2_train/bedroom_0113_out/146.png'], ['data/nyu2_train/bedroom_0113_out/121.jpg', 'data/nyu2_train/bedroom_0113_out/121.png'], ['data/nyu2_train/bedroom_0113_out/122.jpg', 'data/nyu2_train/bedroom_0113_out/122.png'], ['data/nyu2_train/bedroom_0113_out/130.jpg', 'data/nyu2_train/bedroom_0113_out/130.png'], ['data/nyu2_train/bedroom_0113_out/10.jpg', 'data/nyu2_train/bedroom_0113_out/10.png'], ['data/nyu2_train/bedroom_0113_out/4.jpg', 'data/nyu2_train/bedroom_0113_out/4.png'], ['data/nyu2_train/bedroom_0113_out/153.jpg', 'data/nyu2_train/bedroom_0113_out/153.png'], ['data/nyu2_train/bedroom_0113_out/12.jpg', 'data/nyu2_train/bedroom_0113_out/12.png'], ['data/nyu2_train/bedroom_0113_out/163.jpg', 'data/nyu2_train/bedroom_0113_out/163.png'], ['data/nyu2_train/bedroom_0113_out/104.jpg', 'data/nyu2_train/bedroom_0113_out/104.png'], ['data/nyu2_train/bedroom_0113_out/134.jpg', 'data/nyu2_train/bedroom_0113_out/134.png'], ['data/nyu2_train/bedroom_0113_out/100.jpg', 'data/nyu2_train/bedroom_0113_out/100.png'], ['data/nyu2_train/bedroom_0113_out/64.jpg', 'data/nyu2_train/bedroom_0113_out/64.png'], ['data/nyu2_train/bedroom_0113_out/147.jpg', 'data/nyu2_train/bedroom_0113_out/147.png'], ['data/nyu2_train/bedroom_0113_out/103.jpg', 'data/nyu2_train/bedroom_0113_out/103.png'], ['data/nyu2_train/bedroom_0113_out/67.jpg', 'data/nyu2_train/bedroom_0113_out/67.png'], ['data/nyu2_train/bedroom_0113_out/114.jpg', 'data/nyu2_train/bedroom_0113_out/114.png'], ['data/nyu2_train/bedroom_0113_out/8.jpg', 'data/nyu2_train/bedroom_0113_out/8.png'], ['data/nyu2_train/bedroom_0113_out/127.jpg', 'data/nyu2_train/bedroom_0113_out/127.png'], ['data/nyu2_train/bedroom_0113_out/43.jpg', 'data/nyu2_train/bedroom_0113_out/43.png'], ['data/nyu2_train/bedroom_0113_out/144.jpg', 'data/nyu2_train/bedroom_0113_out/144.png'], ['data/nyu2_train/bedroom_0113_out/17.jpg', 'data/nyu2_train/bedroom_0113_out/17.png'], ['data/nyu2_train/bedroom_0113_out/151.jpg', 'data/nyu2_train/bedroom_0113_out/151.png'], ['data/nyu2_train/bedroom_0113_out/35.jpg', 'data/nyu2_train/bedroom_0113_out/35.png'], ['data/nyu2_train/bedroom_0113_out/40.jpg', 'data/nyu2_train/bedroom_0113_out/40.png'], ['data/nyu2_train/bedroom_0113_out/55.jpg', 'data/nyu2_train/bedroom_0113_out/55.png'], ['data/nyu2_train/bedroom_0113_out/95.jpg', 'data/nyu2_train/bedroom_0113_out/95.png'], ['data/nyu2_train/bedroom_0113_out/45.jpg', 'data/nyu2_train/bedroom_0113_out/45.png'], ['data/nyu2_train/bedroom_0113_out/82.jpg', 'data/nyu2_train/bedroom_0113_out/82.png'], ['data/nyu2_train/bedroom_0113_out/108.jpg', 'data/nyu2_train/bedroom_0113_out/108.png'], ['data/nyu2_train/bedroom_0113_out/79.jpg', 'data/nyu2_train/bedroom_0113_out/79.png'], ['data/nyu2_train/bedroom_0113_out/31.jpg', 'data/nyu2_train/bedroom_0113_out/31.png'], ['data/nyu2_train/bedroom_0113_out/137.jpg', 'data/nyu2_train/bedroom_0113_out/137.png'], ['data/nyu2_train/bedroom_0113_out/47.jpg', 'data/nyu2_train/bedroom_0113_out/47.png'], ['data/nyu2_train/bedroom_0113_out/111.jpg', 'data/nyu2_train/bedroom_0113_out/111.png'], ['data/nyu2_train/bedroom_0113_out/41.jpg', 'data/nyu2_train/bedroom_0113_out/41.png'], ['data/nyu2_train/bedroom_0113_out/50.jpg', 'data/nyu2_train/bedroom_0113_out/50.png'], ['data/nyu2_train/bedroom_0113_out/140.jpg', 'data/nyu2_train/bedroom_0113_out/140.png'], ['data/nyu2_train/bedroom_0113_out/19.jpg', 'data/nyu2_train/bedroom_0113_out/19.png'], ['data/nyu2_train/bedroom_0113_out/58.jpg', 'data/nyu2_train/bedroom_0113_out/58.png'], ['data/nyu2_train/bedroom_0113_out/98.jpg', 'data/nyu2_train/bedroom_0113_out/98.png'], ['data/nyu2_train/bedroom_0113_out/76.jpg', 'data/nyu2_train/bedroom_0113_out/76.png'], ['data/nyu2_train/bedroom_0113_out/124.jpg', 'data/nyu2_train/bedroom_0113_out/124.png'], ['data/nyu2_train/bedroom_0113_out/128.jpg', 'data/nyu2_train/bedroom_0113_out/128.png'], ['data/nyu2_train/bedroom_0113_out/149.jpg', 'data/nyu2_train/bedroom_0113_out/149.png'], ['data/nyu2_train/bedroom_0113_out/69.jpg', 'data/nyu2_train/bedroom_0113_out/69.png'], ['data/nyu2_train/bedroom_0113_out/155.jpg', 'data/nyu2_train/bedroom_0113_out/155.png'], ['data/nyu2_train/bedroom_0113_out/5.jpg', 'data/nyu2_train/bedroom_0113_out/5.png'], ['data/nyu2_train/bedroom_0113_out/131.jpg', 'data/nyu2_train/bedroom_0113_out/131.png'], ['data/nyu2_train/bedroom_0113_out/101.jpg', 'data/nyu2_train/bedroom_0113_out/101.png'], ['data/nyu2_train/bedroom_0113_out/112.jpg', 'data/nyu2_train/bedroom_0113_out/112.png'], ['data/nyu2_train/bedroom_0113_out/1.jpg', 'data/nyu2_train/bedroom_0113_out/1.png'], ['data/nyu2_train/bedroom_0113_out/148.jpg', 'data/nyu2_train/bedroom_0113_out/148.png'], ['data/nyu2_train/bedroom_0113_out/84.jpg', 'data/nyu2_train/bedroom_0113_out/84.png'], ['data/nyu2_train/bedroom_0113_out/92.jpg', 'data/nyu2_train/bedroom_0113_out/92.png'], ['data/nyu2_train/bedroom_0113_out/133.jpg', 'data/nyu2_train/bedroom_0113_out/133.png'], ['data/nyu2_train/bedroom_0113_out/150.jpg', 'data/nyu2_train/bedroom_0113_out/150.png'], ['data/nyu2_train/bedroom_0113_out/107.jpg', 'data/nyu2_train/bedroom_0113_out/107.png'], ['data/nyu2_train/bedroom_0113_out/136.jpg', 'data/nyu2_train/bedroom_0113_out/136.png'], ['data/nyu2_train/bedroom_0113_out/51.jpg', 'data/nyu2_train/bedroom_0113_out/51.png'], ['data/nyu2_train/bedroom_0113_out/7.jpg', 'data/nyu2_train/bedroom_0113_out/7.png'], ['data/nyu2_train/bedroom_0113_out/97.jpg', 'data/nyu2_train/bedroom_0113_out/97.png'], ['data/nyu2_train/bedroom_0113_out/15.jpg', 'data/nyu2_train/bedroom_0113_out/15.png'], ['data/nyu2_train/bedroom_0113_out/156.jpg', 'data/nyu2_train/bedroom_0113_out/156.png'], ['data/nyu2_train/bedroom_0113_out/77.jpg', 'data/nyu2_train/bedroom_0113_out/77.png'], ['data/nyu2_train/bedroom_0113_out/117.jpg', 'data/nyu2_train/bedroom_0113_out/117.png'], ['data/nyu2_train/bedroom_0113_out/125.jpg', 'data/nyu2_train/bedroom_0113_out/125.png'], ['data/nyu2_train/bedroom_0113_out/89.jpg', 'data/nyu2_train/bedroom_0113_out/89.png'], ['data/nyu2_train/bedroom_0113_out/102.jpg', 'data/nyu2_train/bedroom_0113_out/102.png'], ['data/nyu2_train/bedroom_0113_out/99.jpg', 'data/nyu2_train/bedroom_0113_out/99.png'], ['data/nyu2_train/bedroom_0113_out/72.jpg', 'data/nyu2_train/bedroom_0113_out/72.png'], ['data/nyu2_train/bedroom_0113_out/157.jpg', 'data/nyu2_train/bedroom_0113_out/157.png'], ['data/nyu2_train/bedroom_0113_out/81.jpg', 'data/nyu2_train/bedroom_0113_out/81.png'], ['data/nyu2_train/bedroom_0113_out/33.jpg', 'data/nyu2_train/bedroom_0113_out/33.png'], ['data/nyu2_train/bedroom_0113_out/27.jpg', 'data/nyu2_train/bedroom_0113_out/27.png'], ['data/nyu2_train/bedroom_0113_out/139.jpg', 'data/nyu2_train/bedroom_0113_out/139.png'], ['data/nyu2_train/bedroom_0113_out/38.jpg', 'data/nyu2_train/bedroom_0113_out/38.png'], ['data/nyu2_train/bedroom_0113_out/154.jpg', 'data/nyu2_train/bedroom_0113_out/154.png'], ['data/nyu2_train/bedroom_0113_out/78.jpg', 'data/nyu2_train/bedroom_0113_out/78.png'], ['data/nyu2_train/bedroom_0113_out/73.jpg', 'data/nyu2_train/bedroom_0113_out/73.png'], ['data/nyu2_train/bedroom_0113_out/159.jpg', 'data/nyu2_train/bedroom_0113_out/159.png'], ['data/nyu2_train/bedroom_0113_out/110.jpg', 'data/nyu2_train/bedroom_0113_out/110.png'], ['data/nyu2_train/bedroom_0113_out/143.jpg', 'data/nyu2_train/bedroom_0113_out/143.png'], ['data/nyu2_train/bedroom_0113_out/83.jpg', 'data/nyu2_train/bedroom_0113_out/83.png'], ['data/nyu2_train/bedroom_0113_out/87.jpg', 'data/nyu2_train/bedroom_0113_out/87.png'], ['data/nyu2_train/bedroom_0113_out/59.jpg', 'data/nyu2_train/bedroom_0113_out/59.png'], ['data/nyu2_train/bedroom_0113_out/36.jpg', 'data/nyu2_train/bedroom_0113_out/36.png'], ['data/nyu2_train/bedroom_0113_out/20.jpg', 'data/nyu2_train/bedroom_0113_out/20.png'], ['data/nyu2_train/bedroom_0113_out/165.jpg', 'data/nyu2_train/bedroom_0113_out/165.png'], ['data/nyu2_train/bedroom_0113_out/106.jpg', 'data/nyu2_train/bedroom_0113_out/106.png'], ['data/nyu2_train/bedroom_0113_out/145.jpg', 'data/nyu2_train/bedroom_0113_out/145.png'], ['data/nyu2_train/bedroom_0113_out/65.jpg', 'data/nyu2_train/bedroom_0113_out/65.png'], ['data/nyu2_train/bedroom_0113_out/120.jpg', 'data/nyu2_train/bedroom_0113_out/120.png'], ['data/nyu2_train/bedroom_0113_out/86.jpg', 'data/nyu2_train/bedroom_0113_out/86.png'], ['data/nyu2_train/bedroom_0113_out/44.jpg', 'data/nyu2_train/bedroom_0113_out/44.png'], ['data/nyu2_train/bedroom_0113_out/63.jpg', 'data/nyu2_train/bedroom_0113_out/63.png'], ['data/nyu2_train/bedroom_0113_out/116.jpg', 'data/nyu2_train/bedroom_0113_out/116.png'], ['data/nyu2_train/bedroom_0113_out/61.jpg', 'data/nyu2_train/bedroom_0113_out/61.png'], ['data/nyu2_train/bedroom_0113_out/32.jpg', 'data/nyu2_train/bedroom_0113_out/32.png'], ['data/nyu2_train/bedroom_0113_out/123.jpg', 'data/nyu2_train/bedroom_0113_out/123.png'], ['data/nyu2_train/bedroom_0113_out/23.jpg', 'data/nyu2_train/bedroom_0113_out/23.png'], ['data/nyu2_train/bedroom_0113_out/74.jpg', 'data/nyu2_train/bedroom_0113_out/74.png'], ['data/nyu2_train/bedroom_0113_out/164.jpg', 'data/nyu2_train/bedroom_0113_out/164.png'], ['data/nyu2_train/bedroom_0113_out/141.jpg', 'data/nyu2_train/bedroom_0113_out/141.png'], ['data/nyu2_train/bedroom_0113_out/52.jpg', 'data/nyu2_train/bedroom_0113_out/52.png'], ['data/nyu2_train/bedroom_0113_out/66.jpg', 'data/nyu2_train/bedroom_0113_out/66.png'], ['data/nyu2_train/bedroom_0113_out/24.jpg', 'data/nyu2_train/bedroom_0113_out/24.png'], ['data/nyu2_train/bedroom_0113_out/22.jpg', 'data/nyu2_train/bedroom_0113_out/22.png'], ['data/nyu2_train/bedroom_0113_out/166.jpg', 'data/nyu2_train/bedroom_0113_out/166.png'], ['data/nyu2_train/bedroom_0113_out/80.jpg', 'data/nyu2_train/bedroom_0113_out/80.png'], ['data/nyu2_train/bedroom_0113_out/96.jpg', 'data/nyu2_train/bedroom_0113_out/96.png'], ['data/nyu2_train/bedroom_0113_out/26.jpg', 'data/nyu2_train/bedroom_0113_out/26.png'], ['data/nyu2_train/bedroom_0113_out/88.jpg', 'data/nyu2_train/bedroom_0113_out/88.png'], ['data/nyu2_train/bedroom_0113_out/9.jpg', 'data/nyu2_train/bedroom_0113_out/9.png'], ['data/nyu2_train/bedroom_0113_out/109.jpg', 'data/nyu2_train/bedroom_0113_out/109.png'], ['data/nyu2_train/bedroom_0113_out/90.jpg', 'data/nyu2_train/bedroom_0113_out/90.png'], ['data/nyu2_train/kitchen_0011b_out/37.jpg', 'data/nyu2_train/kitchen_0011b_out/37.png'], ['data/nyu2_train/kitchen_0011b_out/115.jpg', 'data/nyu2_train/kitchen_0011b_out/115.png'], ['data/nyu2_train/kitchen_0011b_out/6.jpg', 'data/nyu2_train/kitchen_0011b_out/6.png'], ['data/nyu2_train/kitchen_0011b_out/49.jpg', 'data/nyu2_train/kitchen_0011b_out/49.png'], ['data/nyu2_train/kitchen_0011b_out/94.jpg', 'data/nyu2_train/kitchen_0011b_out/94.png'], ['data/nyu2_train/kitchen_0011b_out/18.jpg', 'data/nyu2_train/kitchen_0011b_out/18.png'], ['data/nyu2_train/kitchen_0011b_out/21.jpg', 'data/nyu2_train/kitchen_0011b_out/21.png'], ['data/nyu2_train/kitchen_0011b_out/48.jpg', 'data/nyu2_train/kitchen_0011b_out/48.png'], ['data/nyu2_train/kitchen_0011b_out/75.jpg', 'data/nyu2_train/kitchen_0011b_out/75.png'], ['data/nyu2_train/kitchen_0011b_out/25.jpg', 'data/nyu2_train/kitchen_0011b_out/25.png'], ['data/nyu2_train/kitchen_0011b_out/13.jpg', 'data/nyu2_train/kitchen_0011b_out/13.png'], ['data/nyu2_train/kitchen_0011b_out/68.jpg', 'data/nyu2_train/kitchen_0011b_out/68.png'], ['data/nyu2_train/kitchen_0011b_out/28.jpg', 'data/nyu2_train/kitchen_0011b_out/28.png'], ['data/nyu2_train/kitchen_0011b_out/85.jpg', 'data/nyu2_train/kitchen_0011b_out/85.png'], ['data/nyu2_train/kitchen_0011b_out/57.jpg', 'data/nyu2_train/kitchen_0011b_out/57.png'], ['data/nyu2_train/kitchen_0011b_out/34.jpg', 'data/nyu2_train/kitchen_0011b_out/34.png'], ['data/nyu2_train/kitchen_0011b_out/118.jpg', 'data/nyu2_train/kitchen_0011b_out/118.png'], ['data/nyu2_train/kitchen_0011b_out/53.jpg', 'data/nyu2_train/kitchen_0011b_out/53.png'], ['data/nyu2_train/kitchen_0011b_out/11.jpg', 'data/nyu2_train/kitchen_0011b_out/11.png'], ['data/nyu2_train/kitchen_0011b_out/46.jpg', 'data/nyu2_train/kitchen_0011b_out/46.png'], ['data/nyu2_train/kitchen_0011b_out/39.jpg', 'data/nyu2_train/kitchen_0011b_out/39.png'], ['data/nyu2_train/kitchen_0011b_out/71.jpg', 'data/nyu2_train/kitchen_0011b_out/71.png'], ['data/nyu2_train/kitchen_0011b_out/29.jpg', 'data/nyu2_train/kitchen_0011b_out/29.png'], ['data/nyu2_train/kitchen_0011b_out/14.jpg', 'data/nyu2_train/kitchen_0011b_out/14.png'], ['data/nyu2_train/kitchen_0011b_out/113.jpg', 'data/nyu2_train/kitchen_0011b_out/113.png'], ['data/nyu2_train/kitchen_0011b_out/30.jpg', 'data/nyu2_train/kitchen_0011b_out/30.png'], ['data/nyu2_train/kitchen_0011b_out/16.jpg', 'data/nyu2_train/kitchen_0011b_out/16.png'], ['data/nyu2_train/kitchen_0011b_out/105.jpg', 'data/nyu2_train/kitchen_0011b_out/105.png'], ['data/nyu2_train/kitchen_0011b_out/62.jpg', 'data/nyu2_train/kitchen_0011b_out/62.png'], ['data/nyu2_train/kitchen_0011b_out/56.jpg', 'data/nyu2_train/kitchen_0011b_out/56.png'], ['data/nyu2_train/kitchen_0011b_out/119.jpg', 'data/nyu2_train/kitchen_0011b_out/119.png'], ['data/nyu2_train/kitchen_0011b_out/42.jpg', 'data/nyu2_train/kitchen_0011b_out/42.png'], ['data/nyu2_train/kitchen_0011b_out/2.jpg', 'data/nyu2_train/kitchen_0011b_out/2.png'], ['data/nyu2_train/kitchen_0011b_out/91.jpg', 'data/nyu2_train/kitchen_0011b_out/91.png'], ['data/nyu2_train/kitchen_0011b_out/93.jpg', 'data/nyu2_train/kitchen_0011b_out/93.png'], ['data/nyu2_train/kitchen_0011b_out/70.jpg', 'data/nyu2_train/kitchen_0011b_out/70.png'], ['data/nyu2_train/kitchen_0011b_out/60.jpg', 'data/nyu2_train/kitchen_0011b_out/60.png'], ['data/nyu2_train/kitchen_0011b_out/3.jpg', 'data/nyu2_train/kitchen_0011b_out/3.png'], ['data/nyu2_train/kitchen_0011b_out/54.jpg', 'data/nyu2_train/kitchen_0011b_out/54.png'], ['data/nyu2_train/kitchen_0011b_out/121.jpg', 'data/nyu2_train/kitchen_0011b_out/121.png'], ['data/nyu2_train/kitchen_0011b_out/122.jpg', 'data/nyu2_train/kitchen_0011b_out/122.png'], ['data/nyu2_train/kitchen_0011b_out/10.jpg', 'data/nyu2_train/kitchen_0011b_out/10.png'], ['data/nyu2_train/kitchen_0011b_out/4.jpg', 'data/nyu2_train/kitchen_0011b_out/4.png'], ['data/nyu2_train/kitchen_0011b_out/12.jpg', 'data/nyu2_train/kitchen_0011b_out/12.png'], ['data/nyu2_train/kitchen_0011b_out/104.jpg', 'data/nyu2_train/kitchen_0011b_out/104.png'], ['data/nyu2_train/kitchen_0011b_out/100.jpg', 'data/nyu2_train/kitchen_0011b_out/100.png'], ['data/nyu2_train/kitchen_0011b_out/64.jpg', 'data/nyu2_train/kitchen_0011b_out/64.png'], ['data/nyu2_train/kitchen_0011b_out/103.jpg', 'data/nyu2_train/kitchen_0011b_out/103.png'], ['data/nyu2_train/kitchen_0011b_out/67.jpg', 'data/nyu2_train/kitchen_0011b_out/67.png'], ['data/nyu2_train/kitchen_0011b_out/114.jpg', 'data/nyu2_train/kitchen_0011b_out/114.png'], ['data/nyu2_train/kitchen_0011b_out/8.jpg', 'data/nyu2_train/kitchen_0011b_out/8.png'], ['data/nyu2_train/kitchen_0011b_out/43.jpg', 'data/nyu2_train/kitchen_0011b_out/43.png'], ['data/nyu2_train/kitchen_0011b_out/17.jpg', 'data/nyu2_train/kitchen_0011b_out/17.png'], ['data/nyu2_train/kitchen_0011b_out/35.jpg', 'data/nyu2_train/kitchen_0011b_out/35.png'], ['data/nyu2_train/kitchen_0011b_out/40.jpg', 'data/nyu2_train/kitchen_0011b_out/40.png'], ['data/nyu2_train/kitchen_0011b_out/55.jpg', 'data/nyu2_train/kitchen_0011b_out/55.png'], ['data/nyu2_train/kitchen_0011b_out/95.jpg', 'data/nyu2_train/kitchen_0011b_out/95.png'], ['data/nyu2_train/kitchen_0011b_out/45.jpg', 'data/nyu2_train/kitchen_0011b_out/45.png'], ['data/nyu2_train/kitchen_0011b_out/82.jpg', 'data/nyu2_train/kitchen_0011b_out/82.png'], ['data/nyu2_train/kitchen_0011b_out/108.jpg', 'data/nyu2_train/kitchen_0011b_out/108.png'], ['data/nyu2_train/kitchen_0011b_out/79.jpg', 'data/nyu2_train/kitchen_0011b_out/79.png'], ['data/nyu2_train/kitchen_0011b_out/31.jpg', 'data/nyu2_train/kitchen_0011b_out/31.png'], ['data/nyu2_train/kitchen_0011b_out/47.jpg', 'data/nyu2_train/kitchen_0011b_out/47.png'], ['data/nyu2_train/kitchen_0011b_out/111.jpg', 'data/nyu2_train/kitchen_0011b_out/111.png'], ['data/nyu2_train/kitchen_0011b_out/41.jpg', 'data/nyu2_train/kitchen_0011b_out/41.png'], ['data/nyu2_train/kitchen_0011b_out/50.jpg', 'data/nyu2_train/kitchen_0011b_out/50.png'], ['data/nyu2_train/kitchen_0011b_out/19.jpg', 'data/nyu2_train/kitchen_0011b_out/19.png'], ['data/nyu2_train/kitchen_0011b_out/58.jpg', 'data/nyu2_train/kitchen_0011b_out/58.png'], ['data/nyu2_train/kitchen_0011b_out/98.jpg', 'data/nyu2_train/kitchen_0011b_out/98.png'], ['data/nyu2_train/kitchen_0011b_out/76.jpg', 'data/nyu2_train/kitchen_0011b_out/76.png'], ['data/nyu2_train/kitchen_0011b_out/69.jpg', 'data/nyu2_train/kitchen_0011b_out/69.png'], ['data/nyu2_train/kitchen_0011b_out/5.jpg', 'data/nyu2_train/kitchen_0011b_out/5.png'], ['data/nyu2_train/kitchen_0011b_out/101.jpg', 'data/nyu2_train/kitchen_0011b_out/101.png'], ['data/nyu2_train/kitchen_0011b_out/112.jpg', 'data/nyu2_train/kitchen_0011b_out/112.png'], ['data/nyu2_train/kitchen_0011b_out/1.jpg', 'data/nyu2_train/kitchen_0011b_out/1.png'], ['data/nyu2_train/kitchen_0011b_out/84.jpg', 'data/nyu2_train/kitchen_0011b_out/84.png'], ['data/nyu2_train/kitchen_0011b_out/92.jpg', 'data/nyu2_train/kitchen_0011b_out/92.png'], ['data/nyu2_train/kitchen_0011b_out/107.jpg', 'data/nyu2_train/kitchen_0011b_out/107.png'], ['data/nyu2_train/kitchen_0011b_out/51.jpg', 'data/nyu2_train/kitchen_0011b_out/51.png'], ['data/nyu2_train/kitchen_0011b_out/7.jpg', 'data/nyu2_train/kitchen_0011b_out/7.png'], ['data/nyu2_train/kitchen_0011b_out/97.jpg', 'data/nyu2_train/kitchen_0011b_out/97.png'], ['data/nyu2_train/kitchen_0011b_out/15.jpg', 'data/nyu2_train/kitchen_0011b_out/15.png'], ['data/nyu2_train/kitchen_0011b_out/77.jpg', 'data/nyu2_train/kitchen_0011b_out/77.png'], ['data/nyu2_train/kitchen_0011b_out/117.jpg', 'data/nyu2_train/kitchen_0011b_out/117.png'], ['data/nyu2_train/kitchen_0011b_out/89.jpg', 'data/nyu2_train/kitchen_0011b_out/89.png'], ['data/nyu2_train/kitchen_0011b_out/102.jpg', 'data/nyu2_train/kitchen_0011b_out/102.png'], ['data/nyu2_train/kitchen_0011b_out/99.jpg', 'data/nyu2_train/kitchen_0011b_out/99.png'], ['data/nyu2_train/kitchen_0011b_out/72.jpg', 'data/nyu2_train/kitchen_0011b_out/72.png'], ['data/nyu2_train/kitchen_0011b_out/81.jpg', 'data/nyu2_train/kitchen_0011b_out/81.png'], ['data/nyu2_train/kitchen_0011b_out/33.jpg', 'data/nyu2_train/kitchen_0011b_out/33.png'], ['data/nyu2_train/kitchen_0011b_out/27.jpg', 'data/nyu2_train/kitchen_0011b_out/27.png'], ['data/nyu2_train/kitchen_0011b_out/38.jpg', 'data/nyu2_train/kitchen_0011b_out/38.png'], ['data/nyu2_train/kitchen_0011b_out/78.jpg', 'data/nyu2_train/kitchen_0011b_out/78.png'], ['data/nyu2_train/kitchen_0011b_out/73.jpg', 'data/nyu2_train/kitchen_0011b_out/73.png'], ['data/nyu2_train/kitchen_0011b_out/110.jpg', 'data/nyu2_train/kitchen_0011b_out/110.png'], ['data/nyu2_train/kitchen_0011b_out/83.jpg', 'data/nyu2_train/kitchen_0011b_out/83.png'], ['data/nyu2_train/kitchen_0011b_out/87.jpg', 'data/nyu2_train/kitchen_0011b_out/87.png'], ['data/nyu2_train/kitchen_0011b_out/59.jpg', 'data/nyu2_train/kitchen_0011b_out/59.png'], ['data/nyu2_train/kitchen_0011b_out/36.jpg', 'data/nyu2_train/kitchen_0011b_out/36.png'], ['data/nyu2_train/kitchen_0011b_out/20.jpg', 'data/nyu2_train/kitchen_0011b_out/20.png'], ['data/nyu2_train/kitchen_0011b_out/106.jpg', 'data/nyu2_train/kitchen_0011b_out/106.png'], ['data/nyu2_train/kitchen_0011b_out/65.jpg', 'data/nyu2_train/kitchen_0011b_out/65.png'], ['data/nyu2_train/kitchen_0011b_out/120.jpg', 'data/nyu2_train/kitchen_0011b_out/120.png'], ['data/nyu2_train/kitchen_0011b_out/86.jpg', 'data/nyu2_train/kitchen_0011b_out/86.png'], ['data/nyu2_train/kitchen_0011b_out/44.jpg', 'data/nyu2_train/kitchen_0011b_out/44.png'], ['data/nyu2_train/kitchen_0011b_out/63.jpg', 'data/nyu2_train/kitchen_0011b_out/63.png'], ['data/nyu2_train/kitchen_0011b_out/116.jpg', 'data/nyu2_train/kitchen_0011b_out/116.png'], ['data/nyu2_train/kitchen_0011b_out/61.jpg', 'data/nyu2_train/kitchen_0011b_out/61.png'], ['data/nyu2_train/kitchen_0011b_out/32.jpg', 'data/nyu2_train/kitchen_0011b_out/32.png'], ['data/nyu2_train/kitchen_0011b_out/123.jpg', 'data/nyu2_train/kitchen_0011b_out/123.png'], ['data/nyu2_train/kitchen_0011b_out/23.jpg', 'data/nyu2_train/kitchen_0011b_out/23.png'], ['data/nyu2_train/kitchen_0011b_out/74.jpg', 'data/nyu2_train/kitchen_0011b_out/74.png'], ['data/nyu2_train/kitchen_0011b_out/52.jpg', 'data/nyu2_train/kitchen_0011b_out/52.png'], ['data/nyu2_train/kitchen_0011b_out/66.jpg', 'data/nyu2_train/kitchen_0011b_out/66.png'], ['data/nyu2_train/kitchen_0011b_out/24.jpg', 'data/nyu2_train/kitchen_0011b_out/24.png'], ['data/nyu2_train/kitchen_0011b_out/22.jpg', 'data/nyu2_train/kitchen_0011b_out/22.png'], ['data/nyu2_train/kitchen_0011b_out/80.jpg', 'data/nyu2_train/kitchen_0011b_out/80.png'], ['data/nyu2_train/kitchen_0011b_out/96.jpg', 'data/nyu2_train/kitchen_0011b_out/96.png'], ['data/nyu2_train/kitchen_0011b_out/26.jpg', 'data/nyu2_train/kitchen_0011b_out/26.png'], ['data/nyu2_train/kitchen_0011b_out/88.jpg', 'data/nyu2_train/kitchen_0011b_out/88.png'], ['data/nyu2_train/kitchen_0011b_out/9.jpg', 'data/nyu2_train/kitchen_0011b_out/9.png'], ['data/nyu2_train/kitchen_0011b_out/109.jpg', 'data/nyu2_train/kitchen_0011b_out/109.png'], ['data/nyu2_train/kitchen_0011b_out/90.jpg', 'data/nyu2_train/kitchen_0011b_out/90.png'], ['data/nyu2_train/living_room_0035_out/37.jpg', 'data/nyu2_train/living_room_0035_out/37.png'], ['data/nyu2_train/living_room_0035_out/115.jpg', 'data/nyu2_train/living_room_0035_out/115.png'], ['data/nyu2_train/living_room_0035_out/6.jpg', 'data/nyu2_train/living_room_0035_out/6.png'], ['data/nyu2_train/living_room_0035_out/49.jpg', 'data/nyu2_train/living_room_0035_out/49.png'], ['data/nyu2_train/living_room_0035_out/152.jpg', 'data/nyu2_train/living_room_0035_out/152.png'], ['data/nyu2_train/living_room_0035_out/142.jpg', 'data/nyu2_train/living_room_0035_out/142.png'], ['data/nyu2_train/living_room_0035_out/94.jpg', 'data/nyu2_train/living_room_0035_out/94.png'], ['data/nyu2_train/living_room_0035_out/158.jpg', 'data/nyu2_train/living_room_0035_out/158.png'], ['data/nyu2_train/living_room_0035_out/18.jpg', 'data/nyu2_train/living_room_0035_out/18.png'], ['data/nyu2_train/living_room_0035_out/21.jpg', 'data/nyu2_train/living_room_0035_out/21.png'], ['data/nyu2_train/living_room_0035_out/48.jpg', 'data/nyu2_train/living_room_0035_out/48.png'], ['data/nyu2_train/living_room_0035_out/75.jpg', 'data/nyu2_train/living_room_0035_out/75.png'], ['data/nyu2_train/living_room_0035_out/25.jpg', 'data/nyu2_train/living_room_0035_out/25.png'], ['data/nyu2_train/living_room_0035_out/13.jpg', 'data/nyu2_train/living_room_0035_out/13.png'], ['data/nyu2_train/living_room_0035_out/68.jpg', 'data/nyu2_train/living_room_0035_out/68.png'], ['data/nyu2_train/living_room_0035_out/28.jpg', 'data/nyu2_train/living_room_0035_out/28.png'], ['data/nyu2_train/living_room_0035_out/85.jpg', 'data/nyu2_train/living_room_0035_out/85.png'], ['data/nyu2_train/living_room_0035_out/57.jpg', 'data/nyu2_train/living_room_0035_out/57.png'], ['data/nyu2_train/living_room_0035_out/34.jpg', 'data/nyu2_train/living_room_0035_out/34.png'], ['data/nyu2_train/living_room_0035_out/118.jpg', 'data/nyu2_train/living_room_0035_out/118.png'], ['data/nyu2_train/living_room_0035_out/53.jpg', 'data/nyu2_train/living_room_0035_out/53.png'], ['data/nyu2_train/living_room_0035_out/11.jpg', 'data/nyu2_train/living_room_0035_out/11.png'], ['data/nyu2_train/living_room_0035_out/46.jpg', 'data/nyu2_train/living_room_0035_out/46.png'], ['data/nyu2_train/living_room_0035_out/135.jpg', 'data/nyu2_train/living_room_0035_out/135.png'], ['data/nyu2_train/living_room_0035_out/39.jpg', 'data/nyu2_train/living_room_0035_out/39.png'], ['data/nyu2_train/living_room_0035_out/71.jpg', 'data/nyu2_train/living_room_0035_out/71.png'], ['data/nyu2_train/living_room_0035_out/29.jpg', 'data/nyu2_train/living_room_0035_out/29.png'], ['data/nyu2_train/living_room_0035_out/14.jpg', 'data/nyu2_train/living_room_0035_out/14.png'], ['data/nyu2_train/living_room_0035_out/113.jpg', 'data/nyu2_train/living_room_0035_out/113.png'], ['data/nyu2_train/living_room_0035_out/138.jpg', 'data/nyu2_train/living_room_0035_out/138.png'], ['data/nyu2_train/living_room_0035_out/30.jpg', 'data/nyu2_train/living_room_0035_out/30.png'], ['data/nyu2_train/living_room_0035_out/16.jpg', 'data/nyu2_train/living_room_0035_out/16.png'], ['data/nyu2_train/living_room_0035_out/105.jpg', 'data/nyu2_train/living_room_0035_out/105.png'], ['data/nyu2_train/living_room_0035_out/62.jpg', 'data/nyu2_train/living_room_0035_out/62.png'], ['data/nyu2_train/living_room_0035_out/56.jpg', 'data/nyu2_train/living_room_0035_out/56.png'], ['data/nyu2_train/living_room_0035_out/119.jpg', 'data/nyu2_train/living_room_0035_out/119.png'], ['data/nyu2_train/living_room_0035_out/42.jpg', 'data/nyu2_train/living_room_0035_out/42.png'], ['data/nyu2_train/living_room_0035_out/2.jpg', 'data/nyu2_train/living_room_0035_out/2.png'], ['data/nyu2_train/living_room_0035_out/129.jpg', 'data/nyu2_train/living_room_0035_out/129.png'], ['data/nyu2_train/living_room_0035_out/160.jpg', 'data/nyu2_train/living_room_0035_out/160.png'], ['data/nyu2_train/living_room_0035_out/126.jpg', 'data/nyu2_train/living_room_0035_out/126.png'], ['data/nyu2_train/living_room_0035_out/91.jpg', 'data/nyu2_train/living_room_0035_out/91.png'], ['data/nyu2_train/living_room_0035_out/93.jpg', 'data/nyu2_train/living_room_0035_out/93.png'], ['data/nyu2_train/living_room_0035_out/70.jpg', 'data/nyu2_train/living_room_0035_out/70.png'], ['data/nyu2_train/living_room_0035_out/60.jpg', 'data/nyu2_train/living_room_0035_out/60.png'], ['data/nyu2_train/living_room_0035_out/3.jpg', 'data/nyu2_train/living_room_0035_out/3.png'], ['data/nyu2_train/living_room_0035_out/132.jpg', 'data/nyu2_train/living_room_0035_out/132.png'], ['data/nyu2_train/living_room_0035_out/54.jpg', 'data/nyu2_train/living_room_0035_out/54.png'], ['data/nyu2_train/living_room_0035_out/146.jpg', 'data/nyu2_train/living_room_0035_out/146.png'], ['data/nyu2_train/living_room_0035_out/121.jpg', 'data/nyu2_train/living_room_0035_out/121.png'], ['data/nyu2_train/living_room_0035_out/122.jpg', 'data/nyu2_train/living_room_0035_out/122.png'], ['data/nyu2_train/living_room_0035_out/130.jpg', 'data/nyu2_train/living_room_0035_out/130.png'], ['data/nyu2_train/living_room_0035_out/10.jpg', 'data/nyu2_train/living_room_0035_out/10.png'], ['data/nyu2_train/living_room_0035_out/4.jpg', 'data/nyu2_train/living_room_0035_out/4.png'], ['data/nyu2_train/living_room_0035_out/153.jpg', 'data/nyu2_train/living_room_0035_out/153.png'], ['data/nyu2_train/living_room_0035_out/12.jpg', 'data/nyu2_train/living_room_0035_out/12.png'], ['data/nyu2_train/living_room_0035_out/104.jpg', 'data/nyu2_train/living_room_0035_out/104.png'], ['data/nyu2_train/living_room_0035_out/134.jpg', 'data/nyu2_train/living_room_0035_out/134.png'], ['data/nyu2_train/living_room_0035_out/100.jpg', 'data/nyu2_train/living_room_0035_out/100.png'], ['data/nyu2_train/living_room_0035_out/64.jpg', 'data/nyu2_train/living_room_0035_out/64.png'], ['data/nyu2_train/living_room_0035_out/147.jpg', 'data/nyu2_train/living_room_0035_out/147.png'], ['data/nyu2_train/living_room_0035_out/103.jpg', 'data/nyu2_train/living_room_0035_out/103.png'], ['data/nyu2_train/living_room_0035_out/67.jpg', 'data/nyu2_train/living_room_0035_out/67.png'], ['data/nyu2_train/living_room_0035_out/114.jpg', 'data/nyu2_train/living_room_0035_out/114.png'], ['data/nyu2_train/living_room_0035_out/8.jpg', 'data/nyu2_train/living_room_0035_out/8.png'], ['data/nyu2_train/living_room_0035_out/127.jpg', 'data/nyu2_train/living_room_0035_out/127.png'], ['data/nyu2_train/living_room_0035_out/43.jpg', 'data/nyu2_train/living_room_0035_out/43.png'], ['data/nyu2_train/living_room_0035_out/144.jpg', 'data/nyu2_train/living_room_0035_out/144.png'], ['data/nyu2_train/living_room_0035_out/17.jpg', 'data/nyu2_train/living_room_0035_out/17.png'], ['data/nyu2_train/living_room_0035_out/151.jpg', 'data/nyu2_train/living_room_0035_out/151.png'], ['data/nyu2_train/living_room_0035_out/35.jpg', 'data/nyu2_train/living_room_0035_out/35.png'], ['data/nyu2_train/living_room_0035_out/40.jpg', 'data/nyu2_train/living_room_0035_out/40.png'], ['data/nyu2_train/living_room_0035_out/55.jpg', 'data/nyu2_train/living_room_0035_out/55.png'], ['data/nyu2_train/living_room_0035_out/95.jpg', 'data/nyu2_train/living_room_0035_out/95.png'], ['data/nyu2_train/living_room_0035_out/45.jpg', 'data/nyu2_train/living_room_0035_out/45.png'], ['data/nyu2_train/living_room_0035_out/82.jpg', 'data/nyu2_train/living_room_0035_out/82.png'], ['data/nyu2_train/living_room_0035_out/108.jpg', 'data/nyu2_train/living_room_0035_out/108.png'], ['data/nyu2_train/living_room_0035_out/79.jpg', 'data/nyu2_train/living_room_0035_out/79.png'], ['data/nyu2_train/living_room_0035_out/31.jpg', 'data/nyu2_train/living_room_0035_out/31.png'], ['data/nyu2_train/living_room_0035_out/137.jpg', 'data/nyu2_train/living_room_0035_out/137.png'], ['data/nyu2_train/living_room_0035_out/47.jpg', 'data/nyu2_train/living_room_0035_out/47.png'], ['data/nyu2_train/living_room_0035_out/111.jpg', 'data/nyu2_train/living_room_0035_out/111.png'], ['data/nyu2_train/living_room_0035_out/41.jpg', 'data/nyu2_train/living_room_0035_out/41.png'], ['data/nyu2_train/living_room_0035_out/50.jpg', 'data/nyu2_train/living_room_0035_out/50.png'], ['data/nyu2_train/living_room_0035_out/140.jpg', 'data/nyu2_train/living_room_0035_out/140.png'], ['data/nyu2_train/living_room_0035_out/19.jpg', 'data/nyu2_train/living_room_0035_out/19.png'], ['data/nyu2_train/living_room_0035_out/58.jpg', 'data/nyu2_train/living_room_0035_out/58.png'], ['data/nyu2_train/living_room_0035_out/98.jpg', 'data/nyu2_train/living_room_0035_out/98.png'], ['data/nyu2_train/living_room_0035_out/76.jpg', 'data/nyu2_train/living_room_0035_out/76.png'], ['data/nyu2_train/living_room_0035_out/124.jpg', 'data/nyu2_train/living_room_0035_out/124.png'], ['data/nyu2_train/living_room_0035_out/128.jpg', 'data/nyu2_train/living_room_0035_out/128.png'], ['data/nyu2_train/living_room_0035_out/149.jpg', 'data/nyu2_train/living_room_0035_out/149.png'], ['data/nyu2_train/living_room_0035_out/69.jpg', 'data/nyu2_train/living_room_0035_out/69.png'], ['data/nyu2_train/living_room_0035_out/155.jpg', 'data/nyu2_train/living_room_0035_out/155.png'], ['data/nyu2_train/living_room_0035_out/5.jpg', 'data/nyu2_train/living_room_0035_out/5.png'], ['data/nyu2_train/living_room_0035_out/131.jpg', 'data/nyu2_train/living_room_0035_out/131.png'], ['data/nyu2_train/living_room_0035_out/101.jpg', 'data/nyu2_train/living_room_0035_out/101.png'], ['data/nyu2_train/living_room_0035_out/112.jpg', 'data/nyu2_train/living_room_0035_out/112.png'], ['data/nyu2_train/living_room_0035_out/1.jpg', 'data/nyu2_train/living_room_0035_out/1.png'], ['data/nyu2_train/living_room_0035_out/148.jpg', 'data/nyu2_train/living_room_0035_out/148.png'], ['data/nyu2_train/living_room_0035_out/84.jpg', 'data/nyu2_train/living_room_0035_out/84.png'], ['data/nyu2_train/living_room_0035_out/92.jpg', 'data/nyu2_train/living_room_0035_out/92.png'], ['data/nyu2_train/living_room_0035_out/133.jpg', 'data/nyu2_train/living_room_0035_out/133.png'], ['data/nyu2_train/living_room_0035_out/150.jpg', 'data/nyu2_train/living_room_0035_out/150.png'], ['data/nyu2_train/living_room_0035_out/107.jpg', 'data/nyu2_train/living_room_0035_out/107.png'], ['data/nyu2_train/living_room_0035_out/136.jpg', 'data/nyu2_train/living_room_0035_out/136.png'], ['data/nyu2_train/living_room_0035_out/51.jpg', 'data/nyu2_train/living_room_0035_out/51.png'], ['data/nyu2_train/living_room_0035_out/7.jpg', 'data/nyu2_train/living_room_0035_out/7.png'], ['data/nyu2_train/living_room_0035_out/97.jpg', 'data/nyu2_train/living_room_0035_out/97.png'], ['data/nyu2_train/living_room_0035_out/15.jpg', 'data/nyu2_train/living_room_0035_out/15.png'], ['data/nyu2_train/living_room_0035_out/156.jpg', 'data/nyu2_train/living_room_0035_out/156.png'], ['data/nyu2_train/living_room_0035_out/77.jpg', 'data/nyu2_train/living_room_0035_out/77.png'], ['data/nyu2_train/living_room_0035_out/117.jpg', 'data/nyu2_train/living_room_0035_out/117.png'], ['data/nyu2_train/living_room_0035_out/125.jpg', 'data/nyu2_train/living_room_0035_out/125.png'], ['data/nyu2_train/living_room_0035_out/89.jpg', 'data/nyu2_train/living_room_0035_out/89.png'], ['data/nyu2_train/living_room_0035_out/102.jpg', 'data/nyu2_train/living_room_0035_out/102.png'], ['data/nyu2_train/living_room_0035_out/99.jpg', 'data/nyu2_train/living_room_0035_out/99.png'], ['data/nyu2_train/living_room_0035_out/72.jpg', 'data/nyu2_train/living_room_0035_out/72.png'], ['data/nyu2_train/living_room_0035_out/157.jpg', 'data/nyu2_train/living_room_0035_out/157.png'], ['data/nyu2_train/living_room_0035_out/81.jpg', 'data/nyu2_train/living_room_0035_out/81.png'], ['data/nyu2_train/living_room_0035_out/33.jpg', 'data/nyu2_train/living_room_0035_out/33.png'], ['data/nyu2_train/living_room_0035_out/27.jpg', 'data/nyu2_train/living_room_0035_out/27.png'], ['data/nyu2_train/living_room_0035_out/139.jpg', 'data/nyu2_train/living_room_0035_out/139.png'], ['data/nyu2_train/living_room_0035_out/38.jpg', 'data/nyu2_train/living_room_0035_out/38.png'], ['data/nyu2_train/living_room_0035_out/154.jpg', 'data/nyu2_train/living_room_0035_out/154.png'], ['data/nyu2_train/living_room_0035_out/78.jpg', 'data/nyu2_train/living_room_0035_out/78.png'], ['data/nyu2_train/living_room_0035_out/73.jpg', 'data/nyu2_train/living_room_0035_out/73.png'], ['data/nyu2_train/living_room_0035_out/159.jpg', 'data/nyu2_train/living_room_0035_out/159.png'], ['data/nyu2_train/living_room_0035_out/110.jpg', 'data/nyu2_train/living_room_0035_out/110.png'], ['data/nyu2_train/living_room_0035_out/143.jpg', 'data/nyu2_train/living_room_0035_out/143.png'], ['data/nyu2_train/living_room_0035_out/83.jpg', 'data/nyu2_train/living_room_0035_out/83.png'], ['data/nyu2_train/living_room_0035_out/87.jpg', 'data/nyu2_train/living_room_0035_out/87.png'], ['data/nyu2_train/living_room_0035_out/59.jpg', 'data/nyu2_train/living_room_0035_out/59.png'], ['data/nyu2_train/living_room_0035_out/36.jpg', 'data/nyu2_train/living_room_0035_out/36.png'], ['data/nyu2_train/living_room_0035_out/20.jpg', 'data/nyu2_train/living_room_0035_out/20.png'], ['data/nyu2_train/living_room_0035_out/106.jpg', 'data/nyu2_train/living_room_0035_out/106.png'], ['data/nyu2_train/living_room_0035_out/145.jpg', 'data/nyu2_train/living_room_0035_out/145.png'], ['data/nyu2_train/living_room_0035_out/65.jpg', 'data/nyu2_train/living_room_0035_out/65.png'], ['data/nyu2_train/living_room_0035_out/120.jpg', 'data/nyu2_train/living_room_0035_out/120.png'], ['data/nyu2_train/living_room_0035_out/86.jpg', 'data/nyu2_train/living_room_0035_out/86.png'], ['data/nyu2_train/living_room_0035_out/44.jpg', 'data/nyu2_train/living_room_0035_out/44.png'], ['data/nyu2_train/living_room_0035_out/63.jpg', 'data/nyu2_train/living_room_0035_out/63.png'], ['data/nyu2_train/living_room_0035_out/116.jpg', 'data/nyu2_train/living_room_0035_out/116.png'], ['data/nyu2_train/living_room_0035_out/61.jpg', 'data/nyu2_train/living_room_0035_out/61.png'], ['data/nyu2_train/living_room_0035_out/32.jpg', 'data/nyu2_train/living_room_0035_out/32.png'], ['data/nyu2_train/living_room_0035_out/123.jpg', 'data/nyu2_train/living_room_0035_out/123.png'], ['data/nyu2_train/living_room_0035_out/23.jpg', 'data/nyu2_train/living_room_0035_out/23.png'], ['data/nyu2_train/living_room_0035_out/74.jpg', 'data/nyu2_train/living_room_0035_out/74.png'], ['data/nyu2_train/living_room_0035_out/141.jpg', 'data/nyu2_train/living_room_0035_out/141.png'], ['data/nyu2_train/living_room_0035_out/52.jpg', 'data/nyu2_train/living_room_0035_out/52.png'], ['data/nyu2_train/living_room_0035_out/66.jpg', 'data/nyu2_train/living_room_0035_out/66.png'], ['data/nyu2_train/living_room_0035_out/24.jpg', 'data/nyu2_train/living_room_0035_out/24.png'], ['data/nyu2_train/living_room_0035_out/22.jpg', 'data/nyu2_train/living_room_0035_out/22.png'], ['data/nyu2_train/living_room_0035_out/80.jpg', 'data/nyu2_train/living_room_0035_out/80.png'], ['data/nyu2_train/living_room_0035_out/96.jpg', 'data/nyu2_train/living_room_0035_out/96.png'], ['data/nyu2_train/living_room_0035_out/26.jpg', 'data/nyu2_train/living_room_0035_out/26.png'], ['data/nyu2_train/living_room_0035_out/88.jpg', 'data/nyu2_train/living_room_0035_out/88.png'], ['data/nyu2_train/living_room_0035_out/9.jpg', 'data/nyu2_train/living_room_0035_out/9.png'], ['data/nyu2_train/living_room_0035_out/109.jpg', 'data/nyu2_train/living_room_0035_out/109.png'], ['data/nyu2_train/living_room_0035_out/90.jpg', 'data/nyu2_train/living_room_0035_out/90.png']]\n"
     ]
    },
    {
     "name": "stderr",
     "output_type": "stream",
     "text": [
      "WARNING:absl:At this time, the v2.11+ optimizer `tf.keras.optimizers.Adam` runs slowly on M1/M2 Macs, please use the legacy Keras optimizer instead, located at `tf.keras.optimizers.legacy.Adam`.\n",
      "WARNING:absl:There is a known slowdown when using v2.11+ Keras optimizers on M1/M2 Macs. Falling back to the legacy Keras optimizer, i.e., `tf.keras.optimizers.legacy.Adam`.\n"
     ]
    },
    {
     "name": "stdout",
     "output_type": "stream",
     "text": [
      "Base model loaded DenseNet169\n",
      "\n",
      "Model created.\n",
      "Epoch 1/7\n",
      "71/71 [==============================] - ETA: 0s - loss: 1.1191WARNING:tensorflow:Can save best model only with val_loss available, skipping.\n"
     ]
    },
    {
     "name": "stderr",
     "output_type": "stream",
     "text": [
      "WARNING:tensorflow:Can save best model only with val_loss available, skipping.\n"
     ]
    },
    {
     "name": "stdout",
     "output_type": "stream",
     "text": [
      "71/71 [==============================] - 136s 2s/step - loss: 1.1191\n",
      "Epoch 2/7\n",
      "71/71 [==============================] - ETA: 0s - loss: 0.7643WARNING:tensorflow:Can save best model only with val_loss available, skipping.\n"
     ]
    },
    {
     "name": "stderr",
     "output_type": "stream",
     "text": [
      "WARNING:tensorflow:Can save best model only with val_loss available, skipping.\n"
     ]
    },
    {
     "name": "stdout",
     "output_type": "stream",
     "text": [
      "71/71 [==============================] - 127s 2s/step - loss: 0.7643\n",
      "Epoch 3/7\n",
      "71/71 [==============================] - ETA: 0s - loss: 0.7288WARNING:tensorflow:Can save best model only with val_loss available, skipping.\n"
     ]
    },
    {
     "name": "stderr",
     "output_type": "stream",
     "text": [
      "WARNING:tensorflow:Can save best model only with val_loss available, skipping.\n"
     ]
    },
    {
     "name": "stdout",
     "output_type": "stream",
     "text": [
      "71/71 [==============================] - 125s 2s/step - loss: 0.7288\n",
      "Epoch 4/7\n",
      "71/71 [==============================] - ETA: 0s - loss: 0.5394WARNING:tensorflow:Can save best model only with val_loss available, skipping.\n"
     ]
    },
    {
     "name": "stderr",
     "output_type": "stream",
     "text": [
      "WARNING:tensorflow:Can save best model only with val_loss available, skipping.\n"
     ]
    },
    {
     "name": "stdout",
     "output_type": "stream",
     "text": [
      "71/71 [==============================] - 126s 2s/step - loss: 0.5394\n",
      "Epoch 5/7\n",
      "71/71 [==============================] - ETA: 0s - loss: 0.4967WARNING:tensorflow:Can save best model only with val_loss available, skipping.\n"
     ]
    },
    {
     "name": "stderr",
     "output_type": "stream",
     "text": [
      "WARNING:tensorflow:Can save best model only with val_loss available, skipping.\n"
     ]
    },
    {
     "name": "stdout",
     "output_type": "stream",
     "text": [
      "71/71 [==============================] - 126s 2s/step - loss: 0.4967\n",
      "Epoch 6/7\n",
      "71/71 [==============================] - ETA: 0s - loss: 0.4849WARNING:tensorflow:Can save best model only with val_loss available, skipping.\n"
     ]
    },
    {
     "name": "stderr",
     "output_type": "stream",
     "text": [
      "WARNING:tensorflow:Can save best model only with val_loss available, skipping.\n"
     ]
    },
    {
     "name": "stdout",
     "output_type": "stream",
     "text": [
      "71/71 [==============================] - 125s 2s/step - loss: 0.4849\n",
      "Epoch 7/7\n",
      "71/71 [==============================] - ETA: 0s - loss: 0.3973WARNING:tensorflow:Can save best model only with val_loss available, skipping.\n"
     ]
    },
    {
     "name": "stderr",
     "output_type": "stream",
     "text": [
      "WARNING:tensorflow:Can save best model only with val_loss available, skipping.\n"
     ]
    },
    {
     "name": "stdout",
     "output_type": "stream",
     "text": [
      "\b\b\b\b\b\b\b\b\b\b\b\b\b\b\b\b\b\b\b\b\b\b\b\b\b\b\b\b\b\b\b\b\b\b\b\b\b\b\b\b\b\b\b\b\b\b\b\b\b\b\b\b\b\b\b\b\b\b\b\b\b\b\b\r",
      "71/71 [==============================] - 125s 2s/step - loss: 0.3973\n"
     ]
    },
    {
     "name": "stderr",
     "output_type": "stream",
     "text": [
      "WARNING:absl:At this time, the v2.11+ optimizer `tf.keras.optimizers.Adam` runs slowly on M1/M2 Macs, please use the legacy Keras optimizer instead, located at `tf.keras.optimizers.legacy.Adam`.\n",
      "WARNING:absl:There is a known slowdown when using v2.11+ Keras optimizers on M1/M2 Macs. Falling back to the legacy Keras optimizer, i.e., `tf.keras.optimizers.legacy.Adam`.\n"
     ]
    },
    {
     "name": "stdout",
     "output_type": "stream",
     "text": [
      "Base model loaded DenseNet169\n",
      "\n",
      "Model created.\n",
      "Epoch 1/7\n",
      "71/71 [==============================] - ETA: 0s - loss: 1.5141WARNING:tensorflow:Can save best model only with val_loss available, skipping.\n"
     ]
    },
    {
     "name": "stderr",
     "output_type": "stream",
     "text": [
      "WARNING:tensorflow:Can save best model only with val_loss available, skipping.\n"
     ]
    },
    {
     "name": "stdout",
     "output_type": "stream",
     "text": [
      "71/71 [==============================] - 151s 2s/step - loss: 1.5141\n",
      "Epoch 2/7\n",
      "71/71 [==============================] - ETA: 0s - loss: 0.9389WARNING:tensorflow:Can save best model only with val_loss available, skipping.\n"
     ]
    },
    {
     "name": "stderr",
     "output_type": "stream",
     "text": [
      "WARNING:tensorflow:Can save best model only with val_loss available, skipping.\n"
     ]
    },
    {
     "name": "stdout",
     "output_type": "stream",
     "text": [
      "71/71 [==============================] - 128s 2s/step - loss: 0.9389\n",
      "Epoch 3/7\n",
      "71/71 [==============================] - ETA: 0s - loss: 0.8072WARNING:tensorflow:Can save best model only with val_loss available, skipping.\n"
     ]
    },
    {
     "name": "stderr",
     "output_type": "stream",
     "text": [
      "WARNING:tensorflow:Can save best model only with val_loss available, skipping.\n"
     ]
    },
    {
     "name": "stdout",
     "output_type": "stream",
     "text": [
      "71/71 [==============================] - 128s 2s/step - loss: 0.8072\n",
      "Epoch 4/7\n",
      "71/71 [==============================] - ETA: 0s - loss: 0.6126WARNING:tensorflow:Can save best model only with val_loss available, skipping.\n"
     ]
    },
    {
     "name": "stderr",
     "output_type": "stream",
     "text": [
      "WARNING:tensorflow:Can save best model only with val_loss available, skipping.\n"
     ]
    },
    {
     "name": "stdout",
     "output_type": "stream",
     "text": [
      "71/71 [==============================] - 129s 2s/step - loss: 0.6126\n",
      "Epoch 5/7\n",
      "71/71 [==============================] - ETA: 0s - loss: 0.5654WARNING:tensorflow:Can save best model only with val_loss available, skipping.\n"
     ]
    },
    {
     "name": "stderr",
     "output_type": "stream",
     "text": [
      "WARNING:tensorflow:Can save best model only with val_loss available, skipping.\n"
     ]
    },
    {
     "name": "stdout",
     "output_type": "stream",
     "text": [
      "71/71 [==============================] - 130s 2s/step - loss: 0.5654\n",
      "Epoch 6/7\n",
      "71/71 [==============================] - ETA: 0s - loss: 0.4720WARNING:tensorflow:Can save best model only with val_loss available, skipping.\n"
     ]
    },
    {
     "name": "stderr",
     "output_type": "stream",
     "text": [
      "WARNING:tensorflow:Can save best model only with val_loss available, skipping.\n"
     ]
    },
    {
     "name": "stdout",
     "output_type": "stream",
     "text": [
      "71/71 [==============================] - 129s 2s/step - loss: 0.4720\n",
      "Epoch 7/7\n",
      "71/71 [==============================] - ETA: 0s - loss: 0.4109WARNING:tensorflow:Can save best model only with val_loss available, skipping.\n"
     ]
    },
    {
     "name": "stderr",
     "output_type": "stream",
     "text": [
      "WARNING:tensorflow:Can save best model only with val_loss available, skipping.\n"
     ]
    },
    {
     "name": "stdout",
     "output_type": "stream",
     "text": [
      "\b\b\b\b\b\b\b\b\b\b\b\b\b\b\b\b\b\b\b\b\b\b\b\b\b\b\b\b\b\b\b\b\b\b\b\b\b\b\b\b\b\b\b\b\b\b\b\b\b\b\b\b\b\b\b\b\b\b\b\b\b\b\b\r",
      "71/71 [==============================] - 128s 2s/step - loss: 0.4109\n"
     ]
    },
    {
     "name": "stderr",
     "output_type": "stream",
     "text": [
      "WARNING:absl:At this time, the v2.11+ optimizer `tf.keras.optimizers.Adam` runs slowly on M1/M2 Macs, please use the legacy Keras optimizer instead, located at `tf.keras.optimizers.legacy.Adam`.\n",
      "WARNING:absl:There is a known slowdown when using v2.11+ Keras optimizers on M1/M2 Macs. Falling back to the legacy Keras optimizer, i.e., `tf.keras.optimizers.legacy.Adam`.\n"
     ]
    },
    {
     "name": "stdout",
     "output_type": "stream",
     "text": [
      "Base model loaded DenseNet169\n",
      "\n",
      "Model created.\n",
      "Epoch 1/7\n",
      "71/71 [==============================] - ETA: 0s - loss: 1.3218WARNING:tensorflow:Can save best model only with val_loss available, skipping.\n"
     ]
    },
    {
     "name": "stderr",
     "output_type": "stream",
     "text": [
      "WARNING:tensorflow:Can save best model only with val_loss available, skipping.\n"
     ]
    },
    {
     "name": "stdout",
     "output_type": "stream",
     "text": [
      "71/71 [==============================] - 161s 2s/step - loss: 1.3218\n",
      "Epoch 2/7\n",
      "71/71 [==============================] - ETA: 0s - loss: 0.7231WARNING:tensorflow:Can save best model only with val_loss available, skipping.\n"
     ]
    },
    {
     "name": "stderr",
     "output_type": "stream",
     "text": [
      "WARNING:tensorflow:Can save best model only with val_loss available, skipping.\n"
     ]
    },
    {
     "name": "stdout",
     "output_type": "stream",
     "text": [
      "71/71 [==============================] - 130s 2s/step - loss: 0.7231\n",
      "Epoch 3/7\n",
      "71/71 [==============================] - ETA: 0s - loss: 0.5756WARNING:tensorflow:Can save best model only with val_loss available, skipping.\n"
     ]
    },
    {
     "name": "stderr",
     "output_type": "stream",
     "text": [
      "WARNING:tensorflow:Can save best model only with val_loss available, skipping.\n"
     ]
    },
    {
     "name": "stdout",
     "output_type": "stream",
     "text": [
      "71/71 [==============================] - 131s 2s/step - loss: 0.5756\n",
      "Epoch 4/7\n",
      "71/71 [==============================] - ETA: 0s - loss: 0.4968WARNING:tensorflow:Can save best model only with val_loss available, skipping.\n"
     ]
    },
    {
     "name": "stderr",
     "output_type": "stream",
     "text": [
      "WARNING:tensorflow:Can save best model only with val_loss available, skipping.\n"
     ]
    },
    {
     "name": "stdout",
     "output_type": "stream",
     "text": [
      "71/71 [==============================] - 129s 2s/step - loss: 0.4968\n",
      "Epoch 5/7\n",
      "71/71 [==============================] - ETA: 0s - loss: 0.4977WARNING:tensorflow:Can save best model only with val_loss available, skipping.\n"
     ]
    },
    {
     "name": "stderr",
     "output_type": "stream",
     "text": [
      "WARNING:tensorflow:Can save best model only with val_loss available, skipping.\n"
     ]
    },
    {
     "name": "stdout",
     "output_type": "stream",
     "text": [
      "71/71 [==============================] - 128s 2s/step - loss: 0.4977\n",
      "Epoch 6/7\n",
      "71/71 [==============================] - ETA: 0s - loss: 0.4472WARNING:tensorflow:Can save best model only with val_loss available, skipping.\n"
     ]
    },
    {
     "name": "stderr",
     "output_type": "stream",
     "text": [
      "WARNING:tensorflow:Can save best model only with val_loss available, skipping.\n"
     ]
    },
    {
     "name": "stdout",
     "output_type": "stream",
     "text": [
      "71/71 [==============================] - 130s 2s/step - loss: 0.4472\n",
      "Epoch 7/7\n",
      "71/71 [==============================] - ETA: 0s - loss: 0.4456WARNING:tensorflow:Can save best model only with val_loss available, skipping.\n"
     ]
    },
    {
     "name": "stderr",
     "output_type": "stream",
     "text": [
      "WARNING:tensorflow:Can save best model only with val_loss available, skipping.\n"
     ]
    },
    {
     "name": "stdout",
     "output_type": "stream",
     "text": [
      "\b\b\b\b\b\b\b\b\b\b\b\b\b\b\b\b\b\b\b\b\b\b\b\b\b\b\b\b\b\b\b\b\b\b\b\b\b\b\b\b\b\b\b\b\b\b\b\b\b\b\b\b\b\b\b\b\b\b\b\b\b\b\b\r",
      "71/71 [==============================] - 129s 2s/step - loss: 0.4456\n"
     ]
    },
    {
     "name": "stderr",
     "output_type": "stream",
     "text": [
      "WARNING:absl:At this time, the v2.11+ optimizer `tf.keras.optimizers.Adam` runs slowly on M1/M2 Macs, please use the legacy Keras optimizer instead, located at `tf.keras.optimizers.legacy.Adam`.\n",
      "WARNING:absl:There is a known slowdown when using v2.11+ Keras optimizers on M1/M2 Macs. Falling back to the legacy Keras optimizer, i.e., `tf.keras.optimizers.legacy.Adam`.\n"
     ]
    },
    {
     "name": "stdout",
     "output_type": "stream",
     "text": [
      "Base model loaded DenseNet169\n",
      "\n",
      "Model created.\n",
      "Epoch 1/7\n",
      "71/71 [==============================] - ETA: 0s - loss: 1.2053WARNING:tensorflow:Can save best model only with val_loss available, skipping.\n"
     ]
    },
    {
     "name": "stderr",
     "output_type": "stream",
     "text": [
      "WARNING:tensorflow:Can save best model only with val_loss available, skipping.\n"
     ]
    },
    {
     "name": "stdout",
     "output_type": "stream",
     "text": [
      "71/71 [==============================] - 163s 2s/step - loss: 1.2053\n",
      "Epoch 2/7\n",
      "71/71 [==============================] - ETA: 0s - loss: 0.7146WARNING:tensorflow:Can save best model only with val_loss available, skipping.\n"
     ]
    },
    {
     "name": "stderr",
     "output_type": "stream",
     "text": [
      "WARNING:tensorflow:Can save best model only with val_loss available, skipping.\n"
     ]
    },
    {
     "name": "stdout",
     "output_type": "stream",
     "text": [
      "71/71 [==============================] - 130s 2s/step - loss: 0.7146\n",
      "Epoch 3/7\n",
      "71/71 [==============================] - ETA: 0s - loss: 0.6379WARNING:tensorflow:Can save best model only with val_loss available, skipping.\n"
     ]
    },
    {
     "name": "stderr",
     "output_type": "stream",
     "text": [
      "WARNING:tensorflow:Can save best model only with val_loss available, skipping.\n"
     ]
    },
    {
     "name": "stdout",
     "output_type": "stream",
     "text": [
      "71/71 [==============================] - 128s 2s/step - loss: 0.6379\n",
      "Epoch 4/7\n",
      "71/71 [==============================] - ETA: 0s - loss: 0.5671WARNING:tensorflow:Can save best model only with val_loss available, skipping.\n"
     ]
    },
    {
     "name": "stderr",
     "output_type": "stream",
     "text": [
      "WARNING:tensorflow:Can save best model only with val_loss available, skipping.\n"
     ]
    },
    {
     "name": "stdout",
     "output_type": "stream",
     "text": [
      "71/71 [==============================] - 128s 2s/step - loss: 0.5671\n",
      "Epoch 5/7\n",
      "71/71 [==============================] - ETA: 0s - loss: 0.4914WARNING:tensorflow:Can save best model only with val_loss available, skipping.\n"
     ]
    },
    {
     "name": "stderr",
     "output_type": "stream",
     "text": [
      "WARNING:tensorflow:Can save best model only with val_loss available, skipping.\n"
     ]
    },
    {
     "name": "stdout",
     "output_type": "stream",
     "text": [
      "71/71 [==============================] - 129s 2s/step - loss: 0.4914\n",
      "Epoch 6/7\n",
      "71/71 [==============================] - ETA: 0s - loss: 0.5381WARNING:tensorflow:Can save best model only with val_loss available, skipping.\n"
     ]
    },
    {
     "name": "stderr",
     "output_type": "stream",
     "text": [
      "WARNING:tensorflow:Can save best model only with val_loss available, skipping.\n"
     ]
    },
    {
     "name": "stdout",
     "output_type": "stream",
     "text": [
      "71/71 [==============================] - 129s 2s/step - loss: 0.5381\n",
      "Epoch 7/7\n",
      "71/71 [==============================] - ETA: 0s - loss: 0.4650WARNING:tensorflow:Can save best model only with val_loss available, skipping.\n"
     ]
    },
    {
     "name": "stderr",
     "output_type": "stream",
     "text": [
      "WARNING:tensorflow:Can save best model only with val_loss available, skipping.\n"
     ]
    },
    {
     "name": "stdout",
     "output_type": "stream",
     "text": [
      "\b\b\b\b\b\b\b\b\b\b\b\b\b\b\b\b\b\b\b\b\b\b\b\b\b\b\b\b\b\b\b\b\b\b\b\b\b\b\b\b\b\b\b\b\b\b\b\b\b\b\b\b\b\b\b\b\b\b\b\b\b\b\b\r",
      "71/71 [==============================] - 129s 2s/step - loss: 0.4650\n"
     ]
    },
    {
     "name": "stderr",
     "output_type": "stream",
     "text": [
      "WARNING:absl:At this time, the v2.11+ optimizer `tf.keras.optimizers.Adam` runs slowly on M1/M2 Macs, please use the legacy Keras optimizer instead, located at `tf.keras.optimizers.legacy.Adam`.\n",
      "WARNING:absl:There is a known slowdown when using v2.11+ Keras optimizers on M1/M2 Macs. Falling back to the legacy Keras optimizer, i.e., `tf.keras.optimizers.legacy.Adam`.\n"
     ]
    },
    {
     "name": "stdout",
     "output_type": "stream",
     "text": [
      "Base model loaded DenseNet169\n",
      "\n",
      "Model created.\n",
      "Epoch 1/7\n",
      "71/71 [==============================] - ETA: 0s - loss: 1.4040WARNING:tensorflow:Can save best model only with val_loss available, skipping.\n"
     ]
    },
    {
     "name": "stderr",
     "output_type": "stream",
     "text": [
      "WARNING:tensorflow:Can save best model only with val_loss available, skipping.\n"
     ]
    },
    {
     "name": "stdout",
     "output_type": "stream",
     "text": [
      "71/71 [==============================] - 178s 2s/step - loss: 1.4040\n",
      "Epoch 2/7\n",
      "71/71 [==============================] - ETA: 0s - loss: 0.9754WARNING:tensorflow:Can save best model only with val_loss available, skipping.\n"
     ]
    },
    {
     "name": "stderr",
     "output_type": "stream",
     "text": [
      "WARNING:tensorflow:Can save best model only with val_loss available, skipping.\n"
     ]
    },
    {
     "name": "stdout",
     "output_type": "stream",
     "text": [
      "71/71 [==============================] - 131s 2s/step - loss: 0.9754\n",
      "Epoch 3/7\n",
      "71/71 [==============================] - ETA: 0s - loss: 0.6281WARNING:tensorflow:Can save best model only with val_loss available, skipping.\n"
     ]
    },
    {
     "name": "stderr",
     "output_type": "stream",
     "text": [
      "WARNING:tensorflow:Can save best model only with val_loss available, skipping.\n"
     ]
    },
    {
     "name": "stdout",
     "output_type": "stream",
     "text": [
      "71/71 [==============================] - 129s 2s/step - loss: 0.6281\n",
      "Epoch 4/7\n",
      "71/71 [==============================] - ETA: 0s - loss: 0.5871WARNING:tensorflow:Can save best model only with val_loss available, skipping.\n"
     ]
    },
    {
     "name": "stderr",
     "output_type": "stream",
     "text": [
      "WARNING:tensorflow:Can save best model only with val_loss available, skipping.\n"
     ]
    },
    {
     "name": "stdout",
     "output_type": "stream",
     "text": [
      "71/71 [==============================] - 132s 2s/step - loss: 0.5871\n",
      "Epoch 5/7\n",
      "71/71 [==============================] - ETA: 0s - loss: 0.5256WARNING:tensorflow:Can save best model only with val_loss available, skipping.\n"
     ]
    },
    {
     "name": "stderr",
     "output_type": "stream",
     "text": [
      "WARNING:tensorflow:Can save best model only with val_loss available, skipping.\n"
     ]
    },
    {
     "name": "stdout",
     "output_type": "stream",
     "text": [
      "71/71 [==============================] - 132s 2s/step - loss: 0.5256\n",
      "Epoch 6/7\n",
      "71/71 [==============================] - ETA: 0s - loss: 0.4927WARNING:tensorflow:Can save best model only with val_loss available, skipping.\n"
     ]
    },
    {
     "name": "stderr",
     "output_type": "stream",
     "text": [
      "WARNING:tensorflow:Can save best model only with val_loss available, skipping.\n"
     ]
    },
    {
     "name": "stdout",
     "output_type": "stream",
     "text": [
      "71/71 [==============================] - 129s 2s/step - loss: 0.4927\n",
      "Epoch 7/7\n",
      "71/71 [==============================] - ETA: 0s - loss: 0.4670WARNING:tensorflow:Can save best model only with val_loss available, skipping.\n"
     ]
    },
    {
     "name": "stderr",
     "output_type": "stream",
     "text": [
      "WARNING:tensorflow:Can save best model only with val_loss available, skipping.\n"
     ]
    },
    {
     "name": "stdout",
     "output_type": "stream",
     "text": [
      "\b\b\b\b\b\b\b\b\b\b\b\b\b\b\b\b\b\b\b\b\b\b\b\b\b\b\b\b\b\b\b\b\b\b\b\b\b\b\b\b\b\b\b\b\b\b\b\b\b\b\b\b\b\b\b\b\b\b\b\b\b\b\b\r",
      "71/71 [==============================] - 129s 2s/step - loss: 0.4670\n"
     ]
    },
    {
     "name": "stderr",
     "output_type": "stream",
     "text": [
      "WARNING:absl:At this time, the v2.11+ optimizer `tf.keras.optimizers.Adam` runs slowly on M1/M2 Macs, please use the legacy Keras optimizer instead, located at `tf.keras.optimizers.legacy.Adam`.\n",
      "WARNING:absl:There is a known slowdown when using v2.11+ Keras optimizers on M1/M2 Macs. Falling back to the legacy Keras optimizer, i.e., `tf.keras.optimizers.legacy.Adam`.\n"
     ]
    },
    {
     "name": "stdout",
     "output_type": "stream",
     "text": [
      "Base model loaded DenseNet169\n",
      "\n",
      "Model created.\n",
      "Epoch 1/7\n",
      "71/71 [==============================] - ETA: 0s - loss: 1.2629WARNING:tensorflow:Can save best model only with val_loss available, skipping.\n"
     ]
    },
    {
     "name": "stderr",
     "output_type": "stream",
     "text": [
      "WARNING:tensorflow:Can save best model only with val_loss available, skipping.\n"
     ]
    },
    {
     "name": "stdout",
     "output_type": "stream",
     "text": [
      "71/71 [==============================] - 189s 2s/step - loss: 1.2629\n",
      "Epoch 2/7\n",
      "71/71 [==============================] - ETA: 0s - loss: 0.8438WARNING:tensorflow:Can save best model only with val_loss available, skipping.\n"
     ]
    },
    {
     "name": "stderr",
     "output_type": "stream",
     "text": [
      "WARNING:tensorflow:Can save best model only with val_loss available, skipping.\n"
     ]
    },
    {
     "name": "stdout",
     "output_type": "stream",
     "text": [
      "71/71 [==============================] - 131s 2s/step - loss: 0.8438\n",
      "Epoch 3/7\n",
      "71/71 [==============================] - ETA: 0s - loss: 0.6063WARNING:tensorflow:Can save best model only with val_loss available, skipping.\n"
     ]
    },
    {
     "name": "stderr",
     "output_type": "stream",
     "text": [
      "WARNING:tensorflow:Can save best model only with val_loss available, skipping.\n"
     ]
    },
    {
     "name": "stdout",
     "output_type": "stream",
     "text": [
      "71/71 [==============================] - 130s 2s/step - loss: 0.6063\n",
      "Epoch 4/7\n",
      "71/71 [==============================] - ETA: 0s - loss: 0.5203WARNING:tensorflow:Can save best model only with val_loss available, skipping.\n"
     ]
    },
    {
     "name": "stderr",
     "output_type": "stream",
     "text": [
      "WARNING:tensorflow:Can save best model only with val_loss available, skipping.\n"
     ]
    },
    {
     "name": "stdout",
     "output_type": "stream",
     "text": [
      "71/71 [==============================] - 131s 2s/step - loss: 0.5203\n",
      "Epoch 5/7\n",
      "71/71 [==============================] - ETA: 0s - loss: 0.5093WARNING:tensorflow:Can save best model only with val_loss available, skipping.\n"
     ]
    },
    {
     "name": "stderr",
     "output_type": "stream",
     "text": [
      "WARNING:tensorflow:Can save best model only with val_loss available, skipping.\n"
     ]
    },
    {
     "name": "stdout",
     "output_type": "stream",
     "text": [
      "71/71 [==============================] - 130s 2s/step - loss: 0.5093\n",
      "Epoch 6/7\n",
      "71/71 [==============================] - ETA: 0s - loss: 0.4867WARNING:tensorflow:Can save best model only with val_loss available, skipping.\n"
     ]
    },
    {
     "name": "stderr",
     "output_type": "stream",
     "text": [
      "WARNING:tensorflow:Can save best model only with val_loss available, skipping.\n"
     ]
    },
    {
     "name": "stdout",
     "output_type": "stream",
     "text": [
      "71/71 [==============================] - 131s 2s/step - loss: 0.4867\n",
      "Epoch 7/7\n",
      "71/71 [==============================] - ETA: 0s - loss: 0.4579WARNING:tensorflow:Can save best model only with val_loss available, skipping.\n"
     ]
    },
    {
     "name": "stderr",
     "output_type": "stream",
     "text": [
      "WARNING:tensorflow:Can save best model only with val_loss available, skipping.\n"
     ]
    },
    {
     "name": "stdout",
     "output_type": "stream",
     "text": [
      "\b\b\b\b\b\b\b\b\b\b\b\b\b\b\b\b\b\b\b\b\b\b\b\b\b\b\b\b\b\b\b\b\b\b\b\b\b\b\b\b\b\b\b\b\b\b\b\b\b\b\b\b\b\b\b\b\b\b\b\b\b\b\b\r",
      "71/71 [==============================] - 130s 2s/step - loss: 0.4579\n"
     ]
    },
    {
     "name": "stderr",
     "output_type": "stream",
     "text": [
      "WARNING:absl:At this time, the v2.11+ optimizer `tf.keras.optimizers.Adam` runs slowly on M1/M2 Macs, please use the legacy Keras optimizer instead, located at `tf.keras.optimizers.legacy.Adam`.\n",
      "WARNING:absl:There is a known slowdown when using v2.11+ Keras optimizers on M1/M2 Macs. Falling back to the legacy Keras optimizer, i.e., `tf.keras.optimizers.legacy.Adam`.\n"
     ]
    },
    {
     "name": "stdout",
     "output_type": "stream",
     "text": [
      "Base model loaded DenseNet169\n",
      "\n",
      "Model created.\n",
      "Epoch 1/7\n",
      "71/71 [==============================] - ETA: 0s - loss: 1.3133WARNING:tensorflow:Can save best model only with val_loss available, skipping.\n"
     ]
    },
    {
     "name": "stderr",
     "output_type": "stream",
     "text": [
      "WARNING:tensorflow:Can save best model only with val_loss available, skipping.\n"
     ]
    },
    {
     "name": "stdout",
     "output_type": "stream",
     "text": [
      "71/71 [==============================] - 193s 2s/step - loss: 1.3133\n",
      "Epoch 2/7\n",
      "71/71 [==============================] - ETA: 0s - loss: 0.7980WARNING:tensorflow:Can save best model only with val_loss available, skipping.\n"
     ]
    },
    {
     "name": "stderr",
     "output_type": "stream",
     "text": [
      "WARNING:tensorflow:Can save best model only with val_loss available, skipping.\n"
     ]
    },
    {
     "name": "stdout",
     "output_type": "stream",
     "text": [
      "71/71 [==============================] - 132s 2s/step - loss: 0.7980\n",
      "Epoch 3/7\n",
      "71/71 [==============================] - ETA: 0s - loss: 0.5900WARNING:tensorflow:Can save best model only with val_loss available, skipping.\n"
     ]
    },
    {
     "name": "stderr",
     "output_type": "stream",
     "text": [
      "WARNING:tensorflow:Can save best model only with val_loss available, skipping.\n"
     ]
    },
    {
     "name": "stdout",
     "output_type": "stream",
     "text": [
      "71/71 [==============================] - 133s 2s/step - loss: 0.5900\n",
      "Epoch 4/7\n",
      "71/71 [==============================] - ETA: 0s - loss: 0.5435WARNING:tensorflow:Can save best model only with val_loss available, skipping.\n"
     ]
    },
    {
     "name": "stderr",
     "output_type": "stream",
     "text": [
      "WARNING:tensorflow:Can save best model only with val_loss available, skipping.\n"
     ]
    },
    {
     "name": "stdout",
     "output_type": "stream",
     "text": [
      "71/71 [==============================] - 132s 2s/step - loss: 0.5435\n",
      "Epoch 5/7\n",
      "71/71 [==============================] - ETA: 0s - loss: 0.4593WARNING:tensorflow:Can save best model only with val_loss available, skipping.\n"
     ]
    },
    {
     "name": "stderr",
     "output_type": "stream",
     "text": [
      "WARNING:tensorflow:Can save best model only with val_loss available, skipping.\n"
     ]
    },
    {
     "name": "stdout",
     "output_type": "stream",
     "text": [
      "71/71 [==============================] - 133s 2s/step - loss: 0.4593\n",
      "Epoch 6/7\n",
      "71/71 [==============================] - ETA: 0s - loss: 0.4420WARNING:tensorflow:Can save best model only with val_loss available, skipping.\n"
     ]
    },
    {
     "name": "stderr",
     "output_type": "stream",
     "text": [
      "WARNING:tensorflow:Can save best model only with val_loss available, skipping.\n"
     ]
    },
    {
     "name": "stdout",
     "output_type": "stream",
     "text": [
      "71/71 [==============================] - 133s 2s/step - loss: 0.4420\n",
      "Epoch 7/7\n",
      "71/71 [==============================] - ETA: 0s - loss: 0.4768WARNING:tensorflow:Can save best model only with val_loss available, skipping.\n"
     ]
    },
    {
     "name": "stderr",
     "output_type": "stream",
     "text": [
      "WARNING:tensorflow:Can save best model only with val_loss available, skipping.\n"
     ]
    },
    {
     "name": "stdout",
     "output_type": "stream",
     "text": [
      "\b\b\b\b\b\b\b\b\b\b\b\b\b\b\b\b\b\b\b\b\b\b\b\b\b\b\b\b\b\b\b\b\b\b\b\b\b\b\b\b\b\b\b\b\b\b\b\b\b\b\b\b\b\b\b\b\b\b\b\b\b\b\b\r",
      "71/71 [==============================] - 132s 2s/step - loss: 0.4768\n"
     ]
    },
    {
     "name": "stderr",
     "output_type": "stream",
     "text": [
      "WARNING:absl:At this time, the v2.11+ optimizer `tf.keras.optimizers.Adam` runs slowly on M1/M2 Macs, please use the legacy Keras optimizer instead, located at `tf.keras.optimizers.legacy.Adam`.\n",
      "WARNING:absl:There is a known slowdown when using v2.11+ Keras optimizers on M1/M2 Macs. Falling back to the legacy Keras optimizer, i.e., `tf.keras.optimizers.legacy.Adam`.\n"
     ]
    },
    {
     "name": "stdout",
     "output_type": "stream",
     "text": [
      "Base model loaded DenseNet169\n",
      "\n",
      "Model created.\n",
      "Epoch 1/7\n",
      "71/71 [==============================] - ETA: 0s - loss: 1.4122WARNING:tensorflow:Can save best model only with val_loss available, skipping.\n"
     ]
    },
    {
     "name": "stderr",
     "output_type": "stream",
     "text": [
      "WARNING:tensorflow:Can save best model only with val_loss available, skipping.\n"
     ]
    },
    {
     "name": "stdout",
     "output_type": "stream",
     "text": [
      "71/71 [==============================] - 194s 2s/step - loss: 1.4122\n",
      "Epoch 2/7\n",
      "71/71 [==============================] - ETA: 0s - loss: 0.8650WARNING:tensorflow:Can save best model only with val_loss available, skipping.\n"
     ]
    },
    {
     "name": "stderr",
     "output_type": "stream",
     "text": [
      "WARNING:tensorflow:Can save best model only with val_loss available, skipping.\n"
     ]
    },
    {
     "name": "stdout",
     "output_type": "stream",
     "text": [
      "71/71 [==============================] - 132s 2s/step - loss: 0.8650\n",
      "Epoch 3/7\n",
      "71/71 [==============================] - ETA: 0s - loss: 0.6931WARNING:tensorflow:Can save best model only with val_loss available, skipping.\n"
     ]
    },
    {
     "name": "stderr",
     "output_type": "stream",
     "text": [
      "WARNING:tensorflow:Can save best model only with val_loss available, skipping.\n"
     ]
    },
    {
     "name": "stdout",
     "output_type": "stream",
     "text": [
      "71/71 [==============================] - 132s 2s/step - loss: 0.6931\n",
      "Epoch 4/7\n",
      "71/71 [==============================] - ETA: 0s - loss: 0.6661WARNING:tensorflow:Can save best model only with val_loss available, skipping.\n"
     ]
    },
    {
     "name": "stderr",
     "output_type": "stream",
     "text": [
      "WARNING:tensorflow:Can save best model only with val_loss available, skipping.\n"
     ]
    },
    {
     "name": "stdout",
     "output_type": "stream",
     "text": [
      "71/71 [==============================] - 131s 2s/step - loss: 0.6661\n",
      "Epoch 5/7\n",
      "71/71 [==============================] - ETA: 0s - loss: 0.5308WARNING:tensorflow:Can save best model only with val_loss available, skipping.\n"
     ]
    },
    {
     "name": "stderr",
     "output_type": "stream",
     "text": [
      "WARNING:tensorflow:Can save best model only with val_loss available, skipping.\n"
     ]
    },
    {
     "name": "stdout",
     "output_type": "stream",
     "text": [
      "71/71 [==============================] - 132s 2s/step - loss: 0.5308\n",
      "Epoch 6/7\n",
      "71/71 [==============================] - ETA: 0s - loss: 0.4620WARNING:tensorflow:Can save best model only with val_loss available, skipping.\n"
     ]
    },
    {
     "name": "stderr",
     "output_type": "stream",
     "text": [
      "WARNING:tensorflow:Can save best model only with val_loss available, skipping.\n"
     ]
    },
    {
     "name": "stdout",
     "output_type": "stream",
     "text": [
      "71/71 [==============================] - 132s 2s/step - loss: 0.4620\n",
      "Epoch 7/7\n",
      "71/71 [==============================] - ETA: 0s - loss: 0.4667WARNING:tensorflow:Can save best model only with val_loss available, skipping.\n"
     ]
    },
    {
     "name": "stderr",
     "output_type": "stream",
     "text": [
      "WARNING:tensorflow:Can save best model only with val_loss available, skipping.\n"
     ]
    },
    {
     "name": "stdout",
     "output_type": "stream",
     "text": [
      "\b\b\b\b\b\b\b\b\b\b\b\b\b\b\b\b\b\b\b\b\b\b\b\b\b\b\b\b\b\b\b\b\b\b\b\b\b\b\b\b\b\b\b\b\b\b\b\b\b\b\b\b\b\b\b\b\b\b\b\b\b\b\b\r",
      "71/71 [==============================] - 131s 2s/step - loss: 0.4667\n"
     ]
    },
    {
     "name": "stderr",
     "output_type": "stream",
     "text": [
      "WARNING:absl:At this time, the v2.11+ optimizer `tf.keras.optimizers.Adam` runs slowly on M1/M2 Macs, please use the legacy Keras optimizer instead, located at `tf.keras.optimizers.legacy.Adam`.\n",
      "WARNING:absl:There is a known slowdown when using v2.11+ Keras optimizers on M1/M2 Macs. Falling back to the legacy Keras optimizer, i.e., `tf.keras.optimizers.legacy.Adam`.\n"
     ]
    },
    {
     "name": "stdout",
     "output_type": "stream",
     "text": [
      "Base model loaded DenseNet169\n",
      "\n",
      "Model created.\n",
      "Epoch 1/7\n",
      "71/71 [==============================] - ETA: 0s - loss: 1.4702WARNING:tensorflow:Can save best model only with val_loss available, skipping.\n"
     ]
    },
    {
     "name": "stderr",
     "output_type": "stream",
     "text": [
      "WARNING:tensorflow:Can save best model only with val_loss available, skipping.\n"
     ]
    },
    {
     "name": "stdout",
     "output_type": "stream",
     "text": [
      "71/71 [==============================] - 206s 2s/step - loss: 1.4702\n",
      "Epoch 2/7\n",
      "71/71 [==============================] - ETA: 0s - loss: 0.7958WARNING:tensorflow:Can save best model only with val_loss available, skipping.\n"
     ]
    },
    {
     "name": "stderr",
     "output_type": "stream",
     "text": [
      "WARNING:tensorflow:Can save best model only with val_loss available, skipping.\n"
     ]
    },
    {
     "name": "stdout",
     "output_type": "stream",
     "text": [
      "71/71 [==============================] - 132s 2s/step - loss: 0.7958\n",
      "Epoch 3/7\n",
      "71/71 [==============================] - ETA: 0s - loss: 0.7066WARNING:tensorflow:Can save best model only with val_loss available, skipping.\n"
     ]
    },
    {
     "name": "stderr",
     "output_type": "stream",
     "text": [
      "WARNING:tensorflow:Can save best model only with val_loss available, skipping.\n"
     ]
    },
    {
     "name": "stdout",
     "output_type": "stream",
     "text": [
      "71/71 [==============================] - 132s 2s/step - loss: 0.7066\n",
      "Epoch 4/7\n",
      "71/71 [==============================] - ETA: 0s - loss: 0.6111WARNING:tensorflow:Can save best model only with val_loss available, skipping.\n"
     ]
    },
    {
     "name": "stderr",
     "output_type": "stream",
     "text": [
      "WARNING:tensorflow:Can save best model only with val_loss available, skipping.\n"
     ]
    },
    {
     "name": "stdout",
     "output_type": "stream",
     "text": [
      "71/71 [==============================] - 133s 2s/step - loss: 0.6111\n",
      "Epoch 5/7\n",
      "71/71 [==============================] - ETA: 0s - loss: 0.5821WARNING:tensorflow:Can save best model only with val_loss available, skipping.\n"
     ]
    },
    {
     "name": "stderr",
     "output_type": "stream",
     "text": [
      "WARNING:tensorflow:Can save best model only with val_loss available, skipping.\n"
     ]
    },
    {
     "name": "stdout",
     "output_type": "stream",
     "text": [
      "71/71 [==============================] - 134s 2s/step - loss: 0.5821\n",
      "Epoch 6/7\n",
      "71/71 [==============================] - ETA: 0s - loss: 0.4573WARNING:tensorflow:Can save best model only with val_loss available, skipping.\n"
     ]
    },
    {
     "name": "stderr",
     "output_type": "stream",
     "text": [
      "WARNING:tensorflow:Can save best model only with val_loss available, skipping.\n"
     ]
    },
    {
     "name": "stdout",
     "output_type": "stream",
     "text": [
      "71/71 [==============================] - 134s 2s/step - loss: 0.4573\n",
      "Epoch 7/7\n",
      "71/71 [==============================] - ETA: 0s - loss: 0.4637WARNING:tensorflow:Can save best model only with val_loss available, skipping.\n"
     ]
    },
    {
     "name": "stderr",
     "output_type": "stream",
     "text": [
      "WARNING:tensorflow:Can save best model only with val_loss available, skipping.\n"
     ]
    },
    {
     "name": "stdout",
     "output_type": "stream",
     "text": [
      "\b\b\b\b\b\b\b\b\b\b\b\b\b\b\b\b\b\b\b\b\b\b\b\b\b\b\b\b\b\b\b\b\b\b\b\b\b\b\b\b\b\b\b\b\b\b\b\b\b\b\b\b\b\b\b\b\b\b\b\b\b\b\b\r",
      "71/71 [==============================] - 134s 2s/step - loss: 0.4637\n"
     ]
    },
    {
     "name": "stderr",
     "output_type": "stream",
     "text": [
      "WARNING:absl:At this time, the v2.11+ optimizer `tf.keras.optimizers.Adam` runs slowly on M1/M2 Macs, please use the legacy Keras optimizer instead, located at `tf.keras.optimizers.legacy.Adam`.\n",
      "WARNING:absl:There is a known slowdown when using v2.11+ Keras optimizers on M1/M2 Macs. Falling back to the legacy Keras optimizer, i.e., `tf.keras.optimizers.legacy.Adam`.\n"
     ]
    },
    {
     "name": "stdout",
     "output_type": "stream",
     "text": [
      "Base model loaded DenseNet169\n",
      "\n",
      "Model created.\n",
      "Epoch 1/7\n",
      "71/71 [==============================] - ETA: 0s - loss: 1.2595WARNING:tensorflow:Can save best model only with val_loss available, skipping.\n"
     ]
    },
    {
     "name": "stderr",
     "output_type": "stream",
     "text": [
      "WARNING:tensorflow:Can save best model only with val_loss available, skipping.\n"
     ]
    },
    {
     "name": "stdout",
     "output_type": "stream",
     "text": [
      "71/71 [==============================] - 215s 3s/step - loss: 1.2595\n",
      "Epoch 2/7\n",
      "71/71 [==============================] - ETA: 0s - loss: 0.7638WARNING:tensorflow:Can save best model only with val_loss available, skipping.\n"
     ]
    },
    {
     "name": "stderr",
     "output_type": "stream",
     "text": [
      "WARNING:tensorflow:Can save best model only with val_loss available, skipping.\n"
     ]
    },
    {
     "name": "stdout",
     "output_type": "stream",
     "text": [
      "71/71 [==============================] - 135s 2s/step - loss: 0.7638\n",
      "Epoch 3/7\n",
      "71/71 [==============================] - ETA: 0s - loss: 0.5795WARNING:tensorflow:Can save best model only with val_loss available, skipping.\n"
     ]
    },
    {
     "name": "stderr",
     "output_type": "stream",
     "text": [
      "WARNING:tensorflow:Can save best model only with val_loss available, skipping.\n"
     ]
    },
    {
     "name": "stdout",
     "output_type": "stream",
     "text": [
      "71/71 [==============================] - 133s 2s/step - loss: 0.5795\n",
      "Epoch 4/7\n",
      "71/71 [==============================] - ETA: 0s - loss: 0.5118WARNING:tensorflow:Can save best model only with val_loss available, skipping.\n"
     ]
    },
    {
     "name": "stderr",
     "output_type": "stream",
     "text": [
      "WARNING:tensorflow:Can save best model only with val_loss available, skipping.\n"
     ]
    },
    {
     "name": "stdout",
     "output_type": "stream",
     "text": [
      "71/71 [==============================] - 135s 2s/step - loss: 0.5118\n",
      "Epoch 5/7\n",
      "71/71 [==============================] - ETA: 0s - loss: 0.4750WARNING:tensorflow:Can save best model only with val_loss available, skipping.\n"
     ]
    },
    {
     "name": "stderr",
     "output_type": "stream",
     "text": [
      "WARNING:tensorflow:Can save best model only with val_loss available, skipping.\n"
     ]
    },
    {
     "name": "stdout",
     "output_type": "stream",
     "text": [
      "71/71 [==============================] - 135s 2s/step - loss: 0.4750\n",
      "Epoch 6/7\n",
      "71/71 [==============================] - ETA: 0s - loss: 0.4659WARNING:tensorflow:Can save best model only with val_loss available, skipping.\n"
     ]
    },
    {
     "name": "stderr",
     "output_type": "stream",
     "text": [
      "WARNING:tensorflow:Can save best model only with val_loss available, skipping.\n"
     ]
    },
    {
     "name": "stdout",
     "output_type": "stream",
     "text": [
      "71/71 [==============================] - 133s 2s/step - loss: 0.4659\n",
      "Epoch 7/7\n",
      "71/71 [==============================] - ETA: 0s - loss: 0.3900WARNING:tensorflow:Can save best model only with val_loss available, skipping.\n"
     ]
    },
    {
     "name": "stderr",
     "output_type": "stream",
     "text": [
      "WARNING:tensorflow:Can save best model only with val_loss available, skipping.\n"
     ]
    },
    {
     "name": "stdout",
     "output_type": "stream",
     "text": [
      "\b\b\b\b\b\b\b\b\b\b\b\b\b\b\b\b\b\b\b\b\b\b\b\b\b\b\b\b\b\b\b\b\b\b\b\b\b\b\b\b\b\b\b\b\b\b\b\b\b\b\b\b\b\b\b\b\b\b\b\b\b\b\b\r",
      "71/71 [==============================] - 134s 2s/step - loss: 0.3900\n"
     ]
    },
    {
     "name": "stderr",
     "output_type": "stream",
     "text": [
      "WARNING:absl:At this time, the v2.11+ optimizer `tf.keras.optimizers.Adam` runs slowly on M1/M2 Macs, please use the legacy Keras optimizer instead, located at `tf.keras.optimizers.legacy.Adam`.\n",
      "WARNING:absl:There is a known slowdown when using v2.11+ Keras optimizers on M1/M2 Macs. Falling back to the legacy Keras optimizer, i.e., `tf.keras.optimizers.legacy.Adam`.\n"
     ]
    },
    {
     "name": "stdout",
     "output_type": "stream",
     "text": [
      "Base model loaded DenseNet169\n",
      "\n",
      "Model created.\n",
      "Epoch 1/7\n",
      "71/71 [==============================] - ETA: 0s - loss: 1.2235WARNING:tensorflow:Can save best model only with val_loss available, skipping.\n"
     ]
    },
    {
     "name": "stderr",
     "output_type": "stream",
     "text": [
      "WARNING:tensorflow:Can save best model only with val_loss available, skipping.\n"
     ]
    },
    {
     "name": "stdout",
     "output_type": "stream",
     "text": [
      "71/71 [==============================] - 222s 3s/step - loss: 1.2235\n",
      "Epoch 2/7\n",
      "71/71 [==============================] - ETA: 0s - loss: 0.7981WARNING:tensorflow:Can save best model only with val_loss available, skipping.\n"
     ]
    },
    {
     "name": "stderr",
     "output_type": "stream",
     "text": [
      "WARNING:tensorflow:Can save best model only with val_loss available, skipping.\n"
     ]
    },
    {
     "name": "stdout",
     "output_type": "stream",
     "text": [
      "71/71 [==============================] - 140s 2s/step - loss: 0.7981\n",
      "Epoch 3/7\n",
      "71/71 [==============================] - ETA: 0s - loss: 0.6007WARNING:tensorflow:Can save best model only with val_loss available, skipping.\n"
     ]
    },
    {
     "name": "stderr",
     "output_type": "stream",
     "text": [
      "WARNING:tensorflow:Can save best model only with val_loss available, skipping.\n"
     ]
    },
    {
     "name": "stdout",
     "output_type": "stream",
     "text": [
      "71/71 [==============================] - 139s 2s/step - loss: 0.6007\n",
      "Epoch 4/7\n",
      "71/71 [==============================] - ETA: 0s - loss: 0.5981WARNING:tensorflow:Can save best model only with val_loss available, skipping.\n"
     ]
    },
    {
     "name": "stderr",
     "output_type": "stream",
     "text": [
      "WARNING:tensorflow:Can save best model only with val_loss available, skipping.\n"
     ]
    },
    {
     "name": "stdout",
     "output_type": "stream",
     "text": [
      "71/71 [==============================] - 138s 2s/step - loss: 0.5981\n",
      "Epoch 5/7\n",
      "71/71 [==============================] - ETA: 0s - loss: 0.4973WARNING:tensorflow:Can save best model only with val_loss available, skipping.\n"
     ]
    },
    {
     "name": "stderr",
     "output_type": "stream",
     "text": [
      "WARNING:tensorflow:Can save best model only with val_loss available, skipping.\n"
     ]
    },
    {
     "name": "stdout",
     "output_type": "stream",
     "text": [
      "71/71 [==============================] - 140s 2s/step - loss: 0.4973\n",
      "Epoch 6/7\n",
      "71/71 [==============================] - ETA: 0s - loss: 0.5150WARNING:tensorflow:Can save best model only with val_loss available, skipping.\n"
     ]
    },
    {
     "name": "stderr",
     "output_type": "stream",
     "text": [
      "WARNING:tensorflow:Can save best model only with val_loss available, skipping.\n"
     ]
    },
    {
     "name": "stdout",
     "output_type": "stream",
     "text": [
      "71/71 [==============================] - 137s 2s/step - loss: 0.5150\n",
      "Epoch 7/7\n",
      "71/71 [==============================] - ETA: 0s - loss: 0.4049WARNING:tensorflow:Can save best model only with val_loss available, skipping.\n"
     ]
    },
    {
     "name": "stderr",
     "output_type": "stream",
     "text": [
      "WARNING:tensorflow:Can save best model only with val_loss available, skipping.\n"
     ]
    },
    {
     "name": "stdout",
     "output_type": "stream",
     "text": [
      "\b\b\b\b\b\b\b\b\b\b\b\b\b\b\b\b\b\b\b\b\b\b\b\b\b\b\b\b\b\b\b\b\b\b\b\b\b\b\b\b\b\b\b\b\b\b\b\b\b\b\b\b\b\b\b\b\b\b\b\b\b\b\b\r",
      "71/71 [==============================] - 137s 2s/step - loss: 0.4049\n"
     ]
    },
    {
     "name": "stderr",
     "output_type": "stream",
     "text": [
      "WARNING:absl:At this time, the v2.11+ optimizer `tf.keras.optimizers.Adam` runs slowly on M1/M2 Macs, please use the legacy Keras optimizer instead, located at `tf.keras.optimizers.legacy.Adam`.\n",
      "WARNING:absl:There is a known slowdown when using v2.11+ Keras optimizers on M1/M2 Macs. Falling back to the legacy Keras optimizer, i.e., `tf.keras.optimizers.legacy.Adam`.\n"
     ]
    },
    {
     "name": "stdout",
     "output_type": "stream",
     "text": [
      "Base model loaded DenseNet169\n",
      "\n",
      "Model created.\n",
      "Epoch 1/7\n",
      "71/71 [==============================] - ETA: 0s - loss: 1.2878WARNING:tensorflow:Can save best model only with val_loss available, skipping.\n"
     ]
    },
    {
     "name": "stderr",
     "output_type": "stream",
     "text": [
      "WARNING:tensorflow:Can save best model only with val_loss available, skipping.\n"
     ]
    },
    {
     "name": "stdout",
     "output_type": "stream",
     "text": [
      "71/71 [==============================] - 245s 3s/step - loss: 1.2878\n",
      "Epoch 2/7\n",
      "71/71 [==============================] - ETA: 0s - loss: 0.9190WARNING:tensorflow:Can save best model only with val_loss available, skipping.\n"
     ]
    },
    {
     "name": "stderr",
     "output_type": "stream",
     "text": [
      "WARNING:tensorflow:Can save best model only with val_loss available, skipping.\n"
     ]
    },
    {
     "name": "stdout",
     "output_type": "stream",
     "text": [
      "71/71 [==============================] - 139s 2s/step - loss: 0.9190\n",
      "Epoch 3/7\n",
      "71/71 [==============================] - ETA: 0s - loss: 0.5792WARNING:tensorflow:Can save best model only with val_loss available, skipping.\n"
     ]
    },
    {
     "name": "stderr",
     "output_type": "stream",
     "text": [
      "WARNING:tensorflow:Can save best model only with val_loss available, skipping.\n"
     ]
    },
    {
     "name": "stdout",
     "output_type": "stream",
     "text": [
      "71/71 [==============================] - 138s 2s/step - loss: 0.5792\n",
      "Epoch 4/7\n",
      "71/71 [==============================] - ETA: 0s - loss: 0.5353WARNING:tensorflow:Can save best model only with val_loss available, skipping.\n"
     ]
    },
    {
     "name": "stderr",
     "output_type": "stream",
     "text": [
      "WARNING:tensorflow:Can save best model only with val_loss available, skipping.\n"
     ]
    },
    {
     "name": "stdout",
     "output_type": "stream",
     "text": [
      "71/71 [==============================] - 137s 2s/step - loss: 0.5353\n",
      "Epoch 5/7\n",
      "71/71 [==============================] - ETA: 0s - loss: 0.6058WARNING:tensorflow:Can save best model only with val_loss available, skipping.\n"
     ]
    },
    {
     "name": "stderr",
     "output_type": "stream",
     "text": [
      "WARNING:tensorflow:Can save best model only with val_loss available, skipping.\n"
     ]
    },
    {
     "name": "stdout",
     "output_type": "stream",
     "text": [
      "71/71 [==============================] - 138s 2s/step - loss: 0.6058\n",
      "Epoch 6/7\n",
      "71/71 [==============================] - ETA: 0s - loss: 0.4831WARNING:tensorflow:Can save best model only with val_loss available, skipping.\n"
     ]
    },
    {
     "name": "stderr",
     "output_type": "stream",
     "text": [
      "WARNING:tensorflow:Can save best model only with val_loss available, skipping.\n"
     ]
    },
    {
     "name": "stdout",
     "output_type": "stream",
     "text": [
      "71/71 [==============================] - 136s 2s/step - loss: 0.4831\n",
      "Epoch 7/7\n",
      "71/71 [==============================] - ETA: 0s - loss: 0.5434WARNING:tensorflow:Can save best model only with val_loss available, skipping.\n"
     ]
    },
    {
     "name": "stderr",
     "output_type": "stream",
     "text": [
      "WARNING:tensorflow:Can save best model only with val_loss available, skipping.\n"
     ]
    },
    {
     "name": "stdout",
     "output_type": "stream",
     "text": [
      "\b\b\b\b\b\b\b\b\b\b\b\b\b\b\b\b\b\b\b\b\b\b\b\b\b\b\b\b\b\b\b\b\b\b\b\b\b\b\b\b\b\b\b\b\b\b\b\b\b\b\b\b\b\b\b\b\b\b\b\b\b\b\b\r",
      "71/71 [==============================] - 138s 2s/step - loss: 0.5434\n"
     ]
    },
    {
     "name": "stderr",
     "output_type": "stream",
     "text": [
      "WARNING:absl:At this time, the v2.11+ optimizer `tf.keras.optimizers.Adam` runs slowly on M1/M2 Macs, please use the legacy Keras optimizer instead, located at `tf.keras.optimizers.legacy.Adam`.\n",
      "WARNING:absl:There is a known slowdown when using v2.11+ Keras optimizers on M1/M2 Macs. Falling back to the legacy Keras optimizer, i.e., `tf.keras.optimizers.legacy.Adam`.\n"
     ]
    },
    {
     "name": "stdout",
     "output_type": "stream",
     "text": [
      "Base model loaded DenseNet169\n",
      "\n",
      "Model created.\n",
      "Epoch 1/7\n",
      "71/71 [==============================] - ETA: 0s - loss: 1.4327WARNING:tensorflow:Can save best model only with val_loss available, skipping.\n"
     ]
    },
    {
     "name": "stderr",
     "output_type": "stream",
     "text": [
      "WARNING:tensorflow:Can save best model only with val_loss available, skipping.\n"
     ]
    },
    {
     "name": "stdout",
     "output_type": "stream",
     "text": [
      "71/71 [==============================] - 238s 3s/step - loss: 1.4327\n",
      "Epoch 2/7\n",
      "71/71 [==============================] - ETA: 0s - loss: 0.8877WARNING:tensorflow:Can save best model only with val_loss available, skipping.\n"
     ]
    },
    {
     "name": "stderr",
     "output_type": "stream",
     "text": [
      "WARNING:tensorflow:Can save best model only with val_loss available, skipping.\n"
     ]
    },
    {
     "name": "stdout",
     "output_type": "stream",
     "text": [
      "71/71 [==============================] - 138s 2s/step - loss: 0.8877\n",
      "Epoch 3/7\n",
      "71/71 [==============================] - ETA: 0s - loss: 0.6516WARNING:tensorflow:Can save best model only with val_loss available, skipping.\n"
     ]
    },
    {
     "name": "stderr",
     "output_type": "stream",
     "text": [
      "WARNING:tensorflow:Can save best model only with val_loss available, skipping.\n"
     ]
    },
    {
     "name": "stdout",
     "output_type": "stream",
     "text": [
      "71/71 [==============================] - 141s 2s/step - loss: 0.6516\n",
      "Epoch 4/7\n",
      "71/71 [==============================] - ETA: 0s - loss: 0.6583WARNING:tensorflow:Can save best model only with val_loss available, skipping.\n"
     ]
    },
    {
     "name": "stderr",
     "output_type": "stream",
     "text": [
      "WARNING:tensorflow:Can save best model only with val_loss available, skipping.\n"
     ]
    },
    {
     "name": "stdout",
     "output_type": "stream",
     "text": [
      "71/71 [==============================] - 139s 2s/step - loss: 0.6583\n",
      "Epoch 5/7\n",
      "71/71 [==============================] - ETA: 0s - loss: 0.4991WARNING:tensorflow:Can save best model only with val_loss available, skipping.\n"
     ]
    },
    {
     "name": "stderr",
     "output_type": "stream",
     "text": [
      "WARNING:tensorflow:Can save best model only with val_loss available, skipping.\n"
     ]
    },
    {
     "name": "stdout",
     "output_type": "stream",
     "text": [
      "71/71 [==============================] - 136s 2s/step - loss: 0.4991\n",
      "Epoch 6/7\n",
      "71/71 [==============================] - ETA: 0s - loss: 0.4600WARNING:tensorflow:Can save best model only with val_loss available, skipping.\n"
     ]
    },
    {
     "name": "stderr",
     "output_type": "stream",
     "text": [
      "WARNING:tensorflow:Can save best model only with val_loss available, skipping.\n"
     ]
    },
    {
     "name": "stdout",
     "output_type": "stream",
     "text": [
      "71/71 [==============================] - 138s 2s/step - loss: 0.4600\n",
      "Epoch 7/7\n",
      "71/71 [==============================] - ETA: 0s - loss: 0.4191WARNING:tensorflow:Can save best model only with val_loss available, skipping.\n"
     ]
    },
    {
     "name": "stderr",
     "output_type": "stream",
     "text": [
      "WARNING:tensorflow:Can save best model only with val_loss available, skipping.\n"
     ]
    },
    {
     "name": "stdout",
     "output_type": "stream",
     "text": [
      "\b\b\b\b\b\b\b\b\b\b\b\b\b\b\b\b\b\b\b\b\b\b\b\b\b\b\b\b\b\b\b\b\b\b\b\b\b\b\b\b\b\b\b\b\b\b\b\b\b\b\b\b\b\b\b\b\b\b\b\b\b\b\b\r",
      "71/71 [==============================] - 137s 2s/step - loss: 0.4191\n"
     ]
    },
    {
     "name": "stderr",
     "output_type": "stream",
     "text": [
      "WARNING:absl:At this time, the v2.11+ optimizer `tf.keras.optimizers.Adam` runs slowly on M1/M2 Macs, please use the legacy Keras optimizer instead, located at `tf.keras.optimizers.legacy.Adam`.\n",
      "WARNING:absl:There is a known slowdown when using v2.11+ Keras optimizers on M1/M2 Macs. Falling back to the legacy Keras optimizer, i.e., `tf.keras.optimizers.legacy.Adam`.\n"
     ]
    },
    {
     "name": "stdout",
     "output_type": "stream",
     "text": [
      "Base model loaded DenseNet169\n",
      "\n",
      "Model created.\n",
      "Epoch 1/7\n",
      "71/71 [==============================] - ETA: 0s - loss: 1.3166WARNING:tensorflow:Can save best model only with val_loss available, skipping.\n"
     ]
    },
    {
     "name": "stderr",
     "output_type": "stream",
     "text": [
      "WARNING:tensorflow:Can save best model only with val_loss available, skipping.\n"
     ]
    },
    {
     "name": "stdout",
     "output_type": "stream",
     "text": [
      "71/71 [==============================] - 250s 3s/step - loss: 1.3166\n",
      "Epoch 2/7\n",
      "71/71 [==============================] - ETA: 0s - loss: 0.8218WARNING:tensorflow:Can save best model only with val_loss available, skipping.\n"
     ]
    },
    {
     "name": "stderr",
     "output_type": "stream",
     "text": [
      "WARNING:tensorflow:Can save best model only with val_loss available, skipping.\n"
     ]
    },
    {
     "name": "stdout",
     "output_type": "stream",
     "text": [
      "71/71 [==============================] - 139s 2s/step - loss: 0.8218\n",
      "Epoch 3/7\n",
      "71/71 [==============================] - ETA: 0s - loss: 0.6531WARNING:tensorflow:Can save best model only with val_loss available, skipping.\n"
     ]
    },
    {
     "name": "stderr",
     "output_type": "stream",
     "text": [
      "WARNING:tensorflow:Can save best model only with val_loss available, skipping.\n"
     ]
    },
    {
     "name": "stdout",
     "output_type": "stream",
     "text": [
      "71/71 [==============================] - 138s 2s/step - loss: 0.6531\n",
      "Epoch 4/7\n",
      "71/71 [==============================] - ETA: 0s - loss: 0.5889WARNING:tensorflow:Can save best model only with val_loss available, skipping.\n"
     ]
    },
    {
     "name": "stderr",
     "output_type": "stream",
     "text": [
      "WARNING:tensorflow:Can save best model only with val_loss available, skipping.\n"
     ]
    },
    {
     "name": "stdout",
     "output_type": "stream",
     "text": [
      "71/71 [==============================] - 142s 2s/step - loss: 0.5889\n",
      "Epoch 5/7\n",
      "71/71 [==============================] - ETA: 0s - loss: 0.6123WARNING:tensorflow:Can save best model only with val_loss available, skipping.\n"
     ]
    },
    {
     "name": "stderr",
     "output_type": "stream",
     "text": [
      "WARNING:tensorflow:Can save best model only with val_loss available, skipping.\n"
     ]
    },
    {
     "name": "stdout",
     "output_type": "stream",
     "text": [
      "71/71 [==============================] - 141s 2s/step - loss: 0.6123\n",
      "Epoch 6/7\n",
      "71/71 [==============================] - ETA: 0s - loss: 0.4652WARNING:tensorflow:Can save best model only with val_loss available, skipping.\n"
     ]
    },
    {
     "name": "stderr",
     "output_type": "stream",
     "text": [
      "WARNING:tensorflow:Can save best model only with val_loss available, skipping.\n"
     ]
    },
    {
     "name": "stdout",
     "output_type": "stream",
     "text": [
      "71/71 [==============================] - 141s 2s/step - loss: 0.4652\n",
      "Epoch 7/7\n",
      "71/71 [==============================] - ETA: 0s - loss: 0.4149WARNING:tensorflow:Can save best model only with val_loss available, skipping.\n"
     ]
    },
    {
     "name": "stderr",
     "output_type": "stream",
     "text": [
      "WARNING:tensorflow:Can save best model only with val_loss available, skipping.\n"
     ]
    },
    {
     "name": "stdout",
     "output_type": "stream",
     "text": [
      "\b\b\b\b\b\b\b\b\b\b\b\b\b\b\b\b\b\b\b\b\b\b\b\b\b\b\b\b\b\b\b\b\b\b\b\b\b\b\b\b\b\b\b\b\b\b\b\b\b\b\b\b\b\b\b\b\b\b\b\b\b\b\b\r",
      "71/71 [==============================] - 141s 2s/step - loss: 0.4149\n"
     ]
    },
    {
     "name": "stderr",
     "output_type": "stream",
     "text": [
      "WARNING:absl:At this time, the v2.11+ optimizer `tf.keras.optimizers.Adam` runs slowly on M1/M2 Macs, please use the legacy Keras optimizer instead, located at `tf.keras.optimizers.legacy.Adam`.\n",
      "WARNING:absl:There is a known slowdown when using v2.11+ Keras optimizers on M1/M2 Macs. Falling back to the legacy Keras optimizer, i.e., `tf.keras.optimizers.legacy.Adam`.\n"
     ]
    },
    {
     "name": "stdout",
     "output_type": "stream",
     "text": [
      "Base model loaded DenseNet169\n",
      "\n",
      "Model created.\n",
      "Epoch 1/7\n",
      "71/71 [==============================] - ETA: 0s - loss: 1.2442WARNING:tensorflow:Can save best model only with val_loss available, skipping.\n"
     ]
    },
    {
     "name": "stderr",
     "output_type": "stream",
     "text": [
      "WARNING:tensorflow:Can save best model only with val_loss available, skipping.\n"
     ]
    },
    {
     "name": "stdout",
     "output_type": "stream",
     "text": [
      "71/71 [==============================] - 250s 3s/step - loss: 1.2442\n",
      "Epoch 2/7\n",
      "71/71 [==============================] - ETA: 0s - loss: 0.7997WARNING:tensorflow:Can save best model only with val_loss available, skipping.\n"
     ]
    },
    {
     "name": "stderr",
     "output_type": "stream",
     "text": [
      "WARNING:tensorflow:Can save best model only with val_loss available, skipping.\n"
     ]
    },
    {
     "name": "stdout",
     "output_type": "stream",
     "text": [
      "71/71 [==============================] - 139s 2s/step - loss: 0.7997\n",
      "Epoch 3/7\n",
      "71/71 [==============================] - ETA: 0s - loss: 0.6640WARNING:tensorflow:Can save best model only with val_loss available, skipping.\n"
     ]
    },
    {
     "name": "stderr",
     "output_type": "stream",
     "text": [
      "WARNING:tensorflow:Can save best model only with val_loss available, skipping.\n"
     ]
    },
    {
     "name": "stdout",
     "output_type": "stream",
     "text": [
      "71/71 [==============================] - 142s 2s/step - loss: 0.6640\n",
      "Epoch 4/7\n",
      "71/71 [==============================] - ETA: 0s - loss: 0.5288WARNING:tensorflow:Can save best model only with val_loss available, skipping.\n"
     ]
    },
    {
     "name": "stderr",
     "output_type": "stream",
     "text": [
      "WARNING:tensorflow:Can save best model only with val_loss available, skipping.\n"
     ]
    },
    {
     "name": "stdout",
     "output_type": "stream",
     "text": [
      "71/71 [==============================] - 139s 2s/step - loss: 0.5288\n",
      "Epoch 5/7\n",
      "71/71 [==============================] - ETA: 0s - loss: 0.4792WARNING:tensorflow:Can save best model only with val_loss available, skipping.\n"
     ]
    },
    {
     "name": "stderr",
     "output_type": "stream",
     "text": [
      "WARNING:tensorflow:Can save best model only with val_loss available, skipping.\n"
     ]
    },
    {
     "name": "stdout",
     "output_type": "stream",
     "text": [
      "71/71 [==============================] - 139s 2s/step - loss: 0.4792\n",
      "Epoch 6/7\n",
      "71/71 [==============================] - ETA: 0s - loss: 0.4627WARNING:tensorflow:Can save best model only with val_loss available, skipping.\n"
     ]
    },
    {
     "name": "stderr",
     "output_type": "stream",
     "text": [
      "WARNING:tensorflow:Can save best model only with val_loss available, skipping.\n"
     ]
    },
    {
     "name": "stdout",
     "output_type": "stream",
     "text": [
      "71/71 [==============================] - 142s 2s/step - loss: 0.4627\n",
      "Epoch 7/7\n",
      "71/71 [==============================] - ETA: 0s - loss: 0.4313WARNING:tensorflow:Can save best model only with val_loss available, skipping.\n"
     ]
    },
    {
     "name": "stderr",
     "output_type": "stream",
     "text": [
      "WARNING:tensorflow:Can save best model only with val_loss available, skipping.\n"
     ]
    },
    {
     "name": "stdout",
     "output_type": "stream",
     "text": [
      "\b\b\b\b\b\b\b\b\b\b\b\b\b\b\b\b\b\b\b\b\b\b\b\b\b\b\b\b\b\b\b\b\b\b\b\b\b\b\b\b\b\b\b\b\b\b\b\b\b\b\b\b\b\b\b\b\b\b\b\b\b\b\b\r",
      "71/71 [==============================] - 143s 2s/step - loss: 0.4313\n"
     ]
    },
    {
     "name": "stderr",
     "output_type": "stream",
     "text": [
      "WARNING:absl:At this time, the v2.11+ optimizer `tf.keras.optimizers.Adam` runs slowly on M1/M2 Macs, please use the legacy Keras optimizer instead, located at `tf.keras.optimizers.legacy.Adam`.\n",
      "WARNING:absl:There is a known slowdown when using v2.11+ Keras optimizers on M1/M2 Macs. Falling back to the legacy Keras optimizer, i.e., `tf.keras.optimizers.legacy.Adam`.\n"
     ]
    },
    {
     "name": "stdout",
     "output_type": "stream",
     "text": [
      "Base model loaded DenseNet169\n",
      "\n",
      "Model created.\n",
      "Epoch 1/7\n",
      "71/71 [==============================] - ETA: 0s - loss: 1.2851WARNING:tensorflow:Can save best model only with val_loss available, skipping.\n"
     ]
    },
    {
     "name": "stderr",
     "output_type": "stream",
     "text": [
      "WARNING:tensorflow:Can save best model only with val_loss available, skipping.\n"
     ]
    },
    {
     "name": "stdout",
     "output_type": "stream",
     "text": [
      "71/71 [==============================] - 267s 3s/step - loss: 1.2851\n",
      "Epoch 2/7\n",
      "71/71 [==============================] - ETA: 0s - loss: 0.8066WARNING:tensorflow:Can save best model only with val_loss available, skipping.\n"
     ]
    },
    {
     "name": "stderr",
     "output_type": "stream",
     "text": [
      "WARNING:tensorflow:Can save best model only with val_loss available, skipping.\n"
     ]
    },
    {
     "name": "stdout",
     "output_type": "stream",
     "text": [
      "71/71 [==============================] - 143s 2s/step - loss: 0.8066\n",
      "Epoch 3/7\n",
      "71/71 [==============================] - ETA: 0s - loss: 0.6680WARNING:tensorflow:Can save best model only with val_loss available, skipping.\n"
     ]
    },
    {
     "name": "stderr",
     "output_type": "stream",
     "text": [
      "WARNING:tensorflow:Can save best model only with val_loss available, skipping.\n"
     ]
    },
    {
     "name": "stdout",
     "output_type": "stream",
     "text": [
      "71/71 [==============================] - 142s 2s/step - loss: 0.6680\n",
      "Epoch 4/7\n",
      "71/71 [==============================] - ETA: 0s - loss: 0.5201WARNING:tensorflow:Can save best model only with val_loss available, skipping.\n"
     ]
    },
    {
     "name": "stderr",
     "output_type": "stream",
     "text": [
      "WARNING:tensorflow:Can save best model only with val_loss available, skipping.\n"
     ]
    },
    {
     "name": "stdout",
     "output_type": "stream",
     "text": [
      "71/71 [==============================] - 143s 2s/step - loss: 0.5201\n",
      "Epoch 5/7\n",
      "71/71 [==============================] - ETA: 0s - loss: 0.5103WARNING:tensorflow:Can save best model only with val_loss available, skipping.\n"
     ]
    },
    {
     "name": "stderr",
     "output_type": "stream",
     "text": [
      "WARNING:tensorflow:Can save best model only with val_loss available, skipping.\n"
     ]
    },
    {
     "name": "stdout",
     "output_type": "stream",
     "text": [
      "71/71 [==============================] - 143s 2s/step - loss: 0.5103\n",
      "Epoch 6/7\n",
      "71/71 [==============================] - ETA: 0s - loss: 0.4208WARNING:tensorflow:Can save best model only with val_loss available, skipping.\n"
     ]
    },
    {
     "name": "stderr",
     "output_type": "stream",
     "text": [
      "WARNING:tensorflow:Can save best model only with val_loss available, skipping.\n"
     ]
    },
    {
     "name": "stdout",
     "output_type": "stream",
     "text": [
      "71/71 [==============================] - 141s 2s/step - loss: 0.4208\n",
      "Epoch 7/7\n",
      "71/71 [==============================] - ETA: 0s - loss: 0.3804WARNING:tensorflow:Can save best model only with val_loss available, skipping.\n"
     ]
    },
    {
     "name": "stderr",
     "output_type": "stream",
     "text": [
      "WARNING:tensorflow:Can save best model only with val_loss available, skipping.\n"
     ]
    },
    {
     "name": "stdout",
     "output_type": "stream",
     "text": [
      "\b\b\b\b\b\b\b\b\b\b\b\b\b\b\b\b\b\b\b\b\b\b\b\b\b\b\b\b\b\b\b\b\b\b\b\b\b\b\b\b\b\b\b\b\b\b\b\b\b\b\b\b\b\b\b\b\b\b\b\b\b\b\b\r",
      "71/71 [==============================] - 144s 2s/step - loss: 0.3804\n"
     ]
    },
    {
     "name": "stderr",
     "output_type": "stream",
     "text": [
      "WARNING:absl:At this time, the v2.11+ optimizer `tf.keras.optimizers.Adam` runs slowly on M1/M2 Macs, please use the legacy Keras optimizer instead, located at `tf.keras.optimizers.legacy.Adam`.\n",
      "WARNING:absl:There is a known slowdown when using v2.11+ Keras optimizers on M1/M2 Macs. Falling back to the legacy Keras optimizer, i.e., `tf.keras.optimizers.legacy.Adam`.\n"
     ]
    },
    {
     "name": "stdout",
     "output_type": "stream",
     "text": [
      "Base model loaded DenseNet169\n",
      "\n",
      "Model created.\n",
      "Epoch 1/7\n",
      "71/71 [==============================] - ETA: 0s - loss: 1.3121WARNING:tensorflow:Can save best model only with val_loss available, skipping.\n"
     ]
    },
    {
     "name": "stderr",
     "output_type": "stream",
     "text": [
      "WARNING:tensorflow:Can save best model only with val_loss available, skipping.\n"
     ]
    },
    {
     "name": "stdout",
     "output_type": "stream",
     "text": [
      "71/71 [==============================] - 264s 3s/step - loss: 1.3121\n",
      "Epoch 2/7\n",
      "71/71 [==============================] - ETA: 0s - loss: 0.7456WARNING:tensorflow:Can save best model only with val_loss available, skipping.\n"
     ]
    },
    {
     "name": "stderr",
     "output_type": "stream",
     "text": [
      "WARNING:tensorflow:Can save best model only with val_loss available, skipping.\n"
     ]
    },
    {
     "name": "stdout",
     "output_type": "stream",
     "text": [
      "71/71 [==============================] - 144s 2s/step - loss: 0.7456\n",
      "Epoch 3/7\n",
      "71/71 [==============================] - ETA: 0s - loss: 0.5932WARNING:tensorflow:Can save best model only with val_loss available, skipping.\n"
     ]
    },
    {
     "name": "stderr",
     "output_type": "stream",
     "text": [
      "WARNING:tensorflow:Can save best model only with val_loss available, skipping.\n"
     ]
    },
    {
     "name": "stdout",
     "output_type": "stream",
     "text": [
      "71/71 [==============================] - 140s 2s/step - loss: 0.5932\n",
      "Epoch 4/7\n",
      "71/71 [==============================] - ETA: 0s - loss: 0.5381WARNING:tensorflow:Can save best model only with val_loss available, skipping.\n"
     ]
    },
    {
     "name": "stderr",
     "output_type": "stream",
     "text": [
      "WARNING:tensorflow:Can save best model only with val_loss available, skipping.\n"
     ]
    },
    {
     "name": "stdout",
     "output_type": "stream",
     "text": [
      "71/71 [==============================] - 142s 2s/step - loss: 0.5381\n",
      "Epoch 5/7\n",
      "71/71 [==============================] - ETA: 0s - loss: 0.4495WARNING:tensorflow:Can save best model only with val_loss available, skipping.\n"
     ]
    },
    {
     "name": "stderr",
     "output_type": "stream",
     "text": [
      "WARNING:tensorflow:Can save best model only with val_loss available, skipping.\n"
     ]
    },
    {
     "name": "stdout",
     "output_type": "stream",
     "text": [
      "71/71 [==============================] - 144s 2s/step - loss: 0.4495\n",
      "Epoch 6/7\n",
      "71/71 [==============================] - ETA: 0s - loss: 0.4329WARNING:tensorflow:Can save best model only with val_loss available, skipping.\n"
     ]
    },
    {
     "name": "stderr",
     "output_type": "stream",
     "text": [
      "WARNING:tensorflow:Can save best model only with val_loss available, skipping.\n"
     ]
    },
    {
     "name": "stdout",
     "output_type": "stream",
     "text": [
      "71/71 [==============================] - 141s 2s/step - loss: 0.4329\n",
      "Epoch 7/7\n",
      "71/71 [==============================] - ETA: 0s - loss: 0.4810WARNING:tensorflow:Can save best model only with val_loss available, skipping.\n"
     ]
    },
    {
     "name": "stderr",
     "output_type": "stream",
     "text": [
      "WARNING:tensorflow:Can save best model only with val_loss available, skipping.\n"
     ]
    },
    {
     "name": "stdout",
     "output_type": "stream",
     "text": [
      "\b\b\b\b\b\b\b\b\b\b\b\b\b\b\b\b\b\b\b\b\b\b\b\b\b\b\b\b\b\b\b\b\b\b\b\b\b\b\b\b\b\b\b\b\b\b\b\b\b\b\b\b\b\b\b\b\b\b\b\b\b\b\b\r",
      "71/71 [==============================] - 142s 2s/step - loss: 0.4810\n"
     ]
    },
    {
     "name": "stderr",
     "output_type": "stream",
     "text": [
      "WARNING:absl:At this time, the v2.11+ optimizer `tf.keras.optimizers.Adam` runs slowly on M1/M2 Macs, please use the legacy Keras optimizer instead, located at `tf.keras.optimizers.legacy.Adam`.\n",
      "WARNING:absl:There is a known slowdown when using v2.11+ Keras optimizers on M1/M2 Macs. Falling back to the legacy Keras optimizer, i.e., `tf.keras.optimizers.legacy.Adam`.\n"
     ]
    },
    {
     "name": "stdout",
     "output_type": "stream",
     "text": [
      "Base model loaded DenseNet169\n",
      "\n",
      "Model created.\n",
      "Epoch 1/7\n",
      "71/71 [==============================] - ETA: 0s - loss: 1.2950WARNING:tensorflow:Can save best model only with val_loss available, skipping.\n"
     ]
    },
    {
     "name": "stderr",
     "output_type": "stream",
     "text": [
      "WARNING:tensorflow:Can save best model only with val_loss available, skipping.\n"
     ]
    },
    {
     "name": "stdout",
     "output_type": "stream",
     "text": [
      "71/71 [==============================] - 283s 3s/step - loss: 1.2950\n",
      "Epoch 2/7\n",
      "71/71 [==============================] - ETA: 0s - loss: 0.7125WARNING:tensorflow:Can save best model only with val_loss available, skipping.\n"
     ]
    },
    {
     "name": "stderr",
     "output_type": "stream",
     "text": [
      "WARNING:tensorflow:Can save best model only with val_loss available, skipping.\n"
     ]
    },
    {
     "name": "stdout",
     "output_type": "stream",
     "text": [
      "71/71 [==============================] - 147s 2s/step - loss: 0.7125\n",
      "Epoch 3/7\n",
      "71/71 [==============================] - ETA: 0s - loss: 0.6941WARNING:tensorflow:Can save best model only with val_loss available, skipping.\n"
     ]
    },
    {
     "name": "stderr",
     "output_type": "stream",
     "text": [
      "WARNING:tensorflow:Can save best model only with val_loss available, skipping.\n"
     ]
    },
    {
     "name": "stdout",
     "output_type": "stream",
     "text": [
      "71/71 [==============================] - 147s 2s/step - loss: 0.6941\n",
      "Epoch 4/7\n",
      "71/71 [==============================] - ETA: 0s - loss: 0.5366WARNING:tensorflow:Can save best model only with val_loss available, skipping.\n"
     ]
    },
    {
     "name": "stderr",
     "output_type": "stream",
     "text": [
      "WARNING:tensorflow:Can save best model only with val_loss available, skipping.\n"
     ]
    },
    {
     "name": "stdout",
     "output_type": "stream",
     "text": [
      "71/71 [==============================] - 146s 2s/step - loss: 0.5366\n",
      "Epoch 5/7\n",
      "71/71 [==============================] - ETA: 0s - loss: 0.5302WARNING:tensorflow:Can save best model only with val_loss available, skipping.\n"
     ]
    },
    {
     "name": "stderr",
     "output_type": "stream",
     "text": [
      "WARNING:tensorflow:Can save best model only with val_loss available, skipping.\n"
     ]
    },
    {
     "name": "stdout",
     "output_type": "stream",
     "text": [
      "71/71 [==============================] - 146s 2s/step - loss: 0.5302\n",
      "Epoch 6/7\n",
      "71/71 [==============================] - ETA: 0s - loss: 0.4676WARNING:tensorflow:Can save best model only with val_loss available, skipping.\n"
     ]
    },
    {
     "name": "stderr",
     "output_type": "stream",
     "text": [
      "WARNING:tensorflow:Can save best model only with val_loss available, skipping.\n"
     ]
    },
    {
     "name": "stdout",
     "output_type": "stream",
     "text": [
      "71/71 [==============================] - 145s 2s/step - loss: 0.4676\n",
      "Epoch 7/7\n",
      "71/71 [==============================] - ETA: 0s - loss: 0.4224WARNING:tensorflow:Can save best model only with val_loss available, skipping.\n"
     ]
    },
    {
     "name": "stderr",
     "output_type": "stream",
     "text": [
      "WARNING:tensorflow:Can save best model only with val_loss available, skipping.\n"
     ]
    },
    {
     "name": "stdout",
     "output_type": "stream",
     "text": [
      "\b\b\b\b\b\b\b\b\b\b\b\b\b\b\b\b\b\b\b\b\b\b\b\b\b\b\b\b\b\b\b\b\b\b\b\b\b\b\b\b\b\b\b\b\b\b\b\b\b\b\b\b\b\b\b\b\b\b\b\b\b\b\b\r",
      "71/71 [==============================] - 147s 2s/step - loss: 0.4224\n"
     ]
    },
    {
     "name": "stderr",
     "output_type": "stream",
     "text": [
      "WARNING:absl:At this time, the v2.11+ optimizer `tf.keras.optimizers.Adam` runs slowly on M1/M2 Macs, please use the legacy Keras optimizer instead, located at `tf.keras.optimizers.legacy.Adam`.\n",
      "WARNING:absl:There is a known slowdown when using v2.11+ Keras optimizers on M1/M2 Macs. Falling back to the legacy Keras optimizer, i.e., `tf.keras.optimizers.legacy.Adam`.\n"
     ]
    },
    {
     "name": "stdout",
     "output_type": "stream",
     "text": [
      "Base model loaded DenseNet169\n",
      "\n",
      "Model created.\n",
      "Epoch 1/7\n",
      "71/71 [==============================] - ETA: 0s - loss: 1.1858WARNING:tensorflow:Can save best model only with val_loss available, skipping.\n"
     ]
    },
    {
     "name": "stderr",
     "output_type": "stream",
     "text": [
      "WARNING:tensorflow:Can save best model only with val_loss available, skipping.\n"
     ]
    },
    {
     "name": "stdout",
     "output_type": "stream",
     "text": [
      "71/71 [==============================] - 266s 3s/step - loss: 1.1858\n",
      "Epoch 2/7\n",
      "71/71 [==============================] - ETA: 0s - loss: 0.7158WARNING:tensorflow:Can save best model only with val_loss available, skipping.\n"
     ]
    },
    {
     "name": "stderr",
     "output_type": "stream",
     "text": [
      "WARNING:tensorflow:Can save best model only with val_loss available, skipping.\n"
     ]
    },
    {
     "name": "stdout",
     "output_type": "stream",
     "text": [
      "71/71 [==============================] - 144s 2s/step - loss: 0.7158\n",
      "Epoch 3/7\n",
      "71/71 [==============================] - ETA: 0s - loss: 0.5874WARNING:tensorflow:Can save best model only with val_loss available, skipping.\n"
     ]
    },
    {
     "name": "stderr",
     "output_type": "stream",
     "text": [
      "WARNING:tensorflow:Can save best model only with val_loss available, skipping.\n"
     ]
    },
    {
     "name": "stdout",
     "output_type": "stream",
     "text": [
      "71/71 [==============================] - 145s 2s/step - loss: 0.5874\n",
      "Epoch 4/7\n",
      "71/71 [==============================] - ETA: 0s - loss: 0.5283WARNING:tensorflow:Can save best model only with val_loss available, skipping.\n"
     ]
    },
    {
     "name": "stderr",
     "output_type": "stream",
     "text": [
      "WARNING:tensorflow:Can save best model only with val_loss available, skipping.\n"
     ]
    },
    {
     "name": "stdout",
     "output_type": "stream",
     "text": [
      "71/71 [==============================] - 145s 2s/step - loss: 0.5283\n",
      "Epoch 5/7\n",
      "71/71 [==============================] - ETA: 0s - loss: 0.5656WARNING:tensorflow:Can save best model only with val_loss available, skipping.\n"
     ]
    },
    {
     "name": "stderr",
     "output_type": "stream",
     "text": [
      "WARNING:tensorflow:Can save best model only with val_loss available, skipping.\n"
     ]
    },
    {
     "name": "stdout",
     "output_type": "stream",
     "text": [
      "71/71 [==============================] - 145s 2s/step - loss: 0.5656\n",
      "Epoch 6/7\n",
      "71/71 [==============================] - ETA: 0s - loss: 0.4384WARNING:tensorflow:Can save best model only with val_loss available, skipping.\n"
     ]
    },
    {
     "name": "stderr",
     "output_type": "stream",
     "text": [
      "WARNING:tensorflow:Can save best model only with val_loss available, skipping.\n"
     ]
    },
    {
     "name": "stdout",
     "output_type": "stream",
     "text": [
      "71/71 [==============================] - 146s 2s/step - loss: 0.4384\n",
      "Epoch 7/7\n",
      "71/71 [==============================] - ETA: 0s - loss: 0.4340WARNING:tensorflow:Can save best model only with val_loss available, skipping.\n"
     ]
    },
    {
     "name": "stderr",
     "output_type": "stream",
     "text": [
      "WARNING:tensorflow:Can save best model only with val_loss available, skipping.\n"
     ]
    },
    {
     "name": "stdout",
     "output_type": "stream",
     "text": [
      "\b\b\b\b\b\b\b\b\b\b\b\b\b\b\b\b\b\b\b\b\b\b\b\b\b\b\b\b\b\b\b\b\b\b\b\b\b\b\b\b\b\b\b\b\b\b\b\b\b\b\b\b\b\b\b\b\b\b\b\b\b\b\b\r",
      "71/71 [==============================] - 146s 2s/step - loss: 0.4340\n"
     ]
    },
    {
     "name": "stderr",
     "output_type": "stream",
     "text": [
      "WARNING:absl:At this time, the v2.11+ optimizer `tf.keras.optimizers.Adam` runs slowly on M1/M2 Macs, please use the legacy Keras optimizer instead, located at `tf.keras.optimizers.legacy.Adam`.\n",
      "WARNING:absl:There is a known slowdown when using v2.11+ Keras optimizers on M1/M2 Macs. Falling back to the legacy Keras optimizer, i.e., `tf.keras.optimizers.legacy.Adam`.\n"
     ]
    },
    {
     "name": "stdout",
     "output_type": "stream",
     "text": [
      "Base model loaded DenseNet169\n",
      "\n",
      "Model created.\n",
      "Epoch 1/7\n",
      "71/71 [==============================] - ETA: 0s - loss: 1.3225WARNING:tensorflow:Can save best model only with val_loss available, skipping.\n"
     ]
    },
    {
     "name": "stderr",
     "output_type": "stream",
     "text": [
      "WARNING:tensorflow:Can save best model only with val_loss available, skipping.\n"
     ]
    },
    {
     "name": "stdout",
     "output_type": "stream",
     "text": [
      "71/71 [==============================] - 292s 3s/step - loss: 1.3225\n",
      "Epoch 2/7\n",
      "71/71 [==============================] - ETA: 0s - loss: 0.8309WARNING:tensorflow:Can save best model only with val_loss available, skipping.\n"
     ]
    },
    {
     "name": "stderr",
     "output_type": "stream",
     "text": [
      "WARNING:tensorflow:Can save best model only with val_loss available, skipping.\n"
     ]
    },
    {
     "name": "stdout",
     "output_type": "stream",
     "text": [
      "71/71 [==============================] - 146s 2s/step - loss: 0.8309\n",
      "Epoch 3/7\n",
      "71/71 [==============================] - ETA: 0s - loss: 0.6972WARNING:tensorflow:Can save best model only with val_loss available, skipping.\n"
     ]
    },
    {
     "name": "stderr",
     "output_type": "stream",
     "text": [
      "WARNING:tensorflow:Can save best model only with val_loss available, skipping.\n"
     ]
    },
    {
     "name": "stdout",
     "output_type": "stream",
     "text": [
      "71/71 [==============================] - 147s 2s/step - loss: 0.6972\n",
      "Epoch 4/7\n",
      "71/71 [==============================] - ETA: 0s - loss: 0.6395WARNING:tensorflow:Can save best model only with val_loss available, skipping.\n"
     ]
    },
    {
     "name": "stderr",
     "output_type": "stream",
     "text": [
      "WARNING:tensorflow:Can save best model only with val_loss available, skipping.\n"
     ]
    },
    {
     "name": "stdout",
     "output_type": "stream",
     "text": [
      "71/71 [==============================] - 147s 2s/step - loss: 0.6395\n",
      "Epoch 5/7\n",
      "71/71 [==============================] - ETA: 0s - loss: 0.5570WARNING:tensorflow:Can save best model only with val_loss available, skipping.\n"
     ]
    },
    {
     "name": "stderr",
     "output_type": "stream",
     "text": [
      "WARNING:tensorflow:Can save best model only with val_loss available, skipping.\n"
     ]
    },
    {
     "name": "stdout",
     "output_type": "stream",
     "text": [
      "71/71 [==============================] - 148s 2s/step - loss: 0.5570\n",
      "Epoch 6/7\n",
      "71/71 [==============================] - ETA: 0s - loss: 0.4836WARNING:tensorflow:Can save best model only with val_loss available, skipping.\n"
     ]
    },
    {
     "name": "stderr",
     "output_type": "stream",
     "text": [
      "WARNING:tensorflow:Can save best model only with val_loss available, skipping.\n"
     ]
    },
    {
     "name": "stdout",
     "output_type": "stream",
     "text": [
      "71/71 [==============================] - 146s 2s/step - loss: 0.4836\n",
      "Epoch 7/7\n",
      "71/71 [==============================] - ETA: 0s - loss: 0.4368WARNING:tensorflow:Can save best model only with val_loss available, skipping.\n"
     ]
    },
    {
     "name": "stderr",
     "output_type": "stream",
     "text": [
      "WARNING:tensorflow:Can save best model only with val_loss available, skipping.\n"
     ]
    },
    {
     "name": "stdout",
     "output_type": "stream",
     "text": [
      "71/71 [==============================] - 146s 2s/step - loss: 0.4368\n",
      "Best Weights (w1, w2, w3): (1.0, 0.2, 0.6)\n",
      "Best Validation Loss: 0.349799245595932\n"
     ]
    }
   ],
   "source": [
    "import os\n",
    "import matplotlib.pyplot as plt\n",
    "import tensorflow as tf\n",
    "from itertools import product\n",
    "import random\n",
    "\n",
    "# Define hyperparameters\n",
    "batch_size = 8\n",
    "learning_rate = 0.0001\n",
    "epochs = 7  # Reduce the number of epochs for faster training\n",
    "\n",
    "# Define weight range for random search\n",
    "weight_range = [0.20, 0.40, 0.60, 0.80, 1.0]\n",
    "\n",
    "# Number of random combinations to try\n",
    "num_random_combinations = 20\n",
    "\n",
    "# Initialize the DataLoader\n",
    "dl = DataLoader(DEBUG=False)\n",
    "\n",
    "# Create a list to store loss values\n",
    "val_loss_values = []\n",
    "\n",
    "# Placeholder for best validation loss and corresponding weights\n",
    "best_val_loss = float('inf')\n",
    "best_weights = None\n",
    "\n",
    "# Perform random search\n",
    "for _ in range(num_random_combinations):\n",
    "    # Randomly sample weights from the weight range\n",
    "    w1 = random.choice(weight_range)\n",
    "    w2 = random.choice(weight_range)\n",
    "    w3 = random.choice(weight_range)\n",
    "\n",
    "    # Create a new instance of the model for each combination of weights\n",
    "    model = DepthEstimate()  # Initialize the model\n",
    "\n",
    "    # Compile the model with the current weights\n",
    "    optimizer = tf.keras.optimizers.Adam(learning_rate=learning_rate)\n",
    "\n",
    "    def custom_loss(y_true, y_pred):\n",
    "        global w1, w2, w3  # Add these lines to access the global weights\n",
    "        return depth_loss_function(y_true, y_pred, maxDepthVal=1000.0/10.0)\n",
    "\n",
    "    model.compile(loss=custom_loss, optimizer=optimizer)\n",
    "\n",
    "    # Create training and validation datasets using your DataLoader class\n",
    "    train_dataset = dl.get_batched_dataset(batch_size)\n",
    "    validation_dataset = dl.get_validation_dataset(batch_size)\n",
    "\n",
    "    # Calculate the number of steps per epoch based on the dataset size and batch size\n",
    "    steps_per_epoch = dl.length // batch_size\n",
    "\n",
    "    # Create a checkpoint callback for saving model weights\n",
    "    checkpoint_path = f\"training_weights_w1_{w1}_w2_{w2}_w3_{w3}/cp.ckpt\"\n",
    "    cp_callback = tf.keras.callbacks.ModelCheckpoint(\n",
    "        checkpoint_path,\n",
    "        save_weights_only=True,\n",
    "        save_best_only=True,\n",
    "        verbose=1\n",
    "    )\n",
    "\n",
    "    # Inside your training loop\n",
    "    history = model.fit(\n",
    "        train_dataset,\n",
    "        epochs=epochs,  # Train for the specified number of epochs\n",
    "        steps_per_epoch=steps_per_epoch,  # Specify the number of steps\n",
    "        verbose=1,\n",
    "        callbacks=[cp_callback]\n",
    "    )\n",
    "\n",
    "    # Calculate the average validation loss after training\n",
    "    val_loss = model.evaluate(validation_dataset, verbose=0)\n",
    "    val_loss_values.append(val_loss)\n",
    "\n",
    "    # Check if this combination of weights results in a lower validation loss\n",
    "    if val_loss < best_val_loss:\n",
    "        best_val_loss = val_loss\n",
    "        best_weights = (w1, w2, w3)\n",
    "\n",
    "# Print the best weights for this combination\n",
    "print(f\"Best Weights (w1, w2, w3): {best_weights}\")\n",
    "print(f\"Best Validation Loss: {best_val_loss}\")\n"
   ]
  },
  {
   "cell_type": "code",
   "execution_count": null,
   "metadata": {},
   "outputs": [],
   "source": [
    "print(\"Best Weights (w1, w2, w3):\", best_weights)\n",
    "print(\"Best Validation Loss:\", best_val_loss)"
   ]
  },
  {
   "cell_type": "code",
   "execution_count": null,
   "metadata": {},
   "outputs": [],
   "source": []
  }
 ],
 "metadata": {
  "kernelspec": {
   "display_name": "Python 3 (ipykernel)",
   "language": "python",
   "name": "python3"
  },
  "language_info": {
   "codemirror_mode": {
    "name": "ipython",
    "version": 3
   },
   "file_extension": ".py",
   "mimetype": "text/x-python",
   "name": "python",
   "nbconvert_exporter": "python",
   "pygments_lexer": "ipython3",
   "version": "3.10.11"
  }
 },
 "nbformat": 4,
 "nbformat_minor": 2
}
